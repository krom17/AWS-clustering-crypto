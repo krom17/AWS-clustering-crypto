{
 "cells": [
  {
   "cell_type": "markdown",
   "metadata": {},
   "source": [
    "# Clustering Crypto"
   ]
  },
  {
   "cell_type": "code",
   "execution_count": 444,
   "metadata": {},
   "outputs": [],
   "source": [
    "# Initial imports\n",
    "import requests\n",
    "import pandas as pd\n",
    "import matplotlib.pyplot as plt\n",
    "import hvplot.pandas\n",
    "import numpy as np\n",
    "import plotly.express as px\n",
    "from sklearn.preprocessing import StandardScaler, MinMaxScaler\n",
    "from sklearn.decomposition import PCA\n",
    "from sklearn.cluster import KMeans\n"
   ]
  },
  {
   "cell_type": "markdown",
   "metadata": {},
   "source": [
    "### Fetching Cryptocurrency Data"
   ]
  },
  {
   "cell_type": "code",
   "execution_count": 445,
   "metadata": {},
   "outputs": [],
   "source": [
    "# Use the following endpoint to fetch json data\n",
    "url = \"https://min-api.cryptocompare.com/data/all/coinlist\"\n"
   ]
  },
  {
   "cell_type": "code",
   "execution_count": 446,
   "metadata": {},
   "outputs": [],
   "source": [
    "# Create a DataFrame \n",
    "# HINT: You will need to use the 'Data' key from the json response, then transpose the DataFrame.\n",
    "\n",
    "r = requests.get(url)\n",
    "data = r.json()"
   ]
  },
  {
   "cell_type": "code",
   "execution_count": 447,
   "metadata": {},
   "outputs": [
    {
     "data": {
      "text/plain": [
       "['Response', 'Message', 'Data', 'RateLimit', 'HasWarning', 'Type']"
      ]
     },
     "execution_count": 447,
     "metadata": {},
     "output_type": "execute_result"
    }
   ],
   "source": [
    "# Alternatively, use the provided csv file:\n",
    "#file_path = Path(\"Resources/crypto_data.csv\")\n",
    "\n",
    "# Create a DataFrame\n",
    "list(data.keys())"
   ]
  },
  {
   "cell_type": "code",
   "execution_count": 448,
   "metadata": {},
   "outputs": [],
   "source": [
    "data = data['Data']"
   ]
  },
  {
   "cell_type": "code",
   "execution_count": 449,
   "metadata": {},
   "outputs": [],
   "source": [
    "crcl_df = pd.DataFrame.from_dict(data)"
   ]
  },
  {
   "cell_type": "code",
   "execution_count": 450,
   "metadata": {},
   "outputs": [
    {
     "data": {
      "text/html": [
       "<div>\n",
       "<style scoped>\n",
       "    .dataframe tbody tr th:only-of-type {\n",
       "        vertical-align: middle;\n",
       "    }\n",
       "\n",
       "    .dataframe tbody tr th {\n",
       "        vertical-align: top;\n",
       "    }\n",
       "\n",
       "    .dataframe thead th {\n",
       "        text-align: right;\n",
       "    }\n",
       "</style>\n",
       "<table border=\"1\" class=\"dataframe\">\n",
       "  <thead>\n",
       "    <tr style=\"text-align: right;\">\n",
       "      <th></th>\n",
       "      <th>Id</th>\n",
       "      <th>Url</th>\n",
       "      <th>ImageUrl</th>\n",
       "      <th>ContentCreatedOn</th>\n",
       "      <th>Name</th>\n",
       "      <th>Symbol</th>\n",
       "      <th>CoinName</th>\n",
       "      <th>FullName</th>\n",
       "      <th>Description</th>\n",
       "      <th>AssetTokenStatus</th>\n",
       "      <th>...</th>\n",
       "      <th>MaxSupply</th>\n",
       "      <th>MktCapPenalty</th>\n",
       "      <th>IsUsedInDefi</th>\n",
       "      <th>IsUsedInNft</th>\n",
       "      <th>PlatformType</th>\n",
       "      <th>AlgorithmType</th>\n",
       "      <th>Difficulty</th>\n",
       "      <th>BuiltOn</th>\n",
       "      <th>SmartContractAddress</th>\n",
       "      <th>DecimalPoints</th>\n",
       "    </tr>\n",
       "  </thead>\n",
       "  <tbody>\n",
       "    <tr>\n",
       "      <th>42</th>\n",
       "      <td>4321</td>\n",
       "      <td>/coins/42/overview</td>\n",
       "      <td>/media/35650717/42.jpg</td>\n",
       "      <td>1427211129</td>\n",
       "      <td>42</td>\n",
       "      <td>42</td>\n",
       "      <td>42 Coin</td>\n",
       "      <td>42 Coin (42)</td>\n",
       "      <td>Everything about 42 coin is 42 - apart from th...</td>\n",
       "      <td>N/A</td>\n",
       "      <td>...</td>\n",
       "      <td>42</td>\n",
       "      <td>0</td>\n",
       "      <td>0</td>\n",
       "      <td>0</td>\n",
       "      <td>blockchain</td>\n",
       "      <td>scrypt</td>\n",
       "      <td>5.832778</td>\n",
       "      <td>NaN</td>\n",
       "      <td>NaN</td>\n",
       "      <td>NaN</td>\n",
       "    </tr>\n",
       "    <tr>\n",
       "      <th>300</th>\n",
       "      <td>749869</td>\n",
       "      <td>/coins/300/overview</td>\n",
       "      <td>/media/27010595/300.png</td>\n",
       "      <td>1517935016</td>\n",
       "      <td>300</td>\n",
       "      <td>300</td>\n",
       "      <td>300 token</td>\n",
       "      <td>300 token (300)</td>\n",
       "      <td>300 token is an ERC20 token. This Token was cr...</td>\n",
       "      <td>N/A</td>\n",
       "      <td>...</td>\n",
       "      <td>300</td>\n",
       "      <td>0</td>\n",
       "      <td>0</td>\n",
       "      <td>0</td>\n",
       "      <td>token</td>\n",
       "      <td>NaN</td>\n",
       "      <td>NaN</td>\n",
       "      <td>ETH</td>\n",
       "      <td>0xaec98a708810414878c3bcdf46aad31ded4a4557</td>\n",
       "      <td>18</td>\n",
       "    </tr>\n",
       "    <tr>\n",
       "      <th>365</th>\n",
       "      <td>33639</td>\n",
       "      <td>/coins/365/overview</td>\n",
       "      <td>/media/352070/365.png</td>\n",
       "      <td>1480032918</td>\n",
       "      <td>365</td>\n",
       "      <td>365</td>\n",
       "      <td>365Coin</td>\n",
       "      <td>365Coin (365)</td>\n",
       "      <td>365Coin is a Proof of Work and Proof of Stake ...</td>\n",
       "      <td>N/A</td>\n",
       "      <td>...</td>\n",
       "      <td>-1</td>\n",
       "      <td>0</td>\n",
       "      <td>0</td>\n",
       "      <td>0</td>\n",
       "      <td>blockchain</td>\n",
       "      <td>NaN</td>\n",
       "      <td>NaN</td>\n",
       "      <td>NaN</td>\n",
       "      <td>NaN</td>\n",
       "      <td>NaN</td>\n",
       "    </tr>\n",
       "    <tr>\n",
       "      <th>404</th>\n",
       "      <td>21227</td>\n",
       "      <td>/coins/404/overview</td>\n",
       "      <td>/media/35650851/404-300x300.jpg</td>\n",
       "      <td>1466100361</td>\n",
       "      <td>404</td>\n",
       "      <td>404</td>\n",
       "      <td>404Coin</td>\n",
       "      <td>404Coin (404)</td>\n",
       "      <td>404 is a PoW/PoS hybrid cryptocurrency that al...</td>\n",
       "      <td>N/A</td>\n",
       "      <td>...</td>\n",
       "      <td>-1</td>\n",
       "      <td>0</td>\n",
       "      <td>0</td>\n",
       "      <td>0</td>\n",
       "      <td>blockchain</td>\n",
       "      <td>NaN</td>\n",
       "      <td>NaN</td>\n",
       "      <td>NaN</td>\n",
       "      <td>NaN</td>\n",
       "      <td>NaN</td>\n",
       "    </tr>\n",
       "    <tr>\n",
       "      <th>433</th>\n",
       "      <td>926547</td>\n",
       "      <td>/coins/433/overview</td>\n",
       "      <td>/media/34836095/433.png</td>\n",
       "      <td>1541597321</td>\n",
       "      <td>433</td>\n",
       "      <td>433</td>\n",
       "      <td>433 Token</td>\n",
       "      <td>433 Token (433)</td>\n",
       "      <td>433 Token is a decentralised soccer platform t...</td>\n",
       "      <td>Finished</td>\n",
       "      <td>...</td>\n",
       "      <td>NaN</td>\n",
       "      <td>NaN</td>\n",
       "      <td>NaN</td>\n",
       "      <td>NaN</td>\n",
       "      <td>NaN</td>\n",
       "      <td>NaN</td>\n",
       "      <td>NaN</td>\n",
       "      <td>NaN</td>\n",
       "      <td>NaN</td>\n",
       "      <td>NaN</td>\n",
       "    </tr>\n",
       "  </tbody>\n",
       "</table>\n",
       "<p>5 rows × 36 columns</p>\n",
       "</div>"
      ],
      "text/plain": [
       "         Id                  Url                         ImageUrl  \\\n",
       "42     4321   /coins/42/overview           /media/35650717/42.jpg   \n",
       "300  749869  /coins/300/overview          /media/27010595/300.png   \n",
       "365   33639  /coins/365/overview            /media/352070/365.png   \n",
       "404   21227  /coins/404/overview  /media/35650851/404-300x300.jpg   \n",
       "433  926547  /coins/433/overview          /media/34836095/433.png   \n",
       "\n",
       "    ContentCreatedOn Name Symbol   CoinName         FullName  \\\n",
       "42        1427211129   42     42    42 Coin     42 Coin (42)   \n",
       "300       1517935016  300    300  300 token  300 token (300)   \n",
       "365       1480032918  365    365    365Coin    365Coin (365)   \n",
       "404       1466100361  404    404    404Coin    404Coin (404)   \n",
       "433       1541597321  433    433  433 Token  433 Token (433)   \n",
       "\n",
       "                                           Description AssetTokenStatus  ...  \\\n",
       "42   Everything about 42 coin is 42 - apart from th...              N/A  ...   \n",
       "300  300 token is an ERC20 token. This Token was cr...              N/A  ...   \n",
       "365  365Coin is a Proof of Work and Proof of Stake ...              N/A  ...   \n",
       "404  404 is a PoW/PoS hybrid cryptocurrency that al...              N/A  ...   \n",
       "433  433 Token is a decentralised soccer platform t...         Finished  ...   \n",
       "\n",
       "    MaxSupply MktCapPenalty IsUsedInDefi IsUsedInNft PlatformType  \\\n",
       "42         42             0            0           0   blockchain   \n",
       "300       300             0            0           0        token   \n",
       "365        -1             0            0           0   blockchain   \n",
       "404        -1             0            0           0   blockchain   \n",
       "433       NaN           NaN          NaN         NaN          NaN   \n",
       "\n",
       "    AlgorithmType Difficulty BuiltOn  \\\n",
       "42         scrypt   5.832778     NaN   \n",
       "300           NaN        NaN     ETH   \n",
       "365           NaN        NaN     NaN   \n",
       "404           NaN        NaN     NaN   \n",
       "433           NaN        NaN     NaN   \n",
       "\n",
       "                           SmartContractAddress DecimalPoints  \n",
       "42                                          NaN           NaN  \n",
       "300  0xaec98a708810414878c3bcdf46aad31ded4a4557            18  \n",
       "365                                         NaN           NaN  \n",
       "404                                         NaN           NaN  \n",
       "433                                         NaN           NaN  \n",
       "\n",
       "[5 rows x 36 columns]"
      ]
     },
     "execution_count": 450,
     "metadata": {},
     "output_type": "execute_result"
    }
   ],
   "source": [
    "crcl_df = crcl_df.T\n",
    "crcl_df.head()"
   ]
  },
  {
   "cell_type": "markdown",
   "metadata": {},
   "source": [
    "### Data Preprocessing"
   ]
  },
  {
   "cell_type": "code",
   "execution_count": 451,
   "metadata": {},
   "outputs": [],
   "source": [
    "# Keep only necessary columns:\n",
    "# 'CoinName','Algorithm','IsTrading','ProofType','TotalCoinsMined','TotalCoinSupply'\n",
    "\n",
    "crcl_df.columns\n",
    "crcl_df.drop(columns = [\n",
    "    \n",
    "    'Id',\n",
    "    'Url',\n",
    "    'ImageUrl',\n",
    "    'ContentCreatedOn',\n",
    "    'Name',\n",
    "    'Symbol',\n",
    "    'FullName',\n",
    "    'Description',\n",
    "    'AssetTokenStatus',\n",
    "    'MktCapPenalty',\n",
    "    'IsUsedInDefi',\n",
    "    'PlatformType',\n",
    "    'AlgorithmType',\n",
    "    'Difficulty',\n",
    "    'BuiltOn',\n",
    "    'SmartContractAddress',\n",
    "    'DecimalPoints',\n",
    "    'SortOrder',\n",
    "    'Sponsored',\n",
    "    'Taxonomy',\n",
    "    'Rating',\n",
    "    'CirculatingSupply',\n",
    "    'BlockNumber',\n",
    "    'NetHashesPerSecond',\n",
    "    'BlockReward',\n",
    "    'BlockTime',\n",
    "    'AssetLaunchDate',\n",
    "    'AssetWhitepaperUrl',\n",
    "    'AssetWebsiteUrl',\n",
    "    'IsUsedInNft'\n",
    "], inplace = True)"
   ]
  },
  {
   "cell_type": "code",
   "execution_count": 452,
   "metadata": {},
   "outputs": [
    {
     "data": {
      "text/html": [
       "<div>\n",
       "<style scoped>\n",
       "    .dataframe tbody tr th:only-of-type {\n",
       "        vertical-align: middle;\n",
       "    }\n",
       "\n",
       "    .dataframe tbody tr th {\n",
       "        vertical-align: top;\n",
       "    }\n",
       "\n",
       "    .dataframe thead th {\n",
       "        text-align: right;\n",
       "    }\n",
       "</style>\n",
       "<table border=\"1\" class=\"dataframe\">\n",
       "  <thead>\n",
       "    <tr style=\"text-align: right;\">\n",
       "      <th></th>\n",
       "      <th>CoinName</th>\n",
       "      <th>Algorithm</th>\n",
       "      <th>ProofType</th>\n",
       "      <th>IsTrading</th>\n",
       "      <th>TotalCoinsMined</th>\n",
       "      <th>MaxSupply</th>\n",
       "    </tr>\n",
       "  </thead>\n",
       "  <tbody>\n",
       "    <tr>\n",
       "      <th>42</th>\n",
       "      <td>42 Coin</td>\n",
       "      <td>Scrypt</td>\n",
       "      <td>PoW/PoS</td>\n",
       "      <td>True</td>\n",
       "      <td>41.999952</td>\n",
       "      <td>42</td>\n",
       "    </tr>\n",
       "    <tr>\n",
       "      <th>300</th>\n",
       "      <td>300 token</td>\n",
       "      <td>N/A</td>\n",
       "      <td>N/A</td>\n",
       "      <td>True</td>\n",
       "      <td>300</td>\n",
       "      <td>300</td>\n",
       "    </tr>\n",
       "    <tr>\n",
       "      <th>365</th>\n",
       "      <td>365Coin</td>\n",
       "      <td>X11</td>\n",
       "      <td>PoW/PoS</td>\n",
       "      <td>True</td>\n",
       "      <td>0</td>\n",
       "      <td>-1</td>\n",
       "    </tr>\n",
       "    <tr>\n",
       "      <th>404</th>\n",
       "      <td>404Coin</td>\n",
       "      <td>Scrypt</td>\n",
       "      <td>PoW/PoS</td>\n",
       "      <td>True</td>\n",
       "      <td>0</td>\n",
       "      <td>-1</td>\n",
       "    </tr>\n",
       "    <tr>\n",
       "      <th>433</th>\n",
       "      <td>433 Token</td>\n",
       "      <td>N/A</td>\n",
       "      <td>N/A</td>\n",
       "      <td>False</td>\n",
       "      <td>NaN</td>\n",
       "      <td>NaN</td>\n",
       "    </tr>\n",
       "  </tbody>\n",
       "</table>\n",
       "</div>"
      ],
      "text/plain": [
       "      CoinName Algorithm ProofType IsTrading TotalCoinsMined MaxSupply\n",
       "42     42 Coin    Scrypt   PoW/PoS      True       41.999952        42\n",
       "300  300 token       N/A       N/A      True             300       300\n",
       "365    365Coin       X11   PoW/PoS      True               0        -1\n",
       "404    404Coin    Scrypt   PoW/PoS      True               0        -1\n",
       "433  433 Token       N/A       N/A     False             NaN       NaN"
      ]
     },
     "execution_count": 452,
     "metadata": {},
     "output_type": "execute_result"
    }
   ],
   "source": [
    "crcl_df.head()"
   ]
  },
  {
   "cell_type": "code",
   "execution_count": 453,
   "metadata": {},
   "outputs": [],
   "source": [
    "# Keep only cryptocurrencies that are trading\n",
    "\n",
    "crcl_df = crcl_df.loc[crcl_df['IsTrading'] == True]"
   ]
  },
  {
   "cell_type": "code",
   "execution_count": 454,
   "metadata": {},
   "outputs": [],
   "source": [
    "# Keep only cryptocurrencies with a working algorithm\n",
    "\n",
    "crcl_df = crcl_df.loc[crcl_df['Algorithm'] != 'N/A']"
   ]
  },
  {
   "cell_type": "code",
   "execution_count": 455,
   "metadata": {},
   "outputs": [],
   "source": [
    "# Remove the 'IsTrading' column\n",
    "\n",
    "crcl_df = crcl_df.drop(columns = 'IsTrading')"
   ]
  },
  {
   "cell_type": "code",
   "execution_count": 456,
   "metadata": {},
   "outputs": [
    {
     "data": {
      "text/plain": [
       "CoinName             0\n",
       "Algorithm            0\n",
       "ProofType            0\n",
       "TotalCoinsMined    944\n",
       "MaxSupply          944\n",
       "dtype: int64"
      ]
     },
     "execution_count": 456,
     "metadata": {},
     "output_type": "execute_result"
    }
   ],
   "source": [
    "# Remove rows with at least 1 null value\n",
    "crcl_df.isnull().sum()\n"
   ]
  },
  {
   "cell_type": "code",
   "execution_count": 457,
   "metadata": {},
   "outputs": [
    {
     "data": {
      "text/plain": [
       "CoinName           0\n",
       "Algorithm          0\n",
       "ProofType          0\n",
       "TotalCoinsMined    0\n",
       "MaxSupply          0\n",
       "dtype: int64"
      ]
     },
     "execution_count": 457,
     "metadata": {},
     "output_type": "execute_result"
    }
   ],
   "source": [
    "crcl_df = crcl_df.dropna()\n",
    "crcl_df.isnull().sum()"
   ]
  },
  {
   "cell_type": "code",
   "execution_count": 458,
   "metadata": {},
   "outputs": [],
   "source": [
    "# Remove rows with cryptocurrencies having no coins mined\n",
    "crcl_df = crcl_df.loc[crcl_df['TotalCoinsMined'] != 0]\n"
   ]
  },
  {
   "cell_type": "code",
   "execution_count": 459,
   "metadata": {},
   "outputs": [],
   "source": [
    "# Drop rows where there are 'N/A' text values\n",
    "\n",
    "crcl_df = crcl_df[crcl_df!='N/A']"
   ]
  },
  {
   "cell_type": "code",
   "execution_count": 460,
   "metadata": {},
   "outputs": [],
   "source": [
    "# Store the 'CoinName'column in its own DataFrame prior to dropping it from crypto_df \n",
    "\n",
    "coinName_df = pd.DataFrame(\n",
    "    data = crcl_df, columns = ['CoinName'])"
   ]
  },
  {
   "cell_type": "code",
   "execution_count": 461,
   "metadata": {},
   "outputs": [
    {
     "data": {
      "text/html": [
       "<div>\n",
       "<style scoped>\n",
       "    .dataframe tbody tr th:only-of-type {\n",
       "        vertical-align: middle;\n",
       "    }\n",
       "\n",
       "    .dataframe tbody tr th {\n",
       "        vertical-align: top;\n",
       "    }\n",
       "\n",
       "    .dataframe thead th {\n",
       "        text-align: right;\n",
       "    }\n",
       "</style>\n",
       "<table border=\"1\" class=\"dataframe\">\n",
       "  <thead>\n",
       "    <tr style=\"text-align: right;\">\n",
       "      <th></th>\n",
       "      <th>Algorithm</th>\n",
       "      <th>ProofType</th>\n",
       "      <th>TotalCoinsMined</th>\n",
       "      <th>MaxSupply</th>\n",
       "    </tr>\n",
       "  </thead>\n",
       "  <tbody>\n",
       "    <tr>\n",
       "      <th>42</th>\n",
       "      <td>Scrypt</td>\n",
       "      <td>PoW/PoS</td>\n",
       "      <td>41.999952</td>\n",
       "      <td>42</td>\n",
       "    </tr>\n",
       "    <tr>\n",
       "      <th>NSR</th>\n",
       "      <td>PoS</td>\n",
       "      <td>PoS</td>\n",
       "      <td>6173280737.8311</td>\n",
       "      <td>0</td>\n",
       "    </tr>\n",
       "    <tr>\n",
       "      <th>TRI</th>\n",
       "      <td>X13</td>\n",
       "      <td>PoW/PoS</td>\n",
       "      <td>191620.842403</td>\n",
       "      <td>0</td>\n",
       "    </tr>\n",
       "    <tr>\n",
       "      <th>CMTC</th>\n",
       "      <td>Scrypt</td>\n",
       "      <td>PoW</td>\n",
       "      <td>872830</td>\n",
       "      <td>0</td>\n",
       "    </tr>\n",
       "    <tr>\n",
       "      <th>CHAT</th>\n",
       "      <td>Scrypt</td>\n",
       "      <td>PoW/PoS</td>\n",
       "      <td>1000000000</td>\n",
       "      <td>-1</td>\n",
       "    </tr>\n",
       "  </tbody>\n",
       "</table>\n",
       "</div>"
      ],
      "text/plain": [
       "     Algorithm ProofType  TotalCoinsMined MaxSupply\n",
       "42      Scrypt   PoW/PoS        41.999952        42\n",
       "NSR        PoS       PoS  6173280737.8311         0\n",
       "TRI        X13   PoW/PoS    191620.842403         0\n",
       "CMTC    Scrypt       PoW           872830         0\n",
       "CHAT    Scrypt   PoW/PoS       1000000000        -1"
      ]
     },
     "execution_count": 461,
     "metadata": {},
     "output_type": "execute_result"
    }
   ],
   "source": [
    "# Drop the 'CoinName' column since it's not going to be used on the clustering algorithm\n",
    "\n",
    "crcl_df = crcl_df.drop(columns = 'CoinName')\n",
    "crcl_df.head()"
   ]
  },
  {
   "cell_type": "code",
   "execution_count": 462,
   "metadata": {},
   "outputs": [
    {
     "data": {
      "text/html": [
       "<div>\n",
       "<style scoped>\n",
       "    .dataframe tbody tr th:only-of-type {\n",
       "        vertical-align: middle;\n",
       "    }\n",
       "\n",
       "    .dataframe tbody tr th {\n",
       "        vertical-align: top;\n",
       "    }\n",
       "\n",
       "    .dataframe thead th {\n",
       "        text-align: right;\n",
       "    }\n",
       "</style>\n",
       "<table border=\"1\" class=\"dataframe\">\n",
       "  <thead>\n",
       "    <tr style=\"text-align: right;\">\n",
       "      <th></th>\n",
       "      <th>TotalCoinsMined</th>\n",
       "      <th>MaxSupply</th>\n",
       "      <th>Algorithm_Autolykos</th>\n",
       "      <th>Algorithm_BEP-2</th>\n",
       "      <th>Algorithm_BEP-2 Token</th>\n",
       "      <th>Algorithm_BEP-20 Token</th>\n",
       "      <th>Algorithm_BEP2 Token</th>\n",
       "      <th>Algorithm_BLAKE256</th>\n",
       "      <th>Algorithm_BMW512 / Echo512</th>\n",
       "      <th>Algorithm_Blake2B + SHA3</th>\n",
       "      <th>...</th>\n",
       "      <th>ProofType_PoW/PoSe</th>\n",
       "      <th>ProofType_PoW/nPoS</th>\n",
       "      <th>ProofType_ProgPoW/PoS</th>\n",
       "      <th>ProofType_Proof of Authority</th>\n",
       "      <th>ProofType_Proof-of-Work</th>\n",
       "      <th>ProofType_SPoS</th>\n",
       "      <th>ProofType_TPoS</th>\n",
       "      <th>ProofType_Zero-Knowledge Proof</th>\n",
       "      <th>ProofType_dPoW</th>\n",
       "      <th>ProofType_dPoW/PoW</th>\n",
       "    </tr>\n",
       "  </thead>\n",
       "  <tbody>\n",
       "    <tr>\n",
       "      <th>42</th>\n",
       "      <td>41.999952</td>\n",
       "      <td>42</td>\n",
       "      <td>0</td>\n",
       "      <td>0</td>\n",
       "      <td>0</td>\n",
       "      <td>0</td>\n",
       "      <td>0</td>\n",
       "      <td>0</td>\n",
       "      <td>0</td>\n",
       "      <td>0</td>\n",
       "      <td>...</td>\n",
       "      <td>0</td>\n",
       "      <td>0</td>\n",
       "      <td>0</td>\n",
       "      <td>0</td>\n",
       "      <td>0</td>\n",
       "      <td>0</td>\n",
       "      <td>0</td>\n",
       "      <td>0</td>\n",
       "      <td>0</td>\n",
       "      <td>0</td>\n",
       "    </tr>\n",
       "    <tr>\n",
       "      <th>NSR</th>\n",
       "      <td>6173280737.8311</td>\n",
       "      <td>0</td>\n",
       "      <td>0</td>\n",
       "      <td>0</td>\n",
       "      <td>0</td>\n",
       "      <td>0</td>\n",
       "      <td>0</td>\n",
       "      <td>0</td>\n",
       "      <td>0</td>\n",
       "      <td>0</td>\n",
       "      <td>...</td>\n",
       "      <td>0</td>\n",
       "      <td>0</td>\n",
       "      <td>0</td>\n",
       "      <td>0</td>\n",
       "      <td>0</td>\n",
       "      <td>0</td>\n",
       "      <td>0</td>\n",
       "      <td>0</td>\n",
       "      <td>0</td>\n",
       "      <td>0</td>\n",
       "    </tr>\n",
       "    <tr>\n",
       "      <th>TRI</th>\n",
       "      <td>191620.842403</td>\n",
       "      <td>0</td>\n",
       "      <td>0</td>\n",
       "      <td>0</td>\n",
       "      <td>0</td>\n",
       "      <td>0</td>\n",
       "      <td>0</td>\n",
       "      <td>0</td>\n",
       "      <td>0</td>\n",
       "      <td>0</td>\n",
       "      <td>...</td>\n",
       "      <td>0</td>\n",
       "      <td>0</td>\n",
       "      <td>0</td>\n",
       "      <td>0</td>\n",
       "      <td>0</td>\n",
       "      <td>0</td>\n",
       "      <td>0</td>\n",
       "      <td>0</td>\n",
       "      <td>0</td>\n",
       "      <td>0</td>\n",
       "    </tr>\n",
       "    <tr>\n",
       "      <th>CMTC</th>\n",
       "      <td>872830</td>\n",
       "      <td>0</td>\n",
       "      <td>0</td>\n",
       "      <td>0</td>\n",
       "      <td>0</td>\n",
       "      <td>0</td>\n",
       "      <td>0</td>\n",
       "      <td>0</td>\n",
       "      <td>0</td>\n",
       "      <td>0</td>\n",
       "      <td>...</td>\n",
       "      <td>0</td>\n",
       "      <td>0</td>\n",
       "      <td>0</td>\n",
       "      <td>0</td>\n",
       "      <td>0</td>\n",
       "      <td>0</td>\n",
       "      <td>0</td>\n",
       "      <td>0</td>\n",
       "      <td>0</td>\n",
       "      <td>0</td>\n",
       "    </tr>\n",
       "    <tr>\n",
       "      <th>CHAT</th>\n",
       "      <td>1000000000</td>\n",
       "      <td>-1</td>\n",
       "      <td>0</td>\n",
       "      <td>0</td>\n",
       "      <td>0</td>\n",
       "      <td>0</td>\n",
       "      <td>0</td>\n",
       "      <td>0</td>\n",
       "      <td>0</td>\n",
       "      <td>0</td>\n",
       "      <td>...</td>\n",
       "      <td>0</td>\n",
       "      <td>0</td>\n",
       "      <td>0</td>\n",
       "      <td>0</td>\n",
       "      <td>0</td>\n",
       "      <td>0</td>\n",
       "      <td>0</td>\n",
       "      <td>0</td>\n",
       "      <td>0</td>\n",
       "      <td>0</td>\n",
       "    </tr>\n",
       "  </tbody>\n",
       "</table>\n",
       "<p>5 rows × 91 columns</p>\n",
       "</div>"
      ],
      "text/plain": [
       "      TotalCoinsMined MaxSupply  Algorithm_Autolykos  Algorithm_BEP-2  \\\n",
       "42          41.999952        42                    0                0   \n",
       "NSR   6173280737.8311         0                    0                0   \n",
       "TRI     191620.842403         0                    0                0   \n",
       "CMTC           872830         0                    0                0   \n",
       "CHAT       1000000000        -1                    0                0   \n",
       "\n",
       "      Algorithm_BEP-2 Token  Algorithm_BEP-20 Token  Algorithm_BEP2 Token  \\\n",
       "42                        0                       0                     0   \n",
       "NSR                       0                       0                     0   \n",
       "TRI                       0                       0                     0   \n",
       "CMTC                      0                       0                     0   \n",
       "CHAT                      0                       0                     0   \n",
       "\n",
       "      Algorithm_BLAKE256  Algorithm_BMW512 / Echo512  \\\n",
       "42                     0                           0   \n",
       "NSR                    0                           0   \n",
       "TRI                    0                           0   \n",
       "CMTC                   0                           0   \n",
       "CHAT                   0                           0   \n",
       "\n",
       "      Algorithm_Blake2B + SHA3  ...  ProofType_PoW/PoSe  ProofType_PoW/nPoS  \\\n",
       "42                           0  ...                   0                   0   \n",
       "NSR                          0  ...                   0                   0   \n",
       "TRI                          0  ...                   0                   0   \n",
       "CMTC                         0  ...                   0                   0   \n",
       "CHAT                         0  ...                   0                   0   \n",
       "\n",
       "      ProofType_ProgPoW/PoS  ProofType_Proof of Authority  \\\n",
       "42                        0                             0   \n",
       "NSR                       0                             0   \n",
       "TRI                       0                             0   \n",
       "CMTC                      0                             0   \n",
       "CHAT                      0                             0   \n",
       "\n",
       "      ProofType_Proof-of-Work  ProofType_SPoS  ProofType_TPoS  \\\n",
       "42                          0               0               0   \n",
       "NSR                         0               0               0   \n",
       "TRI                         0               0               0   \n",
       "CMTC                        0               0               0   \n",
       "CHAT                        0               0               0   \n",
       "\n",
       "      ProofType_Zero-Knowledge Proof  ProofType_dPoW  ProofType_dPoW/PoW  \n",
       "42                                 0               0                   0  \n",
       "NSR                                0               0                   0  \n",
       "TRI                                0               0                   0  \n",
       "CMTC                               0               0                   0  \n",
       "CHAT                               0               0                   0  \n",
       "\n",
       "[5 rows x 91 columns]"
      ]
     },
     "execution_count": 462,
     "metadata": {},
     "output_type": "execute_result"
    }
   ],
   "source": [
    "# Create dummy variables for text features\n",
    "\n",
    "crcl_dummies= pd.get_dummies(crcl_df, columns=['Algorithm', 'ProofType'])\n",
    "crcl_dummies.head()"
   ]
  },
  {
   "cell_type": "code",
   "execution_count": 463,
   "metadata": {},
   "outputs": [
    {
     "name": "stdout",
     "output_type": "stream",
     "text": [
      "[[-0.05716655 -0.0616752  -0.0571662  -0.09933993 -0.0571662  -0.93378328\n",
      "  -0.0571662  -0.08097763 -0.0571662  -0.0571662  -0.09933993 -0.08097763\n",
      "  -0.09933993 -0.0571662  -0.0571662  -0.0571662  -0.1927749  -0.08097763\n",
      "  -0.0571662  -0.0571662  -0.0571662  -0.1927749  -0.0571662  -0.0571662\n",
      "  -0.17378533 -0.0571662  -0.0571662  -0.0571662  -0.0571662  -0.08097763\n",
      "  -0.0571662  -0.0571662  -0.0571662  -0.0571662  -0.0571662  -0.0571662\n",
      "  -0.0571662  -0.12867125 -0.08097763 -0.0571662  -0.0571662  -0.0571662\n",
      "  -0.08097763 -0.14118624 -0.0571662  -0.0571662  -0.08097763 -0.08097763\n",
      "  -0.21028002 -0.08097763 -0.0571662  -0.0571662  -0.0571662   3.43389963\n",
      "  -0.0571662  -0.0571662  -0.14118624 -0.0571662  -0.08097763 -0.114897\n",
      "  -0.0571662  -0.14118624 -0.08097763 -0.0571662  -0.0571662  -0.0571662\n",
      "  -0.0571662  -0.0571662  -0.0571662  -0.16357216 -0.0571662  -0.0571662\n",
      "  -0.08097763 -0.08097763 -0.0571662  -0.20168779 -0.0571662  -0.0571662\n",
      "  -0.0571662  -0.51320024  3.35857112 -0.0571662  -0.0571662  -0.0571662\n",
      "  -0.0571662  -0.0571662  -0.0571662  -0.0571662  -0.0571662  -0.0571662\n",
      "  -0.0571662 ]]\n"
     ]
    }
   ],
   "source": [
    "# Standardize data\n",
    "\n",
    "crcl_scaled = StandardScaler().fit_transform(crcl_dummies)\n",
    "print(crcl_scaled[0:1])"
   ]
  },
  {
   "cell_type": "code",
   "execution_count": 464,
   "metadata": {},
   "outputs": [
    {
     "data": {
      "text/html": [
       "<div>\n",
       "<style scoped>\n",
       "    .dataframe tbody tr th:only-of-type {\n",
       "        vertical-align: middle;\n",
       "    }\n",
       "\n",
       "    .dataframe tbody tr th {\n",
       "        vertical-align: top;\n",
       "    }\n",
       "\n",
       "    .dataframe thead th {\n",
       "        text-align: right;\n",
       "    }\n",
       "</style>\n",
       "<table border=\"1\" class=\"dataframe\">\n",
       "  <thead>\n",
       "    <tr style=\"text-align: right;\">\n",
       "      <th></th>\n",
       "      <th>Algorithm</th>\n",
       "      <th>ProofType</th>\n",
       "      <th>TotalCoinsMined</th>\n",
       "      <th>MaxSupply</th>\n",
       "    </tr>\n",
       "  </thead>\n",
       "  <tbody>\n",
       "    <tr>\n",
       "      <th>42</th>\n",
       "      <td>Scrypt</td>\n",
       "      <td>PoW/PoS</td>\n",
       "      <td>41.999952</td>\n",
       "      <td>42</td>\n",
       "    </tr>\n",
       "    <tr>\n",
       "      <th>NSR</th>\n",
       "      <td>PoS</td>\n",
       "      <td>PoS</td>\n",
       "      <td>6173280737.8311</td>\n",
       "      <td>0</td>\n",
       "    </tr>\n",
       "    <tr>\n",
       "      <th>TRI</th>\n",
       "      <td>X13</td>\n",
       "      <td>PoW/PoS</td>\n",
       "      <td>191620.842403</td>\n",
       "      <td>0</td>\n",
       "    </tr>\n",
       "    <tr>\n",
       "      <th>CMTC</th>\n",
       "      <td>Scrypt</td>\n",
       "      <td>PoW</td>\n",
       "      <td>872830</td>\n",
       "      <td>0</td>\n",
       "    </tr>\n",
       "    <tr>\n",
       "      <th>CHAT</th>\n",
       "      <td>Scrypt</td>\n",
       "      <td>PoW/PoS</td>\n",
       "      <td>1000000000</td>\n",
       "      <td>-1</td>\n",
       "    </tr>\n",
       "  </tbody>\n",
       "</table>\n",
       "</div>"
      ],
      "text/plain": [
       "     Algorithm ProofType  TotalCoinsMined MaxSupply\n",
       "42      Scrypt   PoW/PoS        41.999952        42\n",
       "NSR        PoS       PoS  6173280737.8311         0\n",
       "TRI        X13   PoW/PoS    191620.842403         0\n",
       "CMTC    Scrypt       PoW           872830         0\n",
       "CHAT    Scrypt   PoW/PoS       1000000000        -1"
      ]
     },
     "execution_count": 464,
     "metadata": {},
     "output_type": "execute_result"
    }
   ],
   "source": [
    "crcl_df.head()"
   ]
  },
  {
   "cell_type": "code",
   "execution_count": 465,
   "metadata": {},
   "outputs": [
    {
     "data": {
      "text/plain": [
       "0"
      ]
     },
     "execution_count": 465,
     "metadata": {},
     "output_type": "execute_result"
    }
   ],
   "source": [
    "crcl_scaled = crcl_scaled[~np.isnan(crcl_scaled).any(axis=1)]\n",
    "np.isnan(crcl_scaled).sum()"
   ]
  },
  {
   "cell_type": "markdown",
   "metadata": {},
   "source": [
    "### Reducing Dimensions Using PCA"
   ]
  },
  {
   "cell_type": "code",
   "execution_count": 466,
   "metadata": {},
   "outputs": [],
   "source": [
    "# Use PCA to reduce dimensions to 3 principal components\n",
    "\n",
    "pca = PCA(n_components=3)\n",
    "\n",
    "crcl_pca = pca.fit_transform(crcl_scaled)"
   ]
  },
  {
   "cell_type": "code",
   "execution_count": 467,
   "metadata": {},
   "outputs": [
    {
     "data": {
      "text/html": [
       "<div>\n",
       "<style scoped>\n",
       "    .dataframe tbody tr th:only-of-type {\n",
       "        vertical-align: middle;\n",
       "    }\n",
       "\n",
       "    .dataframe tbody tr th {\n",
       "        vertical-align: top;\n",
       "    }\n",
       "\n",
       "    .dataframe thead th {\n",
       "        text-align: right;\n",
       "    }\n",
       "</style>\n",
       "<table border=\"1\" class=\"dataframe\">\n",
       "  <thead>\n",
       "    <tr style=\"text-align: right;\">\n",
       "      <th></th>\n",
       "      <th>PC 1</th>\n",
       "      <th>PC 2</th>\n",
       "      <th>PC 3</th>\n",
       "    </tr>\n",
       "  </thead>\n",
       "  <tbody>\n",
       "    <tr>\n",
       "      <th>42</th>\n",
       "      <td>1.210695</td>\n",
       "      <td>0.016365</td>\n",
       "      <td>-0.002007</td>\n",
       "    </tr>\n",
       "    <tr>\n",
       "      <th>NSR</th>\n",
       "      <td>0.028795</td>\n",
       "      <td>-0.060582</td>\n",
       "      <td>-0.001279</td>\n",
       "    </tr>\n",
       "    <tr>\n",
       "      <th>TRI</th>\n",
       "      <td>0.592800</td>\n",
       "      <td>-0.019782</td>\n",
       "      <td>-0.001929</td>\n",
       "    </tr>\n",
       "    <tr>\n",
       "      <th>CMTC</th>\n",
       "      <td>2.130434</td>\n",
       "      <td>0.074707</td>\n",
       "      <td>-0.001574</td>\n",
       "    </tr>\n",
       "    <tr>\n",
       "      <th>CHAT</th>\n",
       "      <td>1.210695</td>\n",
       "      <td>0.016365</td>\n",
       "      <td>-0.002007</td>\n",
       "    </tr>\n",
       "  </tbody>\n",
       "</table>\n",
       "</div>"
      ],
      "text/plain": [
       "          PC 1      PC 2      PC 3\n",
       "42    1.210695  0.016365 -0.002007\n",
       "NSR   0.028795 -0.060582 -0.001279\n",
       "TRI   0.592800 -0.019782 -0.001929\n",
       "CMTC  2.130434  0.074707 -0.001574\n",
       "CHAT  1.210695  0.016365 -0.002007"
      ]
     },
     "execution_count": 467,
     "metadata": {},
     "output_type": "execute_result"
    }
   ],
   "source": [
    "# Create a DataFrame with the principal components data\n",
    "\n",
    "pca_df = pd.DataFrame(\n",
    "    data=crcl_pca, columns=[\"PC 1\", \"PC 2\", \"PC 3\"],index= crcl_df.index\n",
    ")\n",
    "pca_df.head()"
   ]
  },
  {
   "cell_type": "code",
   "execution_count": 468,
   "metadata": {},
   "outputs": [
    {
     "data": {
      "text/plain": [
       "(307, 4)"
      ]
     },
     "execution_count": 468,
     "metadata": {},
     "output_type": "execute_result"
    }
   ],
   "source": [
    "crcl_df.shape"
   ]
  },
  {
   "cell_type": "markdown",
   "metadata": {},
   "source": [
    "### Clustering Crytocurrencies Using K-Means\n",
    "\n",
    "#### Finding the Best Value for `k` Using the Elbow Curve"
   ]
  },
  {
   "cell_type": "code",
   "execution_count": 469,
   "metadata": {},
   "outputs": [
    {
     "data": {},
     "metadata": {},
     "output_type": "display_data"
    },
    {
     "data": {
      "application/vnd.holoviews_exec.v0+json": "",
      "text/html": [
       "<div id='3879'>\n",
       "\n",
       "\n",
       "\n",
       "\n",
       "\n",
       "  <div class=\"bk-root\" id=\"de16ab91-b6b9-4d3c-8cae-5fd52bf12903\" data-root-id=\"3879\"></div>\n",
       "</div>\n",
       "<script type=\"application/javascript\">(function(root) {\n",
       "  function embed_document(root) {\n",
       "    var docs_json = {\"04152142-0f26-445b-8b18-1d6ee35aa8cd\":{\"defs\":[{\"extends\":null,\"module\":null,\"name\":\"ReactiveHTML1\",\"overrides\":[],\"properties\":[]},{\"extends\":null,\"module\":null,\"name\":\"FlexBox1\",\"overrides\":[],\"properties\":[{\"default\":\"flex-start\",\"kind\":null,\"name\":\"align_content\"},{\"default\":\"flex-start\",\"kind\":null,\"name\":\"align_items\"},{\"default\":\"row\",\"kind\":null,\"name\":\"flex_direction\"},{\"default\":\"wrap\",\"kind\":null,\"name\":\"flex_wrap\"},{\"default\":\"flex-start\",\"kind\":null,\"name\":\"justify_content\"}]},{\"extends\":null,\"module\":null,\"name\":\"TemplateActions1\",\"overrides\":[],\"properties\":[{\"default\":0,\"kind\":null,\"name\":\"open_modal\"},{\"default\":0,\"kind\":null,\"name\":\"close_modal\"}]},{\"extends\":null,\"module\":null,\"name\":\"MaterialTemplateActions1\",\"overrides\":[],\"properties\":[{\"default\":0,\"kind\":null,\"name\":\"open_modal\"},{\"default\":0,\"kind\":null,\"name\":\"close_modal\"}]}],\"roots\":{\"references\":[{\"attributes\":{\"callback\":null,\"renderers\":[{\"id\":\"3920\"}],\"tags\":[\"hv_created\"],\"tooltips\":[[\"k\",\"@{k}\"],[\"inertia\",\"@{inertia}\"]]},\"id\":\"3883\",\"type\":\"HoverTool\"},{\"attributes\":{\"below\":[{\"id\":\"3893\"}],\"center\":[{\"id\":\"3896\"},{\"id\":\"3900\"}],\"height\":300,\"left\":[{\"id\":\"3897\"}],\"margin\":[5,5,5,5],\"min_border_bottom\":10,\"min_border_left\":10,\"min_border_right\":10,\"min_border_top\":10,\"renderers\":[{\"id\":\"3920\"}],\"sizing_mode\":\"fixed\",\"title\":{\"id\":\"3885\"},\"toolbar\":{\"id\":\"3907\"},\"width\":700,\"x_range\":{\"id\":\"3881\"},\"x_scale\":{\"id\":\"3889\"},\"y_range\":{\"id\":\"3882\"},\"y_scale\":{\"id\":\"3891\"}},\"id\":\"3884\",\"subtype\":\"Figure\",\"type\":\"Plot\"},{\"attributes\":{\"ticks\":[1,2,3,4,5,6,7,8,9,10]},\"id\":\"3923\",\"type\":\"FixedTicker\"},{\"attributes\":{},\"id\":\"3931\",\"type\":\"AllLabels\"},{\"attributes\":{},\"id\":\"3926\",\"type\":\"AllLabels\"},{\"attributes\":{\"margin\":[5,5,5,5],\"name\":\"HSpacer07062\",\"sizing_mode\":\"stretch_width\"},\"id\":\"3950\",\"type\":\"Spacer\"},{\"attributes\":{\"end\":10.0,\"reset_end\":10.0,\"reset_start\":1.0,\"start\":1.0,\"tags\":[[[\"k\",\"k\",null]]]},\"id\":\"3881\",\"type\":\"Range1d\"},{\"attributes\":{\"margin\":[5,5,5,5],\"name\":\"HSpacer07061\",\"sizing_mode\":\"stretch_width\"},\"id\":\"3880\",\"type\":\"Spacer\"},{\"attributes\":{\"end\":2065.7476413653826,\"reset_end\":2065.7476413653826,\"reset_start\":-182.98838108395992,\"start\":-182.98838108395992,\"tags\":[[[\"inertia\",\"inertia\",null]]]},\"id\":\"3882\",\"type\":\"Range1d\"},{\"attributes\":{\"line_alpha\":0.1,\"line_color\":\"#30a2da\",\"line_width\":2,\"x\":{\"field\":\"k\"},\"y\":{\"field\":\"inertia\"}},\"id\":\"3918\",\"type\":\"Line\"},{\"attributes\":{},\"id\":\"3891\",\"type\":\"LinearScale\"},{\"attributes\":{\"children\":[{\"id\":\"3880\"},{\"id\":\"3884\"},{\"id\":\"3950\"}],\"margin\":[0,0,0,0],\"name\":\"Row07057\",\"tags\":[\"embedded\"]},\"id\":\"3879\",\"type\":\"Row\"},{\"attributes\":{},\"id\":\"3930\",\"type\":\"BasicTickFormatter\"},{\"attributes\":{},\"id\":\"3938\",\"type\":\"UnionRenderers\"},{\"attributes\":{},\"id\":\"3889\",\"type\":\"LinearScale\"},{\"attributes\":{\"coordinates\":null,\"group\":null,\"text\":\"Elbow Curve\",\"text_color\":\"black\",\"text_font_size\":\"12pt\"},\"id\":\"3885\",\"type\":\"Title\"},{\"attributes\":{\"coordinates\":null,\"data_source\":{\"id\":\"3914\"},\"glyph\":{\"id\":\"3917\"},\"group\":null,\"hover_glyph\":null,\"muted_glyph\":{\"id\":\"3919\"},\"nonselection_glyph\":{\"id\":\"3918\"},\"selection_glyph\":{\"id\":\"3922\"},\"view\":{\"id\":\"3921\"}},\"id\":\"3920\",\"type\":\"GlyphRenderer\"},{\"attributes\":{\"axis\":{\"id\":\"3893\"},\"coordinates\":null,\"grid_line_color\":null,\"group\":null,\"ticker\":null},\"id\":\"3896\",\"type\":\"Grid\"},{\"attributes\":{},\"id\":\"3915\",\"type\":\"Selection\"},{\"attributes\":{\"data\":{\"inertia\":{\"__ndarray__\":\"eYG1cWlZnUCMDMO42PaUQJTBttPulolAFIX8p4zRckDC9y6fx4lXQD5JcmjwO0NA3yW3saJQMUD3M+/TNqwqQMKEQSsT2RxAZfp10QmgEUA=\",\"dtype\":\"float64\",\"order\":\"little\",\"shape\":[10]},\"k\":[1,2,3,4,5,6,7,8,9,10]},\"selected\":{\"id\":\"3915\"},\"selection_policy\":{\"id\":\"3938\"}},\"id\":\"3914\",\"type\":\"ColumnDataSource\"},{\"attributes\":{\"axis_label\":\"k\",\"coordinates\":null,\"formatter\":{\"id\":\"3925\"},\"group\":null,\"major_label_policy\":{\"id\":\"3926\"},\"ticker\":{\"id\":\"3923\"}},\"id\":\"3893\",\"type\":\"LinearAxis\"},{\"attributes\":{\"axis\":{\"id\":\"3897\"},\"coordinates\":null,\"dimension\":1,\"grid_line_color\":null,\"group\":null,\"ticker\":null},\"id\":\"3900\",\"type\":\"Grid\"},{\"attributes\":{\"line_color\":\"#30a2da\",\"line_width\":2,\"x\":{\"field\":\"k\"},\"y\":{\"field\":\"inertia\"}},\"id\":\"3917\",\"type\":\"Line\"},{\"attributes\":{},\"id\":\"3902\",\"type\":\"PanTool\"},{\"attributes\":{\"axis_label\":\"inertia\",\"coordinates\":null,\"formatter\":{\"id\":\"3930\"},\"group\":null,\"major_label_policy\":{\"id\":\"3931\"},\"ticker\":{\"id\":\"3898\"}},\"id\":\"3897\",\"type\":\"LinearAxis\"},{\"attributes\":{},\"id\":\"3898\",\"type\":\"BasicTicker\"},{\"attributes\":{},\"id\":\"3903\",\"type\":\"WheelZoomTool\"},{\"attributes\":{},\"id\":\"3925\",\"type\":\"BasicTickFormatter\"},{\"attributes\":{},\"id\":\"3901\",\"type\":\"SaveTool\"},{\"attributes\":{\"overlay\":{\"id\":\"3906\"}},\"id\":\"3904\",\"type\":\"BoxZoomTool\"},{\"attributes\":{},\"id\":\"3905\",\"type\":\"ResetTool\"},{\"attributes\":{\"line_alpha\":0.2,\"line_color\":\"#30a2da\",\"line_width\":2,\"x\":{\"field\":\"k\"},\"y\":{\"field\":\"inertia\"}},\"id\":\"3919\",\"type\":\"Line\"},{\"attributes\":{\"bottom_units\":\"screen\",\"coordinates\":null,\"fill_alpha\":0.5,\"fill_color\":\"lightgrey\",\"group\":null,\"left_units\":\"screen\",\"level\":\"overlay\",\"line_alpha\":1.0,\"line_color\":\"black\",\"line_dash\":[4,4],\"line_width\":2,\"right_units\":\"screen\",\"syncable\":false,\"top_units\":\"screen\"},\"id\":\"3906\",\"type\":\"BoxAnnotation\"},{\"attributes\":{\"source\":{\"id\":\"3914\"}},\"id\":\"3921\",\"type\":\"CDSView\"},{\"attributes\":{\"tools\":[{\"id\":\"3883\"},{\"id\":\"3901\"},{\"id\":\"3902\"},{\"id\":\"3903\"},{\"id\":\"3904\"},{\"id\":\"3905\"}]},\"id\":\"3907\",\"type\":\"Toolbar\"},{\"attributes\":{\"line_color\":\"#30a2da\",\"line_width\":2,\"x\":{\"field\":\"k\"},\"y\":{\"field\":\"inertia\"}},\"id\":\"3922\",\"type\":\"Line\"}],\"root_ids\":[\"3879\"]},\"title\":\"Bokeh Application\",\"version\":\"2.4.1\"}};\n",
       "    var render_items = [{\"docid\":\"04152142-0f26-445b-8b18-1d6ee35aa8cd\",\"root_ids\":[\"3879\"],\"roots\":{\"3879\":\"de16ab91-b6b9-4d3c-8cae-5fd52bf12903\"}}];\n",
       "    root.Bokeh.embed.embed_items_notebook(docs_json, render_items);\n",
       "  }\n",
       "  if (root.Bokeh !== undefined && root.Bokeh.Panel !== undefined) {\n",
       "    embed_document(root);\n",
       "  } else {\n",
       "    var attempts = 0;\n",
       "    var timer = setInterval(function(root) {\n",
       "      if (root.Bokeh !== undefined && root.Bokeh.Panel !== undefined) {\n",
       "        clearInterval(timer);\n",
       "        embed_document(root);\n",
       "      } else if (document.readyState == \"complete\") {\n",
       "        attempts++;\n",
       "        if (attempts > 200) {\n",
       "          clearInterval(timer);\n",
       "          console.log(\"Bokeh: ERROR: Unable to run BokehJS code because BokehJS library is missing\");\n",
       "        }\n",
       "      }\n",
       "    }, 25, root)\n",
       "  }\n",
       "})(window);</script>"
      ],
      "text/plain": [
       ":Curve   [k]   (inertia)"
      ]
     },
     "execution_count": 469,
     "metadata": {
      "application/vnd.holoviews_exec.v0+json": {
       "id": "3879"
      }
     },
     "output_type": "execute_result"
    }
   ],
   "source": [
    "inertia = []\n",
    "k = list(range(1, 11))\n",
    "\n",
    "# Calculate the inertia for the range of k values\n",
    "for i in k:\n",
    "    km = KMeans(n_clusters=i, random_state=0)\n",
    "    km.fit(crcl_pca)\n",
    "    inertia.append(km.inertia_)   \n",
    "\n",
    "# Create the Elbow Curve using hvPlot\n",
    "elbow_data = {\"k\": k, \"inertia\": inertia}\n",
    "df_elbow = pd.DataFrame(elbow_data)\n",
    "df_elbow.hvplot.line(x=\"k\", y=\"inertia\", xticks=k, title=\"Elbow Curve\")\n"
   ]
  },
  {
   "cell_type": "markdown",
   "metadata": {},
   "source": [
    "Running K-Means with `k=<your best value for k here>`"
   ]
  },
  {
   "cell_type": "code",
   "execution_count": 470,
   "metadata": {},
   "outputs": [
    {
     "data": {
      "text/html": [
       "<div>\n",
       "<style scoped>\n",
       "    .dataframe tbody tr th:only-of-type {\n",
       "        vertical-align: middle;\n",
       "    }\n",
       "\n",
       "    .dataframe tbody tr th {\n",
       "        vertical-align: top;\n",
       "    }\n",
       "\n",
       "    .dataframe thead th {\n",
       "        text-align: right;\n",
       "    }\n",
       "</style>\n",
       "<table border=\"1\" class=\"dataframe\">\n",
       "  <thead>\n",
       "    <tr style=\"text-align: right;\">\n",
       "      <th></th>\n",
       "      <th>Algorithm</th>\n",
       "      <th>ProofType</th>\n",
       "      <th>TotalCoinsMined</th>\n",
       "      <th>MaxSupply</th>\n",
       "      <th>CoinName</th>\n",
       "      <th>PC 1</th>\n",
       "      <th>PC 2</th>\n",
       "      <th>PC 3</th>\n",
       "      <th>class</th>\n",
       "    </tr>\n",
       "  </thead>\n",
       "  <tbody>\n",
       "    <tr>\n",
       "      <th>42</th>\n",
       "      <td>Scrypt</td>\n",
       "      <td>PoW/PoS</td>\n",
       "      <td>41.999952</td>\n",
       "      <td>42</td>\n",
       "      <td>42 Coin</td>\n",
       "      <td>1.210695</td>\n",
       "      <td>0.016365</td>\n",
       "      <td>-0.002007</td>\n",
       "      <td>2</td>\n",
       "    </tr>\n",
       "    <tr>\n",
       "      <th>NSR</th>\n",
       "      <td>PoS</td>\n",
       "      <td>PoS</td>\n",
       "      <td>6173280737.8311</td>\n",
       "      <td>0</td>\n",
       "      <td>NuShares</td>\n",
       "      <td>0.028795</td>\n",
       "      <td>-0.060582</td>\n",
       "      <td>-0.001279</td>\n",
       "      <td>0</td>\n",
       "    </tr>\n",
       "    <tr>\n",
       "      <th>TRI</th>\n",
       "      <td>X13</td>\n",
       "      <td>PoW/PoS</td>\n",
       "      <td>191620.842403</td>\n",
       "      <td>0</td>\n",
       "      <td>Triangles Coin</td>\n",
       "      <td>0.592800</td>\n",
       "      <td>-0.019782</td>\n",
       "      <td>-0.001929</td>\n",
       "      <td>2</td>\n",
       "    </tr>\n",
       "    <tr>\n",
       "      <th>CMTC</th>\n",
       "      <td>Scrypt</td>\n",
       "      <td>PoW</td>\n",
       "      <td>872830</td>\n",
       "      <td>0</td>\n",
       "      <td>CometCoin</td>\n",
       "      <td>2.130434</td>\n",
       "      <td>0.074707</td>\n",
       "      <td>-0.001574</td>\n",
       "      <td>2</td>\n",
       "    </tr>\n",
       "    <tr>\n",
       "      <th>CHAT</th>\n",
       "      <td>Scrypt</td>\n",
       "      <td>PoW/PoS</td>\n",
       "      <td>1000000000</td>\n",
       "      <td>-1</td>\n",
       "      <td>OpenChat</td>\n",
       "      <td>1.210695</td>\n",
       "      <td>0.016365</td>\n",
       "      <td>-0.002007</td>\n",
       "      <td>2</td>\n",
       "    </tr>\n",
       "  </tbody>\n",
       "</table>\n",
       "</div>"
      ],
      "text/plain": [
       "     Algorithm ProofType  TotalCoinsMined MaxSupply        CoinName      PC 1  \\\n",
       "42      Scrypt   PoW/PoS        41.999952        42         42 Coin  1.210695   \n",
       "NSR        PoS       PoS  6173280737.8311         0        NuShares  0.028795   \n",
       "TRI        X13   PoW/PoS    191620.842403         0  Triangles Coin  0.592800   \n",
       "CMTC    Scrypt       PoW           872830         0       CometCoin  2.130434   \n",
       "CHAT    Scrypt   PoW/PoS       1000000000        -1        OpenChat  1.210695   \n",
       "\n",
       "          PC 2      PC 3  class  \n",
       "42    0.016365 -0.002007      2  \n",
       "NSR  -0.060582 -0.001279      0  \n",
       "TRI  -0.019782 -0.001929      2  \n",
       "CMTC  0.074707 -0.001574      2  \n",
       "CHAT  0.016365 -0.002007      2  "
      ]
     },
     "execution_count": 470,
     "metadata": {},
     "output_type": "execute_result"
    }
   ],
   "source": [
    "# Initialize the K-Means model\n",
    "model = KMeans(n_clusters=5, random_state=0)\n",
    "# Fit the model\n",
    "model.fit(pca_df)\n",
    "# Predict clusters\n",
    "predictions = model.predict(pca_df)\n",
    "# Create a new DataFrame including predicted clusters and cryptocurrencies features\n",
    "pca_df['class'] = model.labels_\n",
    "\n",
    "df_merged = crcl_df.join(coinName_df, how='outer')\n",
    "df= pd.concat([df_merged,pca_df],axis=1,sort=False)\n",
    "\n",
    "df.head()\n"
   ]
  },
  {
   "cell_type": "markdown",
   "metadata": {},
   "source": [
    "### Visualizing Results\n",
    "\n",
    "#### 3D-Scatter with Clusters"
   ]
  },
  {
   "cell_type": "code",
   "execution_count": 471,
   "metadata": {},
   "outputs": [
    {
     "data": {
      "application/vnd.plotly.v1+json": {
       "config": {
        "plotlyServerURL": "https://plot.ly"
       },
       "data": [
        {
         "customdata": [
          [
           "Scrypt"
          ],
          [
           "X13"
          ],
          [
           "Scrypt"
          ],
          [
           "Scrypt"
          ],
          [
           "RandomX"
          ],
          [
           "X11"
          ],
          [
           "Equihash"
          ],
          [
           "IMesh"
          ],
          [
           "SHA-256"
          ],
          [
           "ProgPowZ"
          ],
          [
           "X16RT"
          ],
          [
           "C31"
          ],
          [
           "X16R"
          ],
          [
           "Scrypt"
          ],
          [
           "HEX"
          ],
          [
           "SHA-256"
          ],
          [
           "Multiple"
          ],
          [
           "Ethash"
          ],
          [
           "Quark"
          ],
          [
           "Scrypt"
          ],
          [
           "SHA-256"
          ],
          [
           "Equihash"
          ],
          [
           "Ethash"
          ],
          [
           "SHA-256"
          ],
          [
           "SHA-256"
          ],
          [
           "Scrypt"
          ],
          [
           "SHA-256"
          ],
          [
           "Multiple"
          ],
          [
           "Autolykos"
          ],
          [
           "X16R"
          ],
          [
           "Equihash"
          ],
          [
           "CryptoNight-Lite"
          ],
          [
           "Scrypt"
          ],
          [
           "Equihash"
          ],
          [
           "Equihash"
          ],
          [
           "IMesh"
          ],
          [
           "Ethash"
          ],
          [
           "Eaglesong"
          ],
          [
           "Blake2B + SHA3"
          ],
          [
           "SHA-256"
          ],
          [
           "Scrypt"
          ],
          [
           "Ethash"
          ],
          [
           "Lyra2Z"
          ],
          [
           "Equihash"
          ],
          [
           "SHA-256"
          ],
          [
           "RandomX"
          ],
          [
           "BLAKE256"
          ],
          [
           "Ethash"
          ],
          [
           "MTP"
          ],
          [
           "X11"
          ],
          [
           "Blake2b"
          ],
          [
           "Ethash"
          ],
          [
           "SHA-256"
          ],
          [
           "Scrypt"
          ],
          [
           "BLAKE256"
          ],
          [
           "Scrypt"
          ],
          [
           "KECCAK"
          ],
          [
           "Scrypt"
          ],
          [
           "CryptoNight"
          ],
          [
           "Equihash"
          ],
          [
           "Blake2b"
          ],
          [
           "Scrypt"
          ],
          [
           "Equihash210,9"
          ],
          [
           "Scrypt"
          ],
          [
           "SHA-256"
          ],
          [
           "X11GOST"
          ],
          [
           "Scrypt"
          ],
          [
           "BMW512 / Echo512"
          ],
          [
           "Scrypt"
          ],
          [
           "C31"
          ],
          [
           "Scrypt"
          ],
          [
           "CryptoNight-Heavy"
          ],
          [
           "Scrypt"
          ],
          [
           "Scrypt"
          ],
          [
           "Scrypt"
          ],
          [
           "SHA-256"
          ],
          [
           "Blake2b"
          ],
          [
           "Scrypt"
          ],
          [
           "Shabal256"
          ],
          [
           "Equihash"
          ],
          [
           "Multiple"
          ],
          [
           "Scrypt"
          ],
          [
           "Lyra2REv2"
          ],
          [
           "Multiple"
          ],
          [
           "Dagger-Hashimoto"
          ],
          [
           "SHA-256"
          ],
          [
           "PoS"
          ],
          [
           "X11"
          ],
          [
           "Scrypt"
          ],
          [
           "X13"
          ],
          [
           "Equihash"
          ],
          [
           "SHA-256"
          ],
          [
           "Scrypt"
          ],
          [
           "Ethash"
          ],
          [
           "Quark"
          ],
          [
           "Cryptonight Haven"
          ],
          [
           "X13"
          ],
          [
           "CryptoNight"
          ],
          [
           "Ethash"
          ],
          [
           "X13"
          ],
          [
           "X11"
          ],
          [
           "CryptoNight"
          ],
          [
           "Multiple"
          ],
          [
           "Scrypt"
          ],
          [
           "Ethash"
          ],
          [
           "EtcHash"
          ],
          [
           "NeoScrypt"
          ],
          [
           "Groestl"
          ],
          [
           "Equihash"
          ],
          [
           "Equihash"
          ]
         ],
         "hovertemplate": "<b>%{hovertext}</b><br><br>class=%{marker.color}<br>PC 1=%{x}<br>PC 2=%{y}<br>PC 3=%{z}<br>Algorithm=%{customdata[0]}<extra></extra>",
         "hovertext": [
          "42 Coin",
          "Triangles Coin",
          "CometCoin",
          "OpenChat",
          "Quantum Resistant Ledger",
          "Pura",
          "Bitcoin Private",
          "Aidos Kuneen",
          "Foin",
          "Zano",
          "VEIL",
          "MimbleWimbleCoin",
          "Ravencoin Classic",
          "Goldmaxcoin",
          "XDNA",
          "Wibcoin",
          "Revain",
          "EtherZero",
          "QuarkCoin",
          "United Emirates Coin",
          "Arweave",
          "Bithereum",
          "BeforeCoinMarketCap",
          "Smart Bitcoin",
          "UnitedBitcoin",
          "VeriCoin",
          "Emercoin",
          "Circuits of Value",
          "Ergo",
          "Genix",
          "Beam",
          "AEON",
          "Canada eCoin",
          "TENT",
          "Pirate Chain",
          "Internet Node token",
          "Super Zero",
          "Nervos Network",
          "Handshake",
          "REDi",
          "Auroracoin",
          "Ethereum Name Service",
          "TecraCoin",
          "BitcoinZ",
          "eCash",
          "Monero",
          "HyperCash",
          "Expanse",
          "Firo",
          "IOCoin",
          "Siacoin",
          "Waltonchain",
          "Bitcoin",
          "BlackCoin",
          "Decred",
          "Einsteinium",
          "SmartCash",
          "SaluS",
          "Beldex",
          "ZCash",
          "Yeeco",
          "WhiteCoin",
          "Aion",
          "Flo",
          "Bitcoin Cash",
          "SibCoin",
          "SafeExchangeCoin",
          "DigitalNote",
          "PotCoin",
          "Grin",
          "Gulden",
          "Haven Protocol",
          "Litecoin",
          "MegaCoin",
          "MonaCoin",
          "Namecoin",
          "Nano",
          "NovaCoin",
          "Signa",
          "Zelcash",
          "WXT",
          "ViaCoin",
          "Vertcoin",
          "Verge",
          "Ubiq",
          "SysCoin",
          "Steem",
          "Stakenet",
          "Reddcoin",
          "Bitcoin Diamond",
          "Bitcoin Gold",
          "Bitcoin SV",
          "Primas",
          "Metaverse",
          "Private Instant Verified Transaction",
          "BLOC.MONEY",
          "NavCoin",
          "ByteCoin",
          "Callisto Network",
          "CloakCoin",
          "Dash",
          "Dero",
          "DigiByte",
          "Dogecoin",
          "Ethereum",
          "Ethereum Classic",
          "FeatherCoin",
          "Groestlcoin",
          "Horizen",
          "Komodo"
         ],
         "legendgroup": "2",
         "marker": {
          "color": [
           2,
           2,
           2,
           2,
           2,
           2,
           2,
           2,
           2,
           2,
           2,
           2,
           2,
           2,
           2,
           2,
           2,
           2,
           2,
           2,
           2,
           2,
           2,
           2,
           2,
           2,
           2,
           2,
           2,
           2,
           2,
           2,
           2,
           2,
           2,
           2,
           2,
           2,
           2,
           2,
           2,
           2,
           2,
           2,
           2,
           2,
           2,
           2,
           2,
           2,
           2,
           2,
           2,
           2,
           2,
           2,
           2,
           2,
           2,
           2,
           2,
           2,
           2,
           2,
           2,
           2,
           2,
           2,
           2,
           2,
           2,
           2,
           2,
           2,
           2,
           2,
           2,
           2,
           2,
           2,
           2,
           2,
           2,
           2,
           2,
           2,
           2,
           2,
           2,
           2,
           2,
           2,
           2,
           2,
           2,
           2,
           2,
           2,
           2,
           2,
           2,
           2,
           2,
           2,
           2,
           2,
           2,
           2,
           2,
           2
          ],
          "coloraxis": "coloraxis",
          "symbol": "circle"
         },
         "mode": "markers",
         "name": "2",
         "scene": "scene",
         "showlegend": true,
         "type": "scatter3d",
         "x": [
          1.2106945120433197,
          0.5927996597190635,
          2.1304343892162456,
          1.2106945120383485,
          2.501359465322812,
          1.8209519725553325,
          2.402747195285088,
          2.173803798959588,
          1.0868949323939858,
          0.734354167548507,
          0.7344197176259528,
          2.501345296990448,
          2.5048533935084523,
          2.1304343892161257,
          0.7343541675487114,
          2.611406774363221,
          0.5866031513796505,
          1.9639301337386794,
          0.7365591133326608,
          0.7201292447466736,
          2.4971961935123628,
          2.4027445827505964,
          1.0441902565608312,
          2.4971910537829904,
          2.497191053782991,
          1.3776365698492763,
          1.577448778064744,
          1.9969082958499913,
          2.4938753618555727,
          2.502478838538759,
          2.4027745987701294,
          2.493854005656714,
          1.3776600290203853,
          2.402754187876849,
          1.8986207589761321,
          1.4608225170076734,
          1.059249174007196,
          2.493854005655987,
          2.494299746182121,
          1.0868835107729402,
          1.2106945120383756,
          1.0591071488396395,
          2.4938540056567136,
          2.4051431231240255,
          4.89572902858196,
          2.5013474726208496,
          0.7365742168501689,
          1.9639415553596233,
          2.493858681562441,
          0.9012146081342609,
          2.0742726684417345,
          0.5536249892692241,
          2.4971910537829896,
          0.7279395267280626,
          0.7365670212290488,
          2.1304343892161355,
          2.494946506944127,
          1.2106945120383763,
          0.6806589258529739,
          2.4027469812909725,
          0.6639675239727028,
          1.2108087282467446,
          0.7343541675484986,
          2.1304526638095727,
          2.4971910537829896,
          2.493858594162339,
          1.1284481533013986,
          0.734354167548339,
          1.2107424828459592,
          2.5013430126661707,
          2.1306262724461287,
          2.493854005656715,
          2.1304439833777433,
          2.1304391862969982,
          2.130434389216136,
          2.497188655242505,
          2.074287887556821,
          1.2106945120383756,
          0.5770135341003231,
          1.4830286909765706,
          0.5866031513804462,
          2.1304343892161373,
          2.4938723596785586,
          1.9987991451777576,
          2.493854005656713,
          2.497290079235551,
          1.431301552215457,
          0.7855841042293809,
          1.2106945120380481,
          0.5928236451227797,
          2.4027469812909716,
          2.4971910537829896,
          2.130434389216136,
          0.5536364108901648,
          0.7365591133326627,
          2.4938649306698055,
          0.5927996597189316,
          2.1042346738985933,
          1.964672539092479,
          0.5927996597189319,
          0.7855882338844663,
          2.0831652099620057,
          1.9993068362235051,
          2.1304343892147175,
          1.9639301337386812,
          2.493900043661175,
          2.493927421743431,
          2.493876948183964,
          2.4027469812909725,
          1.8986207589761335
         ],
         "y": [
          0.01636487918904882,
          -0.019781938408038973,
          0.07470730616619868,
          0.01636487918873407,
          0.10329204398982146,
          0.05919252004694961,
          0.09672898280419295,
          0.08827629573502774,
          0.046800200452081976,
          -0.013542969381805709,
          -0.01353864148273006,
          0.10329112180481974,
          0.10351949988517949,
          0.07470730616618632,
          -0.013542969381787423,
          0.11308759042111902,
          0.021143078376335528,
          0.07510323154703286,
          -0.013587374182282761,
          0.015644153869222847,
          0.10586310710451041,
          0.096728817546196,
          0.01676080456956855,
          0.10586278198674261,
          0.10586278198674251,
          0.03123775084824444,
          0.04752020328765761,
          0.08020623067341938,
          0.10295475058057431,
          0.10336929547648092,
          0.09673071623395971,
          0.10295334055214911,
          0.031239299723985686,
          0.09672942512628026,
          0.07521249240902635,
          0.058346305691697554,
          0.032037699220685376,
          0.10295334055203673,
          0.10298277026577349,
          0.046799477968132185,
          0.01636487918873591,
          0.032028322106039314,
          0.10295334055213971,
          0.09688053917114361,
          0.2575842552011404,
          0.1032912853816906,
          -0.013586386734179508,
          0.07510395403096919,
          0.10295364927562231,
          0.0008502520159690902,
          0.08374966765213131,
          0.016040079250069637,
          0.10586278198674243,
          -0.017928171153478622,
          -0.013586841899054373,
          0.07470730616618848,
          0.10302547220316352,
          0.016364879188736126,
          -0.019740535534802973,
          0.09672896926782079,
          0.024686515355225203,
          0.016372104028025934,
          -0.01354296938180932,
          0.07470846214048119,
          0.10586278198674243,
          0.10295364350508895,
          0.016308460295033418,
          -0.013542969381835662,
          0.016367913621242295,
          0.10329097730802687,
          0.07471944389619226,
          0.1029533405521481,
          0.07470791305269568,
          0.07470760960944585,
          0.07470730616618859,
          0.10586263026511053,
          0.08375063034969088,
          0.016364879188736112,
          -0.013655624841432418,
          0.03838790778499231,
          0.021143078376443452,
          0.07470730616618876,
          0.10295455236389223,
          0.0803258378877514,
          0.10295334055214145,
          0.10586904592240097,
          0.03205442711529993,
          0.0002583174248745375,
          0.016364879188691762,
          -0.01978042119179186,
          0.09672896926782076,
          0.10586278198674243,
          0.07470730616618856,
          0.016040801734005124,
          -0.01358737418228204,
          0.10295406186866536,
          -0.019781938408048573,
          0.07422843037125737,
          0.07515019300238227,
          -0.019781938408048396,
          0.000258590082529338,
          0.07289566426880198,
          0.08035795229837066,
          0.07470730616599652,
          0.0751032315470335,
          0.10295638017992713,
          0.10295818779910242,
          0.1029548553168256,
          0.09672896926782079,
          0.07521249240902747
         ],
         "z": [
          -0.00200713971708038,
          -0.001929481084853727,
          -0.0015738702128546736,
          -0.002007139717101389,
          -0.0012781225980280058,
          -0.0015274806778539415,
          -0.001380781003802084,
          -0.0012834251600041227,
          0.0002637155085190166,
          -0.0021405467816316363,
          -0.0021402573609318994,
          -0.0012781842347954807,
          -0.0012629198469114652,
          -0.0015738702128564072,
          -0.0021405467815827544,
          0.00011000541565885818,
          -0.000390105553471295,
          -0.0011914531410848349,
          -0.0021475880514842988,
          -0.0009378323776258126,
          -0.00037233872722031294,
          -0.001380792037286238,
          -0.0016247226453271655,
          -0.0003723604337751856,
          -0.0003723604337762534,
          -0.0018756644298276563,
          -0.0008056400677440283,
          -0.0010261433887019463,
          -0.001273913630300175,
          -0.0012729482757399902,
          -0.001380665271000055,
          -0.0012740079234877116,
          -0.0018755608514705508,
          -0.0013807514720747707,
          -0.001489315198549321,
          -0.0012938096892521921,
          -0.001110203340803231,
          -0.001274007923488555,
          -0.001272039862779353,
          0.00026366727172865616,
          -0.0020071397171017953,
          -0.001110830418977045,
          -0.0012740079234974265,
          -0.001370662311196928,
          0.009757355525887176,
          -0.0012781732466558618,
          -0.002147522041665212,
          -0.0011914049042936416,
          -0.0012739872781454271,
          -0.0019607395700015034,
          -0.00106760269967571,
          -0.0005554153058538703,
          -0.00037236043377575253,
          -0.0016423580056427124,
          -0.002147552430843506,
          -0.001573870212859443,
          -0.001269184245234395,
          -0.002007139717101596,
          -0.001344075360572211,
          -0.0013807819075603868,
          -0.0004315648644446387,
          -0.0020066573491924087,
          -0.002140546781626449,
          -0.0015737930339937527,
          -0.0003723604337757527,
          -0.0012739876640415193,
          -0.001890043443382026,
          -0.0021405467816351226,
          -0.002006937122579618,
          -0.001278193882153788,
          -0.001573059834771804,
          -0.0012740079234931985,
          -0.0015738296939548882,
          -0.0015738499534068509,
          -0.0015738702128596895,
          -0.00037237056350231985,
          -0.0010675384249763888,
          -0.002007139717101597,
          -0.0019063542748371585,
          -0.0018139602442677062,
          -0.00039010555347082214,
          -0.0015738702128594152,
          -0.0012739268856912563,
          -0.0010181577879676044,
          -0.0012740079234883075,
          -0.0003719422207987211,
          -0.0012106089070734038,
          -0.0017828853759228529,
          -0.002007139717102082,
          -0.0019293797875893758,
          -0.0013807819075604367,
          -0.0003723604337757527,
          -0.0015738702128595982,
          -0.0005553670690625853,
          -0.002147588051486042,
          -0.0012739596867035999,
          -0.0019294810848505956,
          -0.00118655692282077,
          -0.001188317749675937,
          -0.0019294810848504433,
          -0.001782867142415078,
          -0.001275539330997944,
          -0.0010160136626120879,
          -0.0015738702128596312,
          -0.001191453141084991,
          -0.0012738046536832138,
          -0.0012736837723095916,
          -0.0012739066262441466,
          -0.0013807819075603868,
          -0.0014893151985501693
         ]
        },
        {
         "customdata": [
          [
           "PoS"
          ],
          [
           "NEP-5"
          ],
          [
           "BEP2 Token"
          ],
          [
           "POS 3.0"
          ],
          [
           "NRC20 Token"
          ],
          [
           "HRC-20 Token"
          ],
          [
           "BEP-2"
          ],
          [
           "BEP-20 Token"
          ],
          [
           "BEP-20 Token"
          ],
          [
           "BEP-20 Token"
          ],
          [
           "VeChainThor Authority"
          ],
          [
           "BEP-20 Token"
          ],
          [
           "BEP-20 Token"
          ],
          [
           "BEP-20 Token"
          ],
          [
           "BEP-20 Token"
          ],
          [
           "BEP-20 Token"
          ],
          [
           "BEP-20 Token"
          ],
          [
           "BEP-20 Token"
          ],
          [
           "BEP-20 Token"
          ],
          [
           "BEP-20 Token"
          ],
          [
           "DPoS"
          ],
          [
           "BEP-20 Token"
          ],
          [
           "BEP-20 Token"
          ],
          [
           "BEP-20 Token"
          ],
          [
           "BEP-20 Token"
          ],
          [
           "BEP-20 Token"
          ],
          [
           "BEP-20 Token"
          ],
          [
           "BEP-20 Token"
          ],
          [
           "BEP-20 Token"
          ],
          [
           "BEP-20 Token"
          ],
          [
           "BEP-20 Token"
          ],
          [
           "TRC-20"
          ],
          [
           "TRC-20"
          ],
          [
           "BEP-20 Token"
          ],
          [
           "BEP-20 Token"
          ],
          [
           "TRC-20"
          ],
          [
           "BEP-20 Token"
          ],
          [
           "BEP-20 Token"
          ],
          [
           "BEP-20 Token"
          ],
          [
           "BEP-20 Token"
          ],
          [
           "BEP-20 Token"
          ],
          [
           "BEP-20 Token"
          ],
          [
           "GO20"
          ],
          [
           "BEP-20 Token"
          ],
          [
           "BEP-20 Token"
          ],
          [
           "BEP-20 Token"
          ],
          [
           "BEP-20 Token"
          ],
          [
           "TRC-20"
          ],
          [
           "BEP-20 Token"
          ],
          [
           "BEP-20 Token"
          ],
          [
           "BEP-20 Token"
          ],
          [
           "BEP-20 Token"
          ],
          [
           "BEP-20 Token"
          ],
          [
           "BEP-20 Token"
          ],
          [
           "BEP-20 Token"
          ],
          [
           "BEP-20 Token"
          ],
          [
           "BEP-20 Token"
          ],
          [
           "BEP-20 Token"
          ],
          [
           "BEP-20 Token"
          ],
          [
           "BEP-20 Token"
          ],
          [
           "BEP-20 Token"
          ],
          [
           "BEP-20 Token"
          ],
          [
           "BEP-20 Token"
          ],
          [
           "BEP-20 Token"
          ],
          [
           "BEP-20 Token"
          ],
          [
           "BEP-20 Token"
          ],
          [
           "BEP-20 Token"
          ],
          [
           "BEP-20 Token"
          ],
          [
           "BEP-20 Token"
          ],
          [
           "BEP-20 Token"
          ],
          [
           "BEP-20 Token"
          ],
          [
           "BEP-20 Token"
          ],
          [
           "BEP-2 Token"
          ],
          [
           "BEP-20 Token"
          ],
          [
           "BEP-20 Token"
          ],
          [
           "BEP-20 Token"
          ],
          [
           "BEP-20 Token"
          ],
          [
           "BEP-20 Token"
          ],
          [
           "BEP-20 Token"
          ],
          [
           "BEP-20 Token"
          ],
          [
           "BEP-20 Token"
          ],
          [
           "BEP-20 Token"
          ],
          [
           "BEP-20 Token"
          ],
          [
           "BEP-20 Token"
          ],
          [
           "BEP-20 Token"
          ],
          [
           "BEP-20 Token"
          ],
          [
           "BEP-20 Token"
          ],
          [
           "BEP-20 Token"
          ],
          [
           "BEP-20 Token"
          ],
          [
           "BEP-20 Token"
          ],
          [
           "BEP-20 Token"
          ],
          [
           "BEP-20 Token"
          ],
          [
           "BEP-20 Token"
          ],
          [
           "BEP-20 Token"
          ],
          [
           "BEP-20 Token"
          ],
          [
           "BEP-20 Token"
          ],
          [
           "BEP-20 Token"
          ],
          [
           "BEP-20 Token"
          ],
          [
           "BEP-20 Token"
          ],
          [
           "BEP-20 Token"
          ],
          [
           "BEP-20 Token"
          ],
          [
           "BEP-20 Token"
          ],
          [
           "BEP-20 Token"
          ],
          [
           "BEP-20 Token"
          ],
          [
           "BEP-20 Token"
          ],
          [
           "BEP-20 Token"
          ],
          [
           "BEP-20 Token"
          ],
          [
           "BEP-20 Token"
          ],
          [
           "BEP-20 Token"
          ],
          [
           "BEP-20 Token"
          ],
          [
           "BEP-20 Token"
          ],
          [
           "BEP-20 Token"
          ],
          [
           "BEP-20 Token"
          ],
          [
           "BEP-20 Token"
          ],
          [
           "BEP-20 Token"
          ],
          [
           "BEP-20 Token"
          ],
          [
           "BEP-20 Token"
          ],
          [
           "BEP-20 Token"
          ],
          [
           "BEP-20 Token"
          ],
          [
           "BEP-20 Token"
          ],
          [
           "BEP-20 Token"
          ],
          [
           "BEP-20 Token"
          ],
          [
           "X13"
          ],
          [
           "BEP-20 Token"
          ],
          [
           "BEP-20 Token"
          ],
          [
           "BEP-20 Token"
          ],
          [
           "BEP-20 Token"
          ],
          [
           "BEP-20 Token"
          ],
          [
           "BEP-20 Token"
          ],
          [
           "BEP-20 Token"
          ],
          [
           "BEP-20 Token"
          ],
          [
           "BEP-20 Token"
          ],
          [
           "BEP-20 Token"
          ],
          [
           "BEP-20 Token"
          ],
          [
           "BEP-20 Token"
          ],
          [
           "BEP-20 Token"
          ],
          [
           "BEP-20 Token"
          ],
          [
           "BEP-20 Token"
          ],
          [
           "BEP-20 Token"
          ],
          [
           "BEP-20 Token"
          ],
          [
           "BEP-20 Token"
          ],
          [
           "BEP-20 Token"
          ],
          [
           "BEP-20 Token"
          ],
          [
           "BEP-20 Token"
          ],
          [
           "BEP-20 Token"
          ],
          [
           "BEP-20 Token"
          ],
          [
           "BEP-20 Token"
          ],
          [
           "BEP-20 Token"
          ],
          [
           "BEP-20 Token"
          ],
          [
           "BEP-20 Token"
          ],
          [
           "BEP-20 Token"
          ],
          [
           "BEP-20 Token"
          ],
          [
           "BEP-20 Token"
          ],
          [
           "BEP-20 Token"
          ],
          [
           "BEP-20 Token"
          ],
          [
           "BEP-20 Token"
          ],
          [
           "PoS"
          ],
          [
           "BEP-20 Token"
          ],
          [
           "DPoS"
          ],
          [
           "BEP-20 Token"
          ],
          [
           "BEP-20 Token"
          ],
          [
           "VBFT"
          ],
          [
           "DPoS"
          ],
          [
           "PoS"
          ],
          [
           "X13"
          ],
          [
           "DPoS"
          ],
          [
           "dBFT2.0"
          ],
          [
           "TRC-20"
          ],
          [
           "TRC-20"
          ],
          [
           "DPoS"
          ],
          [
           "PoS"
          ],
          [
           "NEP-5"
          ],
          [
           "DPoS"
          ],
          [
           "BEP-2"
          ],
          [
           "POS 3.0"
          ],
          [
           "PoS"
          ],
          [
           "DPoS"
          ],
          [
           "VeChainThor Authority"
          ],
          [
           "DPoS"
          ],
          [
           "DPoS"
          ],
          [
           "BEP-2"
          ],
          [
           "KAWPOW"
          ],
          [
           "SHA-512"
          ],
          [
           "TRC-10"
          ],
          [
           "Ouroboros"
          ],
          [
           "DPoS"
          ],
          [
           "DPoS"
          ],
          [
           "Loopchain"
          ],
          [
           "SHA-512"
          ]
         ],
         "hovertemplate": "<b>%{hovertext}</b><br><br>class=%{marker.color}<br>PC 1=%{x}<br>PC 2=%{y}<br>PC 3=%{z}<br>Algorithm=%{customdata[0]}<extra></extra>",
         "hovertext": [
          "NuShares",
          "Nevula",
          "Swingby",
          "TokenPay",
          "NextDAO",
          "WeStarter",
          "BakeryToken",
          "IMPULSE by FDR",
          "Altura",
          "DekBox",
          "VEED",
          "Less Network",
          "KingDoge",
          "SafeHamsters",
          "Yuang Coin",
          "Kiwigo",
          "Votechain",
          "Pea Farm",
          "SparkPoint Fuel",
          "Genshiro",
          "ModiHost",
          "RealFevr",
          "MocktailSwap",
          "Effort Economy ",
          "QueenDex Coin",
          "Lion Token",
          "Artex",
          "TBCC",
          "xWIN Finance",
          "MContent",
          "Tokyo AU",
          "Zoe Cash",
          "Novax Coin",
          "ShonToken",
          "Investelly token",
          "TRONbetLive",
          "Binance Smart Chain Girl",
          "PureFi",
          "Daddy Doge",
          "Five7",
          "Diamond Boyz Coin",
          "Plant vs Undead Token",
          "ECOMI",
          "Coin98",
          "Safe Energy",
          "Trust Wallet Token",
          "Lanceria",
          "Didcoin",
          "Little Rabbit",
          "Teaswap Art",
          "Kaiken Shiba",
          "My DeFi Pet",
          "BunnyPark",
          "ApeSwap Finance",
          "Pancake Bunny",
          "BTC Standard Hashrate Token",
          "Alpha Finance Lab",
          "Safe Star",
          "Pylon Eco Token",
          "Metahero",
          "Pig Finance",
          "Monsta Infinite",
          "Doggy",
          "Xiasi Inu",
          "Thetan Arena",
          "Nafter",
          "CryptoBlades",
          "CryptoZoon",
          "Binemon",
          "HoDooi.com",
          "Smaugs NFT",
          "Wall Street Games",
          "Honest",
          "Radio Caca",
          "KCCPad",
          "TrustPad",
          "Sishi Finance",
          "Feeder Finance",
          "Battle Pets",
          "Pacoca",
          "Pancake Hunny",
          "Rabbit Finance",
          "NFT Alley",
          "TEN",
          "Dehero Community Token",
          "Wheelers",
          "ShibaCash",
          "Longdrink Finance",
          "Eggplant Finance",
          "EIFI FINANCE",
          "TendieSwap",
          "CosmicSwap",
          "Vention",
          "WOWswap",
          "Betu",
          "Wenlambo",
          "Sheesh it is bussin bussin",
          "Pet Games",
          "CheCoin",
          "GemGuardian",
          "ForeverFOMO",
          "Knight War Spirits",
          "KRYZA Network",
          "Badger Sett Badger",
          "Portify",
          "DogeHouse Capital",
          "Bholdus Token",
          "Sphynx Token",
          "RugZombie",
          "LPI DAO",
          "Rainbow Token",
          "Step Hero",
          "Starpunk",
          "The Real Golden Inu",
          "Jade Currency",
          "Binamars",
          "BUMooN",
          "Loud Market",
          "DefiXBet",
          "Vortex DeFi",
          "RiceFarm",
          "BNB Cash",
          "Stratis",
          "Bogged Finance",
          "Dexit Finance",
          "Roseon Finance",
          "BabyDoge",
          "Splinterlands",
          "SafePal",
          "CumRocket",
          "Lucky Lion",
          "OpenOcean",
          "SIL Finance Token V2",
          "Bonus Cake",
          "TrustFi Network Token",
          "SoccerHub",
          "CryptoPlanes",
          "gotEM",
          "Pitch Finance Token",
          "Torii Finance",
          "GOMA Finance",
          "GameFi",
          "Shell Token",
          "Pokmonsters",
          "Kalata Protocol",
          "NFT Art Finance",
          "Baby Floki Billionaire",
          "VelasPad",
          "Battle Hero",
          "Lazio Fan Token",
          "HarmonyPad",
          "YocoinYOCO",
          "JERITEX",
          "Australian Safe Shepherd",
          "TRONPAD",
          "AUREO",
          "Validity",
          "Binamon",
          "Tenset",
          "MiniDOGE",
          "YooShi",
          "Ontology",
          "Lisk",
          "Anchor Protocol",
          "ABBC Coin",
          "Shift",
          "NEO",
          "Sun Token",
          "Sun Token",
          "Oxycoin",
          "Nxt",
          "DeepBrain Chain",
          "ARK",
          "Phoenix Binance",
          "QTUM",
          "Neblio",
          "Worldwide Asset eXchange",
          "VeChain",
          "Achain",
          "Rise",
          "Binance Coin",
          "Ravencoin",
          "Bitshares",
          "BitTorrent",
          "Cardano",
          "EOS",
          "High Performance Blockchain",
          "ICON Project",
          "Kcash"
         ],
         "legendgroup": "0",
         "marker": {
          "color": [
           0,
           0,
           0,
           0,
           0,
           0,
           0,
           0,
           0,
           0,
           0,
           0,
           0,
           0,
           0,
           0,
           0,
           0,
           0,
           0,
           0,
           0,
           0,
           0,
           0,
           0,
           0,
           0,
           0,
           0,
           0,
           0,
           0,
           0,
           0,
           0,
           0,
           0,
           0,
           0,
           0,
           0,
           0,
           0,
           0,
           0,
           0,
           0,
           0,
           0,
           0,
           0,
           0,
           0,
           0,
           0,
           0,
           0,
           0,
           0,
           0,
           0,
           0,
           0,
           0,
           0,
           0,
           0,
           0,
           0,
           0,
           0,
           0,
           0,
           0,
           0,
           0,
           0,
           0,
           0,
           0,
           0,
           0,
           0,
           0,
           0,
           0,
           0,
           0,
           0,
           0,
           0,
           0,
           0,
           0,
           0,
           0,
           0,
           0,
           0,
           0,
           0,
           0,
           0,
           0,
           0,
           0,
           0,
           0,
           0,
           0,
           0,
           0,
           0,
           0,
           0,
           0,
           0,
           0,
           0,
           0,
           0,
           0,
           0,
           0,
           0,
           0,
           0,
           0,
           0,
           0,
           0,
           0,
           0,
           0,
           0,
           0,
           0,
           0,
           0,
           0,
           0,
           0,
           0,
           0,
           0,
           0,
           0,
           0,
           0,
           0,
           0,
           0,
           0,
           0,
           0,
           0,
           0,
           0,
           0,
           0,
           0,
           0,
           0,
           0,
           0,
           0,
           0,
           0,
           0,
           0,
           0,
           0,
           0,
           0,
           0,
           0,
           0,
           0,
           0,
           0,
           0,
           0,
           0,
           0,
           0,
           0,
           0,
           0
          ],
          "coloraxis": "coloraxis",
          "symbol": "diamond"
         },
         "mode": "markers",
         "name": "0",
         "scene": "scene",
         "showlegend": true,
         "type": "scatter3d",
         "x": [
          0.02879526810649106,
          -0.19806258969633006,
          -0.20411716526992735,
          -0.1897558813044776,
          -0.2019321626952389,
          -0.2041171652699014,
          -0.2857647699178398,
          -1.087547828485418,
          -1.087547828485432,
          -1.0875478284854188,
          -0.31719272833282786,
          -1.0875478284854196,
          -1.0875478391301074,
          -1.0875478285120297,
          -1.0875478391301079,
          -1.0875478284854285,
          -1.0875478284854176,
          -1.0875478284854168,
          -1.087547828485418,
          -1.087547828485418,
          -0.486403406581088,
          -1.0875478284855877,
          -1.08754782848542,
          -1.0875478284854179,
          -1.0875478284854387,
          -1.0875478284854698,
          -1.0875478284854188,
          -1.0875478284854274,
          -1.0875478284854188,
          -1.0875478927989926,
          -1.0875478391301066,
          -0.20726064380534634,
          -0.20726064380534492,
          -1.087547828485528,
          -1.0875478284854183,
          -0.20726064380535497,
          -1.0875478284854196,
          -1.08754782848542,
          -1.0875478338027544,
          -1.0875478284854192,
          -1.0875478284854274,
          -1.087547828485421,
          -0.20411716527628446,
          -1.087547828485419,
          -1.0875478313439955,
          -1.0875478284854285,
          -1.0875478284854225,
          -0.2072606438160967,
          -2.08052957405229,
          -1.087547828485425,
          -1.0875507645259777,
          -1.0875478284854185,
          -1.0875478284854192,
          -1.087547828485419,
          -1.0875478284854176,
          -1.0875478284854179,
          -1.0875478284854285,
          -1.0875478324833103,
          -1.0875478284854192,
          -1.087547828485522,
          -1.0875478328831507,
          -1.087547828485421,
          -1.0875478284854612,
          -1.0875478337068902,
          -1.0875478284854219,
          -1.087547828485429,
          -1.0875478284854185,
          -1.0875478284854279,
          -1.0875478284854276,
          -1.0875478284854285,
          -1.0875478284854192,
          -1.0875478388084765,
          -0.2041171652698867,
          -1.087547828488354,
          -1.087547828485421,
          -1.0875478284854192,
          -1.0875478284854185,
          -1.0875478284854183,
          -1.08754782848542,
          -1.0875478284854192,
          -1.0875478284854188,
          -1.0875478284854196,
          -1.087547828485418,
          -1.0875478284854183,
          -1.0875478284854183,
          -1.0875478284854188,
          -1.0875478299400172,
          -1.0875398995961267,
          -1.0875478284854185,
          -1.0875478284854192,
          -1.0875478284854183,
          -1.087547828485418,
          -1.0875478284854259,
          -1.0875478284854185,
          -1.0875478284854276,
          -1.0875478290147915,
          -1.0875478284856355,
          -1.0875478284854314,
          -1.0875478284864821,
          -1.0875478284854188,
          -1.087547828485418,
          -1.0875478284854232,
          -1.0875478285776412,
          -1.087547828485418,
          -1.0875478284854192,
          -1.0875478284854192,
          -1.0875478284855244,
          -1.0875478284854285,
          -1.0875478284854199,
          -1.0875478284854176,
          -1.0875478369900626,
          -1.0875478284854188,
          -1.0875478284854256,
          -1.0875478330601882,
          -1.0875478284854192,
          -1.0875478284854192,
          -1.0875478345848348,
          -1.087547828485419,
          -1.0875478284854179,
          -1.0875478284854188,
          -1.087547828485418,
          -1.0875478284854199,
          0.11003325278767616,
          -1.0875478284854179,
          -1.0875478284854452,
          -1.0875478284854188,
          -1.0875505083266406,
          -1.0875478284854234,
          -2.08052328232932,
          -1.0875478284854314,
          -1.0875478284854192,
          -1.0875478284854285,
          -1.087547828485418,
          -1.0875478284864746,
          -1.0875478284854188,
          -1.0875478284854285,
          -1.0875478284875468,
          -1.0875478284854216,
          -1.0875478284864821,
          -1.087547828485418,
          -1.0875478301283557,
          -1.0875478284854179,
          -1.087547828485418,
          -1.0875478284854192,
          -1.0875478284854196,
          -1.0875481482421339,
          -1.0875478385204715,
          -1.087547828485422,
          -1.0875478284854276,
          -1.0875478284854185,
          -1.087547828485426,
          -1.0875478284854188,
          -1.0875478284854188,
          -1.0875479349323156,
          -1.087547828485426,
          -1.0875454299449316,
          0.02879629605243375,
          -1.0875478284854203,
          -0.48651762278945493,
          -1.0875478360712505,
          -1.087547832476553,
          -0.18919762782012056,
          -1.0072027674167898,
          0.02879526810643502,
          0.10240596453990303,
          -1.0072027674167887,
          -0.20409531524394461,
          -0.207260643805345,
          -0.20726064380555645,
          -1.0072027674168005,
          0.040385483278225366,
          -0.20263123802667649,
          -1.0072027674167903,
          -0.2857647699178719,
          -0.18974642164373248,
          0.020996407746002244,
          -0.4865176227894927,
          -0.609705898612625,
          -1.0072027674166841,
          -0.4787187624290117,
          -0.546679641585541,
          -0.19952865986347001,
          -1.2846099193321765,
          -1.2002090499741904,
          -0.1793651162353415,
          -1.0072027674168,
          -0.48650620116851284,
          -0.18919762782011998,
          -1.4622059276550146
         ],
         "y": [
          -0.060581772688304385,
          -0.01459724485850462,
          -0.014982090867645174,
          -0.08228795336797173,
          -0.014837827565599142,
          -0.014982090867642246,
          -0.022697347943047605,
          -0.1349531941942146,
          -0.1349531941942165,
          -0.1349531941942145,
          -0.027362021695549705,
          -0.1349531941942148,
          -0.13495319563623673,
          -0.13495319419781976,
          -0.1349531956362366,
          -0.13495319419421598,
          -0.13495319419421462,
          -0.13495319419422083,
          -0.13495319419421492,
          -0.1349531941942145,
          -0.06099226012366868,
          -0.13495319419423643,
          -0.1349531941942096,
          -0.13495319419421353,
          -0.1349531941942172,
          -0.13495319419422172,
          -0.13495319419421467,
          -0.134953194194216,
          -0.13495319419421473,
          -0.13495320290668916,
          -0.13495319563623656,
          -0.015234335097293036,
          -0.015234335097292778,
          -0.13495319419422916,
          -0.1349531941942146,
          -0.015234335097294412,
          -0.13495319419421511,
          -0.13495319419421475,
          -0.1349531949145471,
          -0.13495319419421484,
          -0.13495319419421606,
          -0.13495319419421506,
          -0.014982090868543135,
          -0.1349531941942148,
          -0.13495319458146235,
          -0.13495319419421611,
          -0.13495319419421523,
          -0.015234335098749347,
          -0.26947111578501054,
          -0.13495319419421548,
          -0.13495359193573953,
          -0.13495319419421478,
          -0.13495319419421478,
          -0.13495319419421478,
          -0.1349531941942146,
          -0.13495319419421467,
          -0.13495319419421611,
          -0.13495319473580375,
          -0.13495319419421478,
          -0.13495319419422874,
          -0.13495319478996967,
          -0.134953194194215,
          -0.13495319419422044,
          -0.13495319490156057,
          -0.13495319419421523,
          -0.13495319419421603,
          -0.13495319419421467,
          -0.13495319419421606,
          -0.134953194194216,
          -0.13495319419421611,
          -0.13495319419421478,
          -0.13495319559266566,
          -0.014982090867648394,
          -0.13495319419461238,
          -0.13495319419421498,
          -0.13495319419421478,
          -0.13495319419421467,
          -0.13495319419421473,
          -0.13495319419421495,
          -0.13495319419421478,
          -0.13495319419421478,
          -0.13495319419421486,
          -0.13495319419421462,
          -0.1349531941942146,
          -0.1349531941942146,
          -0.13495319419421478,
          -0.1349531943912672,
          -0.1349526926458642,
          -0.13495319419421467,
          -0.13495319419421484,
          -0.13495319419421467,
          -0.1349531941942146,
          -0.13495319419421564,
          -0.13495319419421467,
          -0.13495319419421603,
          -0.13495319426592817,
          -0.13495319419424404,
          -0.13495319419421642,
          -0.13495319419435878,
          -0.13495319419421478,
          -0.1349531941942146,
          -0.1349531941942154,
          -0.13495319420670798,
          -0.1349531941942146,
          -0.13495319419421478,
          -0.13495319419421478,
          -0.13495319419422905,
          -0.13495319419421611,
          -0.13495319419421486,
          -0.13495319419421464,
          -0.13495319534632752,
          -0.13495319419421478,
          -0.13495319419421556,
          -0.1349531948139527,
          -0.13495319419421478,
          -0.13495319419421473,
          -0.13495319502049447,
          -0.13495319419421478,
          -0.1349531941942147,
          -0.13495319419421478,
          -0.1349531941942146,
          -0.13495319419421486,
          -0.05407571123419894,
          -0.1349531941942147,
          -0.1349531941942184,
          -0.13495319419421478,
          -0.13495355722875482,
          -0.13495319419421525,
          -0.26947026292720866,
          -0.1349531941942165,
          -0.13495319419421475,
          -0.13495319419421611,
          -0.1349531941942146,
          -0.13495319419435767,
          -0.13495319419421478,
          -0.13495319419421611,
          -0.134953194194503,
          -0.13495319419421506,
          -0.13495319419435878,
          -0.1349531941942146,
          -0.1349531944167812,
          -0.13495319419421467,
          -0.1349531941942146,
          -0.13495319419421478,
          -0.13495319419421486,
          -0.1349532375112332,
          -0.1349531955536501,
          -0.13495319419421517,
          -0.13495319419421595,
          -0.13495319419421467,
          -0.13495319419421573,
          -0.13495319419421475,
          -0.13495319419421478,
          -0.13495320861443477,
          -0.1349531941942156,
          -0.13495304247258244,
          -0.06058170766474169,
          -0.13495319419421492,
          -0.06099948496295878,
          -0.13495319522185728,
          -0.13495319473488837,
          -0.08201968855400957,
          -0.13362342401799282,
          -0.060581772688303906,
          -0.020491810793827128,
          -0.13362342401799257,
          -0.0149806482346066,
          -0.015234335097292785,
          -0.015234335097321418,
          -0.13362342401799426,
          -0.05391574049160696,
          -0.0148862384298266,
          -0.13362342401799282,
          -0.02269734794305656,
          -0.08228735498942588,
          -0.027008725181663487,
          -0.060999484962963875,
          -0.0548273060312023,
          -0.13362342401798694,
          -0.09457253246959763,
          -0.045321345333717185,
          -0.014679137933384242,
          -0.1755064733842508,
          -0.15999527169085137,
          -0.08137050369493053,
          -0.1336234240179942,
          -0.06099876247902312,
          -0.08201968855400713,
          -0.20548452830786582
         ],
         "z": [
          -0.001279144936648901,
          2.7066710065296855e-05,
          -1.9324737266079527e-06,
          -0.0014156773630539354,
          7.714882780001049e-06,
          -1.9324737255162873e-06,
          -2.9373590214856014e-06,
          -1.7879622072614428e-05,
          -1.78796220724805e-05,
          -1.7879622072941372e-05,
          0.00017797178084176104,
          -1.7879622073264275e-05,
          -1.7879622263528695e-05,
          -1.787962207301555e-05,
          -1.7879622263794945e-05,
          -1.787962207249804e-05,
          -1.787962207245371e-05,
          -1.7879622072234374e-05,
          -1.7879622074259793e-05,
          -1.7879622072911005e-05,
          -0.00018709871038387297,
          -1.7879622071936757e-05,
          -1.787962208087292e-05,
          -1.7879622070778257e-05,
          -1.7879622072766463e-05,
          -1.7879622072126876e-05,
          -1.787962207233069e-05,
          -1.7879622072413207e-05,
          -1.7879622072429334e-05,
          -1.7879623230471523e-05,
          -1.787962226409472e-05,
          -1.965116857153841e-06,
          -1.9651168571208696e-06,
          -1.7879622072401945e-05,
          -1.7879622072429355e-05,
          -1.965116857048559e-06,
          -1.787962207246253e-05,
          -1.7879622072435436e-05,
          -1.7879622168186297e-05,
          -1.7879622072437886e-05,
          -1.7879622072432116e-05,
          -1.7879622072429026e-05,
          -1.93247373009232e-06,
          -1.787962207243592e-05,
          -1.7879622123905112e-05,
          -1.787962207243318e-05,
          -1.7879622072423537e-05,
          -1.965116857479249e-06,
          -3.575934953318446e-05,
          -1.7879622072427623e-05,
          -1.787967493907293e-05,
          -1.787962207243596e-05,
          -1.7879622072436344e-05,
          -1.787962207243372e-05,
          -1.7879622072433776e-05,
          -1.7879622072433763e-05,
          -1.787962207243335e-05,
          -1.7879622144423784e-05,
          -1.787962207243568e-05,
          -1.787962207243448e-05,
          -1.787962215161449e-05,
          -1.7879622072429283e-05,
          -1.787962207243349e-05,
          -1.7879622166453844e-05,
          -1.7879622072427942e-05,
          -1.7879622072432915e-05,
          -1.7879622072429907e-05,
          -1.7879622072426586e-05,
          -1.787962207243237e-05,
          -1.787962207243319e-05,
          -1.787962207243619e-05,
          -1.7879622258313323e-05,
          -1.932473728302654e-06,
          -1.787962207248048e-05,
          -1.787962207243013e-05,
          -1.7879622072436517e-05,
          -1.78796220724298e-05,
          -1.7879622072436293e-05,
          -1.7879622072428846e-05,
          -1.78796220724398e-05,
          -1.787962207243182e-05,
          -1.7879622072435775e-05,
          -1.7879622072429558e-05,
          -1.787962207243554e-05,
          -1.7879622072433078e-05,
          -1.787962207243595e-05,
          -1.7879622098620084e-05,
          -1.7846136091697212e-05,
          -1.7879622072429724e-05,
          -1.787962207243248e-05,
          -1.787962207243019e-05,
          -1.7879622072429636e-05,
          -1.7879622072432573e-05,
          -1.7879622072429907e-05,
          -1.787962207243114e-05,
          -1.7879622081983195e-05,
          -1.787962207243555e-05,
          -1.7879622072429056e-05,
          -1.7879622072447854e-05,
          -1.787962207243595e-05,
          -1.78796220724301e-05,
          -1.7879622072429026e-05,
          -1.7879622074085253e-05,
          -1.7879622072430188e-05,
          -1.7879622072433322e-05,
          -1.787962207243429e-05,
          -1.7879622072417893e-05,
          -1.787962207243319e-05,
          -1.7879622072422904e-05,
          -1.787962207243044e-05,
          -1.7879622225584224e-05,
          -1.787962207243595e-05,
          -1.787962207243339e-05,
          -1.7879622154809926e-05,
          -1.787962207243619e-05,
          -1.7879622072436283e-05,
          -1.7879622182258987e-05,
          -1.7879622072435687e-05,
          -1.7879622072433742e-05,
          -1.787962207243595e-05,
          -1.7879622072426305e-05,
          -1.787962207242278e-05,
          -0.0015647476101827665,
          -1.7879622072433746e-05,
          -1.787962207243183e-05,
          -1.787962207243595e-05,
          -1.787967032592726e-05,
          -1.787962207242587e-05,
          -3.575923793892186e-05,
          -1.787962207242574e-05,
          -1.7879622072435277e-05,
          -1.787962207243319e-05,
          -1.7879622072430188e-05,
          -1.7879622072451425e-05,
          -1.787962207243595e-05,
          -1.787962207243319e-05,
          -1.78796220724764e-05,
          -1.7879622072434898e-05,
          -1.7879622072447854e-05,
          -1.7879622072429836e-05,
          -1.7879622102014477e-05,
          -1.787962207243421e-05,
          -1.7879622072429836e-05,
          -1.7879622072436846e-05,
          -1.7879622072436205e-05,
          -1.7879627830003642e-05,
          -1.7879622253122258e-05,
          -1.78796220724296e-05,
          -1.787962207243223e-05,
          -1.787962207243552e-05,
          -1.787962207242342e-05,
          -1.787962207243662e-05,
          -1.787962207243595e-05,
          -1.7879623989129138e-05,
          -1.787962207243299e-05,
          -1.786949234585688e-05,
          -0.0012791405953363325,
          -1.787962207243244e-05,
          -0.00018758107829314232,
          -1.7879622209021674e-05,
          -1.7879622144302543e-05,
          -0.0014110799588597138,
          -0.00038823516870696795,
          -0.0012791449366479062,
          -0.0008594491469819161,
          -0.0003882351687069389,
          -1.8360001602109415e-06,
          -1.9651168571145825e-06,
          -1.9651168573445278e-06,
          -0.00038823516870686723,
          -0.0011481772086585531,
          7.771993703416914e-06,
          -0.00038823516870689,
          -2.9373590273737187e-06,
          -0.0014156374121875714,
          -0.00057457107184236,
          -0.00018758107829326898,
          0.0003431247046927629,
          -0.00038823516870647757,
          -0.000892154943098695,
          -5.874717036965332e-06,
          1.8326974937581333e-05,
          -0.00040437237369397904,
          -0.0004032405849281547,
          -0.0013676668545764996,
          -0.00038823516870688176,
          -0.0001875328415018278,
          -0.0014110799588548527,
          -0.00041091009459884954
         ]
        },
        {
         "customdata": [
          [
           "Dagger"
          ],
          [
           "Dagger"
          ],
          [
           "Proof-of-Authority"
          ]
         ],
         "hovertemplate": "<b>%{hovertext}</b><br><br>class=%{marker.color}<br>PC 1=%{x}<br>PC 2=%{y}<br>PC 3=%{z}<br>Algorithm=%{customdata[0]}<extra></extra>",
         "hovertext": [
          "DAPS Coin",
          "Amber",
          "Poa Network"
         ],
         "legendgroup": "1",
         "marker": {
          "color": [
           1,
           1,
           1
          ],
          "coloraxis": "coloraxis",
          "symbol": "square"
         },
         "mode": "markers",
         "name": "1",
         "scene": "scene",
         "showlegend": true,
         "type": "scatter3d",
         "x": [
          -2.3813231567886493,
          -2.405617715427871,
          -2.4095436401216306
         ],
         "y": [
          12.982813994678091,
          13.00981200957478,
          12.980794234903472
         ],
         "z": [
          -0.004623444257933877,
          -0.004723998203425825,
          -0.004758951487874086
         ]
        },
        {
         "customdata": [
          [
           "SPL Token"
          ]
         ],
         "hovertemplate": "<b>%{hovertext}</b><br><br>class=%{marker.color}<br>PC 1=%{x}<br>PC 2=%{y}<br>PC 3=%{z}<br>Algorithm=%{customdata[0]}<extra></extra>",
         "hovertext": [
          "MAPS"
         ],
         "legendgroup": "3",
         "marker": {
          "color": [
           3
          ],
          "coloraxis": "coloraxis",
          "symbol": "x"
         },
         "mode": "markers",
         "name": "3",
         "scene": "scene",
         "showlegend": true,
         "type": "scatter3d",
         "x": [
          -2.3221462490812046
         ],
         "y": [
          -4.591367399800802
         ],
         "z": [
          22.23318617065512
         ]
        },
        {
         "customdata": [
          [
           "Leased POS"
          ],
          [
           "SPoS"
          ],
          [
           "ECC 256K1"
          ],
          [
           "SHA3"
          ]
         ],
         "hovertemplate": "<b>%{hovertext}</b><br><br>class=%{marker.color}<br>PC 1=%{x}<br>PC 2=%{y}<br>PC 3=%{z}<br>Algorithm=%{customdata[0]}<extra></extra>",
         "hovertext": [
          "Waves",
          "V Systems",
          "Acute Angle Cloud",
          "Nexus"
         ],
         "legendgroup": "4",
         "marker": {
          "color": [
           4,
           4,
           4,
           4
          ],
          "coloraxis": "coloraxis",
          "symbol": "cross"
         },
         "mode": "markers",
         "name": "4",
         "scene": "scene",
         "showlegend": true,
         "type": "scatter3d",
         "x": [
          -2.347272982065991,
          -2.3472729820672047,
          -2.3472729820660283,
          -2.3470769935460294
         ],
         "y": [
          -4.636007750224201,
          -4.63600775022072,
          -4.636007750216738,
          -4.635659555478831
         ],
         "z": [
          -5.569112333101196,
          -5.569112229842696,
          -5.569112199118609,
          -5.3522542935430355
         ]
        }
       ],
       "layout": {
        "coloraxis": {
         "colorbar": {
          "title": {
           "text": "class"
          }
         },
         "colorscale": [
          [
           0,
           "#0d0887"
          ],
          [
           0.1111111111111111,
           "#46039f"
          ],
          [
           0.2222222222222222,
           "#7201a8"
          ],
          [
           0.3333333333333333,
           "#9c179e"
          ],
          [
           0.4444444444444444,
           "#bd3786"
          ],
          [
           0.5555555555555556,
           "#d8576b"
          ],
          [
           0.6666666666666666,
           "#ed7953"
          ],
          [
           0.7777777777777778,
           "#fb9f3a"
          ],
          [
           0.8888888888888888,
           "#fdca26"
          ],
          [
           1,
           "#f0f921"
          ]
         ]
        },
        "legend": {
         "title": {
          "text": "class"
         },
         "tracegroupgap": 0,
         "x": 0,
         "y": 1
        },
        "margin": {
         "t": 60
        },
        "scene": {
         "domain": {
          "x": [
           0,
           1
          ],
          "y": [
           0,
           1
          ]
         },
         "xaxis": {
          "title": {
           "text": "PC 1"
          }
         },
         "yaxis": {
          "title": {
           "text": "PC 2"
          }
         },
         "zaxis": {
          "title": {
           "text": "PC 3"
          }
         }
        },
        "template": {
         "data": {
          "bar": [
           {
            "error_x": {
             "color": "#2a3f5f"
            },
            "error_y": {
             "color": "#2a3f5f"
            },
            "marker": {
             "line": {
              "color": "#E5ECF6",
              "width": 0.5
             },
             "pattern": {
              "fillmode": "overlay",
              "size": 10,
              "solidity": 0.2
             }
            },
            "type": "bar"
           }
          ],
          "barpolar": [
           {
            "marker": {
             "line": {
              "color": "#E5ECF6",
              "width": 0.5
             },
             "pattern": {
              "fillmode": "overlay",
              "size": 10,
              "solidity": 0.2
             }
            },
            "type": "barpolar"
           }
          ],
          "carpet": [
           {
            "aaxis": {
             "endlinecolor": "#2a3f5f",
             "gridcolor": "white",
             "linecolor": "white",
             "minorgridcolor": "white",
             "startlinecolor": "#2a3f5f"
            },
            "baxis": {
             "endlinecolor": "#2a3f5f",
             "gridcolor": "white",
             "linecolor": "white",
             "minorgridcolor": "white",
             "startlinecolor": "#2a3f5f"
            },
            "type": "carpet"
           }
          ],
          "choropleth": [
           {
            "colorbar": {
             "outlinewidth": 0,
             "ticks": ""
            },
            "type": "choropleth"
           }
          ],
          "contour": [
           {
            "colorbar": {
             "outlinewidth": 0,
             "ticks": ""
            },
            "colorscale": [
             [
              0,
              "#0d0887"
             ],
             [
              0.1111111111111111,
              "#46039f"
             ],
             [
              0.2222222222222222,
              "#7201a8"
             ],
             [
              0.3333333333333333,
              "#9c179e"
             ],
             [
              0.4444444444444444,
              "#bd3786"
             ],
             [
              0.5555555555555556,
              "#d8576b"
             ],
             [
              0.6666666666666666,
              "#ed7953"
             ],
             [
              0.7777777777777778,
              "#fb9f3a"
             ],
             [
              0.8888888888888888,
              "#fdca26"
             ],
             [
              1,
              "#f0f921"
             ]
            ],
            "type": "contour"
           }
          ],
          "contourcarpet": [
           {
            "colorbar": {
             "outlinewidth": 0,
             "ticks": ""
            },
            "type": "contourcarpet"
           }
          ],
          "heatmap": [
           {
            "colorbar": {
             "outlinewidth": 0,
             "ticks": ""
            },
            "colorscale": [
             [
              0,
              "#0d0887"
             ],
             [
              0.1111111111111111,
              "#46039f"
             ],
             [
              0.2222222222222222,
              "#7201a8"
             ],
             [
              0.3333333333333333,
              "#9c179e"
             ],
             [
              0.4444444444444444,
              "#bd3786"
             ],
             [
              0.5555555555555556,
              "#d8576b"
             ],
             [
              0.6666666666666666,
              "#ed7953"
             ],
             [
              0.7777777777777778,
              "#fb9f3a"
             ],
             [
              0.8888888888888888,
              "#fdca26"
             ],
             [
              1,
              "#f0f921"
             ]
            ],
            "type": "heatmap"
           }
          ],
          "heatmapgl": [
           {
            "colorbar": {
             "outlinewidth": 0,
             "ticks": ""
            },
            "colorscale": [
             [
              0,
              "#0d0887"
             ],
             [
              0.1111111111111111,
              "#46039f"
             ],
             [
              0.2222222222222222,
              "#7201a8"
             ],
             [
              0.3333333333333333,
              "#9c179e"
             ],
             [
              0.4444444444444444,
              "#bd3786"
             ],
             [
              0.5555555555555556,
              "#d8576b"
             ],
             [
              0.6666666666666666,
              "#ed7953"
             ],
             [
              0.7777777777777778,
              "#fb9f3a"
             ],
             [
              0.8888888888888888,
              "#fdca26"
             ],
             [
              1,
              "#f0f921"
             ]
            ],
            "type": "heatmapgl"
           }
          ],
          "histogram": [
           {
            "marker": {
             "pattern": {
              "fillmode": "overlay",
              "size": 10,
              "solidity": 0.2
             }
            },
            "type": "histogram"
           }
          ],
          "histogram2d": [
           {
            "colorbar": {
             "outlinewidth": 0,
             "ticks": ""
            },
            "colorscale": [
             [
              0,
              "#0d0887"
             ],
             [
              0.1111111111111111,
              "#46039f"
             ],
             [
              0.2222222222222222,
              "#7201a8"
             ],
             [
              0.3333333333333333,
              "#9c179e"
             ],
             [
              0.4444444444444444,
              "#bd3786"
             ],
             [
              0.5555555555555556,
              "#d8576b"
             ],
             [
              0.6666666666666666,
              "#ed7953"
             ],
             [
              0.7777777777777778,
              "#fb9f3a"
             ],
             [
              0.8888888888888888,
              "#fdca26"
             ],
             [
              1,
              "#f0f921"
             ]
            ],
            "type": "histogram2d"
           }
          ],
          "histogram2dcontour": [
           {
            "colorbar": {
             "outlinewidth": 0,
             "ticks": ""
            },
            "colorscale": [
             [
              0,
              "#0d0887"
             ],
             [
              0.1111111111111111,
              "#46039f"
             ],
             [
              0.2222222222222222,
              "#7201a8"
             ],
             [
              0.3333333333333333,
              "#9c179e"
             ],
             [
              0.4444444444444444,
              "#bd3786"
             ],
             [
              0.5555555555555556,
              "#d8576b"
             ],
             [
              0.6666666666666666,
              "#ed7953"
             ],
             [
              0.7777777777777778,
              "#fb9f3a"
             ],
             [
              0.8888888888888888,
              "#fdca26"
             ],
             [
              1,
              "#f0f921"
             ]
            ],
            "type": "histogram2dcontour"
           }
          ],
          "mesh3d": [
           {
            "colorbar": {
             "outlinewidth": 0,
             "ticks": ""
            },
            "type": "mesh3d"
           }
          ],
          "parcoords": [
           {
            "line": {
             "colorbar": {
              "outlinewidth": 0,
              "ticks": ""
             }
            },
            "type": "parcoords"
           }
          ],
          "pie": [
           {
            "automargin": true,
            "type": "pie"
           }
          ],
          "scatter": [
           {
            "marker": {
             "colorbar": {
              "outlinewidth": 0,
              "ticks": ""
             }
            },
            "type": "scatter"
           }
          ],
          "scatter3d": [
           {
            "line": {
             "colorbar": {
              "outlinewidth": 0,
              "ticks": ""
             }
            },
            "marker": {
             "colorbar": {
              "outlinewidth": 0,
              "ticks": ""
             }
            },
            "type": "scatter3d"
           }
          ],
          "scattercarpet": [
           {
            "marker": {
             "colorbar": {
              "outlinewidth": 0,
              "ticks": ""
             }
            },
            "type": "scattercarpet"
           }
          ],
          "scattergeo": [
           {
            "marker": {
             "colorbar": {
              "outlinewidth": 0,
              "ticks": ""
             }
            },
            "type": "scattergeo"
           }
          ],
          "scattergl": [
           {
            "marker": {
             "colorbar": {
              "outlinewidth": 0,
              "ticks": ""
             }
            },
            "type": "scattergl"
           }
          ],
          "scattermapbox": [
           {
            "marker": {
             "colorbar": {
              "outlinewidth": 0,
              "ticks": ""
             }
            },
            "type": "scattermapbox"
           }
          ],
          "scatterpolar": [
           {
            "marker": {
             "colorbar": {
              "outlinewidth": 0,
              "ticks": ""
             }
            },
            "type": "scatterpolar"
           }
          ],
          "scatterpolargl": [
           {
            "marker": {
             "colorbar": {
              "outlinewidth": 0,
              "ticks": ""
             }
            },
            "type": "scatterpolargl"
           }
          ],
          "scatterternary": [
           {
            "marker": {
             "colorbar": {
              "outlinewidth": 0,
              "ticks": ""
             }
            },
            "type": "scatterternary"
           }
          ],
          "surface": [
           {
            "colorbar": {
             "outlinewidth": 0,
             "ticks": ""
            },
            "colorscale": [
             [
              0,
              "#0d0887"
             ],
             [
              0.1111111111111111,
              "#46039f"
             ],
             [
              0.2222222222222222,
              "#7201a8"
             ],
             [
              0.3333333333333333,
              "#9c179e"
             ],
             [
              0.4444444444444444,
              "#bd3786"
             ],
             [
              0.5555555555555556,
              "#d8576b"
             ],
             [
              0.6666666666666666,
              "#ed7953"
             ],
             [
              0.7777777777777778,
              "#fb9f3a"
             ],
             [
              0.8888888888888888,
              "#fdca26"
             ],
             [
              1,
              "#f0f921"
             ]
            ],
            "type": "surface"
           }
          ],
          "table": [
           {
            "cells": {
             "fill": {
              "color": "#EBF0F8"
             },
             "line": {
              "color": "white"
             }
            },
            "header": {
             "fill": {
              "color": "#C8D4E3"
             },
             "line": {
              "color": "white"
             }
            },
            "type": "table"
           }
          ]
         },
         "layout": {
          "annotationdefaults": {
           "arrowcolor": "#2a3f5f",
           "arrowhead": 0,
           "arrowwidth": 1
          },
          "autotypenumbers": "strict",
          "coloraxis": {
           "colorbar": {
            "outlinewidth": 0,
            "ticks": ""
           }
          },
          "colorscale": {
           "diverging": [
            [
             0,
             "#8e0152"
            ],
            [
             0.1,
             "#c51b7d"
            ],
            [
             0.2,
             "#de77ae"
            ],
            [
             0.3,
             "#f1b6da"
            ],
            [
             0.4,
             "#fde0ef"
            ],
            [
             0.5,
             "#f7f7f7"
            ],
            [
             0.6,
             "#e6f5d0"
            ],
            [
             0.7,
             "#b8e186"
            ],
            [
             0.8,
             "#7fbc41"
            ],
            [
             0.9,
             "#4d9221"
            ],
            [
             1,
             "#276419"
            ]
           ],
           "sequential": [
            [
             0,
             "#0d0887"
            ],
            [
             0.1111111111111111,
             "#46039f"
            ],
            [
             0.2222222222222222,
             "#7201a8"
            ],
            [
             0.3333333333333333,
             "#9c179e"
            ],
            [
             0.4444444444444444,
             "#bd3786"
            ],
            [
             0.5555555555555556,
             "#d8576b"
            ],
            [
             0.6666666666666666,
             "#ed7953"
            ],
            [
             0.7777777777777778,
             "#fb9f3a"
            ],
            [
             0.8888888888888888,
             "#fdca26"
            ],
            [
             1,
             "#f0f921"
            ]
           ],
           "sequentialminus": [
            [
             0,
             "#0d0887"
            ],
            [
             0.1111111111111111,
             "#46039f"
            ],
            [
             0.2222222222222222,
             "#7201a8"
            ],
            [
             0.3333333333333333,
             "#9c179e"
            ],
            [
             0.4444444444444444,
             "#bd3786"
            ],
            [
             0.5555555555555556,
             "#d8576b"
            ],
            [
             0.6666666666666666,
             "#ed7953"
            ],
            [
             0.7777777777777778,
             "#fb9f3a"
            ],
            [
             0.8888888888888888,
             "#fdca26"
            ],
            [
             1,
             "#f0f921"
            ]
           ]
          },
          "colorway": [
           "#636efa",
           "#EF553B",
           "#00cc96",
           "#ab63fa",
           "#FFA15A",
           "#19d3f3",
           "#FF6692",
           "#B6E880",
           "#FF97FF",
           "#FECB52"
          ],
          "font": {
           "color": "#2a3f5f"
          },
          "geo": {
           "bgcolor": "white",
           "lakecolor": "white",
           "landcolor": "#E5ECF6",
           "showlakes": true,
           "showland": true,
           "subunitcolor": "white"
          },
          "hoverlabel": {
           "align": "left"
          },
          "hovermode": "closest",
          "mapbox": {
           "style": "light"
          },
          "paper_bgcolor": "white",
          "plot_bgcolor": "#E5ECF6",
          "polar": {
           "angularaxis": {
            "gridcolor": "white",
            "linecolor": "white",
            "ticks": ""
           },
           "bgcolor": "#E5ECF6",
           "radialaxis": {
            "gridcolor": "white",
            "linecolor": "white",
            "ticks": ""
           }
          },
          "scene": {
           "xaxis": {
            "backgroundcolor": "#E5ECF6",
            "gridcolor": "white",
            "gridwidth": 2,
            "linecolor": "white",
            "showbackground": true,
            "ticks": "",
            "zerolinecolor": "white"
           },
           "yaxis": {
            "backgroundcolor": "#E5ECF6",
            "gridcolor": "white",
            "gridwidth": 2,
            "linecolor": "white",
            "showbackground": true,
            "ticks": "",
            "zerolinecolor": "white"
           },
           "zaxis": {
            "backgroundcolor": "#E5ECF6",
            "gridcolor": "white",
            "gridwidth": 2,
            "linecolor": "white",
            "showbackground": true,
            "ticks": "",
            "zerolinecolor": "white"
           }
          },
          "shapedefaults": {
           "line": {
            "color": "#2a3f5f"
           }
          },
          "ternary": {
           "aaxis": {
            "gridcolor": "white",
            "linecolor": "white",
            "ticks": ""
           },
           "baxis": {
            "gridcolor": "white",
            "linecolor": "white",
            "ticks": ""
           },
           "bgcolor": "#E5ECF6",
           "caxis": {
            "gridcolor": "white",
            "linecolor": "white",
            "ticks": ""
           }
          },
          "title": {
           "x": 0.05
          },
          "xaxis": {
           "automargin": true,
           "gridcolor": "white",
           "linecolor": "white",
           "ticks": "",
           "title": {
            "standoff": 15
           },
           "zerolinecolor": "white",
           "zerolinewidth": 2
          },
          "yaxis": {
           "automargin": true,
           "gridcolor": "white",
           "linecolor": "white",
           "ticks": "",
           "title": {
            "standoff": 15
           },
           "zerolinecolor": "white",
           "zerolinewidth": 2
          }
         }
        }
       }
      },
      "text/html": [
       "<div>                            <div id=\"398a1d04-3a40-44ae-bc97-ce3709ceae0e\" class=\"plotly-graph-div\" style=\"height:525px; width:100%;\"></div>            <script type=\"text/javascript\">                require([\"plotly\"], function(Plotly) {                    window.PLOTLYENV=window.PLOTLYENV || {};                                    if (document.getElementById(\"398a1d04-3a40-44ae-bc97-ce3709ceae0e\")) {                    Plotly.newPlot(                        \"398a1d04-3a40-44ae-bc97-ce3709ceae0e\",                        [{\"customdata\":[[\"Scrypt\"],[\"X13\"],[\"Scrypt\"],[\"Scrypt\"],[\"RandomX\"],[\"X11\"],[\"Equihash\"],[\"IMesh\"],[\"SHA-256\"],[\"ProgPowZ\"],[\"X16RT\"],[\"C31\"],[\"X16R\"],[\"Scrypt\"],[\"HEX\"],[\"SHA-256\"],[\"Multiple\"],[\"Ethash\"],[\"Quark\"],[\"Scrypt\"],[\"SHA-256\"],[\"Equihash\"],[\"Ethash\"],[\"SHA-256\"],[\"SHA-256\"],[\"Scrypt\"],[\"SHA-256\"],[\"Multiple\"],[\"Autolykos\"],[\"X16R\"],[\"Equihash\"],[\"CryptoNight-Lite\"],[\"Scrypt\"],[\"Equihash\"],[\"Equihash\"],[\"IMesh\"],[\"Ethash\"],[\"Eaglesong\"],[\"Blake2B + SHA3\"],[\"SHA-256\"],[\"Scrypt\"],[\"Ethash\"],[\"Lyra2Z\"],[\"Equihash\"],[\"SHA-256\"],[\"RandomX\"],[\"BLAKE256\"],[\"Ethash\"],[\"MTP\"],[\"X11\"],[\"Blake2b\"],[\"Ethash\"],[\"SHA-256\"],[\"Scrypt\"],[\"BLAKE256\"],[\"Scrypt\"],[\"KECCAK\"],[\"Scrypt\"],[\"CryptoNight\"],[\"Equihash\"],[\"Blake2b\"],[\"Scrypt\"],[\"Equihash210,9\"],[\"Scrypt\"],[\"SHA-256\"],[\"X11GOST\"],[\"Scrypt\"],[\"BMW512 / Echo512\"],[\"Scrypt\"],[\"C31\"],[\"Scrypt\"],[\"CryptoNight-Heavy\"],[\"Scrypt\"],[\"Scrypt\"],[\"Scrypt\"],[\"SHA-256\"],[\"Blake2b\"],[\"Scrypt\"],[\"Shabal256\"],[\"Equihash\"],[\"Multiple\"],[\"Scrypt\"],[\"Lyra2REv2\"],[\"Multiple\"],[\"Dagger-Hashimoto\"],[\"SHA-256\"],[\"PoS\"],[\"X11\"],[\"Scrypt\"],[\"X13\"],[\"Equihash\"],[\"SHA-256\"],[\"Scrypt\"],[\"Ethash\"],[\"Quark\"],[\"Cryptonight Haven\"],[\"X13\"],[\"CryptoNight\"],[\"Ethash\"],[\"X13\"],[\"X11\"],[\"CryptoNight\"],[\"Multiple\"],[\"Scrypt\"],[\"Ethash\"],[\"EtcHash\"],[\"NeoScrypt\"],[\"Groestl\"],[\"Equihash\"],[\"Equihash\"]],\"hovertemplate\":\"<b>%{hovertext}</b><br><br>class=%{marker.color}<br>PC 1=%{x}<br>PC 2=%{y}<br>PC 3=%{z}<br>Algorithm=%{customdata[0]}<extra></extra>\",\"hovertext\":[\"42 Coin\",\"Triangles Coin\",\"CometCoin\",\"OpenChat\",\"Quantum Resistant Ledger\",\"Pura\",\"Bitcoin Private\",\"Aidos Kuneen\",\"Foin\",\"Zano\",\"VEIL\",\"MimbleWimbleCoin\",\"Ravencoin Classic\",\"Goldmaxcoin\",\"XDNA\",\"Wibcoin\",\"Revain\",\"EtherZero\",\"QuarkCoin\",\"United Emirates Coin\",\"Arweave\",\"Bithereum\",\"BeforeCoinMarketCap\",\"Smart Bitcoin\",\"UnitedBitcoin\",\"VeriCoin\",\"Emercoin\",\"Circuits of Value\",\"Ergo\",\"Genix\",\"Beam\",\"AEON\",\"Canada eCoin\",\"TENT\",\"Pirate Chain\",\"Internet Node token\",\"Super Zero\",\"Nervos Network\",\"Handshake\",\"REDi\",\"Auroracoin\",\"Ethereum Name Service\",\"TecraCoin\",\"BitcoinZ\",\"eCash\",\"Monero\",\"HyperCash\",\"Expanse\",\"Firo\",\"IOCoin\",\"Siacoin\",\"Waltonchain\",\"Bitcoin\",\"BlackCoin\",\"Decred\",\"Einsteinium\",\"SmartCash\",\"SaluS\",\"Beldex\",\"ZCash\",\"Yeeco\",\"WhiteCoin\",\"Aion\",\"Flo\",\"Bitcoin Cash\",\"SibCoin\",\"SafeExchangeCoin\",\"DigitalNote\",\"PotCoin\",\"Grin\",\"Gulden\",\"Haven Protocol\",\"Litecoin\",\"MegaCoin\",\"MonaCoin\",\"Namecoin\",\"Nano\",\"NovaCoin\",\"Signa\",\"Zelcash\",\"WXT\",\"ViaCoin\",\"Vertcoin\",\"Verge\",\"Ubiq\",\"SysCoin\",\"Steem\",\"Stakenet\",\"Reddcoin\",\"Bitcoin Diamond\",\"Bitcoin Gold\",\"Bitcoin SV\",\"Primas\",\"Metaverse\",\"Private Instant Verified Transaction\",\"BLOC.MONEY\",\"NavCoin\",\"ByteCoin\",\"Callisto Network\",\"CloakCoin\",\"Dash\",\"Dero\",\"DigiByte\",\"Dogecoin\",\"Ethereum\",\"Ethereum Classic\",\"FeatherCoin\",\"Groestlcoin\",\"Horizen\",\"Komodo\"],\"legendgroup\":\"2\",\"marker\":{\"color\":[2,2,2,2,2,2,2,2,2,2,2,2,2,2,2,2,2,2,2,2,2,2,2,2,2,2,2,2,2,2,2,2,2,2,2,2,2,2,2,2,2,2,2,2,2,2,2,2,2,2,2,2,2,2,2,2,2,2,2,2,2,2,2,2,2,2,2,2,2,2,2,2,2,2,2,2,2,2,2,2,2,2,2,2,2,2,2,2,2,2,2,2,2,2,2,2,2,2,2,2,2,2,2,2,2,2,2,2,2,2],\"coloraxis\":\"coloraxis\",\"symbol\":\"circle\"},\"mode\":\"markers\",\"name\":\"2\",\"scene\":\"scene\",\"showlegend\":true,\"x\":[1.2106945120433197,0.5927996597190635,2.1304343892162456,1.2106945120383485,2.501359465322812,1.8209519725553325,2.402747195285088,2.173803798959588,1.0868949323939858,0.734354167548507,0.7344197176259528,2.501345296990448,2.5048533935084523,2.1304343892161257,0.7343541675487114,2.611406774363221,0.5866031513796505,1.9639301337386794,0.7365591133326608,0.7201292447466736,2.4971961935123628,2.4027445827505964,1.0441902565608312,2.4971910537829904,2.497191053782991,1.3776365698492763,1.577448778064744,1.9969082958499913,2.4938753618555727,2.502478838538759,2.4027745987701294,2.493854005656714,1.3776600290203853,2.402754187876849,1.8986207589761321,1.4608225170076734,1.059249174007196,2.493854005655987,2.494299746182121,1.0868835107729402,1.2106945120383756,1.0591071488396395,2.4938540056567136,2.4051431231240255,4.89572902858196,2.5013474726208496,0.7365742168501689,1.9639415553596233,2.493858681562441,0.9012146081342609,2.0742726684417345,0.5536249892692241,2.4971910537829896,0.7279395267280626,0.7365670212290488,2.1304343892161355,2.494946506944127,1.2106945120383763,0.6806589258529739,2.4027469812909725,0.6639675239727028,1.2108087282467446,0.7343541675484986,2.1304526638095727,2.4971910537829896,2.493858594162339,1.1284481533013986,0.734354167548339,1.2107424828459592,2.5013430126661707,2.1306262724461287,2.493854005656715,2.1304439833777433,2.1304391862969982,2.130434389216136,2.497188655242505,2.074287887556821,1.2106945120383756,0.5770135341003231,1.4830286909765706,0.5866031513804462,2.1304343892161373,2.4938723596785586,1.9987991451777576,2.493854005656713,2.497290079235551,1.431301552215457,0.7855841042293809,1.2106945120380481,0.5928236451227797,2.4027469812909716,2.4971910537829896,2.130434389216136,0.5536364108901648,0.7365591133326627,2.4938649306698055,0.5927996597189316,2.1042346738985933,1.964672539092479,0.5927996597189319,0.7855882338844663,2.0831652099620057,1.9993068362235051,2.1304343892147175,1.9639301337386812,2.493900043661175,2.493927421743431,2.493876948183964,2.4027469812909725,1.8986207589761335],\"y\":[0.01636487918904882,-0.019781938408038973,0.07470730616619868,0.01636487918873407,0.10329204398982146,0.05919252004694961,0.09672898280419295,0.08827629573502774,0.046800200452081976,-0.013542969381805709,-0.01353864148273006,0.10329112180481974,0.10351949988517949,0.07470730616618632,-0.013542969381787423,0.11308759042111902,0.021143078376335528,0.07510323154703286,-0.013587374182282761,0.015644153869222847,0.10586310710451041,0.096728817546196,0.01676080456956855,0.10586278198674261,0.10586278198674251,0.03123775084824444,0.04752020328765761,0.08020623067341938,0.10295475058057431,0.10336929547648092,0.09673071623395971,0.10295334055214911,0.031239299723985686,0.09672942512628026,0.07521249240902635,0.058346305691697554,0.032037699220685376,0.10295334055203673,0.10298277026577349,0.046799477968132185,0.01636487918873591,0.032028322106039314,0.10295334055213971,0.09688053917114361,0.2575842552011404,0.1032912853816906,-0.013586386734179508,0.07510395403096919,0.10295364927562231,0.0008502520159690902,0.08374966765213131,0.016040079250069637,0.10586278198674243,-0.017928171153478622,-0.013586841899054373,0.07470730616618848,0.10302547220316352,0.016364879188736126,-0.019740535534802973,0.09672896926782079,0.024686515355225203,0.016372104028025934,-0.01354296938180932,0.07470846214048119,0.10586278198674243,0.10295364350508895,0.016308460295033418,-0.013542969381835662,0.016367913621242295,0.10329097730802687,0.07471944389619226,0.1029533405521481,0.07470791305269568,0.07470760960944585,0.07470730616618859,0.10586263026511053,0.08375063034969088,0.016364879188736112,-0.013655624841432418,0.03838790778499231,0.021143078376443452,0.07470730616618876,0.10295455236389223,0.0803258378877514,0.10295334055214145,0.10586904592240097,0.03205442711529993,0.0002583174248745375,0.016364879188691762,-0.01978042119179186,0.09672896926782076,0.10586278198674243,0.07470730616618856,0.016040801734005124,-0.01358737418228204,0.10295406186866536,-0.019781938408048573,0.07422843037125737,0.07515019300238227,-0.019781938408048396,0.000258590082529338,0.07289566426880198,0.08035795229837066,0.07470730616599652,0.0751032315470335,0.10295638017992713,0.10295818779910242,0.1029548553168256,0.09672896926782079,0.07521249240902747],\"z\":[-0.00200713971708038,-0.001929481084853727,-0.0015738702128546736,-0.002007139717101389,-0.0012781225980280058,-0.0015274806778539415,-0.001380781003802084,-0.0012834251600041227,0.0002637155085190166,-0.0021405467816316363,-0.0021402573609318994,-0.0012781842347954807,-0.0012629198469114652,-0.0015738702128564072,-0.0021405467815827544,0.00011000541565885818,-0.000390105553471295,-0.0011914531410848349,-0.0021475880514842988,-0.0009378323776258126,-0.00037233872722031294,-0.001380792037286238,-0.0016247226453271655,-0.0003723604337751856,-0.0003723604337762534,-0.0018756644298276563,-0.0008056400677440283,-0.0010261433887019463,-0.001273913630300175,-0.0012729482757399902,-0.001380665271000055,-0.0012740079234877116,-0.0018755608514705508,-0.0013807514720747707,-0.001489315198549321,-0.0012938096892521921,-0.001110203340803231,-0.001274007923488555,-0.001272039862779353,0.00026366727172865616,-0.0020071397171017953,-0.001110830418977045,-0.0012740079234974265,-0.001370662311196928,0.009757355525887176,-0.0012781732466558618,-0.002147522041665212,-0.0011914049042936416,-0.0012739872781454271,-0.0019607395700015034,-0.00106760269967571,-0.0005554153058538703,-0.00037236043377575253,-0.0016423580056427124,-0.002147552430843506,-0.001573870212859443,-0.001269184245234395,-0.002007139717101596,-0.001344075360572211,-0.0013807819075603868,-0.0004315648644446387,-0.0020066573491924087,-0.002140546781626449,-0.0015737930339937527,-0.0003723604337757527,-0.0012739876640415193,-0.001890043443382026,-0.0021405467816351226,-0.002006937122579618,-0.001278193882153788,-0.001573059834771804,-0.0012740079234931985,-0.0015738296939548882,-0.0015738499534068509,-0.0015738702128596895,-0.00037237056350231985,-0.0010675384249763888,-0.002007139717101597,-0.0019063542748371585,-0.0018139602442677062,-0.00039010555347082214,-0.0015738702128594152,-0.0012739268856912563,-0.0010181577879676044,-0.0012740079234883075,-0.0003719422207987211,-0.0012106089070734038,-0.0017828853759228529,-0.002007139717102082,-0.0019293797875893758,-0.0013807819075604367,-0.0003723604337757527,-0.0015738702128595982,-0.0005553670690625853,-0.002147588051486042,-0.0012739596867035999,-0.0019294810848505956,-0.00118655692282077,-0.001188317749675937,-0.0019294810848504433,-0.001782867142415078,-0.001275539330997944,-0.0010160136626120879,-0.0015738702128596312,-0.001191453141084991,-0.0012738046536832138,-0.0012736837723095916,-0.0012739066262441466,-0.0013807819075603868,-0.0014893151985501693],\"type\":\"scatter3d\"},{\"customdata\":[[\"PoS\"],[\"NEP-5\"],[\"BEP2 Token\"],[\"POS 3.0\"],[\"NRC20 Token\"],[\"HRC-20 Token\"],[\"BEP-2\"],[\"BEP-20 Token\"],[\"BEP-20 Token\"],[\"BEP-20 Token\"],[\"VeChainThor Authority\"],[\"BEP-20 Token\"],[\"BEP-20 Token\"],[\"BEP-20 Token\"],[\"BEP-20 Token\"],[\"BEP-20 Token\"],[\"BEP-20 Token\"],[\"BEP-20 Token\"],[\"BEP-20 Token\"],[\"BEP-20 Token\"],[\"DPoS\"],[\"BEP-20 Token\"],[\"BEP-20 Token\"],[\"BEP-20 Token\"],[\"BEP-20 Token\"],[\"BEP-20 Token\"],[\"BEP-20 Token\"],[\"BEP-20 Token\"],[\"BEP-20 Token\"],[\"BEP-20 Token\"],[\"BEP-20 Token\"],[\"TRC-20\"],[\"TRC-20\"],[\"BEP-20 Token\"],[\"BEP-20 Token\"],[\"TRC-20\"],[\"BEP-20 Token\"],[\"BEP-20 Token\"],[\"BEP-20 Token\"],[\"BEP-20 Token\"],[\"BEP-20 Token\"],[\"BEP-20 Token\"],[\"GO20\"],[\"BEP-20 Token\"],[\"BEP-20 Token\"],[\"BEP-20 Token\"],[\"BEP-20 Token\"],[\"TRC-20\"],[\"BEP-20 Token\"],[\"BEP-20 Token\"],[\"BEP-20 Token\"],[\"BEP-20 Token\"],[\"BEP-20 Token\"],[\"BEP-20 Token\"],[\"BEP-20 Token\"],[\"BEP-20 Token\"],[\"BEP-20 Token\"],[\"BEP-20 Token\"],[\"BEP-20 Token\"],[\"BEP-20 Token\"],[\"BEP-20 Token\"],[\"BEP-20 Token\"],[\"BEP-20 Token\"],[\"BEP-20 Token\"],[\"BEP-20 Token\"],[\"BEP-20 Token\"],[\"BEP-20 Token\"],[\"BEP-20 Token\"],[\"BEP-20 Token\"],[\"BEP-20 Token\"],[\"BEP-20 Token\"],[\"BEP-20 Token\"],[\"BEP-2 Token\"],[\"BEP-20 Token\"],[\"BEP-20 Token\"],[\"BEP-20 Token\"],[\"BEP-20 Token\"],[\"BEP-20 Token\"],[\"BEP-20 Token\"],[\"BEP-20 Token\"],[\"BEP-20 Token\"],[\"BEP-20 Token\"],[\"BEP-20 Token\"],[\"BEP-20 Token\"],[\"BEP-20 Token\"],[\"BEP-20 Token\"],[\"BEP-20 Token\"],[\"BEP-20 Token\"],[\"BEP-20 Token\"],[\"BEP-20 Token\"],[\"BEP-20 Token\"],[\"BEP-20 Token\"],[\"BEP-20 Token\"],[\"BEP-20 Token\"],[\"BEP-20 Token\"],[\"BEP-20 Token\"],[\"BEP-20 Token\"],[\"BEP-20 Token\"],[\"BEP-20 Token\"],[\"BEP-20 Token\"],[\"BEP-20 Token\"],[\"BEP-20 Token\"],[\"BEP-20 Token\"],[\"BEP-20 Token\"],[\"BEP-20 Token\"],[\"BEP-20 Token\"],[\"BEP-20 Token\"],[\"BEP-20 Token\"],[\"BEP-20 Token\"],[\"BEP-20 Token\"],[\"BEP-20 Token\"],[\"BEP-20 Token\"],[\"BEP-20 Token\"],[\"BEP-20 Token\"],[\"BEP-20 Token\"],[\"BEP-20 Token\"],[\"BEP-20 Token\"],[\"BEP-20 Token\"],[\"BEP-20 Token\"],[\"BEP-20 Token\"],[\"BEP-20 Token\"],[\"BEP-20 Token\"],[\"X13\"],[\"BEP-20 Token\"],[\"BEP-20 Token\"],[\"BEP-20 Token\"],[\"BEP-20 Token\"],[\"BEP-20 Token\"],[\"BEP-20 Token\"],[\"BEP-20 Token\"],[\"BEP-20 Token\"],[\"BEP-20 Token\"],[\"BEP-20 Token\"],[\"BEP-20 Token\"],[\"BEP-20 Token\"],[\"BEP-20 Token\"],[\"BEP-20 Token\"],[\"BEP-20 Token\"],[\"BEP-20 Token\"],[\"BEP-20 Token\"],[\"BEP-20 Token\"],[\"BEP-20 Token\"],[\"BEP-20 Token\"],[\"BEP-20 Token\"],[\"BEP-20 Token\"],[\"BEP-20 Token\"],[\"BEP-20 Token\"],[\"BEP-20 Token\"],[\"BEP-20 Token\"],[\"BEP-20 Token\"],[\"BEP-20 Token\"],[\"BEP-20 Token\"],[\"BEP-20 Token\"],[\"BEP-20 Token\"],[\"BEP-20 Token\"],[\"BEP-20 Token\"],[\"PoS\"],[\"BEP-20 Token\"],[\"DPoS\"],[\"BEP-20 Token\"],[\"BEP-20 Token\"],[\"VBFT\"],[\"DPoS\"],[\"PoS\"],[\"X13\"],[\"DPoS\"],[\"dBFT2.0\"],[\"TRC-20\"],[\"TRC-20\"],[\"DPoS\"],[\"PoS\"],[\"NEP-5\"],[\"DPoS\"],[\"BEP-2\"],[\"POS 3.0\"],[\"PoS\"],[\"DPoS\"],[\"VeChainThor Authority\"],[\"DPoS\"],[\"DPoS\"],[\"BEP-2\"],[\"KAWPOW\"],[\"SHA-512\"],[\"TRC-10\"],[\"Ouroboros\"],[\"DPoS\"],[\"DPoS\"],[\"Loopchain\"],[\"SHA-512\"]],\"hovertemplate\":\"<b>%{hovertext}</b><br><br>class=%{marker.color}<br>PC 1=%{x}<br>PC 2=%{y}<br>PC 3=%{z}<br>Algorithm=%{customdata[0]}<extra></extra>\",\"hovertext\":[\"NuShares\",\"Nevula\",\"Swingby\",\"TokenPay\",\"NextDAO\",\"WeStarter\",\"BakeryToken\",\"IMPULSE by FDR\",\"Altura\",\"DekBox\",\"VEED\",\"Less Network\",\"KingDoge\",\"SafeHamsters\",\"Yuang Coin\",\"Kiwigo\",\"Votechain\",\"Pea Farm\",\"SparkPoint Fuel\",\"Genshiro\",\"ModiHost\",\"RealFevr\",\"MocktailSwap\",\"Effort Economy \",\"QueenDex Coin\",\"Lion Token\",\"Artex\",\"TBCC\",\"xWIN Finance\",\"MContent\",\"Tokyo AU\",\"Zoe Cash\",\"Novax Coin\",\"ShonToken\",\"Investelly token\",\"TRONbetLive\",\"Binance Smart Chain Girl\",\"PureFi\",\"Daddy Doge\",\"Five7\",\"Diamond Boyz Coin\",\"Plant vs Undead Token\",\"ECOMI\",\"Coin98\",\"Safe Energy\",\"Trust Wallet Token\",\"Lanceria\",\"Didcoin\",\"Little Rabbit\",\"Teaswap Art\",\"Kaiken Shiba\",\"My DeFi Pet\",\"BunnyPark\",\"ApeSwap Finance\",\"Pancake Bunny\",\"BTC Standard Hashrate Token\",\"Alpha Finance Lab\",\"Safe Star\",\"Pylon Eco Token\",\"Metahero\",\"Pig Finance\",\"Monsta Infinite\",\"Doggy\",\"Xiasi Inu\",\"Thetan Arena\",\"Nafter\",\"CryptoBlades\",\"CryptoZoon\",\"Binemon\",\"HoDooi.com\",\"Smaugs NFT\",\"Wall Street Games\",\"Honest\",\"Radio Caca\",\"KCCPad\",\"TrustPad\",\"Sishi Finance\",\"Feeder Finance\",\"Battle Pets\",\"Pacoca\",\"Pancake Hunny\",\"Rabbit Finance\",\"NFT Alley\",\"TEN\",\"Dehero Community Token\",\"Wheelers\",\"ShibaCash\",\"Longdrink Finance\",\"Eggplant Finance\",\"EIFI FINANCE\",\"TendieSwap\",\"CosmicSwap\",\"Vention\",\"WOWswap\",\"Betu\",\"Wenlambo\",\"Sheesh it is bussin bussin\",\"Pet Games\",\"CheCoin\",\"GemGuardian\",\"ForeverFOMO\",\"Knight War Spirits\",\"KRYZA Network\",\"Badger Sett Badger\",\"Portify\",\"DogeHouse Capital\",\"Bholdus Token\",\"Sphynx Token\",\"RugZombie\",\"LPI DAO\",\"Rainbow Token\",\"Step Hero\",\"Starpunk\",\"The Real Golden Inu\",\"Jade Currency\",\"Binamars\",\"BUMooN\",\"Loud Market\",\"DefiXBet\",\"Vortex DeFi\",\"RiceFarm\",\"BNB Cash\",\"Stratis\",\"Bogged Finance\",\"Dexit Finance\",\"Roseon Finance\",\"BabyDoge\",\"Splinterlands\",\"SafePal\",\"CumRocket\",\"Lucky Lion\",\"OpenOcean\",\"SIL Finance Token V2\",\"Bonus Cake\",\"TrustFi Network Token\",\"SoccerHub\",\"CryptoPlanes\",\"gotEM\",\"Pitch Finance Token\",\"Torii Finance\",\"GOMA Finance\",\"GameFi\",\"Shell Token\",\"Pokmonsters\",\"Kalata Protocol\",\"NFT Art Finance\",\"Baby Floki Billionaire\",\"VelasPad\",\"Battle Hero\",\"Lazio Fan Token\",\"HarmonyPad\",\"YocoinYOCO\",\"JERITEX\",\"Australian Safe Shepherd\",\"TRONPAD\",\"AUREO\",\"Validity\",\"Binamon\",\"Tenset\",\"MiniDOGE\",\"YooShi\",\"Ontology\",\"Lisk\",\"Anchor Protocol\",\"ABBC Coin\",\"Shift\",\"NEO\",\"Sun Token\",\"Sun Token\",\"Oxycoin\",\"Nxt\",\"DeepBrain Chain\",\"ARK\",\"Phoenix Binance\",\"QTUM\",\"Neblio\",\"Worldwide Asset eXchange\",\"VeChain\",\"Achain\",\"Rise\",\"Binance Coin\",\"Ravencoin\",\"Bitshares\",\"BitTorrent\",\"Cardano\",\"EOS\",\"High Performance Blockchain\",\"ICON Project\",\"Kcash\"],\"legendgroup\":\"0\",\"marker\":{\"color\":[0,0,0,0,0,0,0,0,0,0,0,0,0,0,0,0,0,0,0,0,0,0,0,0,0,0,0,0,0,0,0,0,0,0,0,0,0,0,0,0,0,0,0,0,0,0,0,0,0,0,0,0,0,0,0,0,0,0,0,0,0,0,0,0,0,0,0,0,0,0,0,0,0,0,0,0,0,0,0,0,0,0,0,0,0,0,0,0,0,0,0,0,0,0,0,0,0,0,0,0,0,0,0,0,0,0,0,0,0,0,0,0,0,0,0,0,0,0,0,0,0,0,0,0,0,0,0,0,0,0,0,0,0,0,0,0,0,0,0,0,0,0,0,0,0,0,0,0,0,0,0,0,0,0,0,0,0,0,0,0,0,0,0,0,0,0,0,0,0,0,0,0,0,0,0,0,0,0,0,0,0,0,0,0,0,0,0,0,0],\"coloraxis\":\"coloraxis\",\"symbol\":\"diamond\"},\"mode\":\"markers\",\"name\":\"0\",\"scene\":\"scene\",\"showlegend\":true,\"x\":[0.02879526810649106,-0.19806258969633006,-0.20411716526992735,-0.1897558813044776,-0.2019321626952389,-0.2041171652699014,-0.2857647699178398,-1.087547828485418,-1.087547828485432,-1.0875478284854188,-0.31719272833282786,-1.0875478284854196,-1.0875478391301074,-1.0875478285120297,-1.0875478391301079,-1.0875478284854285,-1.0875478284854176,-1.0875478284854168,-1.087547828485418,-1.087547828485418,-0.486403406581088,-1.0875478284855877,-1.08754782848542,-1.0875478284854179,-1.0875478284854387,-1.0875478284854698,-1.0875478284854188,-1.0875478284854274,-1.0875478284854188,-1.0875478927989926,-1.0875478391301066,-0.20726064380534634,-0.20726064380534492,-1.087547828485528,-1.0875478284854183,-0.20726064380535497,-1.0875478284854196,-1.08754782848542,-1.0875478338027544,-1.0875478284854192,-1.0875478284854274,-1.087547828485421,-0.20411716527628446,-1.087547828485419,-1.0875478313439955,-1.0875478284854285,-1.0875478284854225,-0.2072606438160967,-2.08052957405229,-1.087547828485425,-1.0875507645259777,-1.0875478284854185,-1.0875478284854192,-1.087547828485419,-1.0875478284854176,-1.0875478284854179,-1.0875478284854285,-1.0875478324833103,-1.0875478284854192,-1.087547828485522,-1.0875478328831507,-1.087547828485421,-1.0875478284854612,-1.0875478337068902,-1.0875478284854219,-1.087547828485429,-1.0875478284854185,-1.0875478284854279,-1.0875478284854276,-1.0875478284854285,-1.0875478284854192,-1.0875478388084765,-0.2041171652698867,-1.087547828488354,-1.087547828485421,-1.0875478284854192,-1.0875478284854185,-1.0875478284854183,-1.08754782848542,-1.0875478284854192,-1.0875478284854188,-1.0875478284854196,-1.087547828485418,-1.0875478284854183,-1.0875478284854183,-1.0875478284854188,-1.0875478299400172,-1.0875398995961267,-1.0875478284854185,-1.0875478284854192,-1.0875478284854183,-1.087547828485418,-1.0875478284854259,-1.0875478284854185,-1.0875478284854276,-1.0875478290147915,-1.0875478284856355,-1.0875478284854314,-1.0875478284864821,-1.0875478284854188,-1.087547828485418,-1.0875478284854232,-1.0875478285776412,-1.087547828485418,-1.0875478284854192,-1.0875478284854192,-1.0875478284855244,-1.0875478284854285,-1.0875478284854199,-1.0875478284854176,-1.0875478369900626,-1.0875478284854188,-1.0875478284854256,-1.0875478330601882,-1.0875478284854192,-1.0875478284854192,-1.0875478345848348,-1.087547828485419,-1.0875478284854179,-1.0875478284854188,-1.087547828485418,-1.0875478284854199,0.11003325278767616,-1.0875478284854179,-1.0875478284854452,-1.0875478284854188,-1.0875505083266406,-1.0875478284854234,-2.08052328232932,-1.0875478284854314,-1.0875478284854192,-1.0875478284854285,-1.087547828485418,-1.0875478284864746,-1.0875478284854188,-1.0875478284854285,-1.0875478284875468,-1.0875478284854216,-1.0875478284864821,-1.087547828485418,-1.0875478301283557,-1.0875478284854179,-1.087547828485418,-1.0875478284854192,-1.0875478284854196,-1.0875481482421339,-1.0875478385204715,-1.087547828485422,-1.0875478284854276,-1.0875478284854185,-1.087547828485426,-1.0875478284854188,-1.0875478284854188,-1.0875479349323156,-1.087547828485426,-1.0875454299449316,0.02879629605243375,-1.0875478284854203,-0.48651762278945493,-1.0875478360712505,-1.087547832476553,-0.18919762782012056,-1.0072027674167898,0.02879526810643502,0.10240596453990303,-1.0072027674167887,-0.20409531524394461,-0.207260643805345,-0.20726064380555645,-1.0072027674168005,0.040385483278225366,-0.20263123802667649,-1.0072027674167903,-0.2857647699178719,-0.18974642164373248,0.020996407746002244,-0.4865176227894927,-0.609705898612625,-1.0072027674166841,-0.4787187624290117,-0.546679641585541,-0.19952865986347001,-1.2846099193321765,-1.2002090499741904,-0.1793651162353415,-1.0072027674168,-0.48650620116851284,-0.18919762782011998,-1.4622059276550146],\"y\":[-0.060581772688304385,-0.01459724485850462,-0.014982090867645174,-0.08228795336797173,-0.014837827565599142,-0.014982090867642246,-0.022697347943047605,-0.1349531941942146,-0.1349531941942165,-0.1349531941942145,-0.027362021695549705,-0.1349531941942148,-0.13495319563623673,-0.13495319419781976,-0.1349531956362366,-0.13495319419421598,-0.13495319419421462,-0.13495319419422083,-0.13495319419421492,-0.1349531941942145,-0.06099226012366868,-0.13495319419423643,-0.1349531941942096,-0.13495319419421353,-0.1349531941942172,-0.13495319419422172,-0.13495319419421467,-0.134953194194216,-0.13495319419421473,-0.13495320290668916,-0.13495319563623656,-0.015234335097293036,-0.015234335097292778,-0.13495319419422916,-0.1349531941942146,-0.015234335097294412,-0.13495319419421511,-0.13495319419421475,-0.1349531949145471,-0.13495319419421484,-0.13495319419421606,-0.13495319419421506,-0.014982090868543135,-0.1349531941942148,-0.13495319458146235,-0.13495319419421611,-0.13495319419421523,-0.015234335098749347,-0.26947111578501054,-0.13495319419421548,-0.13495359193573953,-0.13495319419421478,-0.13495319419421478,-0.13495319419421478,-0.1349531941942146,-0.13495319419421467,-0.13495319419421611,-0.13495319473580375,-0.13495319419421478,-0.13495319419422874,-0.13495319478996967,-0.134953194194215,-0.13495319419422044,-0.13495319490156057,-0.13495319419421523,-0.13495319419421603,-0.13495319419421467,-0.13495319419421606,-0.134953194194216,-0.13495319419421611,-0.13495319419421478,-0.13495319559266566,-0.014982090867648394,-0.13495319419461238,-0.13495319419421498,-0.13495319419421478,-0.13495319419421467,-0.13495319419421473,-0.13495319419421495,-0.13495319419421478,-0.13495319419421478,-0.13495319419421486,-0.13495319419421462,-0.1349531941942146,-0.1349531941942146,-0.13495319419421478,-0.1349531943912672,-0.1349526926458642,-0.13495319419421467,-0.13495319419421484,-0.13495319419421467,-0.1349531941942146,-0.13495319419421564,-0.13495319419421467,-0.13495319419421603,-0.13495319426592817,-0.13495319419424404,-0.13495319419421642,-0.13495319419435878,-0.13495319419421478,-0.1349531941942146,-0.1349531941942154,-0.13495319420670798,-0.1349531941942146,-0.13495319419421478,-0.13495319419421478,-0.13495319419422905,-0.13495319419421611,-0.13495319419421486,-0.13495319419421464,-0.13495319534632752,-0.13495319419421478,-0.13495319419421556,-0.1349531948139527,-0.13495319419421478,-0.13495319419421473,-0.13495319502049447,-0.13495319419421478,-0.1349531941942147,-0.13495319419421478,-0.1349531941942146,-0.13495319419421486,-0.05407571123419894,-0.1349531941942147,-0.1349531941942184,-0.13495319419421478,-0.13495355722875482,-0.13495319419421525,-0.26947026292720866,-0.1349531941942165,-0.13495319419421475,-0.13495319419421611,-0.1349531941942146,-0.13495319419435767,-0.13495319419421478,-0.13495319419421611,-0.134953194194503,-0.13495319419421506,-0.13495319419435878,-0.1349531941942146,-0.1349531944167812,-0.13495319419421467,-0.1349531941942146,-0.13495319419421478,-0.13495319419421486,-0.1349532375112332,-0.1349531955536501,-0.13495319419421517,-0.13495319419421595,-0.13495319419421467,-0.13495319419421573,-0.13495319419421475,-0.13495319419421478,-0.13495320861443477,-0.1349531941942156,-0.13495304247258244,-0.06058170766474169,-0.13495319419421492,-0.06099948496295878,-0.13495319522185728,-0.13495319473488837,-0.08201968855400957,-0.13362342401799282,-0.060581772688303906,-0.020491810793827128,-0.13362342401799257,-0.0149806482346066,-0.015234335097292785,-0.015234335097321418,-0.13362342401799426,-0.05391574049160696,-0.0148862384298266,-0.13362342401799282,-0.02269734794305656,-0.08228735498942588,-0.027008725181663487,-0.060999484962963875,-0.0548273060312023,-0.13362342401798694,-0.09457253246959763,-0.045321345333717185,-0.014679137933384242,-0.1755064733842508,-0.15999527169085137,-0.08137050369493053,-0.1336234240179942,-0.06099876247902312,-0.08201968855400713,-0.20548452830786582],\"z\":[-0.001279144936648901,2.7066710065296855e-05,-1.9324737266079527e-06,-0.0014156773630539354,7.714882780001049e-06,-1.9324737255162873e-06,-2.9373590214856014e-06,-1.7879622072614428e-05,-1.78796220724805e-05,-1.7879622072941372e-05,0.00017797178084176104,-1.7879622073264275e-05,-1.7879622263528695e-05,-1.787962207301555e-05,-1.7879622263794945e-05,-1.787962207249804e-05,-1.787962207245371e-05,-1.7879622072234374e-05,-1.7879622074259793e-05,-1.7879622072911005e-05,-0.00018709871038387297,-1.7879622071936757e-05,-1.787962208087292e-05,-1.7879622070778257e-05,-1.7879622072766463e-05,-1.7879622072126876e-05,-1.787962207233069e-05,-1.7879622072413207e-05,-1.7879622072429334e-05,-1.7879623230471523e-05,-1.787962226409472e-05,-1.965116857153841e-06,-1.9651168571208696e-06,-1.7879622072401945e-05,-1.7879622072429355e-05,-1.965116857048559e-06,-1.787962207246253e-05,-1.7879622072435436e-05,-1.7879622168186297e-05,-1.7879622072437886e-05,-1.7879622072432116e-05,-1.7879622072429026e-05,-1.93247373009232e-06,-1.787962207243592e-05,-1.7879622123905112e-05,-1.787962207243318e-05,-1.7879622072423537e-05,-1.965116857479249e-06,-3.575934953318446e-05,-1.7879622072427623e-05,-1.787967493907293e-05,-1.787962207243596e-05,-1.7879622072436344e-05,-1.787962207243372e-05,-1.7879622072433776e-05,-1.7879622072433763e-05,-1.787962207243335e-05,-1.7879622144423784e-05,-1.787962207243568e-05,-1.787962207243448e-05,-1.787962215161449e-05,-1.7879622072429283e-05,-1.787962207243349e-05,-1.7879622166453844e-05,-1.7879622072427942e-05,-1.7879622072432915e-05,-1.7879622072429907e-05,-1.7879622072426586e-05,-1.787962207243237e-05,-1.787962207243319e-05,-1.787962207243619e-05,-1.7879622258313323e-05,-1.932473728302654e-06,-1.787962207248048e-05,-1.787962207243013e-05,-1.7879622072436517e-05,-1.78796220724298e-05,-1.7879622072436293e-05,-1.7879622072428846e-05,-1.78796220724398e-05,-1.787962207243182e-05,-1.7879622072435775e-05,-1.7879622072429558e-05,-1.787962207243554e-05,-1.7879622072433078e-05,-1.787962207243595e-05,-1.7879622098620084e-05,-1.7846136091697212e-05,-1.7879622072429724e-05,-1.787962207243248e-05,-1.787962207243019e-05,-1.7879622072429636e-05,-1.7879622072432573e-05,-1.7879622072429907e-05,-1.787962207243114e-05,-1.7879622081983195e-05,-1.787962207243555e-05,-1.7879622072429056e-05,-1.7879622072447854e-05,-1.787962207243595e-05,-1.78796220724301e-05,-1.7879622072429026e-05,-1.7879622074085253e-05,-1.7879622072430188e-05,-1.7879622072433322e-05,-1.787962207243429e-05,-1.7879622072417893e-05,-1.787962207243319e-05,-1.7879622072422904e-05,-1.787962207243044e-05,-1.7879622225584224e-05,-1.787962207243595e-05,-1.787962207243339e-05,-1.7879622154809926e-05,-1.787962207243619e-05,-1.7879622072436283e-05,-1.7879622182258987e-05,-1.7879622072435687e-05,-1.7879622072433742e-05,-1.787962207243595e-05,-1.7879622072426305e-05,-1.787962207242278e-05,-0.0015647476101827665,-1.7879622072433746e-05,-1.787962207243183e-05,-1.787962207243595e-05,-1.787967032592726e-05,-1.787962207242587e-05,-3.575923793892186e-05,-1.787962207242574e-05,-1.7879622072435277e-05,-1.787962207243319e-05,-1.7879622072430188e-05,-1.7879622072451425e-05,-1.787962207243595e-05,-1.787962207243319e-05,-1.78796220724764e-05,-1.7879622072434898e-05,-1.7879622072447854e-05,-1.7879622072429836e-05,-1.7879622102014477e-05,-1.787962207243421e-05,-1.7879622072429836e-05,-1.7879622072436846e-05,-1.7879622072436205e-05,-1.7879627830003642e-05,-1.7879622253122258e-05,-1.78796220724296e-05,-1.787962207243223e-05,-1.787962207243552e-05,-1.787962207242342e-05,-1.787962207243662e-05,-1.787962207243595e-05,-1.7879623989129138e-05,-1.787962207243299e-05,-1.786949234585688e-05,-0.0012791405953363325,-1.787962207243244e-05,-0.00018758107829314232,-1.7879622209021674e-05,-1.7879622144302543e-05,-0.0014110799588597138,-0.00038823516870696795,-0.0012791449366479062,-0.0008594491469819161,-0.0003882351687069389,-1.8360001602109415e-06,-1.9651168571145825e-06,-1.9651168573445278e-06,-0.00038823516870686723,-0.0011481772086585531,7.771993703416914e-06,-0.00038823516870689,-2.9373590273737187e-06,-0.0014156374121875714,-0.00057457107184236,-0.00018758107829326898,0.0003431247046927629,-0.00038823516870647757,-0.000892154943098695,-5.874717036965332e-06,1.8326974937581333e-05,-0.00040437237369397904,-0.0004032405849281547,-0.0013676668545764996,-0.00038823516870688176,-0.0001875328415018278,-0.0014110799588548527,-0.00041091009459884954],\"type\":\"scatter3d\"},{\"customdata\":[[\"Dagger\"],[\"Dagger\"],[\"Proof-of-Authority\"]],\"hovertemplate\":\"<b>%{hovertext}</b><br><br>class=%{marker.color}<br>PC 1=%{x}<br>PC 2=%{y}<br>PC 3=%{z}<br>Algorithm=%{customdata[0]}<extra></extra>\",\"hovertext\":[\"DAPS Coin\",\"Amber\",\"Poa Network\"],\"legendgroup\":\"1\",\"marker\":{\"color\":[1,1,1],\"coloraxis\":\"coloraxis\",\"symbol\":\"square\"},\"mode\":\"markers\",\"name\":\"1\",\"scene\":\"scene\",\"showlegend\":true,\"x\":[-2.3813231567886493,-2.405617715427871,-2.4095436401216306],\"y\":[12.982813994678091,13.00981200957478,12.980794234903472],\"z\":[-0.004623444257933877,-0.004723998203425825,-0.004758951487874086],\"type\":\"scatter3d\"},{\"customdata\":[[\"SPL Token\"]],\"hovertemplate\":\"<b>%{hovertext}</b><br><br>class=%{marker.color}<br>PC 1=%{x}<br>PC 2=%{y}<br>PC 3=%{z}<br>Algorithm=%{customdata[0]}<extra></extra>\",\"hovertext\":[\"MAPS\"],\"legendgroup\":\"3\",\"marker\":{\"color\":[3],\"coloraxis\":\"coloraxis\",\"symbol\":\"x\"},\"mode\":\"markers\",\"name\":\"3\",\"scene\":\"scene\",\"showlegend\":true,\"x\":[-2.3221462490812046],\"y\":[-4.591367399800802],\"z\":[22.23318617065512],\"type\":\"scatter3d\"},{\"customdata\":[[\"Leased POS\"],[\"SPoS\"],[\"ECC 256K1\"],[\"SHA3\"]],\"hovertemplate\":\"<b>%{hovertext}</b><br><br>class=%{marker.color}<br>PC 1=%{x}<br>PC 2=%{y}<br>PC 3=%{z}<br>Algorithm=%{customdata[0]}<extra></extra>\",\"hovertext\":[\"Waves\",\"V Systems\",\"Acute Angle Cloud\",\"Nexus\"],\"legendgroup\":\"4\",\"marker\":{\"color\":[4,4,4,4],\"coloraxis\":\"coloraxis\",\"symbol\":\"cross\"},\"mode\":\"markers\",\"name\":\"4\",\"scene\":\"scene\",\"showlegend\":true,\"x\":[-2.347272982065991,-2.3472729820672047,-2.3472729820660283,-2.3470769935460294],\"y\":[-4.636007750224201,-4.63600775022072,-4.636007750216738,-4.635659555478831],\"z\":[-5.569112333101196,-5.569112229842696,-5.569112199118609,-5.3522542935430355],\"type\":\"scatter3d\"}],                        {\"template\":{\"data\":{\"bar\":[{\"error_x\":{\"color\":\"#2a3f5f\"},\"error_y\":{\"color\":\"#2a3f5f\"},\"marker\":{\"line\":{\"color\":\"#E5ECF6\",\"width\":0.5},\"pattern\":{\"fillmode\":\"overlay\",\"size\":10,\"solidity\":0.2}},\"type\":\"bar\"}],\"barpolar\":[{\"marker\":{\"line\":{\"color\":\"#E5ECF6\",\"width\":0.5},\"pattern\":{\"fillmode\":\"overlay\",\"size\":10,\"solidity\":0.2}},\"type\":\"barpolar\"}],\"carpet\":[{\"aaxis\":{\"endlinecolor\":\"#2a3f5f\",\"gridcolor\":\"white\",\"linecolor\":\"white\",\"minorgridcolor\":\"white\",\"startlinecolor\":\"#2a3f5f\"},\"baxis\":{\"endlinecolor\":\"#2a3f5f\",\"gridcolor\":\"white\",\"linecolor\":\"white\",\"minorgridcolor\":\"white\",\"startlinecolor\":\"#2a3f5f\"},\"type\":\"carpet\"}],\"choropleth\":[{\"colorbar\":{\"outlinewidth\":0,\"ticks\":\"\"},\"type\":\"choropleth\"}],\"contour\":[{\"colorbar\":{\"outlinewidth\":0,\"ticks\":\"\"},\"colorscale\":[[0.0,\"#0d0887\"],[0.1111111111111111,\"#46039f\"],[0.2222222222222222,\"#7201a8\"],[0.3333333333333333,\"#9c179e\"],[0.4444444444444444,\"#bd3786\"],[0.5555555555555556,\"#d8576b\"],[0.6666666666666666,\"#ed7953\"],[0.7777777777777778,\"#fb9f3a\"],[0.8888888888888888,\"#fdca26\"],[1.0,\"#f0f921\"]],\"type\":\"contour\"}],\"contourcarpet\":[{\"colorbar\":{\"outlinewidth\":0,\"ticks\":\"\"},\"type\":\"contourcarpet\"}],\"heatmap\":[{\"colorbar\":{\"outlinewidth\":0,\"ticks\":\"\"},\"colorscale\":[[0.0,\"#0d0887\"],[0.1111111111111111,\"#46039f\"],[0.2222222222222222,\"#7201a8\"],[0.3333333333333333,\"#9c179e\"],[0.4444444444444444,\"#bd3786\"],[0.5555555555555556,\"#d8576b\"],[0.6666666666666666,\"#ed7953\"],[0.7777777777777778,\"#fb9f3a\"],[0.8888888888888888,\"#fdca26\"],[1.0,\"#f0f921\"]],\"type\":\"heatmap\"}],\"heatmapgl\":[{\"colorbar\":{\"outlinewidth\":0,\"ticks\":\"\"},\"colorscale\":[[0.0,\"#0d0887\"],[0.1111111111111111,\"#46039f\"],[0.2222222222222222,\"#7201a8\"],[0.3333333333333333,\"#9c179e\"],[0.4444444444444444,\"#bd3786\"],[0.5555555555555556,\"#d8576b\"],[0.6666666666666666,\"#ed7953\"],[0.7777777777777778,\"#fb9f3a\"],[0.8888888888888888,\"#fdca26\"],[1.0,\"#f0f921\"]],\"type\":\"heatmapgl\"}],\"histogram\":[{\"marker\":{\"pattern\":{\"fillmode\":\"overlay\",\"size\":10,\"solidity\":0.2}},\"type\":\"histogram\"}],\"histogram2d\":[{\"colorbar\":{\"outlinewidth\":0,\"ticks\":\"\"},\"colorscale\":[[0.0,\"#0d0887\"],[0.1111111111111111,\"#46039f\"],[0.2222222222222222,\"#7201a8\"],[0.3333333333333333,\"#9c179e\"],[0.4444444444444444,\"#bd3786\"],[0.5555555555555556,\"#d8576b\"],[0.6666666666666666,\"#ed7953\"],[0.7777777777777778,\"#fb9f3a\"],[0.8888888888888888,\"#fdca26\"],[1.0,\"#f0f921\"]],\"type\":\"histogram2d\"}],\"histogram2dcontour\":[{\"colorbar\":{\"outlinewidth\":0,\"ticks\":\"\"},\"colorscale\":[[0.0,\"#0d0887\"],[0.1111111111111111,\"#46039f\"],[0.2222222222222222,\"#7201a8\"],[0.3333333333333333,\"#9c179e\"],[0.4444444444444444,\"#bd3786\"],[0.5555555555555556,\"#d8576b\"],[0.6666666666666666,\"#ed7953\"],[0.7777777777777778,\"#fb9f3a\"],[0.8888888888888888,\"#fdca26\"],[1.0,\"#f0f921\"]],\"type\":\"histogram2dcontour\"}],\"mesh3d\":[{\"colorbar\":{\"outlinewidth\":0,\"ticks\":\"\"},\"type\":\"mesh3d\"}],\"parcoords\":[{\"line\":{\"colorbar\":{\"outlinewidth\":0,\"ticks\":\"\"}},\"type\":\"parcoords\"}],\"pie\":[{\"automargin\":true,\"type\":\"pie\"}],\"scatter\":[{\"marker\":{\"colorbar\":{\"outlinewidth\":0,\"ticks\":\"\"}},\"type\":\"scatter\"}],\"scatter3d\":[{\"line\":{\"colorbar\":{\"outlinewidth\":0,\"ticks\":\"\"}},\"marker\":{\"colorbar\":{\"outlinewidth\":0,\"ticks\":\"\"}},\"type\":\"scatter3d\"}],\"scattercarpet\":[{\"marker\":{\"colorbar\":{\"outlinewidth\":0,\"ticks\":\"\"}},\"type\":\"scattercarpet\"}],\"scattergeo\":[{\"marker\":{\"colorbar\":{\"outlinewidth\":0,\"ticks\":\"\"}},\"type\":\"scattergeo\"}],\"scattergl\":[{\"marker\":{\"colorbar\":{\"outlinewidth\":0,\"ticks\":\"\"}},\"type\":\"scattergl\"}],\"scattermapbox\":[{\"marker\":{\"colorbar\":{\"outlinewidth\":0,\"ticks\":\"\"}},\"type\":\"scattermapbox\"}],\"scatterpolar\":[{\"marker\":{\"colorbar\":{\"outlinewidth\":0,\"ticks\":\"\"}},\"type\":\"scatterpolar\"}],\"scatterpolargl\":[{\"marker\":{\"colorbar\":{\"outlinewidth\":0,\"ticks\":\"\"}},\"type\":\"scatterpolargl\"}],\"scatterternary\":[{\"marker\":{\"colorbar\":{\"outlinewidth\":0,\"ticks\":\"\"}},\"type\":\"scatterternary\"}],\"surface\":[{\"colorbar\":{\"outlinewidth\":0,\"ticks\":\"\"},\"colorscale\":[[0.0,\"#0d0887\"],[0.1111111111111111,\"#46039f\"],[0.2222222222222222,\"#7201a8\"],[0.3333333333333333,\"#9c179e\"],[0.4444444444444444,\"#bd3786\"],[0.5555555555555556,\"#d8576b\"],[0.6666666666666666,\"#ed7953\"],[0.7777777777777778,\"#fb9f3a\"],[0.8888888888888888,\"#fdca26\"],[1.0,\"#f0f921\"]],\"type\":\"surface\"}],\"table\":[{\"cells\":{\"fill\":{\"color\":\"#EBF0F8\"},\"line\":{\"color\":\"white\"}},\"header\":{\"fill\":{\"color\":\"#C8D4E3\"},\"line\":{\"color\":\"white\"}},\"type\":\"table\"}]},\"layout\":{\"annotationdefaults\":{\"arrowcolor\":\"#2a3f5f\",\"arrowhead\":0,\"arrowwidth\":1},\"autotypenumbers\":\"strict\",\"coloraxis\":{\"colorbar\":{\"outlinewidth\":0,\"ticks\":\"\"}},\"colorscale\":{\"diverging\":[[0,\"#8e0152\"],[0.1,\"#c51b7d\"],[0.2,\"#de77ae\"],[0.3,\"#f1b6da\"],[0.4,\"#fde0ef\"],[0.5,\"#f7f7f7\"],[0.6,\"#e6f5d0\"],[0.7,\"#b8e186\"],[0.8,\"#7fbc41\"],[0.9,\"#4d9221\"],[1,\"#276419\"]],\"sequential\":[[0.0,\"#0d0887\"],[0.1111111111111111,\"#46039f\"],[0.2222222222222222,\"#7201a8\"],[0.3333333333333333,\"#9c179e\"],[0.4444444444444444,\"#bd3786\"],[0.5555555555555556,\"#d8576b\"],[0.6666666666666666,\"#ed7953\"],[0.7777777777777778,\"#fb9f3a\"],[0.8888888888888888,\"#fdca26\"],[1.0,\"#f0f921\"]],\"sequentialminus\":[[0.0,\"#0d0887\"],[0.1111111111111111,\"#46039f\"],[0.2222222222222222,\"#7201a8\"],[0.3333333333333333,\"#9c179e\"],[0.4444444444444444,\"#bd3786\"],[0.5555555555555556,\"#d8576b\"],[0.6666666666666666,\"#ed7953\"],[0.7777777777777778,\"#fb9f3a\"],[0.8888888888888888,\"#fdca26\"],[1.0,\"#f0f921\"]]},\"colorway\":[\"#636efa\",\"#EF553B\",\"#00cc96\",\"#ab63fa\",\"#FFA15A\",\"#19d3f3\",\"#FF6692\",\"#B6E880\",\"#FF97FF\",\"#FECB52\"],\"font\":{\"color\":\"#2a3f5f\"},\"geo\":{\"bgcolor\":\"white\",\"lakecolor\":\"white\",\"landcolor\":\"#E5ECF6\",\"showlakes\":true,\"showland\":true,\"subunitcolor\":\"white\"},\"hoverlabel\":{\"align\":\"left\"},\"hovermode\":\"closest\",\"mapbox\":{\"style\":\"light\"},\"paper_bgcolor\":\"white\",\"plot_bgcolor\":\"#E5ECF6\",\"polar\":{\"angularaxis\":{\"gridcolor\":\"white\",\"linecolor\":\"white\",\"ticks\":\"\"},\"bgcolor\":\"#E5ECF6\",\"radialaxis\":{\"gridcolor\":\"white\",\"linecolor\":\"white\",\"ticks\":\"\"}},\"scene\":{\"xaxis\":{\"backgroundcolor\":\"#E5ECF6\",\"gridcolor\":\"white\",\"gridwidth\":2,\"linecolor\":\"white\",\"showbackground\":true,\"ticks\":\"\",\"zerolinecolor\":\"white\"},\"yaxis\":{\"backgroundcolor\":\"#E5ECF6\",\"gridcolor\":\"white\",\"gridwidth\":2,\"linecolor\":\"white\",\"showbackground\":true,\"ticks\":\"\",\"zerolinecolor\":\"white\"},\"zaxis\":{\"backgroundcolor\":\"#E5ECF6\",\"gridcolor\":\"white\",\"gridwidth\":2,\"linecolor\":\"white\",\"showbackground\":true,\"ticks\":\"\",\"zerolinecolor\":\"white\"}},\"shapedefaults\":{\"line\":{\"color\":\"#2a3f5f\"}},\"ternary\":{\"aaxis\":{\"gridcolor\":\"white\",\"linecolor\":\"white\",\"ticks\":\"\"},\"baxis\":{\"gridcolor\":\"white\",\"linecolor\":\"white\",\"ticks\":\"\"},\"bgcolor\":\"#E5ECF6\",\"caxis\":{\"gridcolor\":\"white\",\"linecolor\":\"white\",\"ticks\":\"\"}},\"title\":{\"x\":0.05},\"xaxis\":{\"automargin\":true,\"gridcolor\":\"white\",\"linecolor\":\"white\",\"ticks\":\"\",\"title\":{\"standoff\":15},\"zerolinecolor\":\"white\",\"zerolinewidth\":2},\"yaxis\":{\"automargin\":true,\"gridcolor\":\"white\",\"linecolor\":\"white\",\"ticks\":\"\",\"title\":{\"standoff\":15},\"zerolinecolor\":\"white\",\"zerolinewidth\":2}}},\"scene\":{\"domain\":{\"x\":[0.0,1.0],\"y\":[0.0,1.0]},\"xaxis\":{\"title\":{\"text\":\"PC 1\"}},\"yaxis\":{\"title\":{\"text\":\"PC 2\"}},\"zaxis\":{\"title\":{\"text\":\"PC 3\"}}},\"coloraxis\":{\"colorbar\":{\"title\":{\"text\":\"class\"}},\"colorscale\":[[0.0,\"#0d0887\"],[0.1111111111111111,\"#46039f\"],[0.2222222222222222,\"#7201a8\"],[0.3333333333333333,\"#9c179e\"],[0.4444444444444444,\"#bd3786\"],[0.5555555555555556,\"#d8576b\"],[0.6666666666666666,\"#ed7953\"],[0.7777777777777778,\"#fb9f3a\"],[0.8888888888888888,\"#fdca26\"],[1.0,\"#f0f921\"]]},\"legend\":{\"title\":{\"text\":\"class\"},\"tracegroupgap\":0,\"x\":0,\"y\":1},\"margin\":{\"t\":60}},                        {\"responsive\": true}                    ).then(function(){\n",
       "                            \n",
       "var gd = document.getElementById('398a1d04-3a40-44ae-bc97-ce3709ceae0e');\n",
       "var x = new MutationObserver(function (mutations, observer) {{\n",
       "        var display = window.getComputedStyle(gd).display;\n",
       "        if (!display || display === 'none') {{\n",
       "            console.log([gd, 'removed!']);\n",
       "            Plotly.purge(gd);\n",
       "            observer.disconnect();\n",
       "        }}\n",
       "}});\n",
       "\n",
       "// Listen for the removal of the full notebook cells\n",
       "var notebookContainer = gd.closest('#notebook-container');\n",
       "if (notebookContainer) {{\n",
       "    x.observe(notebookContainer, {childList: true});\n",
       "}}\n",
       "\n",
       "// Listen for the clearing of the current output cell\n",
       "var outputEl = gd.closest('.output');\n",
       "if (outputEl) {{\n",
       "    x.observe(outputEl, {childList: true});\n",
       "}}\n",
       "\n",
       "                        })                };                });            </script>        </div>"
      ]
     },
     "metadata": {},
     "output_type": "display_data"
    }
   ],
   "source": [
    "# Create a 3D-Scatter with the PCA data and the clusters\n",
    "\n",
    "fig = px.scatter_3d(\n",
    "    df,\n",
    "    x=\"PC 1\",\n",
    "    y=\"PC 2\",\n",
    "    z=\"PC 3\",\n",
    "    hover_name='CoinName',\n",
    "    hover_data= ['Algorithm'],\n",
    "    color=\"class\",\n",
    "    symbol=\"class\",\n",
    ")\n",
    "fig.update_layout(legend=dict(x=0, y=1))\n",
    "fig.show()"
   ]
  },
  {
   "cell_type": "markdown",
   "metadata": {},
   "source": [
    "#### Table of Tradable Cryptocurrencies"
   ]
  },
  {
   "cell_type": "code",
   "execution_count": 472,
   "metadata": {},
   "outputs": [],
   "source": [
    "# Table with tradable cryptos\n",
    "#columns = ['CoinName', 'Algorithm', 'ProofType', 'TotalCoinsMined', 'MaxSupply', 'class']\n"
   ]
  },
  {
   "cell_type": "code",
   "execution_count": 473,
   "metadata": {},
   "outputs": [
    {
     "data": {},
     "metadata": {},
     "output_type": "display_data"
    },
    {
     "data": {
      "application/vnd.holoviews_exec.v0+json": "",
      "text/html": [
       "<div id='3997'>\n",
       "\n",
       "\n",
       "\n",
       "\n",
       "\n",
       "  <div class=\"bk-root\" id=\"12384881-4e04-4dc3-bc75-dd4ac0622d64\" data-root-id=\"3997\"></div>\n",
       "</div>\n",
       "<script type=\"application/javascript\">(function(root) {\n",
       "  function embed_document(root) {\n",
       "    var docs_json = {\"f6842756-3961-4dbe-a981-1d02f3eef536\":{\"defs\":[{\"extends\":null,\"module\":null,\"name\":\"ReactiveHTML1\",\"overrides\":[],\"properties\":[]},{\"extends\":null,\"module\":null,\"name\":\"FlexBox1\",\"overrides\":[],\"properties\":[{\"default\":\"flex-start\",\"kind\":null,\"name\":\"align_content\"},{\"default\":\"flex-start\",\"kind\":null,\"name\":\"align_items\"},{\"default\":\"row\",\"kind\":null,\"name\":\"flex_direction\"},{\"default\":\"wrap\",\"kind\":null,\"name\":\"flex_wrap\"},{\"default\":\"flex-start\",\"kind\":null,\"name\":\"justify_content\"}]},{\"extends\":null,\"module\":null,\"name\":\"TemplateActions1\",\"overrides\":[],\"properties\":[{\"default\":0,\"kind\":null,\"name\":\"open_modal\"},{\"default\":0,\"kind\":null,\"name\":\"close_modal\"}]},{\"extends\":null,\"module\":null,\"name\":\"MaterialTemplateActions1\",\"overrides\":[],\"properties\":[{\"default\":0,\"kind\":null,\"name\":\"open_modal\"},{\"default\":0,\"kind\":null,\"name\":\"close_modal\"}]}],\"roots\":{\"references\":[{\"attributes\":{},\"id\":\"4016\",\"type\":\"StringFormatter\"},{\"attributes\":{\"editor\":{\"id\":\"4012\"},\"field\":\"ProofType\",\"formatter\":{\"id\":\"4011\"},\"title\":\"ProofType\"},\"id\":\"4013\",\"type\":\"TableColumn\"},{\"attributes\":{\"source\":{\"id\":\"3999\"}},\"id\":\"4033\",\"type\":\"CDSView\"},{\"attributes\":{},\"id\":\"4021\",\"type\":\"StringFormatter\"},{\"attributes\":{\"editor\":{\"id\":\"4017\"},\"field\":\"TotalCoinsMined\",\"formatter\":{\"id\":\"4016\"},\"title\":\"TotalCoinsMined\"},\"id\":\"4018\",\"type\":\"TableColumn\"},{\"attributes\":{},\"id\":\"4000\",\"type\":\"Selection\"},{\"attributes\":{\"margin\":[5,5,5,5],\"name\":\"HSpacer07230\",\"sizing_mode\":\"stretch_width\"},\"id\":\"3998\",\"type\":\"Spacer\"},{\"attributes\":{\"margin\":[5,5,5,5],\"name\":\"HSpacer07231\",\"sizing_mode\":\"stretch_width\"},\"id\":\"4038\",\"type\":\"Spacer\"},{\"attributes\":{},\"id\":\"4026\",\"type\":\"NumberFormatter\"},{\"attributes\":{},\"id\":\"4001\",\"type\":\"StringFormatter\"},{\"attributes\":{\"editor\":{\"id\":\"4022\"},\"field\":\"MaxSupply\",\"formatter\":{\"id\":\"4021\"},\"title\":\"MaxSupply\"},\"id\":\"4023\",\"type\":\"TableColumn\"},{\"attributes\":{\"columns\":[{\"id\":\"4003\"},{\"id\":\"4008\"},{\"id\":\"4013\"},{\"id\":\"4018\"},{\"id\":\"4023\"},{\"id\":\"4028\"}],\"height\":300,\"reorderable\":false,\"source\":{\"id\":\"3999\"},\"view\":{\"id\":\"4033\"},\"width\":700},\"id\":\"4031\",\"type\":\"DataTable\"},{\"attributes\":{\"editor\":{\"id\":\"4027\"},\"field\":\"class\",\"formatter\":{\"id\":\"4026\"},\"title\":\"class\"},\"id\":\"4028\",\"type\":\"TableColumn\"},{\"attributes\":{},\"id\":\"4002\",\"type\":\"StringEditor\"},{\"attributes\":{\"children\":[{\"id\":\"3998\"},{\"id\":\"4031\"},{\"id\":\"4038\"}],\"margin\":[0,0,0,0],\"name\":\"Row07226\",\"tags\":[\"embedded\"]},\"id\":\"3997\",\"type\":\"Row\"},{\"attributes\":{},\"id\":\"4007\",\"type\":\"StringEditor\"},{\"attributes\":{},\"id\":\"4017\",\"type\":\"StringEditor\"},{\"attributes\":{},\"id\":\"4012\",\"type\":\"StringEditor\"},{\"attributes\":{},\"id\":\"4034\",\"type\":\"UnionRenderers\"},{\"attributes\":{\"editor\":{\"id\":\"4002\"},\"field\":\"CoinName\",\"formatter\":{\"id\":\"4001\"},\"title\":\"CoinName\"},\"id\":\"4003\",\"type\":\"TableColumn\"},{\"attributes\":{},\"id\":\"4006\",\"type\":\"StringFormatter\"},{\"attributes\":{\"data\":{\"Algorithm\":[\"Scrypt\",\"PoS\",\"X13\",\"Scrypt\",\"Scrypt\",\"RandomX\",\"X11\",\"Equihash\",\"IMesh\",\"Dagger\",\"SHA-256\",\"NEP-5\",\"ProgPowZ\",\"X16RT\",\"C31\",\"X16R\",\"Scrypt\",\"HEX\",\"BEP2 Token\",\"SHA-256\",\"Multiple\",\"POS 3.0\",\"Ethash\",\"NRC20 Token\",\"Quark\",\"Scrypt\",\"SHA-256\",\"SPL Token\",\"Equihash\",\"Ethash\",\"SHA-256\",\"HRC-20 Token\",\"BEP-2\",\"BEP-20 Token\",\"BEP-20 Token\",\"BEP-20 Token\",\"VeChainThor Authority\",\"BEP-20 Token\",\"BEP-20 Token\",\"BEP-20 Token\",\"BEP-20 Token\",\"BEP-20 Token\",\"BEP-20 Token\",\"SHA-256\",\"Scrypt\",\"BEP-20 Token\",\"SHA-256\",\"BEP-20 Token\",\"BEP-20 Token\",\"DPoS\",\"BEP-20 Token\",\"BEP-20 Token\",\"BEP-20 Token\",\"BEP-20 Token\",\"BEP-20 Token\",\"BEP-20 Token\",\"BEP-20 Token\",\"BEP-20 Token\",\"BEP-20 Token\",\"BEP-20 Token\",\"TRC-20\",\"TRC-20\",\"BEP-20 Token\",\"BEP-20 Token\",\"TRC-20\",\"BEP-20 Token\",\"BEP-20 Token\",\"BEP-20 Token\",\"BEP-20 Token\",\"Multiple\",\"BEP-20 Token\",\"BEP-20 Token\",\"Autolykos\",\"GO20\",\"BEP-20 Token\",\"BEP-20 Token\",\"X16R\",\"BEP-20 Token\",\"BEP-20 Token\",\"Equihash\",\"TRC-20\",\"BEP-20 Token\",\"BEP-20 Token\",\"BEP-20 Token\",\"BEP-20 Token\",\"BEP-20 Token\",\"BEP-20 Token\",\"BEP-20 Token\",\"BEP-20 Token\",\"BEP-20 Token\",\"BEP-20 Token\",\"BEP-20 Token\",\"BEP-20 Token\",\"BEP-20 Token\",\"BEP-20 Token\",\"BEP-20 Token\",\"BEP-20 Token\",\"BEP-20 Token\",\"BEP-20 Token\",\"BEP-20 Token\",\"BEP-20 Token\",\"BEP-20 Token\",\"BEP-20 Token\",\"BEP-20 Token\",\"BEP-20 Token\",\"BEP-2 Token\",\"BEP-20 Token\",\"BEP-20 Token\",\"BEP-20 Token\",\"BEP-20 Token\",\"BEP-20 Token\",\"BEP-20 Token\",\"BEP-20 Token\",\"BEP-20 Token\",\"BEP-20 Token\",\"BEP-20 Token\",\"BEP-20 Token\",\"BEP-20 Token\",\"BEP-20 Token\",\"BEP-20 Token\",\"BEP-20 Token\",\"BEP-20 Token\",\"BEP-20 Token\",\"BEP-20 Token\",\"BEP-20 Token\",\"BEP-20 Token\",\"BEP-20 Token\",\"BEP-20 Token\",\"BEP-20 Token\",\"BEP-20 Token\",\"BEP-20 Token\",\"BEP-20 Token\",\"BEP-20 Token\",\"BEP-20 Token\",\"BEP-20 Token\",\"BEP-20 Token\",\"BEP-20 Token\",\"BEP-20 Token\",\"BEP-20 Token\",\"BEP-20 Token\",\"BEP-20 Token\",\"BEP-20 Token\",\"BEP-20 Token\",\"BEP-20 Token\",\"BEP-20 Token\",\"BEP-20 Token\",\"BEP-20 Token\",\"BEP-20 Token\",\"BEP-20 Token\",\"BEP-20 Token\",\"BEP-20 Token\",\"BEP-20 Token\",\"BEP-20 Token\",\"BEP-20 Token\",\"BEP-20 Token\",\"X13\",\"BEP-20 Token\",\"BEP-20 Token\",\"CryptoNight-Lite\",\"Scrypt\",\"Equihash\",\"Equihash\",\"IMesh\",\"Ethash\",\"BEP-20 Token\",\"BEP-20 Token\",\"BEP-20 Token\",\"BEP-20 Token\",\"BEP-20 Token\",\"Eaglesong\",\"BEP-20 Token\",\"BEP-20 Token\",\"BEP-20 Token\",\"BEP-20 Token\",\"BEP-20 Token\",\"Blake2B + SHA3\",\"BEP-20 Token\",\"BEP-20 Token\",\"BEP-20 Token\",\"BEP-20 Token\",\"BEP-20 Token\",\"BEP-20 Token\",\"BEP-20 Token\",\"BEP-20 Token\",\"SHA-256\",\"BEP-20 Token\",\"BEP-20 Token\",\"BEP-20 Token\",\"BEP-20 Token\",\"BEP-20 Token\",\"BEP-20 Token\",\"BEP-20 Token\",\"BEP-20 Token\",\"BEP-20 Token\",\"BEP-20 Token\",\"BEP-20 Token\",\"BEP-20 Token\",\"Scrypt\",\"BEP-20 Token\",\"PoS\",\"Ethash\",\"BEP-20 Token\",\"DPoS\",\"BEP-20 Token\",\"Dagger\",\"Lyra2Z\",\"Equihash\",\"SHA-256\",\"RandomX\",\"BEP-20 Token\",\"VBFT\",\"DPoS\",\"BLAKE256\",\"PoS\",\"X13\",\"Ethash\",\"MTP\",\"X11\",\"Blake2b\",\"DPoS\",\"dBFT2.0\",\"TRC-20\",\"Ethash\",\"SHA-256\",\"Scrypt\",\"BLAKE256\",\"Scrypt\",\"TRC-20\",\"KECCAK\",\"Scrypt\",\"DPoS\",\"PoS\",\"CryptoNight\",\"NEP-5\",\"Equihash\",\"Blake2b\",\"Scrypt\",\"Leased POS\",\"Equihash210,9\",\"DPoS\",\"Scrypt\",\"SHA-256\",\"X11GOST\",\"Scrypt\",\"BEP-2\",\"BMW512 / Echo512\",\"POS 3.0\",\"Scrypt\",\"C31\",\"Scrypt\",\"CryptoNight-Heavy\",\"Scrypt\",\"Scrypt\",\"Scrypt\",\"SHA-256\",\"Blake2b\",\"PoS\",\"Scrypt\",\"Shabal256\",\"Equihash\",\"Multiple\",\"DPoS\",\"Scrypt\",\"Lyra2REv2\",\"Multiple\",\"VeChainThor Authority\",\"SPoS\",\"DPoS\",\"ECC 256K1\",\"Dagger-Hashimoto\",\"SHA-256\",\"PoS\",\"X11\",\"DPoS\",\"BEP-2\",\"Scrypt\",\"KAWPOW\",\"X13\",\"Equihash\",\"SHA-256\",\"Scrypt\",\"SHA-512\",\"TRC-10\",\"Ethash\",\"Proof-of-Authority\",\"Quark\",\"Cryptonight Haven\",\"X13\",\"CryptoNight\",\"Ethash\",\"Ouroboros\",\"SHA3\",\"X13\",\"X11\",\"CryptoNight\",\"Multiple\",\"Scrypt\",\"DPoS\",\"Ethash\",\"EtcHash\",\"NeoScrypt\",\"Groestl\",\"DPoS\",\"Equihash\",\"Loopchain\",\"SHA-512\",\"Equihash\"],\"CoinName\":[\"42 Coin\",\"NuShares\",\"Triangles Coin\",\"CometCoin\",\"OpenChat\",\"Quantum Resistant Ledger\",\"Pura\",\"Bitcoin Private\",\"Aidos Kuneen\",\"DAPS Coin\",\"Foin\",\"Nevula\",\"Zano\",\"VEIL\",\"MimbleWimbleCoin\",\"Ravencoin Classic\",\"Goldmaxcoin\",\"XDNA\",\"Swingby\",\"Wibcoin\",\"Revain\",\"TokenPay\",\"EtherZero\",\"NextDAO\",\"QuarkCoin\",\"United Emirates Coin\",\"Arweave\",\"MAPS\",\"Bithereum\",\"BeforeCoinMarketCap\",\"Smart Bitcoin\",\"WeStarter\",\"BakeryToken\",\"IMPULSE by FDR\",\"Altura\",\"DekBox\",\"VEED\",\"Less Network\",\"KingDoge\",\"SafeHamsters\",\"Yuang Coin\",\"Kiwigo\",\"Votechain\",\"UnitedBitcoin\",\"VeriCoin\",\"Pea Farm\",\"Emercoin\",\"SparkPoint Fuel\",\"Genshiro\",\"ModiHost\",\"RealFevr\",\"MocktailSwap\",\"Effort Economy \",\"QueenDex Coin\",\"Lion Token\",\"Artex\",\"TBCC\",\"xWIN Finance\",\"MContent\",\"Tokyo AU\",\"Zoe Cash\",\"Novax Coin\",\"ShonToken\",\"Investelly token\",\"TRONbetLive\",\"Binance Smart Chain Girl\",\"PureFi\",\"Daddy Doge\",\"Five7\",\"Circuits of Value\",\"Diamond Boyz Coin\",\"Plant vs Undead Token\",\"Ergo\",\"ECOMI\",\"Coin98\",\"Safe Energy\",\"Genix\",\"Trust Wallet Token\",\"Lanceria\",\"Beam\",\"Didcoin\",\"Little Rabbit\",\"Teaswap Art\",\"Kaiken Shiba\",\"My DeFi Pet\",\"BunnyPark\",\"ApeSwap Finance\",\"Pancake Bunny\",\"BTC Standard Hashrate Token\",\"Alpha Finance Lab\",\"Safe Star\",\"Pylon Eco Token\",\"Metahero\",\"Pig Finance\",\"Monsta Infinite\",\"Doggy\",\"Xiasi Inu\",\"Thetan Arena\",\"Nafter\",\"CryptoBlades\",\"CryptoZoon\",\"Binemon\",\"HoDooi.com\",\"Smaugs NFT\",\"Wall Street Games\",\"Honest\",\"Radio Caca\",\"KCCPad\",\"TrustPad\",\"Sishi Finance\",\"Feeder Finance\",\"Battle Pets\",\"Pacoca\",\"Pancake Hunny\",\"Rabbit Finance\",\"NFT Alley\",\"TEN\",\"Dehero Community Token\",\"Wheelers\",\"ShibaCash\",\"Longdrink Finance\",\"Eggplant Finance\",\"EIFI FINANCE\",\"TendieSwap\",\"CosmicSwap\",\"Vention\",\"WOWswap\",\"Betu\",\"Wenlambo\",\"Sheesh it is bussin bussin\",\"Pet Games\",\"CheCoin\",\"GemGuardian\",\"ForeverFOMO\",\"Knight War Spirits\",\"KRYZA Network\",\"Badger Sett Badger\",\"Portify\",\"DogeHouse Capital\",\"Bholdus Token\",\"Sphynx Token\",\"RugZombie\",\"LPI DAO\",\"Rainbow Token\",\"Step Hero\",\"Starpunk\",\"The Real Golden Inu\",\"Jade Currency\",\"Binamars\",\"BUMooN\",\"Loud Market\",\"DefiXBet\",\"Vortex DeFi\",\"RiceFarm\",\"BNB Cash\",\"Stratis\",\"Bogged Finance\",\"Dexit Finance\",\"AEON\",\"Canada eCoin\",\"TENT\",\"Pirate Chain\",\"Internet Node token\",\"Super Zero\",\"Roseon Finance\",\"BabyDoge\",\"Splinterlands\",\"SafePal\",\"CumRocket\",\"Nervos Network\",\"Lucky Lion\",\"OpenOcean\",\"SIL Finance Token V2\",\"Bonus Cake\",\"TrustFi Network Token\",\"Handshake\",\"SoccerHub\",\"CryptoPlanes\",\"gotEM\",\"Pitch Finance Token\",\"Torii Finance\",\"GOMA Finance\",\"GameFi\",\"Shell Token\",\"REDi\",\"Pokmonsters\",\"Kalata Protocol\",\"NFT Art Finance\",\"Baby Floki Billionaire\",\"VelasPad\",\"Battle Hero\",\"Lazio Fan Token\",\"HarmonyPad\",\"YocoinYOCO\",\"JERITEX\",\"Australian Safe Shepherd\",\"TRONPAD\",\"Auroracoin\",\"AUREO\",\"Validity\",\"Ethereum Name Service\",\"Binamon\",\"Tenset\",\"MiniDOGE\",\"Amber\",\"TecraCoin\",\"BitcoinZ\",\"eCash\",\"Monero\",\"YooShi\",\"Ontology\",\"Lisk\",\"HyperCash\",\"Anchor Protocol\",\"ABBC Coin\",\"Expanse\",\"Firo\",\"IOCoin\",\"Siacoin\",\"Shift\",\"NEO\",\"Sun Token\",\"Waltonchain\",\"Bitcoin\",\"BlackCoin\",\"Decred\",\"Einsteinium\",\"Sun Token\",\"SmartCash\",\"SaluS\",\"Oxycoin\",\"Nxt\",\"Beldex\",\"DeepBrain Chain\",\"ZCash\",\"Yeeco\",\"WhiteCoin\",\"Waves\",\"Aion\",\"ARK\",\"Flo\",\"Bitcoin Cash\",\"SibCoin\",\"SafeExchangeCoin\",\"Phoenix Binance\",\"DigitalNote\",\"QTUM\",\"PotCoin\",\"Grin\",\"Gulden\",\"Haven Protocol\",\"Litecoin\",\"MegaCoin\",\"MonaCoin\",\"Namecoin\",\"Nano\",\"Neblio\",\"NovaCoin\",\"Signa\",\"Zelcash\",\"WXT\",\"Worldwide Asset eXchange\",\"ViaCoin\",\"Vertcoin\",\"Verge\",\"VeChain\",\"V Systems\",\"Achain\",\"Acute Angle Cloud\",\"Ubiq\",\"SysCoin\",\"Steem\",\"Stakenet\",\"Rise\",\"Binance Coin\",\"Reddcoin\",\"Ravencoin\",\"Bitcoin Diamond\",\"Bitcoin Gold\",\"Bitcoin SV\",\"Primas\",\"Bitshares\",\"BitTorrent\",\"Metaverse\",\"Poa Network\",\"Private Instant Verified Transaction\",\"BLOC.MONEY\",\"NavCoin\",\"ByteCoin\",\"Callisto Network\",\"Cardano\",\"Nexus\",\"CloakCoin\",\"Dash\",\"Dero\",\"DigiByte\",\"Dogecoin\",\"EOS\",\"Ethereum\",\"Ethereum Classic\",\"FeatherCoin\",\"Groestlcoin\",\"High Performance Blockchain\",\"Horizen\",\"ICON Project\",\"Kcash\",\"Komodo\"],\"MaxSupply\":{\"__ndarray__\":\"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\",\"dtype\":\"float64\",\"order\":\"little\",\"shape\":[307]},\"ProofType\":[\"PoW/PoS\",\"PoS\",\"PoW/PoS\",\"PoW\",\"PoW/PoS\",\"PoW\",\"PoW\",\"PoW\",\"PoW\",\" PoW/PoS/PoA\",\"nan\",\"nan\",\"PoW/PoS\",\"PoW/PoS\",\"PoW\",\"PoW\",\"PoW\",\"PoW/PoS\",\"nan\",\"PoW\",\"nan\",\"PoS\",\"PoW\",\"nan\",\"PoW/PoS\",\"nan\",\"PoW\",\"PoH\",\"PoW\",\"PoW/PoS\",\"PoW\",\"nan\",\"nan\",\"nan\",\"nan\",\"nan\",\"nan\",\"nan\",\"nan\",\"nan\",\"nan\",\"nan\",\"nan\",\"PoW\",\"PoST\",\"nan\",\"PoW/PoS\",\"nan\",\"nan\",\"nan\",\"nan\",\"nan\",\"nan\",\"nan\",\"nan\",\"nan\",\"nan\",\"nan\",\"nan\",\"nan\",\"nan\",\"nan\",\"nan\",\"nan\",\"nan\",\"nan\",\"nan\",\"nan\",\"nan\",\"PoW\",\"nan\",\"nan\",\"PoW\",\"nan\",\"nan\",\"nan\",\"PoW\",\"nan\",\"nan\",\"PoW\",\"nan\",\"nan\",\"nan\",\"nan\",\"nan\",\"nan\",\"nan\",\"nan\",\"nan\",\"nan\",\"nan\",\"nan\",\"nan\",\"nan\",\"nan\",\"nan\",\"nan\",\"nan\",\"nan\",\"nan\",\"nan\",\"nan\",\"nan\",\"nan\",\"nan\",\"nan\",\"nan\",\"nan\",\"nan\",\"nan\",\"nan\",\"nan\",\"nan\",\"nan\",\"nan\",\"nan\",\"nan\",\"nan\",\"nan\",\"nan\",\"nan\",\"nan\",\"nan\",\"nan\",\"nan\",\"nan\",\"nan\",\"nan\",\"nan\",\"nan\",\"nan\",\"nan\",\"nan\",\"nan\",\"nan\",\"nan\",\"nan\",\"nan\",\"nan\",\"nan\",\"nan\",\"nan\",\"nan\",\"nan\",\"nan\",\"nan\",\"nan\",\"nan\",\"nan\",\"nan\",\"nan\",\"nan\",\"nan\",\"nan\",\"nan\",\"PoS\",\"nan\",\"nan\",\"PoW\",\"AuxPoW\",\"PoW\",\"dPoW\",\"DPoS/dBFT\",\"ProgPoW/PoS\",\"nan\",\"nan\",\"nan\",\"PoSA\",\"nan\",\"PoW\",\"nan\",\"nan\",\"nan\",\"nan\",\"nan\",\"PoW\",\"nan\",\"nan\",\"nan\",\"nan\",\"nan\",\"nan\",\"nan\",\"nan\",\"nan\",\"nan\",\"nan\",\"nan\",\"nan\",\"nan\",\"nan\",\"nan\",\"nan\",\"nan\",\"nan\",\"nan\",\"nan\",\"PoW/PoS\",\"nan\",\"PoS\",\"Proof-of-Work\",\"nan\",\"nan\",\"nan\",\"PoA\",\"PoW\",\"PoW\",\"PoW\",\"PoW\",\"nan\",\"PoS\",\"DPoS\",\"PoW/PoS\",\"PoS\",\"nan\",\"PoW\",\"PoW\",\"PoW/PoS\",\"PoW\",\"DPoS\",\"nan\",\"nan\",\"nan\",\"PoW\",\"PoS\",\"PoW/PoS\",\"PoW\",\"nan\",\"PoW\",\"PoW/PoS\",\"DPoS\",\"PoS/LPoS\",\"PoS\",\"nan\",\"PoW\",\"nan\",\"PoW/PoS\",\"LPoS\",\"PoW/PoS\",\"DPoS\",\"PoW\",\"PoW\",\"PoW\",\"PoC\",\"nan\",\"PoW/PoS\",\"PoS\",\"PoW/PoS\",\"PoW\",\"PoW\",\"PoW\",\"PoW\",\"PoW\",\"PoW\",\"PoW\",\"PoW\",\"nan\",\"PoW/PoS\",\"PoC\",\"PoW/PoS\",\"nan\",\"nan\",\"PoW\",\"PoW\",\"PoW\",\"Proof of Authority\",\"SPoS\",\"DPoS\",\"DPOS\",\"PoW\",\"PoW\",\"PoW\",\"TPoS\",\"PoS\",\"BFT\",\"PoW/PoS\",\"nan\",\"PoW/PoS\",\"PoW\",\"PoW\",\"PoW\",\"DPoS\",\"DPoS\",\"nan\",\"PoA\",\"PoW/PoS\",\"PoW\",\"PoW/PoS\",\"PoW\",\"PoW\",\"PoS\",\"PoW/nPoS\",\"PoW/PoS\",\"PoW/PoSe\",\"PoW\",\"PoW\",\"PoW\",\"DPoS\",\"PoW\",\"PoW\",\"PoW\",\"PoW\",\"nan\",\"PoW\",\"PoS\",\"Zero-Knowledge Proof\",\"dPoW/PoW\"],\"TotalCoinsMined\":{\"__ndarray__\":\"HyMsbP7/REAwTB2eTP/2QbjIPb0mZAdBAAAAAPyiKkEAAAAAZc3NQYG3kNDhHpJB6OytgUJ0pkEke6MxvyJNQQAAAACE13dBAADoEw8FLUK4r0NjvxWWQQAAACBfoCJCx4XJzFfwaEEqB9z+tH6cQRPbOCjuomRBddO+aQSPA0KmbvwEVM7MQQAAAKDl12BBAAAAAGXNzUHsDROLtBptQoLVm9fAzTNCAAAAkOTddEFmZuajZzyrQV/X/N9M/eBB4uPYbFGWsEEAAAAA0BJzQQAAAJiTzY5BAAAAAGXNzUEAAAAAh3R9QSX+yIHN3P9BFZOACQzbokAAAAAAhNeXQUNo+v4szcVBAAAAAABMDUEAAAAgjNHTQQAAAAAqdZVBAAAA6HZIN0IAAAAAZc2dQQAANCb1awxDAABA5ZwwgkIAADQm9WsMQwAAAABlzc1BAAAAqIA7g0EAAAAA9AZ0Qco3rvwFi4BBAAAAADicbEE8L9XKY/KGQQAAAACj4aFB6kRUGNGTk0EAAAAAZc3NQQAAAABlzQ1CKs+8K8kNe0EAAAAAhNeXQQAAAABlzd1BjRH+MPJk8kEAAAAAhNeXQQAAAABlzc1BAAAAAEoWjUHWKGzUBnc1QwAANCb1awxDAAAAAITXl0EAAAAY3g1FQQAAACBfoAJCAAAAAITXd0H9Fh9W7nXNQQAAAAA4nJxB4noU/hf7hEGJuwxWHGX8QoCUbms8b6NBJgpB0XN92kEAAAAAZc3NQQAAAP+i4bFBAAAAWG5IiEH8Y9pvbUJSQgAAAACE15dB6l2Hqa+H7kIAAABwxyOaQQAAAABlzc1BAAAAgJPctEEdjcF2oJOQQQCAhjClZW1CV1X91PLAs0QAAAAAo+HBQVy/kNVVn45DAAAAAITXl0EOQCnPtCuVQU9PULSj7ZlBpVZolIXqbEEAAAAAOJxsQQAAAABlzc1BAtaQeVpZ9ULmaq36kWqXQSaR0bTkMAJCxpVniPV790IAAACA3xewQQrX+eYlIO5BeGrUJg/i+0IAAAAAsQi5QQAAgGOGu81BAAAAAICELkGmOYOK1TnNQQAAgG9/3MtBAAAAAGXNzUEAAAAAKnWVQegNP+kckAtDAAAAAITXt0HlaSq7zA1QQnPaiM+rNq9B3HkPBjdUl0GtuLZSwmFFQc3MzMK+7pZBPCejCebCp0EoW0OByn+eQSceBFdfFpBB8uuQL2X/oEEAAAAA0BJjQblfOEN8mYZBC/+lmIuQaEEAAAAAhNeXQQSzErYWEt9Ceg/DLKKIOkFO9s8m4M5EQQAAAACj4aFB/3mWEPM7VUFkiB9ToO0HQQAAAICT3MRBAAAAAICELkEAAABoH4jLQdhsuRV6ncZCAABsivEDE0K5yUxORVTSQf///+d2SDdCAAAAAITXl0FrfKVmDngUQQAAAAA4nLxBEI+a/8aEn0Ip0XZAKRDjQAYAAJDfOZpBJh5QTpz7kkEAAAAgX6ACQgAAAABlzc1BOrcgKKjlo0EAAADAQuVhQQc5qnUstQZDAAAAAITXl0EAAAAA/UPEQelsjKH6bfhCAAAAACp1lUGDuH4ytfqUQcuXmjkhSQBDKKIVEAtgkkEAAAAA8LNqQQAAAACE15dB5DuqcbD6aMGC2Hxbi0SlQZnBnyWb+Z9BldqQJNfrakFj5FtYQ1TjQQJ6m8tbL3FBAAAADDHSl0EAAADARXmCQd83Pgw3sqZB6G7c0u3BxkEAAADI6uizQQAAAACE15dBc2jSEkbzi0MAAACkgUS/QQAAAABlzb1BnJxBZW/30kHdj5h5TZ0gQjq0CPpL65RBAAAAAGXNzUEAAAAAAEztQP//t8hqGzdCAAAAAITXl0E89tvA8OO7QQAAAABlzc1B////53ZIR0IAAABAyjmxQQAAAOh2SDdCaVZjyG8/30Ashd0F/IvhQhgEVko7hmxBMzMzMzPiukAAAAAgX6ACQpdzFnRuYpdBcBzkOC/6oEHQ4hS/GK5aQzAfy+dAywpD5jntkCnHtkGFsWVLbvbLQQAAAADQEoNBd4dXLpStx0FY5pdA4ZWWQQAAAACE15dBAIDgN3nDQUOkcP2DKqHEQXjdzg1Qz5dB9yjjG37ackG+jclbNzlRQQAAAACE15dBYgudMZBEq0E0UMVHbdGnQU2aR38jQQRDAACA030sy0GiEq62EnoZQYe6m4+gRARCYUV3RHZEsUKkEhffoz5xQWDmiX0dUPVCAAAAAGXNzUEAAACqhEOhQQTmoSrxfYVBAAAAAGXNzUEAAADAC1rWQVyPwv/hi4BBC4DudA+oaEFx65ZPjoRyQQAAoP8AYCdCAAAA4ENNbEEAAAAAhNeXQQAAAKCT+nJBwqh7sjaieUEAAABQDRZyQV6WxeanL41Bb7hy5cZLakHx///U9IGqQQEAQCq0iBJCrHXHIAJX5EEXKv+2w40vQRSu13KMudBBQAb4u8PFzUEAAIDkbN3UQQAAACBfoAJCtU1S/YMrZ0EAAAAgX6ACQgAAgHrBcsxBAAAAiJOkmUEAAABs3ey9QQEAAOzseaNBoK1Jx9ehoEECsFiaIRxyQfG4/EE2zXJBAADA////30FCc+E0+yPpQR/uMz2OGP5BAAAAWODOmEHdTqN1kBurQRXZjsqyQZRB3/qlzu0ZwEEiOWxwqadrQR0T73aXnZBBQN7xL/IBg0Gw5eJByz2UQQAAAFi8KnFBAAAAiNTEn0GYc0jLQBpyQXyd1NtAZ0tBAAAAtgzh30EAAAAA3jm6QQxTLxhfoAJCYEuula+960GCBmoJ9Bl2QcF3iN5DTI5BRqsukbS6DkIAABmbGwU0QgAAEKGPjfZBAAAAAGXNzUEAAAAAZc3NQUns1JaxWYhBUHvUUX/cwkGiRdYnyxO3QZWHih13h55BhevR3vcip0F7FC7iJ6+jQWQnxrN2qhxCuR9OB7QgBEIAAAAGlyeoQWYvxplRGXJBm81ODiobckEAAAAAhNeXQcGo+fjMT+ZB+feqGf3PbELuUp5HKH+TQdZr2qG2aaVBmfHljnxPkEHTTWLB3Y10QYIax5LlYJFBOoww4o55RULTxaeTgDXnQX2E0IVJxB5CUBqqGn5akUHLlrbI5QBWQXMJzdv+NGRBAAAAADCMcUEU9Dlm6CYMQom0D4gGCj9CiPSjGDc5z0Hb+f7ZdYicQd6q0oc8a59BMfUDBHxsrkGmr4wrb/OSQQAAADjfG5hBAAAAQAcQZ0HIccpYDIDLQQAAAABlzc1BT5xANyqLn0E=\",\"dtype\":\"float64\",\"order\":\"little\",\"shape\":[307]},\"class\":{\"__ndarray__\":\"AgAAAAAAAAACAAAAAgAAAAIAAAACAAAAAgAAAAIAAAACAAAAAQAAAAIAAAAAAAAAAgAAAAIAAAACAAAAAgAAAAIAAAACAAAAAAAAAAIAAAACAAAAAAAAAAIAAAAAAAAAAgAAAAIAAAACAAAAAwAAAAIAAAACAAAAAgAAAAAAAAAAAAAAAAAAAAAAAAAAAAAAAAAAAAAAAAAAAAAAAAAAAAAAAAAAAAAAAAAAAAIAAAACAAAAAAAAAAIAAAAAAAAAAAAAAAAAAAAAAAAAAAAAAAAAAAAAAAAAAAAAAAAAAAAAAAAAAAAAAAAAAAAAAAAAAAAAAAAAAAAAAAAAAAAAAAAAAAAAAAAAAAAAAAAAAAAAAAAAAgAAAAAAAAAAAAAAAgAAAAAAAAAAAAAAAAAAAAIAAAAAAAAAAAAAAAIAAAAAAAAAAAAAAAAAAAAAAAAAAAAAAAAAAAAAAAAAAAAAAAAAAAAAAAAAAAAAAAAAAAAAAAAAAAAAAAAAAAAAAAAAAAAAAAAAAAAAAAAAAAAAAAAAAAAAAAAAAAAAAAAAAAAAAAAAAAAAAAAAAAAAAAAAAAAAAAAAAAAAAAAAAAAAAAAAAAAAAAAAAAAAAAAAAAAAAAAAAAAAAAAAAAAAAAAAAAAAAAAAAAAAAAAAAAAAAAAAAAAAAAAAAAAAAAAAAAAAAAAAAAAAAAAAAAAAAAAAAAAAAAAAAAAAAAAAAAAAAAAAAAAAAAAAAAAAAAAAAAAAAAAAAAAAAAAAAAAAAAAAAAAAAAAAAAAAAAAAAAAAAAAAAAAAAAAAAAAAAAAAAAAAAAAAAAAAAAAAAAAAAAAAAAAAAAAAAAACAAAAAgAAAAIAAAACAAAAAgAAAAIAAAAAAAAAAAAAAAAAAAAAAAAAAAAAAAIAAAAAAAAAAAAAAAAAAAAAAAAAAAAAAAIAAAAAAAAAAAAAAAAAAAAAAAAAAAAAAAAAAAAAAAAAAAAAAAIAAAAAAAAAAAAAAAAAAAAAAAAAAAAAAAAAAAAAAAAAAAAAAAAAAAAAAAAAAAAAAAAAAAACAAAAAAAAAAAAAAACAAAAAAAAAAAAAAAAAAAAAQAAAAIAAAACAAAAAgAAAAIAAAAAAAAAAAAAAAAAAAACAAAAAAAAAAAAAAACAAAAAgAAAAIAAAACAAAAAAAAAAAAAAAAAAAAAgAAAAIAAAACAAAAAgAAAAIAAAAAAAAAAgAAAAIAAAAAAAAAAAAAAAIAAAAAAAAAAgAAAAIAAAACAAAABAAAAAIAAAAAAAAAAgAAAAIAAAACAAAAAgAAAAAAAAACAAAAAAAAAAIAAAACAAAAAgAAAAIAAAACAAAAAgAAAAIAAAACAAAAAgAAAAAAAAACAAAAAgAAAAIAAAACAAAAAAAAAAIAAAACAAAAAgAAAAAAAAAEAAAAAAAAAAQAAAACAAAAAgAAAAIAAAACAAAAAAAAAAAAAAACAAAAAAAAAAIAAAACAAAAAgAAAAIAAAAAAAAAAAAAAAIAAAABAAAAAgAAAAIAAAACAAAAAgAAAAIAAAAAAAAABAAAAAIAAAACAAAAAgAAAAIAAAACAAAAAAAAAAIAAAACAAAAAgAAAAIAAAAAAAAAAgAAAAAAAAAAAAAAAgAAAA==\",\"dtype\":\"int32\",\"order\":\"little\",\"shape\":[307]}},\"selected\":{\"id\":\"4000\"},\"selection_policy\":{\"id\":\"4034\"}},\"id\":\"3999\",\"type\":\"ColumnDataSource\"},{\"attributes\":{},\"id\":\"4022\",\"type\":\"StringEditor\"},{\"attributes\":{},\"id\":\"4011\",\"type\":\"StringFormatter\"},{\"attributes\":{\"editor\":{\"id\":\"4007\"},\"field\":\"Algorithm\",\"formatter\":{\"id\":\"4006\"},\"title\":\"Algorithm\"},\"id\":\"4008\",\"type\":\"TableColumn\"},{\"attributes\":{},\"id\":\"4027\",\"type\":\"IntEditor\"}],\"root_ids\":[\"3997\"]},\"title\":\"Bokeh Application\",\"version\":\"2.4.1\"}};\n",
       "    var render_items = [{\"docid\":\"f6842756-3961-4dbe-a981-1d02f3eef536\",\"root_ids\":[\"3997\"],\"roots\":{\"3997\":\"12384881-4e04-4dc3-bc75-dd4ac0622d64\"}}];\n",
       "    root.Bokeh.embed.embed_items_notebook(docs_json, render_items);\n",
       "  }\n",
       "  if (root.Bokeh !== undefined && root.Bokeh.Panel !== undefined) {\n",
       "    embed_document(root);\n",
       "  } else {\n",
       "    var attempts = 0;\n",
       "    var timer = setInterval(function(root) {\n",
       "      if (root.Bokeh !== undefined && root.Bokeh.Panel !== undefined) {\n",
       "        clearInterval(timer);\n",
       "        embed_document(root);\n",
       "      } else if (document.readyState == \"complete\") {\n",
       "        attempts++;\n",
       "        if (attempts > 200) {\n",
       "          clearInterval(timer);\n",
       "          console.log(\"Bokeh: ERROR: Unable to run BokehJS code because BokehJS library is missing\");\n",
       "        }\n",
       "      }\n",
       "    }, 25, root)\n",
       "  }\n",
       "})(window);</script>"
      ],
      "text/plain": [
       ":Table   [CoinName,Algorithm,ProofType,TotalCoinsMined,MaxSupply,class]"
      ]
     },
     "execution_count": 473,
     "metadata": {
      "application/vnd.holoviews_exec.v0+json": {
       "id": "3997"
      }
     },
     "output_type": "execute_result"
    }
   ],
   "source": [
    "# Print the total number of tradable cryptocurrencies\n",
    "df.hvplot.table(columns)"
   ]
  },
  {
   "cell_type": "code",
   "execution_count": 474,
   "metadata": {},
   "outputs": [
    {
     "data": {
      "text/plain": [
       "42       2\n",
       "NSR      0\n",
       "TRI      2\n",
       "CMTC     2\n",
       "CHAT     2\n",
       "        ..\n",
       "HPB      0\n",
       "ZEN      2\n",
       "ICX      0\n",
       "KCASH    0\n",
       "KMD      2\n",
       "Name: class, Length: 307, dtype: int32"
      ]
     },
     "execution_count": 474,
     "metadata": {},
     "output_type": "execute_result"
    }
   ],
   "source": [
    "df['class']\n"
   ]
  },
  {
   "cell_type": "markdown",
   "metadata": {},
   "source": [
    "#### Scatter Plot with Tradable Cryptocurrencies"
   ]
  },
  {
   "cell_type": "code",
   "execution_count": 475,
   "metadata": {},
   "outputs": [
    {
     "data": {
      "text/html": [
       "<div>\n",
       "<style scoped>\n",
       "    .dataframe tbody tr th:only-of-type {\n",
       "        vertical-align: middle;\n",
       "    }\n",
       "\n",
       "    .dataframe tbody tr th {\n",
       "        vertical-align: top;\n",
       "    }\n",
       "\n",
       "    .dataframe thead th {\n",
       "        text-align: right;\n",
       "    }\n",
       "</style>\n",
       "<table border=\"1\" class=\"dataframe\">\n",
       "  <thead>\n",
       "    <tr style=\"text-align: right;\">\n",
       "      <th></th>\n",
       "      <th>MaxSupply</th>\n",
       "      <th>TotalCoinsMined</th>\n",
       "      <th>CoinName</th>\n",
       "      <th>class</th>\n",
       "    </tr>\n",
       "  </thead>\n",
       "  <tbody>\n",
       "    <tr>\n",
       "      <th>42</th>\n",
       "      <td>2.047619e-12</td>\n",
       "      <td>1.403921e-16</td>\n",
       "      <td>42 Coin</td>\n",
       "      <td>2</td>\n",
       "    </tr>\n",
       "    <tr>\n",
       "      <th>NSR</th>\n",
       "      <td>4.761905e-14</td>\n",
       "      <td>6.631750e-14</td>\n",
       "      <td>NuShares</td>\n",
       "      <td>0</td>\n",
       "    </tr>\n",
       "    <tr>\n",
       "      <th>TRI</th>\n",
       "      <td>4.761905e-14</td>\n",
       "      <td>1.424458e-16</td>\n",
       "      <td>Triangles Coin</td>\n",
       "      <td>2</td>\n",
       "    </tr>\n",
       "    <tr>\n",
       "      <th>CMTC</th>\n",
       "      <td>4.761905e-14</td>\n",
       "      <td>1.497483e-16</td>\n",
       "      <td>CometCoin</td>\n",
       "      <td>2</td>\n",
       "    </tr>\n",
       "    <tr>\n",
       "      <th>CHAT</th>\n",
       "      <td>0.000000e+00</td>\n",
       "      <td>1.086032e-14</td>\n",
       "      <td>OpenChat</td>\n",
       "      <td>2</td>\n",
       "    </tr>\n",
       "  </tbody>\n",
       "</table>\n",
       "</div>"
      ],
      "text/plain": [
       "         MaxSupply  TotalCoinsMined        CoinName  class\n",
       "42    2.047619e-12     1.403921e-16         42 Coin      2\n",
       "NSR   4.761905e-14     6.631750e-14        NuShares      0\n",
       "TRI   4.761905e-14     1.424458e-16  Triangles Coin      2\n",
       "CMTC  4.761905e-14     1.497483e-16       CometCoin      2\n",
       "CHAT  0.000000e+00     1.086032e-14        OpenChat      2"
      ]
     },
     "execution_count": 475,
     "metadata": {},
     "output_type": "execute_result"
    }
   ],
   "source": [
    "# Scale data to create the scatter plot\n",
    "\n",
    "scaler=MinMaxScaler()\n",
    "plotting= scaler.fit_transform(df[['MaxSupply','TotalCoinsMined']])\n",
    "plotting= pd.DataFrame(plotting, columns= ['MaxSupply','TotalCoinsMined'], index=df.index )\n",
    "plotting['CoinName']= df['CoinName']\n",
    "plotting['class']= df['class']\n",
    "plotting.head()"
   ]
  },
  {
   "cell_type": "code",
   "execution_count": 476,
   "metadata": {},
   "outputs": [
    {
     "data": {},
     "metadata": {},
     "output_type": "display_data"
    },
    {
     "data": {
      "application/vnd.holoviews_exec.v0+json": "",
      "text/html": [
       "<div id='4050'>\n",
       "\n",
       "\n",
       "\n",
       "\n",
       "\n",
       "  <div class=\"bk-root\" id=\"b5406446-f489-486a-a4d5-5b03394aa318\" data-root-id=\"4050\"></div>\n",
       "</div>\n",
       "<script type=\"application/javascript\">(function(root) {\n",
       "  function embed_document(root) {\n",
       "    var docs_json = {\"22a9c7a4-cf74-422c-8182-a2bcf67ce0c6\":{\"defs\":[{\"extends\":null,\"module\":null,\"name\":\"ReactiveHTML1\",\"overrides\":[],\"properties\":[]},{\"extends\":null,\"module\":null,\"name\":\"FlexBox1\",\"overrides\":[],\"properties\":[{\"default\":\"flex-start\",\"kind\":null,\"name\":\"align_content\"},{\"default\":\"flex-start\",\"kind\":null,\"name\":\"align_items\"},{\"default\":\"row\",\"kind\":null,\"name\":\"flex_direction\"},{\"default\":\"wrap\",\"kind\":null,\"name\":\"flex_wrap\"},{\"default\":\"flex-start\",\"kind\":null,\"name\":\"justify_content\"}]},{\"extends\":null,\"module\":null,\"name\":\"TemplateActions1\",\"overrides\":[],\"properties\":[{\"default\":0,\"kind\":null,\"name\":\"open_modal\"},{\"default\":0,\"kind\":null,\"name\":\"close_modal\"}]},{\"extends\":null,\"module\":null,\"name\":\"MaterialTemplateActions1\",\"overrides\":[],\"properties\":[{\"default\":0,\"kind\":null,\"name\":\"open_modal\"},{\"default\":0,\"kind\":null,\"name\":\"close_modal\"}]}],\"roots\":{\"references\":[{\"attributes\":{\"fill_alpha\":{\"value\":0.2},\"fill_color\":{\"value\":\"#8b8b8b\"},\"hatch_alpha\":{\"value\":0.2},\"hatch_color\":{\"value\":\"#8b8b8b\"},\"line_alpha\":{\"value\":0.2},\"line_color\":{\"value\":\"#8b8b8b\"},\"size\":{\"value\":5.477225575051661},\"x\":{\"field\":\"TotalCoinsMined\"},\"y\":{\"field\":\"MaxSupply\"}},\"id\":\"4193\",\"type\":\"Scatter\"},{\"attributes\":{},\"id\":\"4069\",\"type\":\"BasicTicker\"},{\"attributes\":{},\"id\":\"4183\",\"type\":\"UnionRenderers\"},{\"attributes\":{},\"id\":\"4064\",\"type\":\"LinearScale\"},{\"attributes\":{\"fill_color\":{\"value\":\"#e5ae38\"},\"hatch_color\":{\"value\":\"#e5ae38\"},\"line_color\":{\"value\":\"#e5ae38\"},\"size\":{\"value\":5.477225575051661},\"x\":{\"field\":\"TotalCoinsMined\"},\"y\":{\"field\":\"MaxSupply\"}},\"id\":\"4141\",\"type\":\"Scatter\"},{\"attributes\":{\"coordinates\":null,\"group\":null,\"text_color\":\"black\",\"text_font_size\":\"12pt\"},\"id\":\"4060\",\"type\":\"Title\"},{\"attributes\":{\"label\":{\"value\":\"1\"},\"renderers\":[{\"id\":\"4122\"}]},\"id\":\"4136\",\"type\":\"LegendItem\"},{\"attributes\":{},\"id\":\"4090\",\"type\":\"BasicTickFormatter\"},{\"attributes\":{\"source\":{\"id\":\"4188\"}},\"id\":\"4195\",\"type\":\"CDSView\"},{\"attributes\":{},\"id\":\"4077\",\"type\":\"PanTool\"},{\"attributes\":{\"source\":{\"id\":\"4138\"}},\"id\":\"4145\",\"type\":\"CDSView\"},{\"attributes\":{\"angle\":{\"value\":0.0},\"fill_alpha\":{\"value\":1.0},\"fill_color\":{\"value\":\"#8b8b8b\"},\"hatch_alpha\":{\"value\":1.0},\"hatch_color\":{\"value\":\"#8b8b8b\"},\"hatch_scale\":{\"value\":12.0},\"hatch_weight\":{\"value\":1.0},\"line_alpha\":{\"value\":1.0},\"line_cap\":{\"value\":\"butt\"},\"line_color\":{\"value\":\"#8b8b8b\"},\"line_dash\":{\"value\":[]},\"line_dash_offset\":{\"value\":0},\"line_join\":{\"value\":\"bevel\"},\"line_width\":{\"value\":1},\"marker\":{\"value\":\"circle\"},\"size\":{\"value\":5.477225575051661},\"x\":{\"field\":\"TotalCoinsMined\"},\"y\":{\"field\":\"MaxSupply\"}},\"id\":\"4215\",\"type\":\"Scatter\"},{\"attributes\":{\"axis\":{\"id\":\"4072\"},\"coordinates\":null,\"dimension\":1,\"grid_line_color\":null,\"group\":null,\"ticker\":null},\"id\":\"4075\",\"type\":\"Grid\"},{\"attributes\":{\"axis_label\":\"TotalCoinsMined\",\"coordinates\":null,\"formatter\":{\"id\":\"4090\"},\"group\":null,\"major_label_policy\":{\"id\":\"4091\"},\"ticker\":{\"id\":\"4069\"}},\"id\":\"4068\",\"type\":\"LinearAxis\"},{\"attributes\":{},\"id\":\"4066\",\"type\":\"LinearScale\"},{\"attributes\":{\"coordinates\":null,\"data_source\":{\"id\":\"4138\"},\"glyph\":{\"id\":\"4141\"},\"group\":null,\"hover_glyph\":null,\"muted_glyph\":{\"id\":\"4143\"},\"nonselection_glyph\":{\"id\":\"4142\"},\"selection_glyph\":{\"id\":\"4161\"},\"view\":{\"id\":\"4145\"}},\"id\":\"4144\",\"type\":\"GlyphRenderer\"},{\"attributes\":{},\"id\":\"4076\",\"type\":\"SaveTool\"},{\"attributes\":{},\"id\":\"4157\",\"type\":\"UnionRenderers\"},{\"attributes\":{\"data\":{\"CoinName\":[\"DAPS Coin\",\"Amber\",\"Poa Network\"],\"MaxSupply\":{\"__ndarray__\":\"y8bptIFOaz8AAAAAAAAAAAAAAAAAAAAA\",\"dtype\":\"float64\",\"order\":\"little\",\"shape\":[3]},\"TotalCoinsMined\":{\"__ndarray__\":\"7AnmG52CZz2yekEHg1MGPU+u9A3Fm+I8\",\"dtype\":\"float64\",\"order\":\"little\",\"shape\":[3]},\"class\":[1,1,1]},\"selected\":{\"id\":\"4117\"},\"selection_policy\":{\"id\":\"4133\"}},\"id\":\"4116\",\"type\":\"ColumnDataSource\"},{\"attributes\":{\"fill_alpha\":{\"value\":0.2},\"fill_color\":{\"value\":\"#fc4f30\"},\"hatch_alpha\":{\"value\":0.2},\"hatch_color\":{\"value\":\"#fc4f30\"},\"line_alpha\":{\"value\":0.2},\"line_color\":{\"value\":\"#fc4f30\"},\"size\":{\"value\":5.477225575051661},\"x\":{\"field\":\"TotalCoinsMined\"},\"y\":{\"field\":\"MaxSupply\"}},\"id\":\"4121\",\"type\":\"Scatter\"},{\"attributes\":{},\"id\":\"4073\",\"type\":\"BasicTicker\"},{\"attributes\":{\"axis\":{\"id\":\"4068\"},\"coordinates\":null,\"grid_line_color\":null,\"group\":null,\"ticker\":null},\"id\":\"4071\",\"type\":\"Grid\"},{\"attributes\":{},\"id\":\"4078\",\"type\":\"WheelZoomTool\"},{\"attributes\":{\"axis_label\":\"MaxSupply\",\"coordinates\":null,\"formatter\":{\"id\":\"4093\"},\"group\":null,\"major_label_policy\":{\"id\":\"4094\"},\"ticker\":{\"id\":\"4073\"}},\"id\":\"4072\",\"type\":\"LinearAxis\"},{\"attributes\":{\"label\":{\"value\":\"2\"},\"renderers\":[{\"id\":\"4144\"}]},\"id\":\"4160\",\"type\":\"LegendItem\"},{\"attributes\":{\"children\":[{\"id\":\"4051\"},{\"id\":\"4059\"},{\"id\":\"4378\"}],\"margin\":[0,0,0,0],\"name\":\"Row07436\",\"tags\":[\"embedded\"]},\"id\":\"4050\",\"type\":\"Row\"},{\"attributes\":{\"overlay\":{\"id\":\"4081\"}},\"id\":\"4079\",\"type\":\"BoxZoomTool\"},{\"attributes\":{\"source\":{\"id\":\"4116\"}},\"id\":\"4123\",\"type\":\"CDSView\"},{\"attributes\":{},\"id\":\"4080\",\"type\":\"ResetTool\"},{\"attributes\":{\"fill_alpha\":{\"value\":0.1},\"fill_color\":{\"value\":\"#e5ae38\"},\"hatch_alpha\":{\"value\":0.1},\"hatch_color\":{\"value\":\"#e5ae38\"},\"line_alpha\":{\"value\":0.1},\"line_color\":{\"value\":\"#e5ae38\"},\"size\":{\"value\":5.477225575051661},\"x\":{\"field\":\"TotalCoinsMined\"},\"y\":{\"field\":\"MaxSupply\"}},\"id\":\"4142\",\"type\":\"Scatter\"},{\"attributes\":{\"bottom_units\":\"screen\",\"coordinates\":null,\"fill_alpha\":0.5,\"fill_color\":\"lightgrey\",\"group\":null,\"left_units\":\"screen\",\"level\":\"overlay\",\"line_alpha\":1.0,\"line_color\":\"black\",\"line_dash\":[4,4],\"line_width\":2,\"right_units\":\"screen\",\"syncable\":false,\"top_units\":\"screen\"},\"id\":\"4081\",\"type\":\"BoxAnnotation\"},{\"attributes\":{},\"id\":\"4139\",\"type\":\"Selection\"},{\"attributes\":{\"fill_color\":{\"value\":\"#fc4f30\"},\"hatch_color\":{\"value\":\"#fc4f30\"},\"line_color\":{\"value\":\"#fc4f30\"},\"size\":{\"value\":5.477225575051661},\"x\":{\"field\":\"TotalCoinsMined\"},\"y\":{\"field\":\"MaxSupply\"}},\"id\":\"4119\",\"type\":\"Scatter\"},{\"attributes\":{},\"id\":\"4091\",\"type\":\"AllLabels\"},{\"attributes\":{},\"id\":\"4110\",\"type\":\"UnionRenderers\"},{\"attributes\":{\"coordinates\":null,\"data_source\":{\"id\":\"4116\"},\"glyph\":{\"id\":\"4119\"},\"group\":null,\"hover_glyph\":null,\"muted_glyph\":{\"id\":\"4121\"},\"nonselection_glyph\":{\"id\":\"4120\"},\"selection_glyph\":{\"id\":\"4137\"},\"view\":{\"id\":\"4123\"}},\"id\":\"4122\",\"type\":\"GlyphRenderer\"},{\"attributes\":{\"fill_alpha\":{\"value\":0.1},\"fill_color\":{\"value\":\"#fc4f30\"},\"hatch_alpha\":{\"value\":0.1},\"hatch_color\":{\"value\":\"#fc4f30\"},\"line_alpha\":{\"value\":0.1},\"line_color\":{\"value\":\"#fc4f30\"},\"size\":{\"value\":5.477225575051661},\"x\":{\"field\":\"TotalCoinsMined\"},\"y\":{\"field\":\"MaxSupply\"}},\"id\":\"4120\",\"type\":\"Scatter\"},{\"attributes\":{\"angle\":{\"value\":0.0},\"fill_alpha\":{\"value\":1.0},\"fill_color\":{\"value\":\"#6d904f\"},\"hatch_alpha\":{\"value\":1.0},\"hatch_color\":{\"value\":\"#6d904f\"},\"hatch_scale\":{\"value\":12.0},\"hatch_weight\":{\"value\":1.0},\"line_alpha\":{\"value\":1.0},\"line_cap\":{\"value\":\"butt\"},\"line_color\":{\"value\":\"#6d904f\"},\"line_dash\":{\"value\":[]},\"line_dash_offset\":{\"value\":0},\"line_join\":{\"value\":\"bevel\"},\"line_width\":{\"value\":1},\"marker\":{\"value\":\"circle\"},\"size\":{\"value\":5.477225575051661},\"x\":{\"field\":\"TotalCoinsMined\"},\"y\":{\"field\":\"MaxSupply\"}},\"id\":\"4187\",\"type\":\"Scatter\"},{\"attributes\":{\"source\":{\"id\":\"4095\"}},\"id\":\"4102\",\"type\":\"CDSView\"},{\"attributes\":{},\"id\":\"4096\",\"type\":\"Selection\"},{\"attributes\":{},\"id\":\"4133\",\"type\":\"UnionRenderers\"},{\"attributes\":{},\"id\":\"4117\",\"type\":\"Selection\"},{\"attributes\":{\"click_policy\":\"mute\",\"coordinates\":null,\"group\":null,\"items\":[{\"id\":\"4114\"},{\"id\":\"4136\"},{\"id\":\"4160\"},{\"id\":\"4186\"},{\"id\":\"4214\"}],\"location\":[0,0],\"title\":\"class\"},\"id\":\"4113\",\"type\":\"Legend\"},{\"attributes\":{\"fill_color\":{\"value\":\"#8b8b8b\"},\"hatch_color\":{\"value\":\"#8b8b8b\"},\"line_color\":{\"value\":\"#8b8b8b\"},\"size\":{\"value\":5.477225575051661},\"x\":{\"field\":\"TotalCoinsMined\"},\"y\":{\"field\":\"MaxSupply\"}},\"id\":\"4191\",\"type\":\"Scatter\"},{\"attributes\":{\"margin\":[5,5,5,5],\"name\":\"HSpacer07441\",\"sizing_mode\":\"stretch_width\"},\"id\":\"4378\",\"type\":\"Spacer\"},{\"attributes\":{\"angle\":{\"value\":0.0},\"fill_alpha\":{\"value\":1.0},\"fill_color\":{\"value\":\"#30a2da\"},\"hatch_alpha\":{\"value\":1.0},\"hatch_color\":{\"value\":\"#30a2da\"},\"hatch_scale\":{\"value\":12.0},\"hatch_weight\":{\"value\":1.0},\"line_alpha\":{\"value\":1.0},\"line_cap\":{\"value\":\"butt\"},\"line_color\":{\"value\":\"#30a2da\"},\"line_dash\":{\"value\":[]},\"line_dash_offset\":{\"value\":0},\"line_join\":{\"value\":\"bevel\"},\"line_width\":{\"value\":1},\"marker\":{\"value\":\"circle\"},\"size\":{\"value\":5.477225575051661},\"x\":{\"field\":\"TotalCoinsMined\"},\"y\":{\"field\":\"MaxSupply\"}},\"id\":\"4115\",\"type\":\"Scatter\"},{\"attributes\":{\"angle\":{\"value\":0.0},\"fill_alpha\":{\"value\":1.0},\"fill_color\":{\"value\":\"#e5ae38\"},\"hatch_alpha\":{\"value\":1.0},\"hatch_color\":{\"value\":\"#e5ae38\"},\"hatch_scale\":{\"value\":12.0},\"hatch_weight\":{\"value\":1.0},\"line_alpha\":{\"value\":1.0},\"line_cap\":{\"value\":\"butt\"},\"line_color\":{\"value\":\"#e5ae38\"},\"line_dash\":{\"value\":[]},\"line_dash_offset\":{\"value\":0},\"line_join\":{\"value\":\"bevel\"},\"line_width\":{\"value\":1},\"marker\":{\"value\":\"circle\"},\"size\":{\"value\":5.477225575051661},\"x\":{\"field\":\"TotalCoinsMined\"},\"y\":{\"field\":\"MaxSupply\"}},\"id\":\"4161\",\"type\":\"Scatter\"},{\"attributes\":{},\"id\":\"4211\",\"type\":\"UnionRenderers\"},{\"attributes\":{\"fill_alpha\":{\"value\":0.2},\"fill_color\":{\"value\":\"#6d904f\"},\"hatch_alpha\":{\"value\":0.2},\"hatch_color\":{\"value\":\"#6d904f\"},\"line_alpha\":{\"value\":0.2},\"line_color\":{\"value\":\"#6d904f\"},\"size\":{\"value\":5.477225575051661},\"x\":{\"field\":\"TotalCoinsMined\"},\"y\":{\"field\":\"MaxSupply\"}},\"id\":\"4167\",\"type\":\"Scatter\"},{\"attributes\":{\"tools\":[{\"id\":\"4054\"},{\"id\":\"4076\"},{\"id\":\"4077\"},{\"id\":\"4078\"},{\"id\":\"4079\"},{\"id\":\"4080\"}]},\"id\":\"4082\",\"type\":\"Toolbar\"},{\"attributes\":{\"label\":{\"value\":\"3\"},\"renderers\":[{\"id\":\"4168\"}]},\"id\":\"4186\",\"type\":\"LegendItem\"},{\"attributes\":{\"data\":{\"CoinName\":[\"Waves\",\"V Systems\",\"Acute Angle Cloud\",\"Nexus\"],\"MaxSupply\":{\"__ndarray__\":\"AAAAAAAAAAAAAAAAAAAAAAAAAAAAAAAAlhYqMV4ozz4=\",\"dtype\":\"float64\",\"order\":\"little\",\"shape\":[4]},\"TotalCoinsMined\":{\"__ndarray__\":\"cCQjC5VM1zyK2sXgjU4yPVDl0tOLdAg9ho/ljb+V0Dw=\",\"dtype\":\"float64\",\"order\":\"little\",\"shape\":[4]},\"class\":[4,4,4,4]},\"selected\":{\"id\":\"4189\"},\"selection_policy\":{\"id\":\"4211\"}},\"id\":\"4188\",\"type\":\"ColumnDataSource\"},{\"attributes\":{\"label\":{\"value\":\"4\"},\"renderers\":[{\"id\":\"4194\"}]},\"id\":\"4214\",\"type\":\"LegendItem\"},{\"attributes\":{},\"id\":\"4093\",\"type\":\"BasicTickFormatter\"},{\"attributes\":{\"data\":{\"CoinName\":[\"NuShares\",\"Nevula\",\"Swingby\",\"TokenPay\",\"NextDAO\",\"WeStarter\",\"BakeryToken\",\"IMPULSE by FDR\",\"Altura\",\"DekBox\",\"VEED\",\"Less Network\",\"KingDoge\",\"SafeHamsters\",\"Yuang Coin\",\"Kiwigo\",\"Votechain\",\"Pea Farm\",\"SparkPoint Fuel\",\"Genshiro\",\"ModiHost\",\"RealFevr\",\"MocktailSwap\",\"Effort Economy \",\"QueenDex Coin\",\"Lion Token\",\"Artex\",\"TBCC\",\"xWIN Finance\",\"MContent\",\"Tokyo AU\",\"Zoe Cash\",\"Novax Coin\",\"ShonToken\",\"Investelly token\",\"TRONbetLive\",\"Binance Smart Chain Girl\",\"PureFi\",\"Daddy Doge\",\"Five7\",\"Diamond Boyz Coin\",\"Plant vs Undead Token\",\"ECOMI\",\"Coin98\",\"Safe Energy\",\"Trust Wallet Token\",\"Lanceria\",\"Didcoin\",\"Little Rabbit\",\"Teaswap Art\",\"Kaiken Shiba\",\"My DeFi Pet\",\"BunnyPark\",\"ApeSwap Finance\",\"Pancake Bunny\",\"BTC Standard Hashrate Token\",\"Alpha Finance Lab\",\"Safe Star\",\"Pylon Eco Token\",\"Metahero\",\"Pig Finance\",\"Monsta Infinite\",\"Doggy\",\"Xiasi Inu\",\"Thetan Arena\",\"Nafter\",\"CryptoBlades\",\"CryptoZoon\",\"Binemon\",\"HoDooi.com\",\"Smaugs NFT\",\"Wall Street Games\",\"Honest\",\"Radio Caca\",\"KCCPad\",\"TrustPad\",\"Sishi Finance\",\"Feeder Finance\",\"Battle Pets\",\"Pacoca\",\"Pancake Hunny\",\"Rabbit Finance\",\"NFT Alley\",\"TEN\",\"Dehero Community Token\",\"Wheelers\",\"ShibaCash\",\"Longdrink Finance\",\"Eggplant Finance\",\"EIFI FINANCE\",\"TendieSwap\",\"CosmicSwap\",\"Vention\",\"WOWswap\",\"Betu\",\"Wenlambo\",\"Sheesh it is bussin bussin\",\"Pet Games\",\"CheCoin\",\"GemGuardian\",\"ForeverFOMO\",\"Knight War Spirits\",\"KRYZA Network\",\"Badger Sett Badger\",\"Portify\",\"DogeHouse Capital\",\"Bholdus Token\",\"Sphynx Token\",\"RugZombie\",\"LPI DAO\",\"Rainbow Token\",\"Step Hero\",\"Starpunk\",\"The Real Golden Inu\",\"Jade Currency\",\"Binamars\",\"BUMooN\",\"Loud Market\",\"DefiXBet\",\"Vortex DeFi\",\"RiceFarm\",\"BNB Cash\",\"Stratis\",\"Bogged Finance\",\"Dexit Finance\",\"Roseon Finance\",\"BabyDoge\",\"Splinterlands\",\"SafePal\",\"CumRocket\",\"Lucky Lion\",\"OpenOcean\",\"SIL Finance Token V2\",\"Bonus Cake\",\"TrustFi Network Token\",\"SoccerHub\",\"CryptoPlanes\",\"gotEM\",\"Pitch Finance Token\",\"Torii Finance\",\"GOMA Finance\",\"GameFi\",\"Shell Token\",\"Pokmonsters\",\"Kalata Protocol\",\"NFT Art Finance\",\"Baby Floki Billionaire\",\"VelasPad\",\"Battle Hero\",\"Lazio Fan Token\",\"HarmonyPad\",\"YocoinYOCO\",\"JERITEX\",\"Australian Safe Shepherd\",\"TRONPAD\",\"AUREO\",\"Validity\",\"Binamon\",\"Tenset\",\"MiniDOGE\",\"YooShi\",\"Ontology\",\"Lisk\",\"Anchor Protocol\",\"ABBC Coin\",\"Shift\",\"NEO\",\"Sun Token\",\"Sun Token\",\"Oxycoin\",\"Nxt\",\"DeepBrain Chain\",\"ARK\",\"Phoenix Binance\",\"QTUM\",\"Neblio\",\"Worldwide Asset eXchange\",\"VeChain\",\"Achain\",\"Rise\",\"Binance Coin\",\"Ravencoin\",\"Bitshares\",\"BitTorrent\",\"Cardano\",\"EOS\",\"High Performance Blockchain\",\"ICON Project\",\"Kcash\"],\"MaxSupply\":{\"__ndarray__\":\"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\",\"dtype\":\"float64\",\"order\":\"little\",\"shape\":[189]},\"TotalCoinsMined\":{\"__ndarray__\":\"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\",\"dtype\":\"float64\",\"order\":\"little\",\"shape\":[189]},\"class\":[0,0,0,0,0,0,0,0,0,0,0,0,0,0,0,0,0,0,0,0,0,0,0,0,0,0,0,0,0,0,0,0,0,0,0,0,0,0,0,0,0,0,0,0,0,0,0,0,0,0,0,0,0,0,0,0,0,0,0,0,0,0,0,0,0,0,0,0,0,0,0,0,0,0,0,0,0,0,0,0,0,0,0,0,0,0,0,0,0,0,0,0,0,0,0,0,0,0,0,0,0,0,0,0,0,0,0,0,0,0,0,0,0,0,0,0,0,0,0,0,0,0,0,0,0,0,0,0,0,0,0,0,0,0,0,0,0,0,0,0,0,0,0,0,0,0,0,0,0,0,0,0,0,0,0,0,0,0,0,0,0,0,0,0,0,0,0,0,0,0,0,0,0,0,0,0,0,0,0,0,0,0,0,0,0,0,0,0,0]},\"selected\":{\"id\":\"4096\"},\"selection_policy\":{\"id\":\"4110\"}},\"id\":\"4095\",\"type\":\"ColumnDataSource\"},{\"attributes\":{},\"id\":\"4163\",\"type\":\"Selection\"},{\"attributes\":{\"fill_alpha\":{\"value\":0.1},\"fill_color\":{\"value\":\"#30a2da\"},\"hatch_alpha\":{\"value\":0.1},\"hatch_color\":{\"value\":\"#30a2da\"},\"line_alpha\":{\"value\":0.1},\"line_color\":{\"value\":\"#30a2da\"},\"size\":{\"value\":5.477225575051661},\"x\":{\"field\":\"TotalCoinsMined\"},\"y\":{\"field\":\"MaxSupply\"}},\"id\":\"4099\",\"type\":\"Scatter\"},{\"attributes\":{\"end\":1.1,\"reset_end\":1.1,\"reset_start\":-0.1,\"start\":-0.1,\"tags\":[[[\"MaxSupply\",\"MaxSupply\",null]]]},\"id\":\"4053\",\"type\":\"Range1d\"},{\"attributes\":{\"fill_color\":{\"value\":\"#30a2da\"},\"hatch_color\":{\"value\":\"#30a2da\"},\"line_color\":{\"value\":\"#30a2da\"},\"size\":{\"value\":5.477225575051661},\"x\":{\"field\":\"TotalCoinsMined\"},\"y\":{\"field\":\"MaxSupply\"}},\"id\":\"4098\",\"type\":\"Scatter\"},{\"attributes\":{\"angle\":{\"value\":0.0},\"fill_alpha\":{\"value\":1.0},\"fill_color\":{\"value\":\"#fc4f30\"},\"hatch_alpha\":{\"value\":1.0},\"hatch_color\":{\"value\":\"#fc4f30\"},\"hatch_scale\":{\"value\":12.0},\"hatch_weight\":{\"value\":1.0},\"line_alpha\":{\"value\":1.0},\"line_cap\":{\"value\":\"butt\"},\"line_color\":{\"value\":\"#fc4f30\"},\"line_dash\":{\"value\":[]},\"line_dash_offset\":{\"value\":0},\"line_join\":{\"value\":\"bevel\"},\"line_width\":{\"value\":1},\"marker\":{\"value\":\"circle\"},\"size\":{\"value\":5.477225575051661},\"x\":{\"field\":\"TotalCoinsMined\"},\"y\":{\"field\":\"MaxSupply\"}},\"id\":\"4137\",\"type\":\"Scatter\"},{\"attributes\":{\"margin\":[5,5,5,5],\"name\":\"HSpacer07440\",\"sizing_mode\":\"stretch_width\"},\"id\":\"4051\",\"type\":\"Spacer\"},{\"attributes\":{\"callback\":null,\"renderers\":[{\"id\":\"4101\"},{\"id\":\"4122\"},{\"id\":\"4144\"},{\"id\":\"4168\"},{\"id\":\"4194\"}],\"tags\":[\"hv_created\"],\"tooltips\":[[\"class\",\"@{class}\"],[\"TotalCoinsMined\",\"@{TotalCoinsMined}\"],[\"MaxSupply\",\"@{MaxSupply}\"],[\"CoinName\",\"@{CoinName}\"]]},\"id\":\"4054\",\"type\":\"HoverTool\"},{\"attributes\":{\"fill_alpha\":{\"value\":0.1},\"fill_color\":{\"value\":\"#6d904f\"},\"hatch_alpha\":{\"value\":0.1},\"hatch_color\":{\"value\":\"#6d904f\"},\"line_alpha\":{\"value\":0.1},\"line_color\":{\"value\":\"#6d904f\"},\"size\":{\"value\":5.477225575051661},\"x\":{\"field\":\"TotalCoinsMined\"},\"y\":{\"field\":\"MaxSupply\"}},\"id\":\"4166\",\"type\":\"Scatter\"},{\"attributes\":{},\"id\":\"4094\",\"type\":\"AllLabels\"},{\"attributes\":{\"end\":1.042857142857143,\"reset_end\":1.042857142857143,\"reset_start\":-0.04285714285714286,\"start\":-0.04285714285714286,\"tags\":[[[\"TotalCoinsMined\",\"TotalCoinsMined\",null]]]},\"id\":\"4052\",\"type\":\"Range1d\"},{\"attributes\":{},\"id\":\"4189\",\"type\":\"Selection\"},{\"attributes\":{\"source\":{\"id\":\"4162\"}},\"id\":\"4169\",\"type\":\"CDSView\"},{\"attributes\":{\"coordinates\":null,\"data_source\":{\"id\":\"4188\"},\"glyph\":{\"id\":\"4191\"},\"group\":null,\"hover_glyph\":null,\"muted_glyph\":{\"id\":\"4193\"},\"nonselection_glyph\":{\"id\":\"4192\"},\"selection_glyph\":{\"id\":\"4215\"},\"view\":{\"id\":\"4195\"}},\"id\":\"4194\",\"type\":\"GlyphRenderer\"},{\"attributes\":{\"below\":[{\"id\":\"4068\"}],\"center\":[{\"id\":\"4071\"},{\"id\":\"4075\"}],\"height\":300,\"left\":[{\"id\":\"4072\"}],\"margin\":[5,5,5,5],\"min_border_bottom\":10,\"min_border_left\":10,\"min_border_right\":10,\"min_border_top\":10,\"renderers\":[{\"id\":\"4101\"},{\"id\":\"4122\"},{\"id\":\"4144\"},{\"id\":\"4168\"},{\"id\":\"4194\"}],\"right\":[{\"id\":\"4113\"}],\"sizing_mode\":\"fixed\",\"title\":{\"id\":\"4060\"},\"toolbar\":{\"id\":\"4082\"},\"width\":700,\"x_range\":{\"id\":\"4052\"},\"x_scale\":{\"id\":\"4064\"},\"y_range\":{\"id\":\"4053\"},\"y_scale\":{\"id\":\"4066\"}},\"id\":\"4059\",\"subtype\":\"Figure\",\"type\":\"Plot\"},{\"attributes\":{\"fill_alpha\":{\"value\":0.2},\"fill_color\":{\"value\":\"#e5ae38\"},\"hatch_alpha\":{\"value\":0.2},\"hatch_color\":{\"value\":\"#e5ae38\"},\"line_alpha\":{\"value\":0.2},\"line_color\":{\"value\":\"#e5ae38\"},\"size\":{\"value\":5.477225575051661},\"x\":{\"field\":\"TotalCoinsMined\"},\"y\":{\"field\":\"MaxSupply\"}},\"id\":\"4143\",\"type\":\"Scatter\"},{\"attributes\":{\"fill_alpha\":{\"value\":0.1},\"fill_color\":{\"value\":\"#8b8b8b\"},\"hatch_alpha\":{\"value\":0.1},\"hatch_color\":{\"value\":\"#8b8b8b\"},\"line_alpha\":{\"value\":0.1},\"line_color\":{\"value\":\"#8b8b8b\"},\"size\":{\"value\":5.477225575051661},\"x\":{\"field\":\"TotalCoinsMined\"},\"y\":{\"field\":\"MaxSupply\"}},\"id\":\"4192\",\"type\":\"Scatter\"},{\"attributes\":{\"data\":{\"CoinName\":[\"MAPS\"],\"MaxSupply\":{\"__ndarray__\":\"mvKohSY1Pz8=\",\"dtype\":\"float64\",\"order\":\"little\",\"shape\":[1]},\"TotalCoinsMined\":{\"__ndarray__\":\"UOXS04t0CD0=\",\"dtype\":\"float64\",\"order\":\"little\",\"shape\":[1]},\"class\":[3]},\"selected\":{\"id\":\"4163\"},\"selection_policy\":{\"id\":\"4183\"}},\"id\":\"4162\",\"type\":\"ColumnDataSource\"},{\"attributes\":{\"data\":{\"CoinName\":[\"42 Coin\",\"Triangles Coin\",\"CometCoin\",\"OpenChat\",\"Quantum Resistant Ledger\",\"Pura\",\"Bitcoin Private\",\"Aidos Kuneen\",\"Foin\",\"Zano\",\"VEIL\",\"MimbleWimbleCoin\",\"Ravencoin Classic\",\"Goldmaxcoin\",\"XDNA\",\"Wibcoin\",\"Revain\",\"EtherZero\",\"QuarkCoin\",\"United Emirates Coin\",\"Arweave\",\"Bithereum\",\"BeforeCoinMarketCap\",\"Smart Bitcoin\",\"UnitedBitcoin\",\"VeriCoin\",\"Emercoin\",\"Circuits of Value\",\"Ergo\",\"Genix\",\"Beam\",\"AEON\",\"Canada eCoin\",\"TENT\",\"Pirate Chain\",\"Internet Node token\",\"Super Zero\",\"Nervos Network\",\"Handshake\",\"REDi\",\"Auroracoin\",\"Ethereum Name Service\",\"TecraCoin\",\"BitcoinZ\",\"eCash\",\"Monero\",\"HyperCash\",\"Expanse\",\"Firo\",\"IOCoin\",\"Siacoin\",\"Waltonchain\",\"Bitcoin\",\"BlackCoin\",\"Decred\",\"Einsteinium\",\"SmartCash\",\"SaluS\",\"Beldex\",\"ZCash\",\"Yeeco\",\"WhiteCoin\",\"Aion\",\"Flo\",\"Bitcoin Cash\",\"SibCoin\",\"SafeExchangeCoin\",\"DigitalNote\",\"PotCoin\",\"Grin\",\"Gulden\",\"Haven Protocol\",\"Litecoin\",\"MegaCoin\",\"MonaCoin\",\"Namecoin\",\"Nano\",\"NovaCoin\",\"Signa\",\"Zelcash\",\"WXT\",\"ViaCoin\",\"Vertcoin\",\"Verge\",\"Ubiq\",\"SysCoin\",\"Steem\",\"Stakenet\",\"Reddcoin\",\"Bitcoin Diamond\",\"Bitcoin Gold\",\"Bitcoin SV\",\"Primas\",\"Metaverse\",\"Private Instant Verified Transaction\",\"BLOC.MONEY\",\"NavCoin\",\"ByteCoin\",\"Callisto Network\",\"CloakCoin\",\"Dash\",\"Dero\",\"DigiByte\",\"Dogecoin\",\"Ethereum\",\"Ethereum Classic\",\"FeatherCoin\",\"Groestlcoin\",\"Horizen\",\"Komodo\"],\"MaxSupply\":{\"__ndarray__\":\"IEpBBNQCgj2zPtjEoM4qPbM+2MSgzio9AAAAAAAAAADxOz2MtfjUPgAAAAAAAAAAC0GfbihGsj6zPtjEoM4qPQv6Vm0O+dM+AAAAAAAAAAD3oqiglfXtPnvdlvfj9K8+9AL10k1iUD8AAAAAAAAAALM+2MSgzio9RdfN06BhqD8AAAAAAAAAAAAAAAAAAAAAAAAAAAAAAAAAAAAAAAAAAK5APwM8Xco+sz7YxKDOKj0AAAAAAAAAAA49Ha73xrA+Dj0drvfGsD4AAAAAAAAAAAAAAAAAAAAAAAAAAAAAAACU5x1Xf4XTPuRRkIq1+OQ+MD2sVo4+6j4AAAAAAAAAADqNvn2bcdU+3su/OeDL0D7+D6prDvnjPvGp5wRS9wg/WOmItls6AD8AAAAAAAAAAKMtJZQldxk/AAAAAAAAAAAAAAAAAAAAAAAAAAAAAAAAAAAAAAAAAAD0AvXSTWJQPwAAAAAAAPA/AAAAAAAAAADFwA+k98bQPgv6Vm0O+dM+/PU9wsYYsT5gC29gfZOxPgAAAAAAAAAAAAAAAAAAAACj+c2t98awPgv6Vm0O+dM+Dj0drvfGsD4AAAAAAAAAAOtZtoUmNS8/AAAAAAAAAAAAAAAAAAAAAA49Ha73xrA+AAAAAAAAAADxqecEUvcIPwAAAAAAAAAAzxAi4OP03z6j+c2t98awPg49Ha73xrA+AAAAAAAAAAAAAAAAAAAAAN7cuYm1+PQ+AAAAAAAAAAAaBRmJtfgUPwAAAAAAAAAAxcAPpPfG0D7dlGmn98bAPgAAAAAAAAAAAAAAAAAAAAC0QJhlD53aPgAAAAAAAAAAAAAAAAAAAADkUZCKtfjkPgAAAAAAAAAAAAAAAAAAAADFwA+k98bQPjzQTvEE1Uk/AAAAAAAAAADVV8kUfisGPwAAAAAAAAAAAAAAAAAAAAAAAAAAAAAAAORRkIq1+OQ+Dj0drvfGsD6j+c2t98awPgAAAAAAAAAAC/pWbQ750z4AAAAAAAAAACPOsHAO+cM+AAAAAAAAAADZ7OTefv2BP9qBsqPySDQ/AAAAAAAAAABi5OII8TKuPgAAAAAAAAAA9AL10k1iUD8AAAAAAAAAAAAAAAAAAAAAWHr31poK5T6yYYyh98bwPvE7PYy1+NQ+Dj0drvfGsD7+D6prDvnjPg==\",\"dtype\":\"float64\",\"order\":\"little\",\"shape\":[110]},\"TotalCoinsMined\":{\"__ndarray__\":\"n2mSd407pDzqYJY3UoekPJ9avnu8lKU8UOXS04t0CD01Gpua0TTRPFqHimGqc+M8s4N5ieIhqjzjbkH0dW29PLu4VIbVatQ8eNYnjFg3tDxdtsE0+JvZPJbv8qhJebI8Fczr5Tq5Pz05vCnu8qUHPcvFKBQI8LA8KqckEfaSpz0wZDH3AAtwPa8dcyUxU+c8iJUMbooi7DwUT4DiuJC5PDpMRTkAAs48Vg8gr7P8wDwl8Ehl69g5PU1hiZN9PKQ81rtzTHhWujw+/Tc9JXXCPF55XZz9pMc8OzaH/ESdFT2YyycOCbrIPCIyLfucs9c8ZKdHE1jpzzyEuhcFIwm4PJaliYrS0tU8cKkfhHkFxDyXy1UE2aXjPI+NbO7IvwI9IMs96DvC8Dx6mYvYqexaPVtolvMHOfc8VkRQ36I2Pj29ZXiYfdDVPAOTpH8i19U8y3uc7J7gpDxyMLPotm9APb/6+NHt+Os9MCDHs4MVuDyGTn1DUXfGPMvTe3HXdcI8kqf2hRIatDwiLxZ7fx25PHYBneQn8GI9b25Kmf7gvjwnrSoc/sO4PLKUdVK8ssw80A52Xw3EtDzmUihnLLzmPBylbfPGjSA9WYVHw3XUpTzZsDdV4g4RPZjfDuD0f7M8VkRQ36I2Pj0UpSsRx1sHPQFZ+3f33vg8Fqipbe543Tz+uW+q6si4PMSYOvdYWLk8FwUz+MYTGj3ngOZdnGo4PQi5E4uXOOc8/DTj4bnv0jydAtoYLbf6PHKE4/PwULU8gDAkkXz5zzzUpCpDLXTEPGCHCUmQ7NI8+mZCdGQFuDzUFCL800LcPCrL8I0UyKk8O1+oTrX6GT3z610r7N/1PCVGp9KiNj49oeXjCZEEvDyswQcMQ5nNPBZPicvj6Eg9eKItiATIyDxBkWP3xy//PBBlevsFU/M8AxiJQsVB2zwgzymYfzpXPd+Wh5xF1OQ81llze6PGuDzHg7EoIsi4PAOTpH8i19U8C6qpHCdS0jwcbF7V9XrPPEJaBwG/w7o8csOTe++a0Dygj5XeMmWBPQ85r9ey4CI9vl9IvckkrTylyy37w0yyPHQHLmxTVLg8POc4d3jSRj3TgV4WtiR5PZuBmJjeo9k8RzwKaEL62zyUOccbMujpPBSgeAr74NE8GNDCFdN0szyxrlDiHhTcPA==\",\"dtype\":\"float64\",\"order\":\"little\",\"shape\":[110]},\"class\":[2,2,2,2,2,2,2,2,2,2,2,2,2,2,2,2,2,2,2,2,2,2,2,2,2,2,2,2,2,2,2,2,2,2,2,2,2,2,2,2,2,2,2,2,2,2,2,2,2,2,2,2,2,2,2,2,2,2,2,2,2,2,2,2,2,2,2,2,2,2,2,2,2,2,2,2,2,2,2,2,2,2,2,2,2,2,2,2,2,2,2,2,2,2,2,2,2,2,2,2,2,2,2,2,2,2,2,2,2,2]},\"selected\":{\"id\":\"4139\"},\"selection_policy\":{\"id\":\"4157\"}},\"id\":\"4138\",\"type\":\"ColumnDataSource\"},{\"attributes\":{\"fill_color\":{\"value\":\"#6d904f\"},\"hatch_color\":{\"value\":\"#6d904f\"},\"line_color\":{\"value\":\"#6d904f\"},\"size\":{\"value\":5.477225575051661},\"x\":{\"field\":\"TotalCoinsMined\"},\"y\":{\"field\":\"MaxSupply\"}},\"id\":\"4165\",\"type\":\"Scatter\"},{\"attributes\":{\"label\":{\"value\":\"0\"},\"renderers\":[{\"id\":\"4101\"}]},\"id\":\"4114\",\"type\":\"LegendItem\"},{\"attributes\":{\"fill_alpha\":{\"value\":0.2},\"fill_color\":{\"value\":\"#30a2da\"},\"hatch_alpha\":{\"value\":0.2},\"hatch_color\":{\"value\":\"#30a2da\"},\"line_alpha\":{\"value\":0.2},\"line_color\":{\"value\":\"#30a2da\"},\"size\":{\"value\":5.477225575051661},\"x\":{\"field\":\"TotalCoinsMined\"},\"y\":{\"field\":\"MaxSupply\"}},\"id\":\"4100\",\"type\":\"Scatter\"},{\"attributes\":{\"coordinates\":null,\"data_source\":{\"id\":\"4162\"},\"glyph\":{\"id\":\"4165\"},\"group\":null,\"hover_glyph\":null,\"muted_glyph\":{\"id\":\"4167\"},\"nonselection_glyph\":{\"id\":\"4166\"},\"selection_glyph\":{\"id\":\"4187\"},\"view\":{\"id\":\"4169\"}},\"id\":\"4168\",\"type\":\"GlyphRenderer\"},{\"attributes\":{\"coordinates\":null,\"data_source\":{\"id\":\"4095\"},\"glyph\":{\"id\":\"4098\"},\"group\":null,\"hover_glyph\":null,\"muted_glyph\":{\"id\":\"4100\"},\"nonselection_glyph\":{\"id\":\"4099\"},\"selection_glyph\":{\"id\":\"4115\"},\"view\":{\"id\":\"4102\"}},\"id\":\"4101\",\"type\":\"GlyphRenderer\"}],\"root_ids\":[\"4050\"]},\"title\":\"Bokeh Application\",\"version\":\"2.4.1\"}};\n",
       "    var render_items = [{\"docid\":\"22a9c7a4-cf74-422c-8182-a2bcf67ce0c6\",\"root_ids\":[\"4050\"],\"roots\":{\"4050\":\"b5406446-f489-486a-a4d5-5b03394aa318\"}}];\n",
       "    root.Bokeh.embed.embed_items_notebook(docs_json, render_items);\n",
       "  }\n",
       "  if (root.Bokeh !== undefined && root.Bokeh.Panel !== undefined) {\n",
       "    embed_document(root);\n",
       "  } else {\n",
       "    var attempts = 0;\n",
       "    var timer = setInterval(function(root) {\n",
       "      if (root.Bokeh !== undefined && root.Bokeh.Panel !== undefined) {\n",
       "        clearInterval(timer);\n",
       "        embed_document(root);\n",
       "      } else if (document.readyState == \"complete\") {\n",
       "        attempts++;\n",
       "        if (attempts > 200) {\n",
       "          clearInterval(timer);\n",
       "          console.log(\"Bokeh: ERROR: Unable to run BokehJS code because BokehJS library is missing\");\n",
       "        }\n",
       "      }\n",
       "    }, 25, root)\n",
       "  }\n",
       "})(window);</script>"
      ],
      "text/plain": [
       ":NdOverlay   [class]\n",
       "   :Scatter   [TotalCoinsMined]   (MaxSupply,CoinName)"
      ]
     },
     "execution_count": 476,
     "metadata": {
      "application/vnd.holoviews_exec.v0+json": {
       "id": "4050"
      }
     },
     "output_type": "execute_result"
    }
   ],
   "source": [
    "# Plot the scatter with x=\"TotalCoinsMined\" and y=\"TotalCoinSupply\"\n",
    "\n",
    "plotting.hvplot.scatter(\n",
    "    x=\"TotalCoinsMined\", \n",
    "    y=\"MaxSupply\", \n",
    "    by='class', \n",
    "    hover_cols=['CoinName']\n",
    ")\n"
   ]
  },
  {
   "cell_type": "code",
   "execution_count": null,
   "metadata": {},
   "outputs": [],
   "source": []
  },
  {
   "cell_type": "code",
   "execution_count": null,
   "metadata": {},
   "outputs": [],
   "source": []
  },
  {
   "cell_type": "code",
   "execution_count": null,
   "metadata": {},
   "outputs": [],
   "source": []
  },
  {
   "cell_type": "code",
   "execution_count": null,
   "metadata": {},
   "outputs": [],
   "source": []
  }
 ],
 "metadata": {
  "file_extension": ".py",
  "kernelspec": {
   "display_name": "Python 3 (ipykernel)",
   "language": "python",
   "name": "python3"
  },
  "language_info": {
   "codemirror_mode": {
    "name": "ipython",
    "version": 3
   },
   "file_extension": ".py",
   "mimetype": "text/x-python",
   "name": "python",
   "nbconvert_exporter": "python",
   "pygments_lexer": "ipython3",
   "version": "3.8.2"
  },
  "mimetype": "text/x-python",
  "name": "python",
  "npconvert_exporter": "python",
  "pygments_lexer": "ipython3",
  "version": 3
 },
 "nbformat": 4,
 "nbformat_minor": 4
}
