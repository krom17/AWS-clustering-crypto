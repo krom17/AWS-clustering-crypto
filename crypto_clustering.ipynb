{
 "cells": [
  {
   "cell_type": "markdown",
   "metadata": {},
   "source": [
    "# Clustering Crypto"
   ]
  },
  {
   "cell_type": "code",
   "execution_count": 408,
   "metadata": {},
   "outputs": [],
   "source": [
    "# Initial imports\n",
    "import requests\n",
    "import pandas as pd\n",
    "import matplotlib.pyplot as plt\n",
    "import hvplot.pandas\n",
    "import numpy as np\n",
    "import plotly.express as px\n",
    "from sklearn.preprocessing import StandardScaler, MinMaxScaler\n",
    "from sklearn.decomposition import PCA\n",
    "from sklearn.cluster import KMeans\n"
   ]
  },
  {
   "cell_type": "markdown",
   "metadata": {},
   "source": [
    "### Fetching Cryptocurrency Data"
   ]
  },
  {
   "cell_type": "code",
   "execution_count": 409,
   "metadata": {},
   "outputs": [],
   "source": [
    "# Use the following endpoint to fetch json data\n",
    "url = \"https://min-api.cryptocompare.com/data/all/coinlist\"\n"
   ]
  },
  {
   "cell_type": "code",
   "execution_count": 410,
   "metadata": {},
   "outputs": [],
   "source": [
    "# Create a DataFrame \n",
    "# HINT: You will need to use the 'Data' key from the json response, then transpose the DataFrame.\n",
    "\n",
    "r = requests.get(url)\n",
    "data = r.json()"
   ]
  },
  {
   "cell_type": "code",
   "execution_count": 411,
   "metadata": {},
   "outputs": [
    {
     "data": {
      "text/plain": [
       "['Response', 'Message', 'Data', 'RateLimit', 'HasWarning', 'Type']"
      ]
     },
     "execution_count": 411,
     "metadata": {},
     "output_type": "execute_result"
    }
   ],
   "source": [
    "# Alternatively, use the provided csv file:\n",
    "#file_path = Path(\"Resources/crypto_data.csv\")\n",
    "\n",
    "# Create a DataFrame\n",
    "list(data.keys())"
   ]
  },
  {
   "cell_type": "code",
   "execution_count": 412,
   "metadata": {},
   "outputs": [],
   "source": [
    "data = data['Data']"
   ]
  },
  {
   "cell_type": "code",
   "execution_count": 413,
   "metadata": {},
   "outputs": [],
   "source": [
    "crcl_df = pd.DataFrame.from_dict(data)"
   ]
  },
  {
   "cell_type": "code",
   "execution_count": 414,
   "metadata": {},
   "outputs": [
    {
     "data": {
      "text/html": [
       "<div>\n",
       "<style scoped>\n",
       "    .dataframe tbody tr th:only-of-type {\n",
       "        vertical-align: middle;\n",
       "    }\n",
       "\n",
       "    .dataframe tbody tr th {\n",
       "        vertical-align: top;\n",
       "    }\n",
       "\n",
       "    .dataframe thead th {\n",
       "        text-align: right;\n",
       "    }\n",
       "</style>\n",
       "<table border=\"1\" class=\"dataframe\">\n",
       "  <thead>\n",
       "    <tr style=\"text-align: right;\">\n",
       "      <th></th>\n",
       "      <th>Id</th>\n",
       "      <th>Url</th>\n",
       "      <th>ImageUrl</th>\n",
       "      <th>ContentCreatedOn</th>\n",
       "      <th>Name</th>\n",
       "      <th>Symbol</th>\n",
       "      <th>CoinName</th>\n",
       "      <th>FullName</th>\n",
       "      <th>Description</th>\n",
       "      <th>AssetTokenStatus</th>\n",
       "      <th>...</th>\n",
       "      <th>MaxSupply</th>\n",
       "      <th>MktCapPenalty</th>\n",
       "      <th>IsUsedInDefi</th>\n",
       "      <th>IsUsedInNft</th>\n",
       "      <th>PlatformType</th>\n",
       "      <th>AlgorithmType</th>\n",
       "      <th>Difficulty</th>\n",
       "      <th>BuiltOn</th>\n",
       "      <th>SmartContractAddress</th>\n",
       "      <th>DecimalPoints</th>\n",
       "    </tr>\n",
       "  </thead>\n",
       "  <tbody>\n",
       "    <tr>\n",
       "      <th>42</th>\n",
       "      <td>4321</td>\n",
       "      <td>/coins/42/overview</td>\n",
       "      <td>/media/35650717/42.jpg</td>\n",
       "      <td>1427211129</td>\n",
       "      <td>42</td>\n",
       "      <td>42</td>\n",
       "      <td>42 Coin</td>\n",
       "      <td>42 Coin (42)</td>\n",
       "      <td>Everything about 42 coin is 42 - apart from th...</td>\n",
       "      <td>N/A</td>\n",
       "      <td>...</td>\n",
       "      <td>42</td>\n",
       "      <td>0</td>\n",
       "      <td>0</td>\n",
       "      <td>0</td>\n",
       "      <td>blockchain</td>\n",
       "      <td>scrypt</td>\n",
       "      <td>0.000244</td>\n",
       "      <td>NaN</td>\n",
       "      <td>NaN</td>\n",
       "      <td>NaN</td>\n",
       "    </tr>\n",
       "    <tr>\n",
       "      <th>300</th>\n",
       "      <td>749869</td>\n",
       "      <td>/coins/300/overview</td>\n",
       "      <td>/media/27010595/300.png</td>\n",
       "      <td>1517935016</td>\n",
       "      <td>300</td>\n",
       "      <td>300</td>\n",
       "      <td>300 token</td>\n",
       "      <td>300 token (300)</td>\n",
       "      <td>300 token is an ERC20 token. This Token was cr...</td>\n",
       "      <td>N/A</td>\n",
       "      <td>...</td>\n",
       "      <td>300</td>\n",
       "      <td>0</td>\n",
       "      <td>0</td>\n",
       "      <td>0</td>\n",
       "      <td>token</td>\n",
       "      <td>NaN</td>\n",
       "      <td>NaN</td>\n",
       "      <td>ETH</td>\n",
       "      <td>0xaec98a708810414878c3bcdf46aad31ded4a4557</td>\n",
       "      <td>18</td>\n",
       "    </tr>\n",
       "    <tr>\n",
       "      <th>365</th>\n",
       "      <td>33639</td>\n",
       "      <td>/coins/365/overview</td>\n",
       "      <td>/media/352070/365.png</td>\n",
       "      <td>1480032918</td>\n",
       "      <td>365</td>\n",
       "      <td>365</td>\n",
       "      <td>365Coin</td>\n",
       "      <td>365Coin (365)</td>\n",
       "      <td>365Coin is a Proof of Work and Proof of Stake ...</td>\n",
       "      <td>N/A</td>\n",
       "      <td>...</td>\n",
       "      <td>-1</td>\n",
       "      <td>0</td>\n",
       "      <td>0</td>\n",
       "      <td>0</td>\n",
       "      <td>blockchain</td>\n",
       "      <td>NaN</td>\n",
       "      <td>NaN</td>\n",
       "      <td>NaN</td>\n",
       "      <td>NaN</td>\n",
       "      <td>NaN</td>\n",
       "    </tr>\n",
       "    <tr>\n",
       "      <th>404</th>\n",
       "      <td>21227</td>\n",
       "      <td>/coins/404/overview</td>\n",
       "      <td>/media/35650851/404-300x300.jpg</td>\n",
       "      <td>1466100361</td>\n",
       "      <td>404</td>\n",
       "      <td>404</td>\n",
       "      <td>404Coin</td>\n",
       "      <td>404Coin (404)</td>\n",
       "      <td>404 is a PoW/PoS hybrid cryptocurrency that al...</td>\n",
       "      <td>N/A</td>\n",
       "      <td>...</td>\n",
       "      <td>-1</td>\n",
       "      <td>0</td>\n",
       "      <td>0</td>\n",
       "      <td>0</td>\n",
       "      <td>blockchain</td>\n",
       "      <td>NaN</td>\n",
       "      <td>NaN</td>\n",
       "      <td>NaN</td>\n",
       "      <td>NaN</td>\n",
       "      <td>NaN</td>\n",
       "    </tr>\n",
       "    <tr>\n",
       "      <th>433</th>\n",
       "      <td>926547</td>\n",
       "      <td>/coins/433/overview</td>\n",
       "      <td>/media/34836095/433.png</td>\n",
       "      <td>1541597321</td>\n",
       "      <td>433</td>\n",
       "      <td>433</td>\n",
       "      <td>433 Token</td>\n",
       "      <td>433 Token (433)</td>\n",
       "      <td>433 Token is a decentralised soccer platform t...</td>\n",
       "      <td>Finished</td>\n",
       "      <td>...</td>\n",
       "      <td>NaN</td>\n",
       "      <td>NaN</td>\n",
       "      <td>NaN</td>\n",
       "      <td>NaN</td>\n",
       "      <td>NaN</td>\n",
       "      <td>NaN</td>\n",
       "      <td>NaN</td>\n",
       "      <td>NaN</td>\n",
       "      <td>NaN</td>\n",
       "      <td>NaN</td>\n",
       "    </tr>\n",
       "  </tbody>\n",
       "</table>\n",
       "<p>5 rows × 36 columns</p>\n",
       "</div>"
      ],
      "text/plain": [
       "         Id                  Url                         ImageUrl  \\\n",
       "42     4321   /coins/42/overview           /media/35650717/42.jpg   \n",
       "300  749869  /coins/300/overview          /media/27010595/300.png   \n",
       "365   33639  /coins/365/overview            /media/352070/365.png   \n",
       "404   21227  /coins/404/overview  /media/35650851/404-300x300.jpg   \n",
       "433  926547  /coins/433/overview          /media/34836095/433.png   \n",
       "\n",
       "    ContentCreatedOn Name Symbol   CoinName         FullName  \\\n",
       "42        1427211129   42     42    42 Coin     42 Coin (42)   \n",
       "300       1517935016  300    300  300 token  300 token (300)   \n",
       "365       1480032918  365    365    365Coin    365Coin (365)   \n",
       "404       1466100361  404    404    404Coin    404Coin (404)   \n",
       "433       1541597321  433    433  433 Token  433 Token (433)   \n",
       "\n",
       "                                           Description AssetTokenStatus  ...  \\\n",
       "42   Everything about 42 coin is 42 - apart from th...              N/A  ...   \n",
       "300  300 token is an ERC20 token. This Token was cr...              N/A  ...   \n",
       "365  365Coin is a Proof of Work and Proof of Stake ...              N/A  ...   \n",
       "404  404 is a PoW/PoS hybrid cryptocurrency that al...              N/A  ...   \n",
       "433  433 Token is a decentralised soccer platform t...         Finished  ...   \n",
       "\n",
       "    MaxSupply MktCapPenalty IsUsedInDefi IsUsedInNft PlatformType  \\\n",
       "42         42             0            0           0   blockchain   \n",
       "300       300             0            0           0        token   \n",
       "365        -1             0            0           0   blockchain   \n",
       "404        -1             0            0           0   blockchain   \n",
       "433       NaN           NaN          NaN         NaN          NaN   \n",
       "\n",
       "    AlgorithmType Difficulty BuiltOn  \\\n",
       "42         scrypt   0.000244     NaN   \n",
       "300           NaN        NaN     ETH   \n",
       "365           NaN        NaN     NaN   \n",
       "404           NaN        NaN     NaN   \n",
       "433           NaN        NaN     NaN   \n",
       "\n",
       "                           SmartContractAddress DecimalPoints  \n",
       "42                                          NaN           NaN  \n",
       "300  0xaec98a708810414878c3bcdf46aad31ded4a4557            18  \n",
       "365                                         NaN           NaN  \n",
       "404                                         NaN           NaN  \n",
       "433                                         NaN           NaN  \n",
       "\n",
       "[5 rows x 36 columns]"
      ]
     },
     "execution_count": 414,
     "metadata": {},
     "output_type": "execute_result"
    }
   ],
   "source": [
    "crcl_df = crcl_df.T\n",
    "crcl_df.head()"
   ]
  },
  {
   "cell_type": "markdown",
   "metadata": {},
   "source": [
    "### Data Preprocessing"
   ]
  },
  {
   "cell_type": "code",
   "execution_count": 415,
   "metadata": {},
   "outputs": [],
   "source": [
    "# Keep only necessary columns:\n",
    "# 'CoinName','Algorithm','IsTrading','ProofType','TotalCoinsMined','TotalCoinSupply'\n",
    "\n",
    "crcl_df.columns\n",
    "crcl_df.drop(columns = [\n",
    "    \n",
    "    'Id',\n",
    "    'Url',\n",
    "    'ImageUrl',\n",
    "    'ContentCreatedOn',\n",
    "    'Name',\n",
    "    'Symbol',\n",
    "    'FullName',\n",
    "    'Description',\n",
    "    'AssetTokenStatus',\n",
    "    'MktCapPenalty',\n",
    "    'IsUsedInDefi',\n",
    "    'PlatformType',\n",
    "    'AlgorithmType',\n",
    "    'Difficulty',\n",
    "    'BuiltOn',\n",
    "    'SmartContractAddress',\n",
    "    'DecimalPoints',\n",
    "    'SortOrder',\n",
    "    'Sponsored',\n",
    "    'Taxonomy',\n",
    "    'Rating',\n",
    "    'CirculatingSupply',\n",
    "    'BlockNumber',\n",
    "    'NetHashesPerSecond',\n",
    "    'BlockReward',\n",
    "    'BlockTime',\n",
    "    'AssetLaunchDate',\n",
    "    'AssetWhitepaperUrl',\n",
    "    'AssetWebsiteUrl',\n",
    "    'IsUsedInNft'\n",
    "], inplace = True)"
   ]
  },
  {
   "cell_type": "code",
   "execution_count": 416,
   "metadata": {},
   "outputs": [
    {
     "data": {
      "text/html": [
       "<div>\n",
       "<style scoped>\n",
       "    .dataframe tbody tr th:only-of-type {\n",
       "        vertical-align: middle;\n",
       "    }\n",
       "\n",
       "    .dataframe tbody tr th {\n",
       "        vertical-align: top;\n",
       "    }\n",
       "\n",
       "    .dataframe thead th {\n",
       "        text-align: right;\n",
       "    }\n",
       "</style>\n",
       "<table border=\"1\" class=\"dataframe\">\n",
       "  <thead>\n",
       "    <tr style=\"text-align: right;\">\n",
       "      <th></th>\n",
       "      <th>CoinName</th>\n",
       "      <th>Algorithm</th>\n",
       "      <th>ProofType</th>\n",
       "      <th>IsTrading</th>\n",
       "      <th>TotalCoinsMined</th>\n",
       "      <th>MaxSupply</th>\n",
       "    </tr>\n",
       "  </thead>\n",
       "  <tbody>\n",
       "    <tr>\n",
       "      <th>42</th>\n",
       "      <td>42 Coin</td>\n",
       "      <td>Scrypt</td>\n",
       "      <td>PoW/PoS</td>\n",
       "      <td>True</td>\n",
       "      <td>41.999952</td>\n",
       "      <td>42</td>\n",
       "    </tr>\n",
       "    <tr>\n",
       "      <th>300</th>\n",
       "      <td>300 token</td>\n",
       "      <td>N/A</td>\n",
       "      <td>N/A</td>\n",
       "      <td>True</td>\n",
       "      <td>300</td>\n",
       "      <td>300</td>\n",
       "    </tr>\n",
       "    <tr>\n",
       "      <th>365</th>\n",
       "      <td>365Coin</td>\n",
       "      <td>X11</td>\n",
       "      <td>PoW/PoS</td>\n",
       "      <td>True</td>\n",
       "      <td>0</td>\n",
       "      <td>-1</td>\n",
       "    </tr>\n",
       "    <tr>\n",
       "      <th>404</th>\n",
       "      <td>404Coin</td>\n",
       "      <td>Scrypt</td>\n",
       "      <td>PoW/PoS</td>\n",
       "      <td>True</td>\n",
       "      <td>0</td>\n",
       "      <td>-1</td>\n",
       "    </tr>\n",
       "    <tr>\n",
       "      <th>433</th>\n",
       "      <td>433 Token</td>\n",
       "      <td>N/A</td>\n",
       "      <td>N/A</td>\n",
       "      <td>False</td>\n",
       "      <td>NaN</td>\n",
       "      <td>NaN</td>\n",
       "    </tr>\n",
       "  </tbody>\n",
       "</table>\n",
       "</div>"
      ],
      "text/plain": [
       "      CoinName Algorithm ProofType IsTrading TotalCoinsMined MaxSupply\n",
       "42     42 Coin    Scrypt   PoW/PoS      True       41.999952        42\n",
       "300  300 token       N/A       N/A      True             300       300\n",
       "365    365Coin       X11   PoW/PoS      True               0        -1\n",
       "404    404Coin    Scrypt   PoW/PoS      True               0        -1\n",
       "433  433 Token       N/A       N/A     False             NaN       NaN"
      ]
     },
     "execution_count": 416,
     "metadata": {},
     "output_type": "execute_result"
    }
   ],
   "source": [
    "crcl_df.head()"
   ]
  },
  {
   "cell_type": "code",
   "execution_count": 417,
   "metadata": {},
   "outputs": [],
   "source": [
    "# Keep only cryptocurrencies that are trading\n",
    "\n",
    "crcl_df = crcl_df.loc[crcl_df['IsTrading'] == True]"
   ]
  },
  {
   "cell_type": "code",
   "execution_count": 418,
   "metadata": {},
   "outputs": [],
   "source": [
    "# Keep only cryptocurrencies with a working algorithm\n",
    "\n",
    "crcl_df = crcl_df.loc[crcl_df['Algorithm'] != 'N/A']"
   ]
  },
  {
   "cell_type": "code",
   "execution_count": 419,
   "metadata": {},
   "outputs": [],
   "source": [
    "# Remove the 'IsTrading' column\n",
    "\n",
    "crcl_df = crcl_df.drop(columns = 'IsTrading')"
   ]
  },
  {
   "cell_type": "code",
   "execution_count": 420,
   "metadata": {},
   "outputs": [
    {
     "data": {
      "text/plain": [
       "CoinName             0\n",
       "Algorithm            0\n",
       "ProofType            0\n",
       "TotalCoinsMined    944\n",
       "MaxSupply          944\n",
       "dtype: int64"
      ]
     },
     "execution_count": 420,
     "metadata": {},
     "output_type": "execute_result"
    }
   ],
   "source": [
    "# Remove rows with at least 1 null value\n",
    "crcl_df.isnull().sum()\n"
   ]
  },
  {
   "cell_type": "code",
   "execution_count": 421,
   "metadata": {},
   "outputs": [
    {
     "data": {
      "text/plain": [
       "CoinName           0\n",
       "Algorithm          0\n",
       "ProofType          0\n",
       "TotalCoinsMined    0\n",
       "MaxSupply          0\n",
       "dtype: int64"
      ]
     },
     "execution_count": 421,
     "metadata": {},
     "output_type": "execute_result"
    }
   ],
   "source": [
    "crcl_df = crcl_df.dropna()\n",
    "crcl_df.isnull().sum()"
   ]
  },
  {
   "cell_type": "code",
   "execution_count": 422,
   "metadata": {},
   "outputs": [],
   "source": [
    "# Remove rows with cryptocurrencies having no coins mined\n",
    "crcl_df = crcl_df.loc[crcl_df['TotalCoinsMined'] != 0]\n"
   ]
  },
  {
   "cell_type": "code",
   "execution_count": 423,
   "metadata": {},
   "outputs": [],
   "source": [
    "# Drop rows where there are 'N/A' text values\n",
    "\n",
    "crcl_df = crcl_df[crcl_df!='N/A']"
   ]
  },
  {
   "cell_type": "code",
   "execution_count": 424,
   "metadata": {},
   "outputs": [],
   "source": [
    "# Store the 'CoinName'column in its own DataFrame prior to dropping it from crypto_df \n",
    "\n",
    "coinName_df = pd.DataFrame(\n",
    "    data = crcl_df, columns = ['CoinName'])"
   ]
  },
  {
   "cell_type": "code",
   "execution_count": 425,
   "metadata": {},
   "outputs": [
    {
     "data": {
      "text/html": [
       "<div>\n",
       "<style scoped>\n",
       "    .dataframe tbody tr th:only-of-type {\n",
       "        vertical-align: middle;\n",
       "    }\n",
       "\n",
       "    .dataframe tbody tr th {\n",
       "        vertical-align: top;\n",
       "    }\n",
       "\n",
       "    .dataframe thead th {\n",
       "        text-align: right;\n",
       "    }\n",
       "</style>\n",
       "<table border=\"1\" class=\"dataframe\">\n",
       "  <thead>\n",
       "    <tr style=\"text-align: right;\">\n",
       "      <th></th>\n",
       "      <th>Algorithm</th>\n",
       "      <th>ProofType</th>\n",
       "      <th>TotalCoinsMined</th>\n",
       "      <th>MaxSupply</th>\n",
       "    </tr>\n",
       "  </thead>\n",
       "  <tbody>\n",
       "    <tr>\n",
       "      <th>42</th>\n",
       "      <td>Scrypt</td>\n",
       "      <td>PoW/PoS</td>\n",
       "      <td>41.999952</td>\n",
       "      <td>42</td>\n",
       "    </tr>\n",
       "    <tr>\n",
       "      <th>NSR</th>\n",
       "      <td>PoS</td>\n",
       "      <td>PoS</td>\n",
       "      <td>6173272217.8311</td>\n",
       "      <td>0</td>\n",
       "    </tr>\n",
       "    <tr>\n",
       "      <th>TRI</th>\n",
       "      <td>X13</td>\n",
       "      <td>PoW/PoS</td>\n",
       "      <td>191620.842403</td>\n",
       "      <td>0</td>\n",
       "    </tr>\n",
       "    <tr>\n",
       "      <th>CMTC</th>\n",
       "      <td>Scrypt</td>\n",
       "      <td>PoW</td>\n",
       "      <td>872830</td>\n",
       "      <td>0</td>\n",
       "    </tr>\n",
       "    <tr>\n",
       "      <th>CHAT</th>\n",
       "      <td>Scrypt</td>\n",
       "      <td>PoW/PoS</td>\n",
       "      <td>1000000000</td>\n",
       "      <td>-1</td>\n",
       "    </tr>\n",
       "  </tbody>\n",
       "</table>\n",
       "</div>"
      ],
      "text/plain": [
       "     Algorithm ProofType  TotalCoinsMined MaxSupply\n",
       "42      Scrypt   PoW/PoS        41.999952        42\n",
       "NSR        PoS       PoS  6173272217.8311         0\n",
       "TRI        X13   PoW/PoS    191620.842403         0\n",
       "CMTC    Scrypt       PoW           872830         0\n",
       "CHAT    Scrypt   PoW/PoS       1000000000        -1"
      ]
     },
     "execution_count": 425,
     "metadata": {},
     "output_type": "execute_result"
    }
   ],
   "source": [
    "# Drop the 'CoinName' column since it's not going to be used on the clustering algorithm\n",
    "\n",
    "crcl_df = crcl_df.drop(columns = 'CoinName')\n",
    "crcl_df.head()"
   ]
  },
  {
   "cell_type": "code",
   "execution_count": 426,
   "metadata": {},
   "outputs": [
    {
     "data": {
      "text/html": [
       "<div>\n",
       "<style scoped>\n",
       "    .dataframe tbody tr th:only-of-type {\n",
       "        vertical-align: middle;\n",
       "    }\n",
       "\n",
       "    .dataframe tbody tr th {\n",
       "        vertical-align: top;\n",
       "    }\n",
       "\n",
       "    .dataframe thead th {\n",
       "        text-align: right;\n",
       "    }\n",
       "</style>\n",
       "<table border=\"1\" class=\"dataframe\">\n",
       "  <thead>\n",
       "    <tr style=\"text-align: right;\">\n",
       "      <th></th>\n",
       "      <th>TotalCoinsMined</th>\n",
       "      <th>MaxSupply</th>\n",
       "      <th>Algorithm_Autolykos</th>\n",
       "      <th>Algorithm_BEP-2</th>\n",
       "      <th>Algorithm_BEP-2 Token</th>\n",
       "      <th>Algorithm_BEP-20 Token</th>\n",
       "      <th>Algorithm_BEP2 Token</th>\n",
       "      <th>Algorithm_BLAKE256</th>\n",
       "      <th>Algorithm_BMW512 / Echo512</th>\n",
       "      <th>Algorithm_Blake2B + SHA3</th>\n",
       "      <th>...</th>\n",
       "      <th>ProofType_PoW/PoSe</th>\n",
       "      <th>ProofType_PoW/nPoS</th>\n",
       "      <th>ProofType_ProgPoW/PoS</th>\n",
       "      <th>ProofType_Proof of Authority</th>\n",
       "      <th>ProofType_Proof-of-Work</th>\n",
       "      <th>ProofType_SPoS</th>\n",
       "      <th>ProofType_TPoS</th>\n",
       "      <th>ProofType_Zero-Knowledge Proof</th>\n",
       "      <th>ProofType_dPoW</th>\n",
       "      <th>ProofType_dPoW/PoW</th>\n",
       "    </tr>\n",
       "  </thead>\n",
       "  <tbody>\n",
       "    <tr>\n",
       "      <th>42</th>\n",
       "      <td>41.999952</td>\n",
       "      <td>42</td>\n",
       "      <td>0</td>\n",
       "      <td>0</td>\n",
       "      <td>0</td>\n",
       "      <td>0</td>\n",
       "      <td>0</td>\n",
       "      <td>0</td>\n",
       "      <td>0</td>\n",
       "      <td>0</td>\n",
       "      <td>...</td>\n",
       "      <td>0</td>\n",
       "      <td>0</td>\n",
       "      <td>0</td>\n",
       "      <td>0</td>\n",
       "      <td>0</td>\n",
       "      <td>0</td>\n",
       "      <td>0</td>\n",
       "      <td>0</td>\n",
       "      <td>0</td>\n",
       "      <td>0</td>\n",
       "    </tr>\n",
       "    <tr>\n",
       "      <th>NSR</th>\n",
       "      <td>6173272217.8311</td>\n",
       "      <td>0</td>\n",
       "      <td>0</td>\n",
       "      <td>0</td>\n",
       "      <td>0</td>\n",
       "      <td>0</td>\n",
       "      <td>0</td>\n",
       "      <td>0</td>\n",
       "      <td>0</td>\n",
       "      <td>0</td>\n",
       "      <td>...</td>\n",
       "      <td>0</td>\n",
       "      <td>0</td>\n",
       "      <td>0</td>\n",
       "      <td>0</td>\n",
       "      <td>0</td>\n",
       "      <td>0</td>\n",
       "      <td>0</td>\n",
       "      <td>0</td>\n",
       "      <td>0</td>\n",
       "      <td>0</td>\n",
       "    </tr>\n",
       "    <tr>\n",
       "      <th>TRI</th>\n",
       "      <td>191620.842403</td>\n",
       "      <td>0</td>\n",
       "      <td>0</td>\n",
       "      <td>0</td>\n",
       "      <td>0</td>\n",
       "      <td>0</td>\n",
       "      <td>0</td>\n",
       "      <td>0</td>\n",
       "      <td>0</td>\n",
       "      <td>0</td>\n",
       "      <td>...</td>\n",
       "      <td>0</td>\n",
       "      <td>0</td>\n",
       "      <td>0</td>\n",
       "      <td>0</td>\n",
       "      <td>0</td>\n",
       "      <td>0</td>\n",
       "      <td>0</td>\n",
       "      <td>0</td>\n",
       "      <td>0</td>\n",
       "      <td>0</td>\n",
       "    </tr>\n",
       "    <tr>\n",
       "      <th>CMTC</th>\n",
       "      <td>872830</td>\n",
       "      <td>0</td>\n",
       "      <td>0</td>\n",
       "      <td>0</td>\n",
       "      <td>0</td>\n",
       "      <td>0</td>\n",
       "      <td>0</td>\n",
       "      <td>0</td>\n",
       "      <td>0</td>\n",
       "      <td>0</td>\n",
       "      <td>...</td>\n",
       "      <td>0</td>\n",
       "      <td>0</td>\n",
       "      <td>0</td>\n",
       "      <td>0</td>\n",
       "      <td>0</td>\n",
       "      <td>0</td>\n",
       "      <td>0</td>\n",
       "      <td>0</td>\n",
       "      <td>0</td>\n",
       "      <td>0</td>\n",
       "    </tr>\n",
       "    <tr>\n",
       "      <th>CHAT</th>\n",
       "      <td>1000000000</td>\n",
       "      <td>-1</td>\n",
       "      <td>0</td>\n",
       "      <td>0</td>\n",
       "      <td>0</td>\n",
       "      <td>0</td>\n",
       "      <td>0</td>\n",
       "      <td>0</td>\n",
       "      <td>0</td>\n",
       "      <td>0</td>\n",
       "      <td>...</td>\n",
       "      <td>0</td>\n",
       "      <td>0</td>\n",
       "      <td>0</td>\n",
       "      <td>0</td>\n",
       "      <td>0</td>\n",
       "      <td>0</td>\n",
       "      <td>0</td>\n",
       "      <td>0</td>\n",
       "      <td>0</td>\n",
       "      <td>0</td>\n",
       "    </tr>\n",
       "  </tbody>\n",
       "</table>\n",
       "<p>5 rows × 91 columns</p>\n",
       "</div>"
      ],
      "text/plain": [
       "      TotalCoinsMined MaxSupply  Algorithm_Autolykos  Algorithm_BEP-2  \\\n",
       "42          41.999952        42                    0                0   \n",
       "NSR   6173272217.8311         0                    0                0   \n",
       "TRI     191620.842403         0                    0                0   \n",
       "CMTC           872830         0                    0                0   \n",
       "CHAT       1000000000        -1                    0                0   \n",
       "\n",
       "      Algorithm_BEP-2 Token  Algorithm_BEP-20 Token  Algorithm_BEP2 Token  \\\n",
       "42                        0                       0                     0   \n",
       "NSR                       0                       0                     0   \n",
       "TRI                       0                       0                     0   \n",
       "CMTC                      0                       0                     0   \n",
       "CHAT                      0                       0                     0   \n",
       "\n",
       "      Algorithm_BLAKE256  Algorithm_BMW512 / Echo512  \\\n",
       "42                     0                           0   \n",
       "NSR                    0                           0   \n",
       "TRI                    0                           0   \n",
       "CMTC                   0                           0   \n",
       "CHAT                   0                           0   \n",
       "\n",
       "      Algorithm_Blake2B + SHA3  ...  ProofType_PoW/PoSe  ProofType_PoW/nPoS  \\\n",
       "42                           0  ...                   0                   0   \n",
       "NSR                          0  ...                   0                   0   \n",
       "TRI                          0  ...                   0                   0   \n",
       "CMTC                         0  ...                   0                   0   \n",
       "CHAT                         0  ...                   0                   0   \n",
       "\n",
       "      ProofType_ProgPoW/PoS  ProofType_Proof of Authority  \\\n",
       "42                        0                             0   \n",
       "NSR                       0                             0   \n",
       "TRI                       0                             0   \n",
       "CMTC                      0                             0   \n",
       "CHAT                      0                             0   \n",
       "\n",
       "      ProofType_Proof-of-Work  ProofType_SPoS  ProofType_TPoS  \\\n",
       "42                          0               0               0   \n",
       "NSR                         0               0               0   \n",
       "TRI                         0               0               0   \n",
       "CMTC                        0               0               0   \n",
       "CHAT                        0               0               0   \n",
       "\n",
       "      ProofType_Zero-Knowledge Proof  ProofType_dPoW  ProofType_dPoW/PoW  \n",
       "42                                 0               0                   0  \n",
       "NSR                                0               0                   0  \n",
       "TRI                                0               0                   0  \n",
       "CMTC                               0               0                   0  \n",
       "CHAT                               0               0                   0  \n",
       "\n",
       "[5 rows x 91 columns]"
      ]
     },
     "execution_count": 426,
     "metadata": {},
     "output_type": "execute_result"
    }
   ],
   "source": [
    "# Create dummy variables for text features\n",
    "\n",
    "crcl_dummies= pd.get_dummies(crcl_df, columns=['Algorithm', 'ProofType'])\n",
    "crcl_dummies.head()"
   ]
  },
  {
   "cell_type": "code",
   "execution_count": 427,
   "metadata": {},
   "outputs": [
    {
     "name": "stdout",
     "output_type": "stream",
     "text": [
      "[[-0.05716655 -0.0616752  -0.0571662  -0.09933993 -0.0571662  -0.93378328\n",
      "  -0.0571662  -0.08097763 -0.0571662  -0.0571662  -0.09933993 -0.08097763\n",
      "  -0.09933993 -0.0571662  -0.0571662  -0.0571662  -0.1927749  -0.08097763\n",
      "  -0.0571662  -0.0571662  -0.0571662  -0.1927749  -0.0571662  -0.0571662\n",
      "  -0.17378533 -0.0571662  -0.0571662  -0.0571662  -0.0571662  -0.08097763\n",
      "  -0.0571662  -0.0571662  -0.0571662  -0.0571662  -0.0571662  -0.0571662\n",
      "  -0.0571662  -0.12867125 -0.08097763 -0.0571662  -0.0571662  -0.0571662\n",
      "  -0.08097763 -0.14118624 -0.0571662  -0.0571662  -0.08097763 -0.08097763\n",
      "  -0.21028002 -0.08097763 -0.0571662  -0.0571662  -0.0571662   3.43389963\n",
      "  -0.0571662  -0.0571662  -0.14118624 -0.0571662  -0.08097763 -0.114897\n",
      "  -0.0571662  -0.14118624 -0.08097763 -0.0571662  -0.0571662  -0.0571662\n",
      "  -0.0571662  -0.0571662  -0.0571662  -0.16357216 -0.0571662  -0.0571662\n",
      "  -0.08097763 -0.08097763 -0.0571662  -0.20168779 -0.0571662  -0.0571662\n",
      "  -0.0571662  -0.51320024  3.35857112 -0.0571662  -0.0571662  -0.0571662\n",
      "  -0.0571662  -0.0571662  -0.0571662  -0.0571662  -0.0571662  -0.0571662\n",
      "  -0.0571662 ]]\n"
     ]
    }
   ],
   "source": [
    "# Standardize data\n",
    "\n",
    "crcl_scaled = StandardScaler().fit_transform(crcl_dummies)\n",
    "print(crcl_scaled[0:1])"
   ]
  },
  {
   "cell_type": "code",
   "execution_count": 428,
   "metadata": {},
   "outputs": [
    {
     "data": {
      "text/html": [
       "<div>\n",
       "<style scoped>\n",
       "    .dataframe tbody tr th:only-of-type {\n",
       "        vertical-align: middle;\n",
       "    }\n",
       "\n",
       "    .dataframe tbody tr th {\n",
       "        vertical-align: top;\n",
       "    }\n",
       "\n",
       "    .dataframe thead th {\n",
       "        text-align: right;\n",
       "    }\n",
       "</style>\n",
       "<table border=\"1\" class=\"dataframe\">\n",
       "  <thead>\n",
       "    <tr style=\"text-align: right;\">\n",
       "      <th></th>\n",
       "      <th>Algorithm</th>\n",
       "      <th>ProofType</th>\n",
       "      <th>TotalCoinsMined</th>\n",
       "      <th>MaxSupply</th>\n",
       "    </tr>\n",
       "  </thead>\n",
       "  <tbody>\n",
       "    <tr>\n",
       "      <th>42</th>\n",
       "      <td>Scrypt</td>\n",
       "      <td>PoW/PoS</td>\n",
       "      <td>41.999952</td>\n",
       "      <td>42</td>\n",
       "    </tr>\n",
       "    <tr>\n",
       "      <th>NSR</th>\n",
       "      <td>PoS</td>\n",
       "      <td>PoS</td>\n",
       "      <td>6173272217.8311</td>\n",
       "      <td>0</td>\n",
       "    </tr>\n",
       "    <tr>\n",
       "      <th>TRI</th>\n",
       "      <td>X13</td>\n",
       "      <td>PoW/PoS</td>\n",
       "      <td>191620.842403</td>\n",
       "      <td>0</td>\n",
       "    </tr>\n",
       "    <tr>\n",
       "      <th>CMTC</th>\n",
       "      <td>Scrypt</td>\n",
       "      <td>PoW</td>\n",
       "      <td>872830</td>\n",
       "      <td>0</td>\n",
       "    </tr>\n",
       "    <tr>\n",
       "      <th>CHAT</th>\n",
       "      <td>Scrypt</td>\n",
       "      <td>PoW/PoS</td>\n",
       "      <td>1000000000</td>\n",
       "      <td>-1</td>\n",
       "    </tr>\n",
       "  </tbody>\n",
       "</table>\n",
       "</div>"
      ],
      "text/plain": [
       "     Algorithm ProofType  TotalCoinsMined MaxSupply\n",
       "42      Scrypt   PoW/PoS        41.999952        42\n",
       "NSR        PoS       PoS  6173272217.8311         0\n",
       "TRI        X13   PoW/PoS    191620.842403         0\n",
       "CMTC    Scrypt       PoW           872830         0\n",
       "CHAT    Scrypt   PoW/PoS       1000000000        -1"
      ]
     },
     "execution_count": 428,
     "metadata": {},
     "output_type": "execute_result"
    }
   ],
   "source": [
    "crcl_df.head()"
   ]
  },
  {
   "cell_type": "code",
   "execution_count": 429,
   "metadata": {},
   "outputs": [
    {
     "data": {
      "text/plain": [
       "0"
      ]
     },
     "execution_count": 429,
     "metadata": {},
     "output_type": "execute_result"
    }
   ],
   "source": [
    "crcl_scaled = crcl_scaled[~np.isnan(crcl_scaled).any(axis=1)]\n",
    "np.isnan(crcl_scaled).sum()"
   ]
  },
  {
   "cell_type": "markdown",
   "metadata": {},
   "source": [
    "### Reducing Dimensions Using PCA"
   ]
  },
  {
   "cell_type": "code",
   "execution_count": 430,
   "metadata": {},
   "outputs": [],
   "source": [
    "# Use PCA to reduce dimensions to 3 principal components\n",
    "\n",
    "pca = PCA(n_components=3)\n",
    "\n",
    "crcl_pca = pca.fit_transform(crcl_scaled)"
   ]
  },
  {
   "cell_type": "code",
   "execution_count": 431,
   "metadata": {},
   "outputs": [
    {
     "data": {
      "text/html": [
       "<div>\n",
       "<style scoped>\n",
       "    .dataframe tbody tr th:only-of-type {\n",
       "        vertical-align: middle;\n",
       "    }\n",
       "\n",
       "    .dataframe tbody tr th {\n",
       "        vertical-align: top;\n",
       "    }\n",
       "\n",
       "    .dataframe thead th {\n",
       "        text-align: right;\n",
       "    }\n",
       "</style>\n",
       "<table border=\"1\" class=\"dataframe\">\n",
       "  <thead>\n",
       "    <tr style=\"text-align: right;\">\n",
       "      <th></th>\n",
       "      <th>PC 1</th>\n",
       "      <th>PC 2</th>\n",
       "      <th>PC 3</th>\n",
       "    </tr>\n",
       "  </thead>\n",
       "  <tbody>\n",
       "    <tr>\n",
       "      <th>42</th>\n",
       "      <td>1.210695</td>\n",
       "      <td>0.016365</td>\n",
       "      <td>-0.002007</td>\n",
       "    </tr>\n",
       "    <tr>\n",
       "      <th>NSR</th>\n",
       "      <td>0.028795</td>\n",
       "      <td>-0.060582</td>\n",
       "      <td>-0.001279</td>\n",
       "    </tr>\n",
       "    <tr>\n",
       "      <th>TRI</th>\n",
       "      <td>0.592800</td>\n",
       "      <td>-0.019782</td>\n",
       "      <td>-0.001929</td>\n",
       "    </tr>\n",
       "    <tr>\n",
       "      <th>CMTC</th>\n",
       "      <td>2.130434</td>\n",
       "      <td>0.074707</td>\n",
       "      <td>-0.001574</td>\n",
       "    </tr>\n",
       "    <tr>\n",
       "      <th>CHAT</th>\n",
       "      <td>1.210695</td>\n",
       "      <td>0.016365</td>\n",
       "      <td>-0.002007</td>\n",
       "    </tr>\n",
       "  </tbody>\n",
       "</table>\n",
       "</div>"
      ],
      "text/plain": [
       "          PC 1      PC 2      PC 3\n",
       "42    1.210695  0.016365 -0.002007\n",
       "NSR   0.028795 -0.060582 -0.001279\n",
       "TRI   0.592800 -0.019782 -0.001929\n",
       "CMTC  2.130434  0.074707 -0.001574\n",
       "CHAT  1.210695  0.016365 -0.002007"
      ]
     },
     "execution_count": 431,
     "metadata": {},
     "output_type": "execute_result"
    }
   ],
   "source": [
    "# Create a DataFrame with the principal components data\n",
    "\n",
    "pca_df = pd.DataFrame(\n",
    "    data=crcl_pca, columns=[\"PC 1\", \"PC 2\", \"PC 3\"],index= crcl_df.index\n",
    ")\n",
    "pca_df.head()"
   ]
  },
  {
   "cell_type": "code",
   "execution_count": 432,
   "metadata": {},
   "outputs": [
    {
     "data": {
      "text/plain": [
       "(307, 4)"
      ]
     },
     "execution_count": 432,
     "metadata": {},
     "output_type": "execute_result"
    }
   ],
   "source": [
    "crcl_df.shape"
   ]
  },
  {
   "cell_type": "markdown",
   "metadata": {},
   "source": [
    "### Clustering Crytocurrencies Using K-Means\n",
    "\n",
    "#### Finding the Best Value for `k` Using the Elbow Curve"
   ]
  },
  {
   "cell_type": "code",
   "execution_count": 433,
   "metadata": {},
   "outputs": [
    {
     "data": {},
     "metadata": {},
     "output_type": "display_data"
    },
    {
     "data": {
      "application/vnd.holoviews_exec.v0+json": "",
      "text/html": [
       "<div id='3286'>\n",
       "\n",
       "\n",
       "\n",
       "\n",
       "\n",
       "  <div class=\"bk-root\" id=\"ba240455-c771-4851-97c6-cf25387e5532\" data-root-id=\"3286\"></div>\n",
       "</div>\n",
       "<script type=\"application/javascript\">(function(root) {\n",
       "  function embed_document(root) {\n",
       "    var docs_json = {\"e772b15d-bf7f-4f25-8e1e-d5076de11c2b\":{\"defs\":[{\"extends\":null,\"module\":null,\"name\":\"ReactiveHTML1\",\"overrides\":[],\"properties\":[]},{\"extends\":null,\"module\":null,\"name\":\"FlexBox1\",\"overrides\":[],\"properties\":[{\"default\":\"flex-start\",\"kind\":null,\"name\":\"align_content\"},{\"default\":\"flex-start\",\"kind\":null,\"name\":\"align_items\"},{\"default\":\"row\",\"kind\":null,\"name\":\"flex_direction\"},{\"default\":\"wrap\",\"kind\":null,\"name\":\"flex_wrap\"},{\"default\":\"flex-start\",\"kind\":null,\"name\":\"justify_content\"}]},{\"extends\":null,\"module\":null,\"name\":\"TemplateActions1\",\"overrides\":[],\"properties\":[{\"default\":0,\"kind\":null,\"name\":\"open_modal\"},{\"default\":0,\"kind\":null,\"name\":\"close_modal\"}]},{\"extends\":null,\"module\":null,\"name\":\"MaterialTemplateActions1\",\"overrides\":[],\"properties\":[{\"default\":0,\"kind\":null,\"name\":\"open_modal\"},{\"default\":0,\"kind\":null,\"name\":\"close_modal\"}]}],\"roots\":{\"references\":[{\"attributes\":{\"margin\":[5,5,5,5],\"name\":\"HSpacer05718\",\"sizing_mode\":\"stretch_width\"},\"id\":\"3357\",\"type\":\"Spacer\"},{\"attributes\":{\"line_alpha\":0.1,\"line_color\":\"#30a2da\",\"line_width\":2,\"x\":{\"field\":\"k\"},\"y\":{\"field\":\"inertia\"}},\"id\":\"3325\",\"type\":\"Line\"},{\"attributes\":{},\"id\":\"3308\",\"type\":\"SaveTool\"},{\"attributes\":{\"data\":{\"inertia\":{\"__ndarray__\":\"bFm1cWlZnUAjV8O42PaUQKhmutPulolAjlT+p4zRckA7BRifx4lXQP9GQmjwO0NAE2pisaJQMUBd/kPTNqwqQEzG6SkT2RxA5dob0AmgEUA=\",\"dtype\":\"float64\",\"order\":\"little\",\"shape\":[10]},\"k\":[1,2,3,4,5,6,7,8,9,10]},\"selected\":{\"id\":\"3322\"},\"selection_policy\":{\"id\":\"3345\"}},\"id\":\"3321\",\"type\":\"ColumnDataSource\"},{\"attributes\":{\"axis_label\":\"k\",\"coordinates\":null,\"formatter\":{\"id\":\"3332\"},\"group\":null,\"major_label_policy\":{\"id\":\"3333\"},\"ticker\":{\"id\":\"3330\"}},\"id\":\"3300\",\"type\":\"LinearAxis\"},{\"attributes\":{\"ticks\":[1,2,3,4,5,6,7,8,9,10]},\"id\":\"3330\",\"type\":\"FixedTicker\"},{\"attributes\":{},\"id\":\"3322\",\"type\":\"Selection\"},{\"attributes\":{},\"id\":\"3312\",\"type\":\"ResetTool\"},{\"attributes\":{\"axis\":{\"id\":\"3300\"},\"coordinates\":null,\"grid_line_color\":null,\"group\":null,\"ticker\":null},\"id\":\"3303\",\"type\":\"Grid\"},{\"attributes\":{\"callback\":null,\"renderers\":[{\"id\":\"3327\"}],\"tags\":[\"hv_created\"],\"tooltips\":[[\"k\",\"@{k}\"],[\"inertia\",\"@{inertia}\"]]},\"id\":\"3290\",\"type\":\"HoverTool\"},{\"attributes\":{},\"id\":\"3332\",\"type\":\"BasicTickFormatter\"},{\"attributes\":{\"margin\":[5,5,5,5],\"name\":\"HSpacer05717\",\"sizing_mode\":\"stretch_width\"},\"id\":\"3287\",\"type\":\"Spacer\"},{\"attributes\":{},\"id\":\"3309\",\"type\":\"PanTool\"},{\"attributes\":{\"children\":[{\"id\":\"3287\"},{\"id\":\"3291\"},{\"id\":\"3357\"}],\"margin\":[0,0,0,0],\"name\":\"Row05713\",\"tags\":[\"embedded\"]},\"id\":\"3286\",\"type\":\"Row\"},{\"attributes\":{\"line_color\":\"#30a2da\",\"line_width\":2,\"x\":{\"field\":\"k\"},\"y\":{\"field\":\"inertia\"}},\"id\":\"3329\",\"type\":\"Line\"},{\"attributes\":{\"overlay\":{\"id\":\"3313\"}},\"id\":\"3311\",\"type\":\"BoxZoomTool\"},{\"attributes\":{},\"id\":\"3310\",\"type\":\"WheelZoomTool\"},{\"attributes\":{\"end\":2065.747641364833,\"reset_end\":2065.747641364833,\"reset_start\":-182.98838110588852,\"start\":-182.98838110588852,\"tags\":[[[\"inertia\",\"inertia\",null]]]},\"id\":\"3289\",\"type\":\"Range1d\"},{\"attributes\":{\"coordinates\":null,\"group\":null,\"text\":\"Elbow Curve\",\"text_color\":\"black\",\"text_font_size\":\"12pt\"},\"id\":\"3292\",\"type\":\"Title\"},{\"attributes\":{},\"id\":\"3298\",\"type\":\"LinearScale\"},{\"attributes\":{\"line_color\":\"#30a2da\",\"line_width\":2,\"x\":{\"field\":\"k\"},\"y\":{\"field\":\"inertia\"}},\"id\":\"3324\",\"type\":\"Line\"},{\"attributes\":{\"tools\":[{\"id\":\"3290\"},{\"id\":\"3308\"},{\"id\":\"3309\"},{\"id\":\"3310\"},{\"id\":\"3311\"},{\"id\":\"3312\"}]},\"id\":\"3314\",\"type\":\"Toolbar\"},{\"attributes\":{\"source\":{\"id\":\"3321\"}},\"id\":\"3328\",\"type\":\"CDSView\"},{\"attributes\":{},\"id\":\"3333\",\"type\":\"AllLabels\"},{\"attributes\":{},\"id\":\"3338\",\"type\":\"AllLabels\"},{\"attributes\":{\"bottom_units\":\"screen\",\"coordinates\":null,\"fill_alpha\":0.5,\"fill_color\":\"lightgrey\",\"group\":null,\"left_units\":\"screen\",\"level\":\"overlay\",\"line_alpha\":1.0,\"line_color\":\"black\",\"line_dash\":[4,4],\"line_width\":2,\"right_units\":\"screen\",\"syncable\":false,\"top_units\":\"screen\"},\"id\":\"3313\",\"type\":\"BoxAnnotation\"},{\"attributes\":{},\"id\":\"3345\",\"type\":\"UnionRenderers\"},{\"attributes\":{},\"id\":\"3337\",\"type\":\"BasicTickFormatter\"},{\"attributes\":{},\"id\":\"3296\",\"type\":\"LinearScale\"},{\"attributes\":{\"coordinates\":null,\"data_source\":{\"id\":\"3321\"},\"glyph\":{\"id\":\"3324\"},\"group\":null,\"hover_glyph\":null,\"muted_glyph\":{\"id\":\"3326\"},\"nonselection_glyph\":{\"id\":\"3325\"},\"selection_glyph\":{\"id\":\"3329\"},\"view\":{\"id\":\"3328\"}},\"id\":\"3327\",\"type\":\"GlyphRenderer\"},{\"attributes\":{\"axis_label\":\"inertia\",\"coordinates\":null,\"formatter\":{\"id\":\"3337\"},\"group\":null,\"major_label_policy\":{\"id\":\"3338\"},\"ticker\":{\"id\":\"3305\"}},\"id\":\"3304\",\"type\":\"LinearAxis\"},{\"attributes\":{\"axis\":{\"id\":\"3304\"},\"coordinates\":null,\"dimension\":1,\"grid_line_color\":null,\"group\":null,\"ticker\":null},\"id\":\"3307\",\"type\":\"Grid\"},{\"attributes\":{\"end\":10.0,\"reset_end\":10.0,\"reset_start\":1.0,\"start\":1.0,\"tags\":[[[\"k\",\"k\",null]]]},\"id\":\"3288\",\"type\":\"Range1d\"},{\"attributes\":{\"below\":[{\"id\":\"3300\"}],\"center\":[{\"id\":\"3303\"},{\"id\":\"3307\"}],\"height\":300,\"left\":[{\"id\":\"3304\"}],\"margin\":[5,5,5,5],\"min_border_bottom\":10,\"min_border_left\":10,\"min_border_right\":10,\"min_border_top\":10,\"renderers\":[{\"id\":\"3327\"}],\"sizing_mode\":\"fixed\",\"title\":{\"id\":\"3292\"},\"toolbar\":{\"id\":\"3314\"},\"width\":700,\"x_range\":{\"id\":\"3288\"},\"x_scale\":{\"id\":\"3296\"},\"y_range\":{\"id\":\"3289\"},\"y_scale\":{\"id\":\"3298\"}},\"id\":\"3291\",\"subtype\":\"Figure\",\"type\":\"Plot\"},{\"attributes\":{},\"id\":\"3305\",\"type\":\"BasicTicker\"},{\"attributes\":{\"line_alpha\":0.2,\"line_color\":\"#30a2da\",\"line_width\":2,\"x\":{\"field\":\"k\"},\"y\":{\"field\":\"inertia\"}},\"id\":\"3326\",\"type\":\"Line\"}],\"root_ids\":[\"3286\"]},\"title\":\"Bokeh Application\",\"version\":\"2.4.1\"}};\n",
       "    var render_items = [{\"docid\":\"e772b15d-bf7f-4f25-8e1e-d5076de11c2b\",\"root_ids\":[\"3286\"],\"roots\":{\"3286\":\"ba240455-c771-4851-97c6-cf25387e5532\"}}];\n",
       "    root.Bokeh.embed.embed_items_notebook(docs_json, render_items);\n",
       "  }\n",
       "  if (root.Bokeh !== undefined && root.Bokeh.Panel !== undefined) {\n",
       "    embed_document(root);\n",
       "  } else {\n",
       "    var attempts = 0;\n",
       "    var timer = setInterval(function(root) {\n",
       "      if (root.Bokeh !== undefined && root.Bokeh.Panel !== undefined) {\n",
       "        clearInterval(timer);\n",
       "        embed_document(root);\n",
       "      } else if (document.readyState == \"complete\") {\n",
       "        attempts++;\n",
       "        if (attempts > 200) {\n",
       "          clearInterval(timer);\n",
       "          console.log(\"Bokeh: ERROR: Unable to run BokehJS code because BokehJS library is missing\");\n",
       "        }\n",
       "      }\n",
       "    }, 25, root)\n",
       "  }\n",
       "})(window);</script>"
      ],
      "text/plain": [
       ":Curve   [k]   (inertia)"
      ]
     },
     "execution_count": 433,
     "metadata": {
      "application/vnd.holoviews_exec.v0+json": {
       "id": "3286"
      }
     },
     "output_type": "execute_result"
    }
   ],
   "source": [
    "inertia = []\n",
    "k = list(range(1, 11))\n",
    "\n",
    "# Calculate the inertia for the range of k values\n",
    "for i in k:\n",
    "    km = KMeans(n_clusters=i, random_state=0)\n",
    "    km.fit(crcl_pca)\n",
    "    inertia.append(km.inertia_)   \n",
    "\n",
    "# Create the Elbow Curve using hvPlot\n",
    "elbow_data = {\"k\": k, \"inertia\": inertia}\n",
    "df_elbow = pd.DataFrame(elbow_data)\n",
    "df_elbow.hvplot.line(x=\"k\", y=\"inertia\", xticks=k, title=\"Elbow Curve\")\n"
   ]
  },
  {
   "cell_type": "markdown",
   "metadata": {},
   "source": [
    "Running K-Means with `k=<your best value for k here>`"
   ]
  },
  {
   "cell_type": "code",
   "execution_count": 434,
   "metadata": {},
   "outputs": [
    {
     "data": {
      "text/html": [
       "<div>\n",
       "<style scoped>\n",
       "    .dataframe tbody tr th:only-of-type {\n",
       "        vertical-align: middle;\n",
       "    }\n",
       "\n",
       "    .dataframe tbody tr th {\n",
       "        vertical-align: top;\n",
       "    }\n",
       "\n",
       "    .dataframe thead th {\n",
       "        text-align: right;\n",
       "    }\n",
       "</style>\n",
       "<table border=\"1\" class=\"dataframe\">\n",
       "  <thead>\n",
       "    <tr style=\"text-align: right;\">\n",
       "      <th></th>\n",
       "      <th>Algorithm</th>\n",
       "      <th>ProofType</th>\n",
       "      <th>TotalCoinsMined</th>\n",
       "      <th>MaxSupply</th>\n",
       "      <th>CoinName</th>\n",
       "      <th>PC 1</th>\n",
       "      <th>PC 2</th>\n",
       "      <th>PC 3</th>\n",
       "      <th>class</th>\n",
       "    </tr>\n",
       "  </thead>\n",
       "  <tbody>\n",
       "    <tr>\n",
       "      <th>42</th>\n",
       "      <td>Scrypt</td>\n",
       "      <td>PoW/PoS</td>\n",
       "      <td>41.999952</td>\n",
       "      <td>42</td>\n",
       "      <td>42 Coin</td>\n",
       "      <td>1.210695</td>\n",
       "      <td>0.016365</td>\n",
       "      <td>-0.002007</td>\n",
       "      <td>2</td>\n",
       "    </tr>\n",
       "    <tr>\n",
       "      <th>NSR</th>\n",
       "      <td>PoS</td>\n",
       "      <td>PoS</td>\n",
       "      <td>6173272217.8311</td>\n",
       "      <td>0</td>\n",
       "      <td>NuShares</td>\n",
       "      <td>0.028795</td>\n",
       "      <td>-0.060582</td>\n",
       "      <td>-0.001279</td>\n",
       "      <td>0</td>\n",
       "    </tr>\n",
       "    <tr>\n",
       "      <th>TRI</th>\n",
       "      <td>X13</td>\n",
       "      <td>PoW/PoS</td>\n",
       "      <td>191620.842403</td>\n",
       "      <td>0</td>\n",
       "      <td>Triangles Coin</td>\n",
       "      <td>0.592800</td>\n",
       "      <td>-0.019782</td>\n",
       "      <td>-0.001929</td>\n",
       "      <td>2</td>\n",
       "    </tr>\n",
       "    <tr>\n",
       "      <th>CMTC</th>\n",
       "      <td>Scrypt</td>\n",
       "      <td>PoW</td>\n",
       "      <td>872830</td>\n",
       "      <td>0</td>\n",
       "      <td>CometCoin</td>\n",
       "      <td>2.130434</td>\n",
       "      <td>0.074707</td>\n",
       "      <td>-0.001574</td>\n",
       "      <td>2</td>\n",
       "    </tr>\n",
       "    <tr>\n",
       "      <th>CHAT</th>\n",
       "      <td>Scrypt</td>\n",
       "      <td>PoW/PoS</td>\n",
       "      <td>1000000000</td>\n",
       "      <td>-1</td>\n",
       "      <td>OpenChat</td>\n",
       "      <td>1.210695</td>\n",
       "      <td>0.016365</td>\n",
       "      <td>-0.002007</td>\n",
       "      <td>2</td>\n",
       "    </tr>\n",
       "  </tbody>\n",
       "</table>\n",
       "</div>"
      ],
      "text/plain": [
       "     Algorithm ProofType  TotalCoinsMined MaxSupply        CoinName      PC 1  \\\n",
       "42      Scrypt   PoW/PoS        41.999952        42         42 Coin  1.210695   \n",
       "NSR        PoS       PoS  6173272217.8311         0        NuShares  0.028795   \n",
       "TRI        X13   PoW/PoS    191620.842403         0  Triangles Coin  0.592800   \n",
       "CMTC    Scrypt       PoW           872830         0       CometCoin  2.130434   \n",
       "CHAT    Scrypt   PoW/PoS       1000000000        -1        OpenChat  1.210695   \n",
       "\n",
       "          PC 2      PC 3  class  \n",
       "42    0.016365 -0.002007      2  \n",
       "NSR  -0.060582 -0.001279      0  \n",
       "TRI  -0.019782 -0.001929      2  \n",
       "CMTC  0.074707 -0.001574      2  \n",
       "CHAT  0.016365 -0.002007      2  "
      ]
     },
     "execution_count": 434,
     "metadata": {},
     "output_type": "execute_result"
    }
   ],
   "source": [
    "# Initialize the K-Means model\n",
    "model = KMeans(n_clusters=5, random_state=0)\n",
    "# Fit the model\n",
    "model.fit(pca_df)\n",
    "# Predict clusters\n",
    "predictions = model.predict(pca_df)\n",
    "# Create a new DataFrame including predicted clusters and cryptocurrencies features\n",
    "pca_df['class'] = model.labels_\n",
    "\n",
    "df_merged = crcl_df.join(coinName_df, how='outer')\n",
    "df= pd.concat([df_merged,pca_df],axis=1,sort=False)\n",
    "\n",
    "df.head()\n"
   ]
  },
  {
   "cell_type": "markdown",
   "metadata": {},
   "source": [
    "### Visualizing Results\n",
    "\n",
    "#### 3D-Scatter with Clusters"
   ]
  },
  {
   "cell_type": "code",
   "execution_count": 443,
   "metadata": {},
   "outputs": [
    {
     "data": {
      "application/vnd.plotly.v1+json": {
       "config": {
        "plotlyServerURL": "https://plot.ly"
       },
       "data": [
        {
         "customdata": [
          [
           "Scrypt"
          ],
          [
           "X13"
          ],
          [
           "Scrypt"
          ],
          [
           "Scrypt"
          ],
          [
           "RandomX"
          ],
          [
           "X11"
          ],
          [
           "Equihash"
          ],
          [
           "IMesh"
          ],
          [
           "SHA-256"
          ],
          [
           "ProgPowZ"
          ],
          [
           "X16RT"
          ],
          [
           "C31"
          ],
          [
           "X16R"
          ],
          [
           "Scrypt"
          ],
          [
           "HEX"
          ],
          [
           "SHA-256"
          ],
          [
           "Multiple"
          ],
          [
           "Ethash"
          ],
          [
           "Quark"
          ],
          [
           "Scrypt"
          ],
          [
           "SHA-256"
          ],
          [
           "Equihash"
          ],
          [
           "Ethash"
          ],
          [
           "SHA-256"
          ],
          [
           "SHA-256"
          ],
          [
           "Scrypt"
          ],
          [
           "SHA-256"
          ],
          [
           "Multiple"
          ],
          [
           "Autolykos"
          ],
          [
           "X16R"
          ],
          [
           "Equihash"
          ],
          [
           "CryptoNight-Lite"
          ],
          [
           "Scrypt"
          ],
          [
           "Equihash"
          ],
          [
           "Equihash"
          ],
          [
           "IMesh"
          ],
          [
           "Ethash"
          ],
          [
           "Eaglesong"
          ],
          [
           "Blake2B + SHA3"
          ],
          [
           "SHA-256"
          ],
          [
           "Scrypt"
          ],
          [
           "Ethash"
          ],
          [
           "Lyra2Z"
          ],
          [
           "Equihash"
          ],
          [
           "SHA-256"
          ],
          [
           "RandomX"
          ],
          [
           "BLAKE256"
          ],
          [
           "Ethash"
          ],
          [
           "MTP"
          ],
          [
           "X11"
          ],
          [
           "Blake2b"
          ],
          [
           "Ethash"
          ],
          [
           "SHA-256"
          ],
          [
           "Scrypt"
          ],
          [
           "BLAKE256"
          ],
          [
           "Scrypt"
          ],
          [
           "KECCAK"
          ],
          [
           "Scrypt"
          ],
          [
           "CryptoNight"
          ],
          [
           "Equihash"
          ],
          [
           "Blake2b"
          ],
          [
           "Scrypt"
          ],
          [
           "Equihash210,9"
          ],
          [
           "Scrypt"
          ],
          [
           "SHA-256"
          ],
          [
           "X11GOST"
          ],
          [
           "Scrypt"
          ],
          [
           "BMW512 / Echo512"
          ],
          [
           "Scrypt"
          ],
          [
           "C31"
          ],
          [
           "Scrypt"
          ],
          [
           "CryptoNight-Heavy"
          ],
          [
           "Scrypt"
          ],
          [
           "Scrypt"
          ],
          [
           "Scrypt"
          ],
          [
           "SHA-256"
          ],
          [
           "Blake2b"
          ],
          [
           "Scrypt"
          ],
          [
           "Shabal256"
          ],
          [
           "Equihash"
          ],
          [
           "Multiple"
          ],
          [
           "Scrypt"
          ],
          [
           "Lyra2REv2"
          ],
          [
           "Multiple"
          ],
          [
           "Dagger-Hashimoto"
          ],
          [
           "SHA-256"
          ],
          [
           "PoS"
          ],
          [
           "X11"
          ],
          [
           "Scrypt"
          ],
          [
           "X13"
          ],
          [
           "Equihash"
          ],
          [
           "SHA-256"
          ],
          [
           "Scrypt"
          ],
          [
           "Ethash"
          ],
          [
           "Quark"
          ],
          [
           "Cryptonight Haven"
          ],
          [
           "X13"
          ],
          [
           "CryptoNight"
          ],
          [
           "Ethash"
          ],
          [
           "X13"
          ],
          [
           "X11"
          ],
          [
           "CryptoNight"
          ],
          [
           "Multiple"
          ],
          [
           "Scrypt"
          ],
          [
           "Ethash"
          ],
          [
           "EtcHash"
          ],
          [
           "NeoScrypt"
          ],
          [
           "Groestl"
          ],
          [
           "Equihash"
          ],
          [
           "Equihash"
          ]
         ],
         "hovertemplate": "<b>%{hovertext}</b><br><br>class=%{marker.color}<br>PC 1=%{x}<br>PC 2=%{y}<br>PC 3=%{z}<br>Algorithm=%{customdata[0]}<extra></extra>",
         "hovertext": [
          "42 Coin",
          "Triangles Coin",
          "CometCoin",
          "OpenChat",
          "Quantum Resistant Ledger",
          "Pura",
          "Bitcoin Private",
          "Aidos Kuneen",
          "Foin",
          "Zano",
          "VEIL",
          "MimbleWimbleCoin",
          "Ravencoin Classic",
          "Goldmaxcoin",
          "XDNA",
          "Wibcoin",
          "Revain",
          "EtherZero",
          "QuarkCoin",
          "United Emirates Coin",
          "Arweave",
          "Bithereum",
          "BeforeCoinMarketCap",
          "Smart Bitcoin",
          "UnitedBitcoin",
          "VeriCoin",
          "Emercoin",
          "Circuits of Value",
          "Ergo",
          "Genix",
          "Beam",
          "AEON",
          "Canada eCoin",
          "TENT",
          "Pirate Chain",
          "Internet Node token",
          "Super Zero",
          "Nervos Network",
          "Handshake",
          "REDi",
          "Auroracoin",
          "Ethereum Name Service",
          "TecraCoin",
          "BitcoinZ",
          "eCash",
          "Monero",
          "HyperCash",
          "Expanse",
          "Firo",
          "IOCoin",
          "Siacoin",
          "Waltonchain",
          "Bitcoin",
          "BlackCoin",
          "Decred",
          "Einsteinium",
          "SmartCash",
          "SaluS",
          "Beldex",
          "ZCash",
          "Yeeco",
          "WhiteCoin",
          "Aion",
          "Flo",
          "Bitcoin Cash",
          "SibCoin",
          "SafeExchangeCoin",
          "DigitalNote",
          "PotCoin",
          "Grin",
          "Gulden",
          "Haven Protocol",
          "Litecoin",
          "MegaCoin",
          "MonaCoin",
          "Namecoin",
          "Nano",
          "NovaCoin",
          "Signa",
          "Zelcash",
          "WXT",
          "ViaCoin",
          "Vertcoin",
          "Verge",
          "Ubiq",
          "SysCoin",
          "Steem",
          "Stakenet",
          "Reddcoin",
          "Bitcoin Diamond",
          "Bitcoin Gold",
          "Bitcoin SV",
          "Primas",
          "Metaverse",
          "Private Instant Verified Transaction",
          "BLOC.MONEY",
          "NavCoin",
          "ByteCoin",
          "Callisto Network",
          "CloakCoin",
          "Dash",
          "Dero",
          "DigiByte",
          "Dogecoin",
          "Ethereum",
          "Ethereum Classic",
          "FeatherCoin",
          "Groestlcoin",
          "Horizen",
          "Komodo"
         ],
         "legendgroup": "2",
         "marker": {
          "color": [
           2,
           2,
           2,
           2,
           2,
           2,
           2,
           2,
           2,
           2,
           2,
           2,
           2,
           2,
           2,
           2,
           2,
           2,
           2,
           2,
           2,
           2,
           2,
           2,
           2,
           2,
           2,
           2,
           2,
           2,
           2,
           2,
           2,
           2,
           2,
           2,
           2,
           2,
           2,
           2,
           2,
           2,
           2,
           2,
           2,
           2,
           2,
           2,
           2,
           2,
           2,
           2,
           2,
           2,
           2,
           2,
           2,
           2,
           2,
           2,
           2,
           2,
           2,
           2,
           2,
           2,
           2,
           2,
           2,
           2,
           2,
           2,
           2,
           2,
           2,
           2,
           2,
           2,
           2,
           2,
           2,
           2,
           2,
           2,
           2,
           2,
           2,
           2,
           2,
           2,
           2,
           2,
           2,
           2,
           2,
           2,
           2,
           2,
           2,
           2,
           2,
           2,
           2,
           2,
           2,
           2,
           2,
           2,
           2,
           2
          ],
          "coloraxis": "coloraxis",
          "symbol": "circle"
         },
         "mode": "markers",
         "name": "2",
         "scene": "scene",
         "showlegend": true,
         "type": "scatter3d",
         "x": [
          1.210694512011077,
          0.5927996596728022,
          2.1304343892075956,
          1.2106945120061372,
          2.5013594653290547,
          1.8209519725418475,
          2.4027471952884363,
          2.17380379896162,
          1.086894932393641,
          0.734354167503855,
          0.7344197175813006,
          2.5013452969966874,
          2.5048533935147286,
          2.1304343892074673,
          0.7343541675040849,
          2.6114067743694993,
          0.5866031513746496,
          1.963930133735327,
          0.7365591132878914,
          0.720129244732326,
          2.497196193517708,
          2.4027445827539466,
          1.0441902565339065,
          2.4971910537883364,
          2.497191053788335,
          1.3776365698263033,
          1.5774487780465147,
          1.9969082958506825,
          2.493875361861751,
          2.502478838545014,
          2.4027745987734788,
          2.4938540056628846,
          1.3776600289974112,
          2.4027541878801983,
          1.8986207589778337,
          1.4608225170054416,
          1.0592491739933456,
          2.493854005662157,
          2.4942997461883,
          1.0868835107725952,
          1.2106945120061394,
          1.05910714882579,
          2.4938540056628864,
          2.4051431231273934,
          4.895729028607005,
          2.501347472627088,
          0.7365742168054042,
          1.9639415553562718,
          2.493858681568609,
          0.9012146080971982,
          2.07427266844331,
          0.5536249892601846,
          2.4971910537883337,
          0.7279395266784203,
          0.7365670211842833,
          2.130434389207472,
          2.494946506950313,
          1.2106945120061405,
          0.6806589258028101,
          2.402746981294321,
          0.6639675239685914,
          1.21080872821451,
          0.7343541675038497,
          2.1304526638009103,
          2.4971910537883337,
          2.4938585941685116,
          1.1284481532718305,
          0.7343541675036954,
          1.2107424828137239,
          2.50134301267241,
          2.1306262724374685,
          2.493854005662885,
          2.1304439833690814,
          2.1304391862883354,
          2.1304343892074744,
          2.497188655247849,
          2.074287887558402,
          1.2106945120061405,
          0.5770135340602661,
          1.483028690956346,
          0.5866031513754485,
          2.1304343892074735,
          2.493872359684729,
          1.9987991451784635,
          2.493854005662883,
          2.4972900792408947,
          1.431301552188626,
          0.7855841041952444,
          1.2106945120058124,
          0.5928236450765353,
          2.4027469812943196,
          2.4971910537883337,
          2.1304343892074744,
          0.5536364108811241,
          0.7365591132878941,
          2.4938649306759757,
          0.5927996596726867,
          2.1042346738895823,
          1.9646725390891357,
          0.5927996596726881,
          0.7855882338503318,
          2.0831652099528193,
          1.9993068362242155,
          2.1304343892060564,
          1.9639301337353308,
          2.4939000436673444,
          2.4939274217496004,
          2.4938769481901337,
          2.402746981294321,
          1.8986207589778301
         ],
         "y": [
          0.016364879191308274,
          -0.019781938408937914,
          0.07470730617330268,
          0.0163648791909945,
          0.10329204399927237,
          0.05919252005269831,
          0.09672898281311854,
          0.08827629574317937,
          0.0468002004559749,
          -0.013542969382071904,
          -0.013538641482998956,
          0.1032911218142671,
          0.10351949989464605,
          0.07470730617329538,
          -0.01354296938207108,
          0.11308759043076454,
          0.021143078378332923,
          0.07510323155401169,
          -0.013587374182548663,
          0.0156441538709709,
          0.10586310711376241,
          0.09672881755512192,
          0.01676080457170018,
          0.10586278199599454,
          0.10586278199599482,
          0.031237750851735947,
          0.047520203292063,
          0.08020623068077729,
          0.10295475059000568,
          0.10336929548593925,
          0.09673071624288611,
          0.10295334056157318,
          0.031239299727478496,
          0.09672942513520671,
          0.07521249241616176,
          0.05834630569724362,
          0.03203769922389295,
          0.10295334056145708,
          0.1029827702751637,
          0.04679947797202378,
          0.016364879190996037,
          0.032028322109246866,
          0.10295334056156324,
          0.09688053918007831,
          0.25758425521874284,
          0.10329128539114392,
          -0.013586386734455516,
          0.07510395403794796,
          0.10295364928504479,
          0.0008502520168700663,
          0.0837496676598151,
          0.01604007925168797,
          0.10586278199599444,
          -0.017928171154353974,
          -0.013586841899330437,
          0.07470730617329562,
          0.10302547221259195,
          0.01636487919099631,
          -0.01974053553596829,
          0.09672896927674714,
          0.024686515357548917,
          0.016372104030286605,
          -0.01354296938207644,
          0.07470846214758847,
          0.10586278199599444,
          0.10295364351451396,
          0.016308460297242037,
          -0.013542969382096972,
          0.016367913623502643,
          0.10329097731747405,
          0.07471944390330013,
          0.10295334056156882,
          0.07470791305980293,
          0.07470760961655304,
          0.0747073061732958,
          0.10586263027436231,
          0.08375063035737462,
          0.016364879190996398,
          -0.01365562484180931,
          0.038387907789071724,
          0.021143078378441146,
          0.07470730617329585,
          0.10295455237331505,
          0.08032583789511612,
          0.10295334056157451,
          0.10586904593165328,
          0.03205442711855659,
          0.00025831742565310135,
          0.016364879190951975,
          -0.019780421192688413,
          0.09672896927674707,
          0.10586278199599444,
          0.07470730617329566,
          0.016040801735623545,
          -0.013587374182547945,
          0.1029540618780996,
          -0.019781938408945286,
          0.07422843037814812,
          0.0751501930093635,
          -0.01978193840894504,
          0.00025859008330894964,
          0.07289566427561928,
          0.08035795230573706,
          0.07470730617310371,
          0.07510323155401216,
          0.1029563801893535,
          0.10295818780852747,
          0.10295485532624857,
          0.09672896927674714,
          0.07521249241615953
         ],
         "z": [
          -0.002007139717077789,
          -0.0019294810848581436,
          -0.0015738702128464364,
          -0.0020071397170988406,
          -0.0012781225980048373,
          -0.0015274806778311808,
          -0.001380781003785977,
          -0.0012834251600157887,
          0.0002637155085260799,
          -0.0021405467816326654,
          -0.0021402573609386635,
          -0.0012781842347774342,
          -0.0012629198468956807,
          -0.0015738702128435696,
          -0.002140546781659529,
          0.00011000541567284143,
          -0.000390105553470705,
          -0.0011914531410676295,
          -0.0021475880514923696,
          -0.0009378323776214948,
          -0.0003723387272026471,
          -0.0013807920372676276,
          -0.0016247226453210174,
          -0.0003723604337579045,
          -0.0003723604337578222,
          -0.0018756644298226323,
          -0.0008056400677390219,
          -0.0010261433886906673,
          -0.0012739136302853478,
          -0.0012729482757231807,
          -0.0013806652709837343,
          -0.0012740079234737438,
          -0.0018755608514635343,
          -0.0013807514720585422,
          -0.0014893151985400023,
          -0.0012938096893074318,
          -0.001110203340790405,
          -0.0012740079234685694,
          -0.0012720398627364114,
          0.00026366727173555537,
          -0.0020071397170996594,
          -0.001110830418965195,
          -0.001274007923467081,
          -0.0013706623111808167,
          0.009757355525914856,
          -0.0012781732466352399,
          -0.002147522041670785,
          -0.001191404904276175,
          -0.001273987278123173,
          -0.0019607395699910205,
          -0.0010676026996498144,
          -0.0005554153058469203,
          -0.0003723604337585311,
          -0.0016423580056488527,
          -0.0021475524308491117,
          -0.0015738702128455036,
          -0.0012691842452113627,
          -0.002007139717099655,
          -0.0013440753605778366,
          -0.0013807819075440965,
          -0.00043156486442921593,
          -0.0020066573491900877,
          -0.0021405467816343585,
          -0.001573793033979764,
          -0.0003723604337585311,
          -0.0012739876640206586,
          -0.0018900434433805383,
          -0.0021405467816325414,
          -0.0020069371225774854,
          -0.0012781938821365454,
          -0.001573059834757779,
          -0.0012740079234680203,
          -0.001573829693940694,
          -0.0015738499533928896,
          -0.0015738702128456153,
          -0.0003723705634851701,
          -0.0010675384249503148,
          -0.002007139717099655,
          -0.0019063542748059751,
          -0.001813960244263489,
          -0.00039010555346994443,
          -0.0015738702128454474,
          -0.0012739268856581444,
          -0.0010181577879564358,
          -0.00127400792347234,
          -0.0003719422207816581,
          -0.0012106089070693193,
          -0.0017828853758768656,
          -0.002007139717099729,
          -0.0019293797875989318,
          -0.0013807819075439937,
          -0.0003723604337585311,
          -0.0015738702128455363,
          -0.0005553670690554848,
          -0.00214758805149264,
          -0.0012739596866809411,
          -0.0019294810848605845,
          -0.0011865569228060365,
          -0.0011883177496585075,
          -0.0019294810848603738,
          -0.0017828671423736032,
          -0.0012755393309834071,
          -0.0010160136626006645,
          -0.0015738702128456135,
          -0.0011914531410676314,
          -0.0012738046536701617,
          -0.0012736837722900627,
          -0.0012739066262288075,
          -0.0013807819075440965,
          -0.0014893151985410223
         ]
        },
        {
         "customdata": [
          [
           "PoS"
          ],
          [
           "NEP-5"
          ],
          [
           "BEP2 Token"
          ],
          [
           "POS 3.0"
          ],
          [
           "NRC20 Token"
          ],
          [
           "HRC-20 Token"
          ],
          [
           "BEP-2"
          ],
          [
           "BEP-20 Token"
          ],
          [
           "BEP-20 Token"
          ],
          [
           "BEP-20 Token"
          ],
          [
           "VeChainThor Authority"
          ],
          [
           "BEP-20 Token"
          ],
          [
           "BEP-20 Token"
          ],
          [
           "BEP-20 Token"
          ],
          [
           "BEP-20 Token"
          ],
          [
           "BEP-20 Token"
          ],
          [
           "BEP-20 Token"
          ],
          [
           "BEP-20 Token"
          ],
          [
           "BEP-20 Token"
          ],
          [
           "BEP-20 Token"
          ],
          [
           "DPoS"
          ],
          [
           "BEP-20 Token"
          ],
          [
           "BEP-20 Token"
          ],
          [
           "BEP-20 Token"
          ],
          [
           "BEP-20 Token"
          ],
          [
           "BEP-20 Token"
          ],
          [
           "BEP-20 Token"
          ],
          [
           "BEP-20 Token"
          ],
          [
           "BEP-20 Token"
          ],
          [
           "BEP-20 Token"
          ],
          [
           "BEP-20 Token"
          ],
          [
           "TRC-20"
          ],
          [
           "TRC-20"
          ],
          [
           "BEP-20 Token"
          ],
          [
           "BEP-20 Token"
          ],
          [
           "TRC-20"
          ],
          [
           "BEP-20 Token"
          ],
          [
           "BEP-20 Token"
          ],
          [
           "BEP-20 Token"
          ],
          [
           "BEP-20 Token"
          ],
          [
           "BEP-20 Token"
          ],
          [
           "BEP-20 Token"
          ],
          [
           "GO20"
          ],
          [
           "BEP-20 Token"
          ],
          [
           "BEP-20 Token"
          ],
          [
           "BEP-20 Token"
          ],
          [
           "BEP-20 Token"
          ],
          [
           "TRC-20"
          ],
          [
           "BEP-20 Token"
          ],
          [
           "BEP-20 Token"
          ],
          [
           "BEP-20 Token"
          ],
          [
           "BEP-20 Token"
          ],
          [
           "BEP-20 Token"
          ],
          [
           "BEP-20 Token"
          ],
          [
           "BEP-20 Token"
          ],
          [
           "BEP-20 Token"
          ],
          [
           "BEP-20 Token"
          ],
          [
           "BEP-20 Token"
          ],
          [
           "BEP-20 Token"
          ],
          [
           "BEP-20 Token"
          ],
          [
           "BEP-20 Token"
          ],
          [
           "BEP-20 Token"
          ],
          [
           "BEP-20 Token"
          ],
          [
           "BEP-20 Token"
          ],
          [
           "BEP-20 Token"
          ],
          [
           "BEP-20 Token"
          ],
          [
           "BEP-20 Token"
          ],
          [
           "BEP-20 Token"
          ],
          [
           "BEP-20 Token"
          ],
          [
           "BEP-20 Token"
          ],
          [
           "BEP-20 Token"
          ],
          [
           "BEP-20 Token"
          ],
          [
           "BEP-2 Token"
          ],
          [
           "BEP-20 Token"
          ],
          [
           "BEP-20 Token"
          ],
          [
           "BEP-20 Token"
          ],
          [
           "BEP-20 Token"
          ],
          [
           "BEP-20 Token"
          ],
          [
           "BEP-20 Token"
          ],
          [
           "BEP-20 Token"
          ],
          [
           "BEP-20 Token"
          ],
          [
           "BEP-20 Token"
          ],
          [
           "BEP-20 Token"
          ],
          [
           "BEP-20 Token"
          ],
          [
           "BEP-20 Token"
          ],
          [
           "BEP-20 Token"
          ],
          [
           "BEP-20 Token"
          ],
          [
           "BEP-20 Token"
          ],
          [
           "BEP-20 Token"
          ],
          [
           "BEP-20 Token"
          ],
          [
           "BEP-20 Token"
          ],
          [
           "BEP-20 Token"
          ],
          [
           "BEP-20 Token"
          ],
          [
           "BEP-20 Token"
          ],
          [
           "BEP-20 Token"
          ],
          [
           "BEP-20 Token"
          ],
          [
           "BEP-20 Token"
          ],
          [
           "BEP-20 Token"
          ],
          [
           "BEP-20 Token"
          ],
          [
           "BEP-20 Token"
          ],
          [
           "BEP-20 Token"
          ],
          [
           "BEP-20 Token"
          ],
          [
           "BEP-20 Token"
          ],
          [
           "BEP-20 Token"
          ],
          [
           "BEP-20 Token"
          ],
          [
           "BEP-20 Token"
          ],
          [
           "BEP-20 Token"
          ],
          [
           "BEP-20 Token"
          ],
          [
           "BEP-20 Token"
          ],
          [
           "BEP-20 Token"
          ],
          [
           "BEP-20 Token"
          ],
          [
           "BEP-20 Token"
          ],
          [
           "BEP-20 Token"
          ],
          [
           "BEP-20 Token"
          ],
          [
           "BEP-20 Token"
          ],
          [
           "BEP-20 Token"
          ],
          [
           "BEP-20 Token"
          ],
          [
           "BEP-20 Token"
          ],
          [
           "BEP-20 Token"
          ],
          [
           "BEP-20 Token"
          ],
          [
           "BEP-20 Token"
          ],
          [
           "BEP-20 Token"
          ],
          [
           "X13"
          ],
          [
           "BEP-20 Token"
          ],
          [
           "BEP-20 Token"
          ],
          [
           "BEP-20 Token"
          ],
          [
           "BEP-20 Token"
          ],
          [
           "BEP-20 Token"
          ],
          [
           "BEP-20 Token"
          ],
          [
           "BEP-20 Token"
          ],
          [
           "BEP-20 Token"
          ],
          [
           "BEP-20 Token"
          ],
          [
           "BEP-20 Token"
          ],
          [
           "BEP-20 Token"
          ],
          [
           "BEP-20 Token"
          ],
          [
           "BEP-20 Token"
          ],
          [
           "BEP-20 Token"
          ],
          [
           "BEP-20 Token"
          ],
          [
           "BEP-20 Token"
          ],
          [
           "BEP-20 Token"
          ],
          [
           "BEP-20 Token"
          ],
          [
           "BEP-20 Token"
          ],
          [
           "BEP-20 Token"
          ],
          [
           "BEP-20 Token"
          ],
          [
           "BEP-20 Token"
          ],
          [
           "BEP-20 Token"
          ],
          [
           "BEP-20 Token"
          ],
          [
           "BEP-20 Token"
          ],
          [
           "BEP-20 Token"
          ],
          [
           "BEP-20 Token"
          ],
          [
           "BEP-20 Token"
          ],
          [
           "BEP-20 Token"
          ],
          [
           "BEP-20 Token"
          ],
          [
           "BEP-20 Token"
          ],
          [
           "BEP-20 Token"
          ],
          [
           "BEP-20 Token"
          ],
          [
           "PoS"
          ],
          [
           "BEP-20 Token"
          ],
          [
           "DPoS"
          ],
          [
           "BEP-20 Token"
          ],
          [
           "BEP-20 Token"
          ],
          [
           "VBFT"
          ],
          [
           "DPoS"
          ],
          [
           "PoS"
          ],
          [
           "X13"
          ],
          [
           "DPoS"
          ],
          [
           "dBFT2.0"
          ],
          [
           "TRC-20"
          ],
          [
           "TRC-20"
          ],
          [
           "DPoS"
          ],
          [
           "PoS"
          ],
          [
           "NEP-5"
          ],
          [
           "DPoS"
          ],
          [
           "BEP-2"
          ],
          [
           "POS 3.0"
          ],
          [
           "PoS"
          ],
          [
           "DPoS"
          ],
          [
           "VeChainThor Authority"
          ],
          [
           "DPoS"
          ],
          [
           "DPoS"
          ],
          [
           "BEP-2"
          ],
          [
           "KAWPOW"
          ],
          [
           "SHA-512"
          ],
          [
           "TRC-10"
          ],
          [
           "Ouroboros"
          ],
          [
           "DPoS"
          ],
          [
           "DPoS"
          ],
          [
           "Loopchain"
          ],
          [
           "SHA-512"
          ]
         ],
         "hovertemplate": "<b>%{hovertext}</b><br><br>class=%{marker.color}<br>PC 1=%{x}<br>PC 2=%{y}<br>PC 3=%{z}<br>Algorithm=%{customdata[0]}<extra></extra>",
         "hovertext": [
          "NuShares",
          "Nevula",
          "Swingby",
          "TokenPay",
          "NextDAO",
          "WeStarter",
          "BakeryToken",
          "IMPULSE by FDR",
          "Altura",
          "DekBox",
          "VEED",
          "Less Network",
          "KingDoge",
          "SafeHamsters",
          "Yuang Coin",
          "Kiwigo",
          "Votechain",
          "Pea Farm",
          "SparkPoint Fuel",
          "Genshiro",
          "ModiHost",
          "RealFevr",
          "MocktailSwap",
          "Effort Economy ",
          "QueenDex Coin",
          "Lion Token",
          "Artex",
          "TBCC",
          "xWIN Finance",
          "MContent",
          "Tokyo AU",
          "Zoe Cash",
          "Novax Coin",
          "ShonToken",
          "Investelly token",
          "TRONbetLive",
          "Binance Smart Chain Girl",
          "PureFi",
          "Daddy Doge",
          "Five7",
          "Diamond Boyz Coin",
          "Plant vs Undead Token",
          "ECOMI",
          "Coin98",
          "Safe Energy",
          "Trust Wallet Token",
          "Lanceria",
          "Didcoin",
          "Little Rabbit",
          "Teaswap Art",
          "Kaiken Shiba",
          "My DeFi Pet",
          "BunnyPark",
          "ApeSwap Finance",
          "Pancake Bunny",
          "BTC Standard Hashrate Token",
          "Alpha Finance Lab",
          "Safe Star",
          "Pylon Eco Token",
          "Metahero",
          "Pig Finance",
          "Monsta Infinite",
          "Doggy",
          "Xiasi Inu",
          "Thetan Arena",
          "Nafter",
          "CryptoBlades",
          "CryptoZoon",
          "Binemon",
          "HoDooi.com",
          "Smaugs NFT",
          "Wall Street Games",
          "Honest",
          "Radio Caca",
          "KCCPad",
          "TrustPad",
          "Sishi Finance",
          "Feeder Finance",
          "Battle Pets",
          "Pacoca",
          "Pancake Hunny",
          "Rabbit Finance",
          "NFT Alley",
          "TEN",
          "Dehero Community Token",
          "Wheelers",
          "ShibaCash",
          "Longdrink Finance",
          "Eggplant Finance",
          "EIFI FINANCE",
          "TendieSwap",
          "CosmicSwap",
          "Vention",
          "WOWswap",
          "Betu",
          "Wenlambo",
          "Sheesh it is bussin bussin",
          "Pet Games",
          "CheCoin",
          "GemGuardian",
          "ForeverFOMO",
          "Knight War Spirits",
          "KRYZA Network",
          "Badger Sett Badger",
          "Portify",
          "DogeHouse Capital",
          "Bholdus Token",
          "Sphynx Token",
          "RugZombie",
          "LPI DAO",
          "Rainbow Token",
          "Step Hero",
          "Starpunk",
          "The Real Golden Inu",
          "Jade Currency",
          "Binamars",
          "BUMooN",
          "Loud Market",
          "DefiXBet",
          "Vortex DeFi",
          "RiceFarm",
          "BNB Cash",
          "Stratis",
          "Bogged Finance",
          "Dexit Finance",
          "Roseon Finance",
          "BabyDoge",
          "Splinterlands",
          "SafePal",
          "CumRocket",
          "Lucky Lion",
          "OpenOcean",
          "SIL Finance Token V2",
          "Bonus Cake",
          "TrustFi Network Token",
          "SoccerHub",
          "CryptoPlanes",
          "gotEM",
          "Pitch Finance Token",
          "Torii Finance",
          "GOMA Finance",
          "GameFi",
          "Shell Token",
          "Pokmonsters",
          "Kalata Protocol",
          "NFT Art Finance",
          "Baby Floki Billionaire",
          "VelasPad",
          "Battle Hero",
          "Lazio Fan Token",
          "HarmonyPad",
          "YocoinYOCO",
          "JERITEX",
          "Australian Safe Shepherd",
          "TRONPAD",
          "AUREO",
          "Validity",
          "Binamon",
          "Tenset",
          "MiniDOGE",
          "YooShi",
          "Ontology",
          "Lisk",
          "Anchor Protocol",
          "ABBC Coin",
          "Shift",
          "NEO",
          "Sun Token",
          "Sun Token",
          "Oxycoin",
          "Nxt",
          "DeepBrain Chain",
          "ARK",
          "Phoenix Binance",
          "QTUM",
          "Neblio",
          "Worldwide Asset eXchange",
          "VeChain",
          "Achain",
          "Rise",
          "Binance Coin",
          "Ravencoin",
          "Bitshares",
          "BitTorrent",
          "Cardano",
          "EOS",
          "High Performance Blockchain",
          "ICON Project",
          "Kcash"
         ],
         "legendgroup": "0",
         "marker": {
          "color": [
           0,
           0,
           0,
           0,
           0,
           0,
           0,
           0,
           0,
           0,
           0,
           0,
           0,
           0,
           0,
           0,
           0,
           0,
           0,
           0,
           0,
           0,
           0,
           0,
           0,
           0,
           0,
           0,
           0,
           0,
           0,
           0,
           0,
           0,
           0,
           0,
           0,
           0,
           0,
           0,
           0,
           0,
           0,
           0,
           0,
           0,
           0,
           0,
           0,
           0,
           0,
           0,
           0,
           0,
           0,
           0,
           0,
           0,
           0,
           0,
           0,
           0,
           0,
           0,
           0,
           0,
           0,
           0,
           0,
           0,
           0,
           0,
           0,
           0,
           0,
           0,
           0,
           0,
           0,
           0,
           0,
           0,
           0,
           0,
           0,
           0,
           0,
           0,
           0,
           0,
           0,
           0,
           0,
           0,
           0,
           0,
           0,
           0,
           0,
           0,
           0,
           0,
           0,
           0,
           0,
           0,
           0,
           0,
           0,
           0,
           0,
           0,
           0,
           0,
           0,
           0,
           0,
           0,
           0,
           0,
           0,
           0,
           0,
           0,
           0,
           0,
           0,
           0,
           0,
           0,
           0,
           0,
           0,
           0,
           0,
           0,
           0,
           0,
           0,
           0,
           0,
           0,
           0,
           0,
           0,
           0,
           0,
           0,
           0,
           0,
           0,
           0,
           0,
           0,
           0,
           0,
           0,
           0,
           0,
           0,
           0,
           0,
           0,
           0,
           0,
           0,
           0,
           0,
           0,
           0,
           0,
           0,
           0,
           0,
           0,
           0,
           0,
           0,
           0,
           0,
           0,
           0,
           0,
           0,
           0,
           0,
           0,
           0,
           0
          ],
          "coloraxis": "coloraxis",
          "symbol": "diamond"
         },
         "mode": "markers",
         "name": "0",
         "scene": "scene",
         "showlegend": true,
         "type": "scatter3d",
         "x": [
          0.028795268038695178,
          -0.19806258970978996,
          -0.20411716528342252,
          -0.18975588138567362,
          -0.20193216270870354,
          -0.2041171652833913,
          -0.28576476993828753,
          -1.0875478284560536,
          -1.0875478284560682,
          -1.0875478284560538,
          -0.31719272835887236,
          -1.0875478284560562,
          -1.0875478391007436,
          -1.0875478284826647,
          -1.0875478391007427,
          -1.0875478284560636,
          -1.087547828456052,
          -1.087547828456055,
          -1.0875478284560531,
          -1.0875478284560545,
          -0.4864034066298251,
          -1.087547828456223,
          -1.0875478284560531,
          -1.087547828456054,
          -1.087547828456076,
          -1.087547828456105,
          -1.0875478284560547,
          -1.0875478284560642,
          -1.0875478284560545,
          -1.087547892769626,
          -1.0875478391007434,
          -0.20726064381906564,
          -0.20726064381906345,
          -1.0875478284561626,
          -1.0875478284560534,
          -0.20726064381907539,
          -1.0875478284560547,
          -1.0875478284560547,
          -1.0875478337733897,
          -1.0875478284560551,
          -1.0875478284560636,
          -1.087547828456056,
          -0.20411716528977883,
          -1.0875478284560547,
          -1.0875478313146354,
          -1.0875478284560636,
          -1.087547828456057,
          -0.20726064382981688,
          -2.0805295729396223,
          -1.0875478284560598,
          -1.0875507644966094,
          -1.0875478284560545,
          -1.0875478284560545,
          -1.087547828456054,
          -1.0875478284560538,
          -1.087547828456054,
          -1.0875478284560638,
          -1.0875478324539452,
          -1.0875478284560545,
          -1.0875478284561575,
          -1.0875478328537862,
          -1.0875478284560565,
          -1.087547828456096,
          -1.0875478336775257,
          -1.0875478284560576,
          -1.0875478284560638,
          -1.0875478284560536,
          -1.0875478284560642,
          -1.0875478284560636,
          -1.0875478284560636,
          -1.087547828456054,
          -1.087547838779111,
          -0.20411716528341112,
          -1.0875478284589888,
          -1.0875478284560562,
          -1.0875478284560542,
          -1.0875478284560534,
          -1.0875478284560545,
          -1.0875478284560558,
          -1.0875478284560545,
          -1.0875478284560538,
          -1.0875478284560551,
          -1.0875478284560534,
          -1.0875478284560542,
          -1.0875478284560531,
          -1.0875478284560545,
          -1.0875478299106525,
          -1.0875398995667616,
          -1.0875478284560534,
          -1.087547828456055,
          -1.0875478284560531,
          -1.0875478284560538,
          -1.087547828456061,
          -1.0875478284560536,
          -1.0875478284560631,
          -1.0875478279353816,
          -1.0875478284562705,
          -1.0875478284560662,
          -1.0875478284571178,
          -1.0875478284560545,
          -1.0875478284560538,
          -1.0875478284560582,
          -1.0875478285482763,
          -1.0875478284560527,
          -1.0875478284560542,
          -1.0875478284560542,
          -1.0875478284561593,
          -1.0875478284560636,
          -1.0875478284560558,
          -1.0875478284560534,
          -1.087547836960698,
          -1.0875478284560545,
          -1.0875478284560602,
          -1.0875478330308237,
          -1.087547828456054,
          -1.087547828456054,
          -1.0875478345554688,
          -1.0875478284560536,
          -1.0875478284560534,
          -1.0875478284560545,
          -1.0875478284560538,
          -1.087547828456055,
          0.11003325272402646,
          -1.0875478284560534,
          -1.087547828456081,
          -1.0875478284560545,
          -1.0875505082972732,
          -1.0875478284560591,
          -2.0805232822799145,
          -1.0875478284559654,
          -1.0875478284560538,
          -1.0875478284560636,
          -1.0875478284560527,
          -1.0875478284571092,
          -1.0875478284560545,
          -1.0875478284560636,
          -1.087547828458182,
          -1.0875478284560558,
          -1.0875478284571178,
          -1.0875478284560527,
          -1.0875478300989911,
          -1.0875478284560538,
          -1.0875478284560527,
          -1.0875478284560542,
          -1.087547828456055,
          -1.0875481482127687,
          -1.0875478384911066,
          -1.0875478284560576,
          -1.0875478284560636,
          -1.0875478284560538,
          -1.0875478284560618,
          -1.087547828456054,
          -1.0875478284560545,
          -1.0875479349029509,
          -1.0875478284560607,
          -1.087545429915566,
          0.02879629598462536,
          -1.0875478284560556,
          -0.48651762283819483,
          -1.0875478360418853,
          -1.0875478324471874,
          -0.18919762790107278,
          -1.0072027675214532,
          0.02879526803862605,
          0.10240596451154342,
          -1.0072027675214514,
          -0.20409531525743274,
          -0.2072606438190653,
          -0.20726064381927675,
          -1.0072027675214628,
          0.04038548321614512,
          -0.20263123804017752,
          -1.0072027675214532,
          -0.2857647699383144,
          -0.18974642172492961,
          0.02099640771348318,
          -0.4865176228382316,
          -0.609705898664461,
          -1.007202767521348,
          -0.4787187625130422,
          -0.5466796416264256,
          -0.1995286598769042,
          -1.2846099194660137,
          -1.200209050097904,
          -0.17936511631618124,
          -1.007202767521462,
          -0.48650620121725335,
          -0.18919762790107142,
          -1.4622059278088344
         ],
         "y": [
          -0.06058177269302958,
          -0.014597244859764016,
          -0.014982090868926018,
          -0.08228795337452174,
          -0.014837827566871896,
          -0.014982090868920753,
          -0.022697347945011586,
          -0.13495319417238547,
          -0.13495319417238724,
          -0.13495319417238544,
          -0.027362021698046145,
          -0.1349531941723854,
          -0.13495319561440766,
          -0.13495319417599053,
          -0.1349531956144074,
          -0.13495319417238705,
          -0.1349531941723854,
          -0.13495319417238158,
          -0.13495319417238513,
          -0.13495319417238566,
          -0.060992260128881495,
          -0.1349531941724077,
          -0.13495319417238624,
          -0.13495319417238588,
          -0.1349531941723885,
          -0.13495319417239246,
          -0.13495319417238572,
          -0.13495319417238683,
          -0.1349531941723855,
          -0.1349532028848599,
          -0.13495319561440747,
          -0.015234335098595574,
          -0.015234335098595122,
          -0.13495319417239982,
          -0.1349531941723854,
          -0.015234335098596993,
          -0.13495319417238494,
          -0.13495319417238552,
          -0.13495319489271798,
          -0.13495319417238563,
          -0.13495319417238685,
          -0.1349531941723858,
          -0.014982090869824823,
          -0.13495319417238555,
          -0.1349531945596338,
          -0.13495319417238685,
          -0.13495319417238594,
          -0.015234335100051923,
          -0.26947111559731113,
          -0.13495319417238624,
          -0.13495359191390977,
          -0.13495319417238555,
          -0.13495319417238547,
          -0.13495319417238555,
          -0.13495319417238547,
          -0.1349531941723855,
          -0.13495319417238685,
          -0.13495319471397457,
          -0.13495319417238555,
          -0.1349531941723995,
          -0.13495319476814052,
          -0.13495319417238585,
          -0.13495319417239118,
          -0.13495319487973137,
          -0.13495319417238605,
          -0.13495319417238685,
          -0.13495319417238544,
          -0.13495319417238685,
          -0.13495319417238677,
          -0.13495319417238685,
          -0.13495319417238552,
          -0.1349531955708364,
          -0.014982090868929477,
          -0.13495319417278306,
          -0.13495319417238577,
          -0.13495319417238552,
          -0.13495319417238538,
          -0.1349531941723856,
          -0.13495319417238563,
          -0.1349531941723857,
          -0.13495319417238547,
          -0.13495319417238563,
          -0.13495319417238535,
          -0.13495319417238547,
          -0.1349531941723854,
          -0.13495319417238555,
          -0.134953194369438,
          -0.134952692624035,
          -0.13495319417238538,
          -0.13495319417238566,
          -0.13495319417238538,
          -0.1349531941723854,
          -0.13495319417238644,
          -0.13495319417238544,
          -0.13495319417238677,
          -0.1349531941018508,
          -0.13495319417241483,
          -0.13495319417238721,
          -0.13495319417252966,
          -0.13495319417238555,
          -0.1349531941723854,
          -0.13495319417238608,
          -0.13495319418487878,
          -0.1349531941723854,
          -0.13495319417238552,
          -0.13495319417238552,
          -0.1349531941723998,
          -0.13495319417238685,
          -0.13495319417238572,
          -0.13495319417238538,
          -0.13495319532449834,
          -0.13495319417238555,
          -0.13495319417238638,
          -0.13495319479212342,
          -0.13495319417238552,
          -0.1349531941723855,
          -0.13495319499866526,
          -0.1349531941723854,
          -0.13495319417238544,
          -0.13495319417238555,
          -0.13495319417238552,
          -0.13495319417238566,
          -0.05407571123823118,
          -0.13495319417238544,
          -0.1349531941723892,
          -0.13495319417238555,
          -0.1349535572069251,
          -0.13495319417238608,
          -0.26947026288364434,
          -0.13495319417237348,
          -0.13495319417238552,
          -0.13495319417238685,
          -0.1349531941723854,
          -0.13495319417252855,
          -0.13495319417238555,
          -0.13495319417238685,
          -0.1349531941726739,
          -0.13495319417238588,
          -0.13495319417252966,
          -0.1349531941723854,
          -0.13495319439495207,
          -0.13495319417238547,
          -0.1349531941723854,
          -0.13495319417238552,
          -0.13495319417238563,
          -0.1349532374894039,
          -0.13495319553182084,
          -0.13495319417238605,
          -0.13495319417238674,
          -0.13495319417238544,
          -0.13495319417238655,
          -0.13495319417238558,
          -0.13495319417238555,
          -0.13495320859260557,
          -0.1349531941723864,
          -0.1349530424507532,
          -0.06058170766946747,
          -0.13495319417238577,
          -0.060999484968172014,
          -0.13495319520002802,
          -0.13495319471305908,
          -0.0820196885605403,
          -0.1336234240294319,
          -0.06058177269302972,
          -0.02049181079523641,
          -0.13362342402943161,
          -0.01498064823588657,
          -0.015234335098595394,
          -0.015234335098624003,
          -0.1336234240294331,
          -0.053915740495811326,
          -0.014886238431102778,
          -0.13362342402943192,
          -0.02269734794501326,
          -0.08228735499597684,
          -0.027008725183767138,
          -0.060999484968177,
          -0.05482730603621698,
          -0.1336234240294258,
          -0.09457253247743322,
          -0.04532134533764151,
          -0.014679137934650727,
          -0.17550647339931952,
          -0.15999527170458613,
          -0.0813705037014267,
          -0.13362342402943309,
          -0.0609987624842361,
          -0.08201968856053993,
          -0.205484528325555
         ],
         "z": [
          -0.0012791449366636874,
          2.7066710069481547e-05,
          -1.9324737319103214e-06,
          -0.001415677363077195,
          7.714882776776191e-06,
          -1.9324737370241684e-06,
          -2.9373590253862893e-06,
          -1.7879622089968036e-05,
          -1.7879622090206506e-05,
          -1.787962208965082e-05,
          0.00017797178084927925,
          -1.787962208979478e-05,
          -1.7879622281129155e-05,
          -1.7879622089860706e-05,
          -1.7879622281716485e-05,
          -1.787962208965542e-05,
          -1.7879622089285124e-05,
          -1.7879622089977397e-05,
          -1.787962208970873e-05,
          -1.7879622088422434e-05,
          -0.00018709871039279712,
          -1.7879622088990885e-05,
          -1.7879622092647316e-05,
          -1.7879622089557177e-05,
          -1.787962208861968e-05,
          -1.787962208969777e-05,
          -1.7879622089579048e-05,
          -1.7879622089830698e-05,
          -1.7879622089837776e-05,
          -1.7879623247872385e-05,
          -1.7879622281502077e-05,
          -1.9651168542476563e-06,
          -1.9651168542447946e-06,
          -1.7879622089823156e-05,
          -1.787962208984328e-05,
          -1.9651168542480714e-06,
          -1.7879622089853954e-05,
          -1.787962208984402e-05,
          -1.787962218556427e-05,
          -1.7879622089832744e-05,
          -1.787962208983048e-05,
          -1.7879622089825605e-05,
          -1.9324737426548953e-06,
          -1.7879622089841296e-05,
          -1.787962214129534e-05,
          -1.7879622089829017e-05,
          -1.7879622089830904e-05,
          -1.96511685433743e-06,
          -3.5759349549531065e-05,
          -1.7879622089819422e-05,
          -1.7879674956463695e-05,
          -1.787962208984123e-05,
          -1.7879622089838467e-05,
          -1.7879622089831965e-05,
          -1.787962208984155e-05,
          -1.7879622089840503e-05,
          -1.7879622089828916e-05,
          -1.7879622161816433e-05,
          -1.7879622089840615e-05,
          -1.7879622089840662e-05,
          -1.7879622169009308e-05,
          -1.78796220898345e-05,
          -1.7879622089833483e-05,
          -1.7879622183854103e-05,
          -1.787962208982094e-05,
          -1.7879622089828418e-05,
          -1.787962208983194e-05,
          -1.7879622089825548e-05,
          -1.787962208982571e-05,
          -1.7879622089829004e-05,
          -1.787962208983951e-05,
          -1.7879622275707548e-05,
          -1.9324737278609465e-06,
          -1.7879622089878013e-05,
          -1.7879622089833103e-05,
          -1.7879622089840615e-05,
          -1.787962208983287e-05,
          -1.7879622089840232e-05,
          -1.787962208983034e-05,
          -1.7879622089827577e-05,
          -1.7879622089836278e-05,
          -1.7879622089826713e-05,
          -1.787962208983792e-05,
          -1.7879622089843698e-05,
          -1.7879622089837335e-05,
          -1.7879622089841238e-05,
          -1.7879622116030237e-05,
          -1.7846136109105593e-05,
          -1.7879622089832853e-05,
          -1.7879622089828387e-05,
          -1.7879622089838247e-05,
          -1.7879622089833513e-05,
          -1.7879622089828946e-05,
          -1.787962208983194e-05,
          -1.7879622089828394e-05,
          -1.7879622080440802e-05,
          -1.7879622089844406e-05,
          -1.7879622089832084e-05,
          -1.787962208985378e-05,
          -1.7879622089841238e-05,
          -1.787962208983116e-05,
          -1.787962208982479e-05,
          -1.7879622091494664e-05,
          -1.787962208983251e-05,
          -1.7879622089831487e-05,
          -1.7879622089834848e-05,
          -1.7879622089825297e-05,
          -1.7879622089829004e-05,
          -1.787962208983314e-05,
          -1.7879622089838755e-05,
          -1.7879622242974017e-05,
          -1.7879622089841238e-05,
          -1.7879622089840476e-05,
          -1.7879622172199122e-05,
          -1.787962208983951e-05,
          -1.787962208983904e-05,
          -1.7879622199652416e-05,
          -1.7879622089835414e-05,
          -1.787962208984086e-05,
          -1.7879622089841238e-05,
          -1.7879622089842434e-05,
          -1.787962208983147e-05,
          -0.001564747610200946,
          -1.7879622089841472e-05,
          -1.7879622089836542e-05,
          -1.7879622089841238e-05,
          -1.7879670343325292e-05,
          -1.787962208983111e-05,
          -3.575923797662944e-05,
          -1.7879622089820256e-05,
          -1.7879622089838717e-05,
          -1.7879622089829004e-05,
          -1.787962208983251e-05,
          -1.7879622089857484e-05,
          -1.7879622089841238e-05,
          -1.7879622089829004e-05,
          -1.787962208987072e-05,
          -1.7879622089832056e-05,
          -1.787962208985378e-05,
          -1.787962208983213e-05,
          -1.7879622119392093e-05,
          -1.787962208984017e-05,
          -1.787962208983213e-05,
          -1.7879622089842204e-05,
          -1.787962208982787e-05,
          -1.787962784740044e-05,
          -1.787962227052572e-05,
          -1.7879622089832165e-05,
          -1.7879622089825294e-05,
          -1.787962208984322e-05,
          -1.7879622089810725e-05,
          -1.787962208983892e-05,
          -1.7879622089841238e-05,
          -1.7879624006525392e-05,
          -1.7879622089835705e-05,
          -1.786949236326655e-05,
          -0.0012791405953526292,
          -1.7879622089832138e-05,
          -0.00018758107830202134,
          -1.7879622226429482e-05,
          -1.787962216169596e-05,
          -0.0014110799588776186,
          -0.0003882351687263184,
          -0.0012791449366641747,
          -0.0008594491469902749,
          -0.00038823516872638184,
          -1.8360001666396906e-06,
          -1.965116854267061e-06,
          -1.9651168543506517e-06,
          -0.00038823516872640737,
          -0.0011481772086705793,
          7.771993707159797e-06,
          -0.00038823516872628805,
          -2.9373590221587194e-06,
          -0.0014156374122098194,
          -0.0005745710718489988,
          -0.00018758107830207246,
          0.0003431247047069844,
          -0.0003882351687259099,
          -0.0008921549431172665,
          -5.874717025356722e-06,
          1.8326974932321716e-05,
          -0.0004043723737131703,
          -0.00040324058495810693,
          -0.0013676668545972415,
          -0.0003882351687262836,
          -0.0001875328415107157,
          -0.0014110799588537054,
          -0.00041091009461545
         ]
        },
        {
         "customdata": [
          [
           "Dagger"
          ],
          [
           "Dagger"
          ],
          [
           "Proof-of-Authority"
          ]
         ],
         "hovertemplate": "<b>%{hovertext}</b><br><br>class=%{marker.color}<br>PC 1=%{x}<br>PC 2=%{y}<br>PC 3=%{z}<br>Algorithm=%{customdata[0]}<extra></extra>",
         "hovertext": [
          "DAPS Coin",
          "Amber",
          "Poa Network"
         ],
         "legendgroup": "1",
         "marker": {
          "color": [
           1,
           1,
           1
          ],
          "coloraxis": "coloraxis",
          "symbol": "square"
         },
         "mode": "markers",
         "name": "1",
         "scene": "scene",
         "showlegend": true,
         "type": "scatter3d",
         "x": [
          -2.3813231571308897,
          -2.4056177157711462,
          -2.4095436404643706
         ],
         "y": [
          12.982813994349915,
          13.009812009245882,
          12.980794234575338
         ],
         "z": [
          -0.004623444258956433,
          -0.004723998204450228,
          -0.004758951488893525
         ]
        },
        {
         "customdata": [
          [
           "SPL Token"
          ]
         ],
         "hovertemplate": "<b>%{hovertext}</b><br><br>class=%{marker.color}<br>PC 1=%{x}<br>PC 2=%{y}<br>PC 3=%{z}<br>Algorithm=%{customdata[0]}<extra></extra>",
         "hovertext": [
          "MAPS"
         ],
         "legendgroup": "3",
         "marker": {
          "color": [
           3
          ],
          "coloraxis": "coloraxis",
          "symbol": "x"
         },
         "mode": "markers",
         "name": "3",
         "scene": "scene",
         "showlegend": true,
         "type": "scatter3d",
         "x": [
          -2.3221462494023126
         ],
         "y": [
          -4.5913674003654785
         ],
         "z": [
          22.233186170980513
         ]
        },
        {
         "customdata": [
          [
           "Leased POS"
          ],
          [
           "SPoS"
          ],
          [
           "ECC 256K1"
          ],
          [
           "SHA3"
          ]
         ],
         "hovertemplate": "<b>%{hovertext}</b><br><br>class=%{marker.color}<br>PC 1=%{x}<br>PC 2=%{y}<br>PC 3=%{z}<br>Algorithm=%{customdata[0]}<extra></extra>",
         "hovertext": [
          "Waves",
          "V Systems",
          "Acute Angle Cloud",
          "Nexus"
         ],
         "legendgroup": "4",
         "marker": {
          "color": [
           4,
           4,
           4,
           4
          ],
          "coloraxis": "coloraxis",
          "symbol": "cross"
         },
         "mode": "markers",
         "name": "4",
         "scene": "scene",
         "showlegend": true,
         "type": "scatter3d",
         "x": [
          -2.3472729823889873,
          -2.347272982390449,
          -2.3472729823891334,
          -2.347076993869241
         ],
         "y": [
          -4.636007750789418,
          -4.636007750796564,
          -4.636007750788053,
          -4.635659556053384
         ],
         "z": [
          -5.569112243970757,
          -5.569112282997995,
          -5.569112193820583,
          -5.352254335136795
         ]
        }
       ],
       "layout": {
        "coloraxis": {
         "colorbar": {
          "title": {
           "text": "class"
          }
         },
         "colorscale": [
          [
           0,
           "#0d0887"
          ],
          [
           0.1111111111111111,
           "#46039f"
          ],
          [
           0.2222222222222222,
           "#7201a8"
          ],
          [
           0.3333333333333333,
           "#9c179e"
          ],
          [
           0.4444444444444444,
           "#bd3786"
          ],
          [
           0.5555555555555556,
           "#d8576b"
          ],
          [
           0.6666666666666666,
           "#ed7953"
          ],
          [
           0.7777777777777778,
           "#fb9f3a"
          ],
          [
           0.8888888888888888,
           "#fdca26"
          ],
          [
           1,
           "#f0f921"
          ]
         ]
        },
        "legend": {
         "title": {
          "text": "class"
         },
         "tracegroupgap": 0,
         "x": 0,
         "y": 1
        },
        "margin": {
         "t": 60
        },
        "scene": {
         "domain": {
          "x": [
           0,
           1
          ],
          "y": [
           0,
           1
          ]
         },
         "xaxis": {
          "title": {
           "text": "PC 1"
          }
         },
         "yaxis": {
          "title": {
           "text": "PC 2"
          }
         },
         "zaxis": {
          "title": {
           "text": "PC 3"
          }
         }
        },
        "template": {
         "data": {
          "bar": [
           {
            "error_x": {
             "color": "#2a3f5f"
            },
            "error_y": {
             "color": "#2a3f5f"
            },
            "marker": {
             "line": {
              "color": "#E5ECF6",
              "width": 0.5
             },
             "pattern": {
              "fillmode": "overlay",
              "size": 10,
              "solidity": 0.2
             }
            },
            "type": "bar"
           }
          ],
          "barpolar": [
           {
            "marker": {
             "line": {
              "color": "#E5ECF6",
              "width": 0.5
             },
             "pattern": {
              "fillmode": "overlay",
              "size": 10,
              "solidity": 0.2
             }
            },
            "type": "barpolar"
           }
          ],
          "carpet": [
           {
            "aaxis": {
             "endlinecolor": "#2a3f5f",
             "gridcolor": "white",
             "linecolor": "white",
             "minorgridcolor": "white",
             "startlinecolor": "#2a3f5f"
            },
            "baxis": {
             "endlinecolor": "#2a3f5f",
             "gridcolor": "white",
             "linecolor": "white",
             "minorgridcolor": "white",
             "startlinecolor": "#2a3f5f"
            },
            "type": "carpet"
           }
          ],
          "choropleth": [
           {
            "colorbar": {
             "outlinewidth": 0,
             "ticks": ""
            },
            "type": "choropleth"
           }
          ],
          "contour": [
           {
            "colorbar": {
             "outlinewidth": 0,
             "ticks": ""
            },
            "colorscale": [
             [
              0,
              "#0d0887"
             ],
             [
              0.1111111111111111,
              "#46039f"
             ],
             [
              0.2222222222222222,
              "#7201a8"
             ],
             [
              0.3333333333333333,
              "#9c179e"
             ],
             [
              0.4444444444444444,
              "#bd3786"
             ],
             [
              0.5555555555555556,
              "#d8576b"
             ],
             [
              0.6666666666666666,
              "#ed7953"
             ],
             [
              0.7777777777777778,
              "#fb9f3a"
             ],
             [
              0.8888888888888888,
              "#fdca26"
             ],
             [
              1,
              "#f0f921"
             ]
            ],
            "type": "contour"
           }
          ],
          "contourcarpet": [
           {
            "colorbar": {
             "outlinewidth": 0,
             "ticks": ""
            },
            "type": "contourcarpet"
           }
          ],
          "heatmap": [
           {
            "colorbar": {
             "outlinewidth": 0,
             "ticks": ""
            },
            "colorscale": [
             [
              0,
              "#0d0887"
             ],
             [
              0.1111111111111111,
              "#46039f"
             ],
             [
              0.2222222222222222,
              "#7201a8"
             ],
             [
              0.3333333333333333,
              "#9c179e"
             ],
             [
              0.4444444444444444,
              "#bd3786"
             ],
             [
              0.5555555555555556,
              "#d8576b"
             ],
             [
              0.6666666666666666,
              "#ed7953"
             ],
             [
              0.7777777777777778,
              "#fb9f3a"
             ],
             [
              0.8888888888888888,
              "#fdca26"
             ],
             [
              1,
              "#f0f921"
             ]
            ],
            "type": "heatmap"
           }
          ],
          "heatmapgl": [
           {
            "colorbar": {
             "outlinewidth": 0,
             "ticks": ""
            },
            "colorscale": [
             [
              0,
              "#0d0887"
             ],
             [
              0.1111111111111111,
              "#46039f"
             ],
             [
              0.2222222222222222,
              "#7201a8"
             ],
             [
              0.3333333333333333,
              "#9c179e"
             ],
             [
              0.4444444444444444,
              "#bd3786"
             ],
             [
              0.5555555555555556,
              "#d8576b"
             ],
             [
              0.6666666666666666,
              "#ed7953"
             ],
             [
              0.7777777777777778,
              "#fb9f3a"
             ],
             [
              0.8888888888888888,
              "#fdca26"
             ],
             [
              1,
              "#f0f921"
             ]
            ],
            "type": "heatmapgl"
           }
          ],
          "histogram": [
           {
            "marker": {
             "pattern": {
              "fillmode": "overlay",
              "size": 10,
              "solidity": 0.2
             }
            },
            "type": "histogram"
           }
          ],
          "histogram2d": [
           {
            "colorbar": {
             "outlinewidth": 0,
             "ticks": ""
            },
            "colorscale": [
             [
              0,
              "#0d0887"
             ],
             [
              0.1111111111111111,
              "#46039f"
             ],
             [
              0.2222222222222222,
              "#7201a8"
             ],
             [
              0.3333333333333333,
              "#9c179e"
             ],
             [
              0.4444444444444444,
              "#bd3786"
             ],
             [
              0.5555555555555556,
              "#d8576b"
             ],
             [
              0.6666666666666666,
              "#ed7953"
             ],
             [
              0.7777777777777778,
              "#fb9f3a"
             ],
             [
              0.8888888888888888,
              "#fdca26"
             ],
             [
              1,
              "#f0f921"
             ]
            ],
            "type": "histogram2d"
           }
          ],
          "histogram2dcontour": [
           {
            "colorbar": {
             "outlinewidth": 0,
             "ticks": ""
            },
            "colorscale": [
             [
              0,
              "#0d0887"
             ],
             [
              0.1111111111111111,
              "#46039f"
             ],
             [
              0.2222222222222222,
              "#7201a8"
             ],
             [
              0.3333333333333333,
              "#9c179e"
             ],
             [
              0.4444444444444444,
              "#bd3786"
             ],
             [
              0.5555555555555556,
              "#d8576b"
             ],
             [
              0.6666666666666666,
              "#ed7953"
             ],
             [
              0.7777777777777778,
              "#fb9f3a"
             ],
             [
              0.8888888888888888,
              "#fdca26"
             ],
             [
              1,
              "#f0f921"
             ]
            ],
            "type": "histogram2dcontour"
           }
          ],
          "mesh3d": [
           {
            "colorbar": {
             "outlinewidth": 0,
             "ticks": ""
            },
            "type": "mesh3d"
           }
          ],
          "parcoords": [
           {
            "line": {
             "colorbar": {
              "outlinewidth": 0,
              "ticks": ""
             }
            },
            "type": "parcoords"
           }
          ],
          "pie": [
           {
            "automargin": true,
            "type": "pie"
           }
          ],
          "scatter": [
           {
            "marker": {
             "colorbar": {
              "outlinewidth": 0,
              "ticks": ""
             }
            },
            "type": "scatter"
           }
          ],
          "scatter3d": [
           {
            "line": {
             "colorbar": {
              "outlinewidth": 0,
              "ticks": ""
             }
            },
            "marker": {
             "colorbar": {
              "outlinewidth": 0,
              "ticks": ""
             }
            },
            "type": "scatter3d"
           }
          ],
          "scattercarpet": [
           {
            "marker": {
             "colorbar": {
              "outlinewidth": 0,
              "ticks": ""
             }
            },
            "type": "scattercarpet"
           }
          ],
          "scattergeo": [
           {
            "marker": {
             "colorbar": {
              "outlinewidth": 0,
              "ticks": ""
             }
            },
            "type": "scattergeo"
           }
          ],
          "scattergl": [
           {
            "marker": {
             "colorbar": {
              "outlinewidth": 0,
              "ticks": ""
             }
            },
            "type": "scattergl"
           }
          ],
          "scattermapbox": [
           {
            "marker": {
             "colorbar": {
              "outlinewidth": 0,
              "ticks": ""
             }
            },
            "type": "scattermapbox"
           }
          ],
          "scatterpolar": [
           {
            "marker": {
             "colorbar": {
              "outlinewidth": 0,
              "ticks": ""
             }
            },
            "type": "scatterpolar"
           }
          ],
          "scatterpolargl": [
           {
            "marker": {
             "colorbar": {
              "outlinewidth": 0,
              "ticks": ""
             }
            },
            "type": "scatterpolargl"
           }
          ],
          "scatterternary": [
           {
            "marker": {
             "colorbar": {
              "outlinewidth": 0,
              "ticks": ""
             }
            },
            "type": "scatterternary"
           }
          ],
          "surface": [
           {
            "colorbar": {
             "outlinewidth": 0,
             "ticks": ""
            },
            "colorscale": [
             [
              0,
              "#0d0887"
             ],
             [
              0.1111111111111111,
              "#46039f"
             ],
             [
              0.2222222222222222,
              "#7201a8"
             ],
             [
              0.3333333333333333,
              "#9c179e"
             ],
             [
              0.4444444444444444,
              "#bd3786"
             ],
             [
              0.5555555555555556,
              "#d8576b"
             ],
             [
              0.6666666666666666,
              "#ed7953"
             ],
             [
              0.7777777777777778,
              "#fb9f3a"
             ],
             [
              0.8888888888888888,
              "#fdca26"
             ],
             [
              1,
              "#f0f921"
             ]
            ],
            "type": "surface"
           }
          ],
          "table": [
           {
            "cells": {
             "fill": {
              "color": "#EBF0F8"
             },
             "line": {
              "color": "white"
             }
            },
            "header": {
             "fill": {
              "color": "#C8D4E3"
             },
             "line": {
              "color": "white"
             }
            },
            "type": "table"
           }
          ]
         },
         "layout": {
          "annotationdefaults": {
           "arrowcolor": "#2a3f5f",
           "arrowhead": 0,
           "arrowwidth": 1
          },
          "autotypenumbers": "strict",
          "coloraxis": {
           "colorbar": {
            "outlinewidth": 0,
            "ticks": ""
           }
          },
          "colorscale": {
           "diverging": [
            [
             0,
             "#8e0152"
            ],
            [
             0.1,
             "#c51b7d"
            ],
            [
             0.2,
             "#de77ae"
            ],
            [
             0.3,
             "#f1b6da"
            ],
            [
             0.4,
             "#fde0ef"
            ],
            [
             0.5,
             "#f7f7f7"
            ],
            [
             0.6,
             "#e6f5d0"
            ],
            [
             0.7,
             "#b8e186"
            ],
            [
             0.8,
             "#7fbc41"
            ],
            [
             0.9,
             "#4d9221"
            ],
            [
             1,
             "#276419"
            ]
           ],
           "sequential": [
            [
             0,
             "#0d0887"
            ],
            [
             0.1111111111111111,
             "#46039f"
            ],
            [
             0.2222222222222222,
             "#7201a8"
            ],
            [
             0.3333333333333333,
             "#9c179e"
            ],
            [
             0.4444444444444444,
             "#bd3786"
            ],
            [
             0.5555555555555556,
             "#d8576b"
            ],
            [
             0.6666666666666666,
             "#ed7953"
            ],
            [
             0.7777777777777778,
             "#fb9f3a"
            ],
            [
             0.8888888888888888,
             "#fdca26"
            ],
            [
             1,
             "#f0f921"
            ]
           ],
           "sequentialminus": [
            [
             0,
             "#0d0887"
            ],
            [
             0.1111111111111111,
             "#46039f"
            ],
            [
             0.2222222222222222,
             "#7201a8"
            ],
            [
             0.3333333333333333,
             "#9c179e"
            ],
            [
             0.4444444444444444,
             "#bd3786"
            ],
            [
             0.5555555555555556,
             "#d8576b"
            ],
            [
             0.6666666666666666,
             "#ed7953"
            ],
            [
             0.7777777777777778,
             "#fb9f3a"
            ],
            [
             0.8888888888888888,
             "#fdca26"
            ],
            [
             1,
             "#f0f921"
            ]
           ]
          },
          "colorway": [
           "#636efa",
           "#EF553B",
           "#00cc96",
           "#ab63fa",
           "#FFA15A",
           "#19d3f3",
           "#FF6692",
           "#B6E880",
           "#FF97FF",
           "#FECB52"
          ],
          "font": {
           "color": "#2a3f5f"
          },
          "geo": {
           "bgcolor": "white",
           "lakecolor": "white",
           "landcolor": "#E5ECF6",
           "showlakes": true,
           "showland": true,
           "subunitcolor": "white"
          },
          "hoverlabel": {
           "align": "left"
          },
          "hovermode": "closest",
          "mapbox": {
           "style": "light"
          },
          "paper_bgcolor": "white",
          "plot_bgcolor": "#E5ECF6",
          "polar": {
           "angularaxis": {
            "gridcolor": "white",
            "linecolor": "white",
            "ticks": ""
           },
           "bgcolor": "#E5ECF6",
           "radialaxis": {
            "gridcolor": "white",
            "linecolor": "white",
            "ticks": ""
           }
          },
          "scene": {
           "xaxis": {
            "backgroundcolor": "#E5ECF6",
            "gridcolor": "white",
            "gridwidth": 2,
            "linecolor": "white",
            "showbackground": true,
            "ticks": "",
            "zerolinecolor": "white"
           },
           "yaxis": {
            "backgroundcolor": "#E5ECF6",
            "gridcolor": "white",
            "gridwidth": 2,
            "linecolor": "white",
            "showbackground": true,
            "ticks": "",
            "zerolinecolor": "white"
           },
           "zaxis": {
            "backgroundcolor": "#E5ECF6",
            "gridcolor": "white",
            "gridwidth": 2,
            "linecolor": "white",
            "showbackground": true,
            "ticks": "",
            "zerolinecolor": "white"
           }
          },
          "shapedefaults": {
           "line": {
            "color": "#2a3f5f"
           }
          },
          "ternary": {
           "aaxis": {
            "gridcolor": "white",
            "linecolor": "white",
            "ticks": ""
           },
           "baxis": {
            "gridcolor": "white",
            "linecolor": "white",
            "ticks": ""
           },
           "bgcolor": "#E5ECF6",
           "caxis": {
            "gridcolor": "white",
            "linecolor": "white",
            "ticks": ""
           }
          },
          "title": {
           "x": 0.05
          },
          "xaxis": {
           "automargin": true,
           "gridcolor": "white",
           "linecolor": "white",
           "ticks": "",
           "title": {
            "standoff": 15
           },
           "zerolinecolor": "white",
           "zerolinewidth": 2
          },
          "yaxis": {
           "automargin": true,
           "gridcolor": "white",
           "linecolor": "white",
           "ticks": "",
           "title": {
            "standoff": 15
           },
           "zerolinecolor": "white",
           "zerolinewidth": 2
          }
         }
        }
       }
      },
      "text/html": [
       "<div>                            <div id=\"32d2b336-4dc6-40d3-a01f-c1c36440ec4d\" class=\"plotly-graph-div\" style=\"height:525px; width:100%;\"></div>            <script type=\"text/javascript\">                require([\"plotly\"], function(Plotly) {                    window.PLOTLYENV=window.PLOTLYENV || {};                                    if (document.getElementById(\"32d2b336-4dc6-40d3-a01f-c1c36440ec4d\")) {                    Plotly.newPlot(                        \"32d2b336-4dc6-40d3-a01f-c1c36440ec4d\",                        [{\"customdata\":[[\"Scrypt\"],[\"X13\"],[\"Scrypt\"],[\"Scrypt\"],[\"RandomX\"],[\"X11\"],[\"Equihash\"],[\"IMesh\"],[\"SHA-256\"],[\"ProgPowZ\"],[\"X16RT\"],[\"C31\"],[\"X16R\"],[\"Scrypt\"],[\"HEX\"],[\"SHA-256\"],[\"Multiple\"],[\"Ethash\"],[\"Quark\"],[\"Scrypt\"],[\"SHA-256\"],[\"Equihash\"],[\"Ethash\"],[\"SHA-256\"],[\"SHA-256\"],[\"Scrypt\"],[\"SHA-256\"],[\"Multiple\"],[\"Autolykos\"],[\"X16R\"],[\"Equihash\"],[\"CryptoNight-Lite\"],[\"Scrypt\"],[\"Equihash\"],[\"Equihash\"],[\"IMesh\"],[\"Ethash\"],[\"Eaglesong\"],[\"Blake2B + SHA3\"],[\"SHA-256\"],[\"Scrypt\"],[\"Ethash\"],[\"Lyra2Z\"],[\"Equihash\"],[\"SHA-256\"],[\"RandomX\"],[\"BLAKE256\"],[\"Ethash\"],[\"MTP\"],[\"X11\"],[\"Blake2b\"],[\"Ethash\"],[\"SHA-256\"],[\"Scrypt\"],[\"BLAKE256\"],[\"Scrypt\"],[\"KECCAK\"],[\"Scrypt\"],[\"CryptoNight\"],[\"Equihash\"],[\"Blake2b\"],[\"Scrypt\"],[\"Equihash210,9\"],[\"Scrypt\"],[\"SHA-256\"],[\"X11GOST\"],[\"Scrypt\"],[\"BMW512 / Echo512\"],[\"Scrypt\"],[\"C31\"],[\"Scrypt\"],[\"CryptoNight-Heavy\"],[\"Scrypt\"],[\"Scrypt\"],[\"Scrypt\"],[\"SHA-256\"],[\"Blake2b\"],[\"Scrypt\"],[\"Shabal256\"],[\"Equihash\"],[\"Multiple\"],[\"Scrypt\"],[\"Lyra2REv2\"],[\"Multiple\"],[\"Dagger-Hashimoto\"],[\"SHA-256\"],[\"PoS\"],[\"X11\"],[\"Scrypt\"],[\"X13\"],[\"Equihash\"],[\"SHA-256\"],[\"Scrypt\"],[\"Ethash\"],[\"Quark\"],[\"Cryptonight Haven\"],[\"X13\"],[\"CryptoNight\"],[\"Ethash\"],[\"X13\"],[\"X11\"],[\"CryptoNight\"],[\"Multiple\"],[\"Scrypt\"],[\"Ethash\"],[\"EtcHash\"],[\"NeoScrypt\"],[\"Groestl\"],[\"Equihash\"],[\"Equihash\"]],\"hovertemplate\":\"<b>%{hovertext}</b><br><br>class=%{marker.color}<br>PC 1=%{x}<br>PC 2=%{y}<br>PC 3=%{z}<br>Algorithm=%{customdata[0]}<extra></extra>\",\"hovertext\":[\"42 Coin\",\"Triangles Coin\",\"CometCoin\",\"OpenChat\",\"Quantum Resistant Ledger\",\"Pura\",\"Bitcoin Private\",\"Aidos Kuneen\",\"Foin\",\"Zano\",\"VEIL\",\"MimbleWimbleCoin\",\"Ravencoin Classic\",\"Goldmaxcoin\",\"XDNA\",\"Wibcoin\",\"Revain\",\"EtherZero\",\"QuarkCoin\",\"United Emirates Coin\",\"Arweave\",\"Bithereum\",\"BeforeCoinMarketCap\",\"Smart Bitcoin\",\"UnitedBitcoin\",\"VeriCoin\",\"Emercoin\",\"Circuits of Value\",\"Ergo\",\"Genix\",\"Beam\",\"AEON\",\"Canada eCoin\",\"TENT\",\"Pirate Chain\",\"Internet Node token\",\"Super Zero\",\"Nervos Network\",\"Handshake\",\"REDi\",\"Auroracoin\",\"Ethereum Name Service\",\"TecraCoin\",\"BitcoinZ\",\"eCash\",\"Monero\",\"HyperCash\",\"Expanse\",\"Firo\",\"IOCoin\",\"Siacoin\",\"Waltonchain\",\"Bitcoin\",\"BlackCoin\",\"Decred\",\"Einsteinium\",\"SmartCash\",\"SaluS\",\"Beldex\",\"ZCash\",\"Yeeco\",\"WhiteCoin\",\"Aion\",\"Flo\",\"Bitcoin Cash\",\"SibCoin\",\"SafeExchangeCoin\",\"DigitalNote\",\"PotCoin\",\"Grin\",\"Gulden\",\"Haven Protocol\",\"Litecoin\",\"MegaCoin\",\"MonaCoin\",\"Namecoin\",\"Nano\",\"NovaCoin\",\"Signa\",\"Zelcash\",\"WXT\",\"ViaCoin\",\"Vertcoin\",\"Verge\",\"Ubiq\",\"SysCoin\",\"Steem\",\"Stakenet\",\"Reddcoin\",\"Bitcoin Diamond\",\"Bitcoin Gold\",\"Bitcoin SV\",\"Primas\",\"Metaverse\",\"Private Instant Verified Transaction\",\"BLOC.MONEY\",\"NavCoin\",\"ByteCoin\",\"Callisto Network\",\"CloakCoin\",\"Dash\",\"Dero\",\"DigiByte\",\"Dogecoin\",\"Ethereum\",\"Ethereum Classic\",\"FeatherCoin\",\"Groestlcoin\",\"Horizen\",\"Komodo\"],\"legendgroup\":\"2\",\"marker\":{\"color\":[2,2,2,2,2,2,2,2,2,2,2,2,2,2,2,2,2,2,2,2,2,2,2,2,2,2,2,2,2,2,2,2,2,2,2,2,2,2,2,2,2,2,2,2,2,2,2,2,2,2,2,2,2,2,2,2,2,2,2,2,2,2,2,2,2,2,2,2,2,2,2,2,2,2,2,2,2,2,2,2,2,2,2,2,2,2,2,2,2,2,2,2,2,2,2,2,2,2,2,2,2,2,2,2,2,2,2,2,2,2],\"coloraxis\":\"coloraxis\",\"symbol\":\"circle\"},\"mode\":\"markers\",\"name\":\"2\",\"scene\":\"scene\",\"showlegend\":true,\"x\":[1.210694512011077,0.5927996596728022,2.1304343892075956,1.2106945120061372,2.5013594653290547,1.8209519725418475,2.4027471952884363,2.17380379896162,1.086894932393641,0.734354167503855,0.7344197175813006,2.5013452969966874,2.5048533935147286,2.1304343892074673,0.7343541675040849,2.6114067743694993,0.5866031513746496,1.963930133735327,0.7365591132878914,0.720129244732326,2.497196193517708,2.4027445827539466,1.0441902565339065,2.4971910537883364,2.497191053788335,1.3776365698263033,1.5774487780465147,1.9969082958506825,2.493875361861751,2.502478838545014,2.4027745987734788,2.4938540056628846,1.3776600289974112,2.4027541878801983,1.8986207589778337,1.4608225170054416,1.0592491739933456,2.493854005662157,2.4942997461883,1.0868835107725952,1.2106945120061394,1.05910714882579,2.4938540056628864,2.4051431231273934,4.895729028607005,2.501347472627088,0.7365742168054042,1.9639415553562718,2.493858681568609,0.9012146080971982,2.07427266844331,0.5536249892601846,2.4971910537883337,0.7279395266784203,0.7365670211842833,2.130434389207472,2.494946506950313,1.2106945120061405,0.6806589258028101,2.402746981294321,0.6639675239685914,1.21080872821451,0.7343541675038497,2.1304526638009103,2.4971910537883337,2.4938585941685116,1.1284481532718305,0.7343541675036954,1.2107424828137239,2.50134301267241,2.1306262724374685,2.493854005662885,2.1304439833690814,2.1304391862883354,2.1304343892074744,2.497188655247849,2.074287887558402,1.2106945120061405,0.5770135340602661,1.483028690956346,0.5866031513754485,2.1304343892074735,2.493872359684729,1.9987991451784635,2.493854005662883,2.4972900792408947,1.431301552188626,0.7855841041952444,1.2106945120058124,0.5928236450765353,2.4027469812943196,2.4971910537883337,2.1304343892074744,0.5536364108811241,0.7365591132878941,2.4938649306759757,0.5927996596726867,2.1042346738895823,1.9646725390891357,0.5927996596726881,0.7855882338503318,2.0831652099528193,1.9993068362242155,2.1304343892060564,1.9639301337353308,2.4939000436673444,2.4939274217496004,2.4938769481901337,2.402746981294321,1.8986207589778301],\"y\":[0.016364879191308274,-0.019781938408937914,0.07470730617330268,0.0163648791909945,0.10329204399927237,0.05919252005269831,0.09672898281311854,0.08827629574317937,0.0468002004559749,-0.013542969382071904,-0.013538641482998956,0.1032911218142671,0.10351949989464605,0.07470730617329538,-0.01354296938207108,0.11308759043076454,0.021143078378332923,0.07510323155401169,-0.013587374182548663,0.0156441538709709,0.10586310711376241,0.09672881755512192,0.01676080457170018,0.10586278199599454,0.10586278199599482,0.031237750851735947,0.047520203292063,0.08020623068077729,0.10295475059000568,0.10336929548593925,0.09673071624288611,0.10295334056157318,0.031239299727478496,0.09672942513520671,0.07521249241616176,0.05834630569724362,0.03203769922389295,0.10295334056145708,0.1029827702751637,0.04679947797202378,0.016364879190996037,0.032028322109246866,0.10295334056156324,0.09688053918007831,0.25758425521874284,0.10329128539114392,-0.013586386734455516,0.07510395403794796,0.10295364928504479,0.0008502520168700663,0.0837496676598151,0.01604007925168797,0.10586278199599444,-0.017928171154353974,-0.013586841899330437,0.07470730617329562,0.10302547221259195,0.01636487919099631,-0.01974053553596829,0.09672896927674714,0.024686515357548917,0.016372104030286605,-0.01354296938207644,0.07470846214758847,0.10586278199599444,0.10295364351451396,0.016308460297242037,-0.013542969382096972,0.016367913623502643,0.10329097731747405,0.07471944390330013,0.10295334056156882,0.07470791305980293,0.07470760961655304,0.0747073061732958,0.10586263027436231,0.08375063035737462,0.016364879190996398,-0.01365562484180931,0.038387907789071724,0.021143078378441146,0.07470730617329585,0.10295455237331505,0.08032583789511612,0.10295334056157451,0.10586904593165328,0.03205442711855659,0.00025831742565310135,0.016364879190951975,-0.019780421192688413,0.09672896927674707,0.10586278199599444,0.07470730617329566,0.016040801735623545,-0.013587374182547945,0.1029540618780996,-0.019781938408945286,0.07422843037814812,0.0751501930093635,-0.01978193840894504,0.00025859008330894964,0.07289566427561928,0.08035795230573706,0.07470730617310371,0.07510323155401216,0.1029563801893535,0.10295818780852747,0.10295485532624857,0.09672896927674714,0.07521249241615953],\"z\":[-0.002007139717077789,-0.0019294810848581436,-0.0015738702128464364,-0.0020071397170988406,-0.0012781225980048373,-0.0015274806778311808,-0.001380781003785977,-0.0012834251600157887,0.0002637155085260799,-0.0021405467816326654,-0.0021402573609386635,-0.0012781842347774342,-0.0012629198468956807,-0.0015738702128435696,-0.002140546781659529,0.00011000541567284143,-0.000390105553470705,-0.0011914531410676295,-0.0021475880514923696,-0.0009378323776214948,-0.0003723387272026471,-0.0013807920372676276,-0.0016247226453210174,-0.0003723604337579045,-0.0003723604337578222,-0.0018756644298226323,-0.0008056400677390219,-0.0010261433886906673,-0.0012739136302853478,-0.0012729482757231807,-0.0013806652709837343,-0.0012740079234737438,-0.0018755608514635343,-0.0013807514720585422,-0.0014893151985400023,-0.0012938096893074318,-0.001110203340790405,-0.0012740079234685694,-0.0012720398627364114,0.00026366727173555537,-0.0020071397170996594,-0.001110830418965195,-0.001274007923467081,-0.0013706623111808167,0.009757355525914856,-0.0012781732466352399,-0.002147522041670785,-0.001191404904276175,-0.001273987278123173,-0.0019607395699910205,-0.0010676026996498144,-0.0005554153058469203,-0.0003723604337585311,-0.0016423580056488527,-0.0021475524308491117,-0.0015738702128455036,-0.0012691842452113627,-0.002007139717099655,-0.0013440753605778366,-0.0013807819075440965,-0.00043156486442921593,-0.0020066573491900877,-0.0021405467816343585,-0.001573793033979764,-0.0003723604337585311,-0.0012739876640206586,-0.0018900434433805383,-0.0021405467816325414,-0.0020069371225774854,-0.0012781938821365454,-0.001573059834757779,-0.0012740079234680203,-0.001573829693940694,-0.0015738499533928896,-0.0015738702128456153,-0.0003723705634851701,-0.0010675384249503148,-0.002007139717099655,-0.0019063542748059751,-0.001813960244263489,-0.00039010555346994443,-0.0015738702128454474,-0.0012739268856581444,-0.0010181577879564358,-0.00127400792347234,-0.0003719422207816581,-0.0012106089070693193,-0.0017828853758768656,-0.002007139717099729,-0.0019293797875989318,-0.0013807819075439937,-0.0003723604337585311,-0.0015738702128455363,-0.0005553670690554848,-0.00214758805149264,-0.0012739596866809411,-0.0019294810848605845,-0.0011865569228060365,-0.0011883177496585075,-0.0019294810848603738,-0.0017828671423736032,-0.0012755393309834071,-0.0010160136626006645,-0.0015738702128456135,-0.0011914531410676314,-0.0012738046536701617,-0.0012736837722900627,-0.0012739066262288075,-0.0013807819075440965,-0.0014893151985410223],\"type\":\"scatter3d\"},{\"customdata\":[[\"PoS\"],[\"NEP-5\"],[\"BEP2 Token\"],[\"POS 3.0\"],[\"NRC20 Token\"],[\"HRC-20 Token\"],[\"BEP-2\"],[\"BEP-20 Token\"],[\"BEP-20 Token\"],[\"BEP-20 Token\"],[\"VeChainThor Authority\"],[\"BEP-20 Token\"],[\"BEP-20 Token\"],[\"BEP-20 Token\"],[\"BEP-20 Token\"],[\"BEP-20 Token\"],[\"BEP-20 Token\"],[\"BEP-20 Token\"],[\"BEP-20 Token\"],[\"BEP-20 Token\"],[\"DPoS\"],[\"BEP-20 Token\"],[\"BEP-20 Token\"],[\"BEP-20 Token\"],[\"BEP-20 Token\"],[\"BEP-20 Token\"],[\"BEP-20 Token\"],[\"BEP-20 Token\"],[\"BEP-20 Token\"],[\"BEP-20 Token\"],[\"BEP-20 Token\"],[\"TRC-20\"],[\"TRC-20\"],[\"BEP-20 Token\"],[\"BEP-20 Token\"],[\"TRC-20\"],[\"BEP-20 Token\"],[\"BEP-20 Token\"],[\"BEP-20 Token\"],[\"BEP-20 Token\"],[\"BEP-20 Token\"],[\"BEP-20 Token\"],[\"GO20\"],[\"BEP-20 Token\"],[\"BEP-20 Token\"],[\"BEP-20 Token\"],[\"BEP-20 Token\"],[\"TRC-20\"],[\"BEP-20 Token\"],[\"BEP-20 Token\"],[\"BEP-20 Token\"],[\"BEP-20 Token\"],[\"BEP-20 Token\"],[\"BEP-20 Token\"],[\"BEP-20 Token\"],[\"BEP-20 Token\"],[\"BEP-20 Token\"],[\"BEP-20 Token\"],[\"BEP-20 Token\"],[\"BEP-20 Token\"],[\"BEP-20 Token\"],[\"BEP-20 Token\"],[\"BEP-20 Token\"],[\"BEP-20 Token\"],[\"BEP-20 Token\"],[\"BEP-20 Token\"],[\"BEP-20 Token\"],[\"BEP-20 Token\"],[\"BEP-20 Token\"],[\"BEP-20 Token\"],[\"BEP-20 Token\"],[\"BEP-20 Token\"],[\"BEP-2 Token\"],[\"BEP-20 Token\"],[\"BEP-20 Token\"],[\"BEP-20 Token\"],[\"BEP-20 Token\"],[\"BEP-20 Token\"],[\"BEP-20 Token\"],[\"BEP-20 Token\"],[\"BEP-20 Token\"],[\"BEP-20 Token\"],[\"BEP-20 Token\"],[\"BEP-20 Token\"],[\"BEP-20 Token\"],[\"BEP-20 Token\"],[\"BEP-20 Token\"],[\"BEP-20 Token\"],[\"BEP-20 Token\"],[\"BEP-20 Token\"],[\"BEP-20 Token\"],[\"BEP-20 Token\"],[\"BEP-20 Token\"],[\"BEP-20 Token\"],[\"BEP-20 Token\"],[\"BEP-20 Token\"],[\"BEP-20 Token\"],[\"BEP-20 Token\"],[\"BEP-20 Token\"],[\"BEP-20 Token\"],[\"BEP-20 Token\"],[\"BEP-20 Token\"],[\"BEP-20 Token\"],[\"BEP-20 Token\"],[\"BEP-20 Token\"],[\"BEP-20 Token\"],[\"BEP-20 Token\"],[\"BEP-20 Token\"],[\"BEP-20 Token\"],[\"BEP-20 Token\"],[\"BEP-20 Token\"],[\"BEP-20 Token\"],[\"BEP-20 Token\"],[\"BEP-20 Token\"],[\"BEP-20 Token\"],[\"BEP-20 Token\"],[\"BEP-20 Token\"],[\"BEP-20 Token\"],[\"BEP-20 Token\"],[\"BEP-20 Token\"],[\"BEP-20 Token\"],[\"BEP-20 Token\"],[\"X13\"],[\"BEP-20 Token\"],[\"BEP-20 Token\"],[\"BEP-20 Token\"],[\"BEP-20 Token\"],[\"BEP-20 Token\"],[\"BEP-20 Token\"],[\"BEP-20 Token\"],[\"BEP-20 Token\"],[\"BEP-20 Token\"],[\"BEP-20 Token\"],[\"BEP-20 Token\"],[\"BEP-20 Token\"],[\"BEP-20 Token\"],[\"BEP-20 Token\"],[\"BEP-20 Token\"],[\"BEP-20 Token\"],[\"BEP-20 Token\"],[\"BEP-20 Token\"],[\"BEP-20 Token\"],[\"BEP-20 Token\"],[\"BEP-20 Token\"],[\"BEP-20 Token\"],[\"BEP-20 Token\"],[\"BEP-20 Token\"],[\"BEP-20 Token\"],[\"BEP-20 Token\"],[\"BEP-20 Token\"],[\"BEP-20 Token\"],[\"BEP-20 Token\"],[\"BEP-20 Token\"],[\"BEP-20 Token\"],[\"BEP-20 Token\"],[\"BEP-20 Token\"],[\"PoS\"],[\"BEP-20 Token\"],[\"DPoS\"],[\"BEP-20 Token\"],[\"BEP-20 Token\"],[\"VBFT\"],[\"DPoS\"],[\"PoS\"],[\"X13\"],[\"DPoS\"],[\"dBFT2.0\"],[\"TRC-20\"],[\"TRC-20\"],[\"DPoS\"],[\"PoS\"],[\"NEP-5\"],[\"DPoS\"],[\"BEP-2\"],[\"POS 3.0\"],[\"PoS\"],[\"DPoS\"],[\"VeChainThor Authority\"],[\"DPoS\"],[\"DPoS\"],[\"BEP-2\"],[\"KAWPOW\"],[\"SHA-512\"],[\"TRC-10\"],[\"Ouroboros\"],[\"DPoS\"],[\"DPoS\"],[\"Loopchain\"],[\"SHA-512\"]],\"hovertemplate\":\"<b>%{hovertext}</b><br><br>class=%{marker.color}<br>PC 1=%{x}<br>PC 2=%{y}<br>PC 3=%{z}<br>Algorithm=%{customdata[0]}<extra></extra>\",\"hovertext\":[\"NuShares\",\"Nevula\",\"Swingby\",\"TokenPay\",\"NextDAO\",\"WeStarter\",\"BakeryToken\",\"IMPULSE by FDR\",\"Altura\",\"DekBox\",\"VEED\",\"Less Network\",\"KingDoge\",\"SafeHamsters\",\"Yuang Coin\",\"Kiwigo\",\"Votechain\",\"Pea Farm\",\"SparkPoint Fuel\",\"Genshiro\",\"ModiHost\",\"RealFevr\",\"MocktailSwap\",\"Effort Economy \",\"QueenDex Coin\",\"Lion Token\",\"Artex\",\"TBCC\",\"xWIN Finance\",\"MContent\",\"Tokyo AU\",\"Zoe Cash\",\"Novax Coin\",\"ShonToken\",\"Investelly token\",\"TRONbetLive\",\"Binance Smart Chain Girl\",\"PureFi\",\"Daddy Doge\",\"Five7\",\"Diamond Boyz Coin\",\"Plant vs Undead Token\",\"ECOMI\",\"Coin98\",\"Safe Energy\",\"Trust Wallet Token\",\"Lanceria\",\"Didcoin\",\"Little Rabbit\",\"Teaswap Art\",\"Kaiken Shiba\",\"My DeFi Pet\",\"BunnyPark\",\"ApeSwap Finance\",\"Pancake Bunny\",\"BTC Standard Hashrate Token\",\"Alpha Finance Lab\",\"Safe Star\",\"Pylon Eco Token\",\"Metahero\",\"Pig Finance\",\"Monsta Infinite\",\"Doggy\",\"Xiasi Inu\",\"Thetan Arena\",\"Nafter\",\"CryptoBlades\",\"CryptoZoon\",\"Binemon\",\"HoDooi.com\",\"Smaugs NFT\",\"Wall Street Games\",\"Honest\",\"Radio Caca\",\"KCCPad\",\"TrustPad\",\"Sishi Finance\",\"Feeder Finance\",\"Battle Pets\",\"Pacoca\",\"Pancake Hunny\",\"Rabbit Finance\",\"NFT Alley\",\"TEN\",\"Dehero Community Token\",\"Wheelers\",\"ShibaCash\",\"Longdrink Finance\",\"Eggplant Finance\",\"EIFI FINANCE\",\"TendieSwap\",\"CosmicSwap\",\"Vention\",\"WOWswap\",\"Betu\",\"Wenlambo\",\"Sheesh it is bussin bussin\",\"Pet Games\",\"CheCoin\",\"GemGuardian\",\"ForeverFOMO\",\"Knight War Spirits\",\"KRYZA Network\",\"Badger Sett Badger\",\"Portify\",\"DogeHouse Capital\",\"Bholdus Token\",\"Sphynx Token\",\"RugZombie\",\"LPI DAO\",\"Rainbow Token\",\"Step Hero\",\"Starpunk\",\"The Real Golden Inu\",\"Jade Currency\",\"Binamars\",\"BUMooN\",\"Loud Market\",\"DefiXBet\",\"Vortex DeFi\",\"RiceFarm\",\"BNB Cash\",\"Stratis\",\"Bogged Finance\",\"Dexit Finance\",\"Roseon Finance\",\"BabyDoge\",\"Splinterlands\",\"SafePal\",\"CumRocket\",\"Lucky Lion\",\"OpenOcean\",\"SIL Finance Token V2\",\"Bonus Cake\",\"TrustFi Network Token\",\"SoccerHub\",\"CryptoPlanes\",\"gotEM\",\"Pitch Finance Token\",\"Torii Finance\",\"GOMA Finance\",\"GameFi\",\"Shell Token\",\"Pokmonsters\",\"Kalata Protocol\",\"NFT Art Finance\",\"Baby Floki Billionaire\",\"VelasPad\",\"Battle Hero\",\"Lazio Fan Token\",\"HarmonyPad\",\"YocoinYOCO\",\"JERITEX\",\"Australian Safe Shepherd\",\"TRONPAD\",\"AUREO\",\"Validity\",\"Binamon\",\"Tenset\",\"MiniDOGE\",\"YooShi\",\"Ontology\",\"Lisk\",\"Anchor Protocol\",\"ABBC Coin\",\"Shift\",\"NEO\",\"Sun Token\",\"Sun Token\",\"Oxycoin\",\"Nxt\",\"DeepBrain Chain\",\"ARK\",\"Phoenix Binance\",\"QTUM\",\"Neblio\",\"Worldwide Asset eXchange\",\"VeChain\",\"Achain\",\"Rise\",\"Binance Coin\",\"Ravencoin\",\"Bitshares\",\"BitTorrent\",\"Cardano\",\"EOS\",\"High Performance Blockchain\",\"ICON Project\",\"Kcash\"],\"legendgroup\":\"0\",\"marker\":{\"color\":[0,0,0,0,0,0,0,0,0,0,0,0,0,0,0,0,0,0,0,0,0,0,0,0,0,0,0,0,0,0,0,0,0,0,0,0,0,0,0,0,0,0,0,0,0,0,0,0,0,0,0,0,0,0,0,0,0,0,0,0,0,0,0,0,0,0,0,0,0,0,0,0,0,0,0,0,0,0,0,0,0,0,0,0,0,0,0,0,0,0,0,0,0,0,0,0,0,0,0,0,0,0,0,0,0,0,0,0,0,0,0,0,0,0,0,0,0,0,0,0,0,0,0,0,0,0,0,0,0,0,0,0,0,0,0,0,0,0,0,0,0,0,0,0,0,0,0,0,0,0,0,0,0,0,0,0,0,0,0,0,0,0,0,0,0,0,0,0,0,0,0,0,0,0,0,0,0,0,0,0,0,0,0,0,0,0,0,0,0],\"coloraxis\":\"coloraxis\",\"symbol\":\"diamond\"},\"mode\":\"markers\",\"name\":\"0\",\"scene\":\"scene\",\"showlegend\":true,\"x\":[0.028795268038695178,-0.19806258970978996,-0.20411716528342252,-0.18975588138567362,-0.20193216270870354,-0.2041171652833913,-0.28576476993828753,-1.0875478284560536,-1.0875478284560682,-1.0875478284560538,-0.31719272835887236,-1.0875478284560562,-1.0875478391007436,-1.0875478284826647,-1.0875478391007427,-1.0875478284560636,-1.087547828456052,-1.087547828456055,-1.0875478284560531,-1.0875478284560545,-0.4864034066298251,-1.087547828456223,-1.0875478284560531,-1.087547828456054,-1.087547828456076,-1.087547828456105,-1.0875478284560547,-1.0875478284560642,-1.0875478284560545,-1.087547892769626,-1.0875478391007434,-0.20726064381906564,-0.20726064381906345,-1.0875478284561626,-1.0875478284560534,-0.20726064381907539,-1.0875478284560547,-1.0875478284560547,-1.0875478337733897,-1.0875478284560551,-1.0875478284560636,-1.087547828456056,-0.20411716528977883,-1.0875478284560547,-1.0875478313146354,-1.0875478284560636,-1.087547828456057,-0.20726064382981688,-2.0805295729396223,-1.0875478284560598,-1.0875507644966094,-1.0875478284560545,-1.0875478284560545,-1.087547828456054,-1.0875478284560538,-1.087547828456054,-1.0875478284560638,-1.0875478324539452,-1.0875478284560545,-1.0875478284561575,-1.0875478328537862,-1.0875478284560565,-1.087547828456096,-1.0875478336775257,-1.0875478284560576,-1.0875478284560638,-1.0875478284560536,-1.0875478284560642,-1.0875478284560636,-1.0875478284560636,-1.087547828456054,-1.087547838779111,-0.20411716528341112,-1.0875478284589888,-1.0875478284560562,-1.0875478284560542,-1.0875478284560534,-1.0875478284560545,-1.0875478284560558,-1.0875478284560545,-1.0875478284560538,-1.0875478284560551,-1.0875478284560534,-1.0875478284560542,-1.0875478284560531,-1.0875478284560545,-1.0875478299106525,-1.0875398995667616,-1.0875478284560534,-1.087547828456055,-1.0875478284560531,-1.0875478284560538,-1.087547828456061,-1.0875478284560536,-1.0875478284560631,-1.0875478279353816,-1.0875478284562705,-1.0875478284560662,-1.0875478284571178,-1.0875478284560545,-1.0875478284560538,-1.0875478284560582,-1.0875478285482763,-1.0875478284560527,-1.0875478284560542,-1.0875478284560542,-1.0875478284561593,-1.0875478284560636,-1.0875478284560558,-1.0875478284560534,-1.087547836960698,-1.0875478284560545,-1.0875478284560602,-1.0875478330308237,-1.087547828456054,-1.087547828456054,-1.0875478345554688,-1.0875478284560536,-1.0875478284560534,-1.0875478284560545,-1.0875478284560538,-1.087547828456055,0.11003325272402646,-1.0875478284560534,-1.087547828456081,-1.0875478284560545,-1.0875505082972732,-1.0875478284560591,-2.0805232822799145,-1.0875478284559654,-1.0875478284560538,-1.0875478284560636,-1.0875478284560527,-1.0875478284571092,-1.0875478284560545,-1.0875478284560636,-1.087547828458182,-1.0875478284560558,-1.0875478284571178,-1.0875478284560527,-1.0875478300989911,-1.0875478284560538,-1.0875478284560527,-1.0875478284560542,-1.087547828456055,-1.0875481482127687,-1.0875478384911066,-1.0875478284560576,-1.0875478284560636,-1.0875478284560538,-1.0875478284560618,-1.087547828456054,-1.0875478284560545,-1.0875479349029509,-1.0875478284560607,-1.087545429915566,0.02879629598462536,-1.0875478284560556,-0.48651762283819483,-1.0875478360418853,-1.0875478324471874,-0.18919762790107278,-1.0072027675214532,0.02879526803862605,0.10240596451154342,-1.0072027675214514,-0.20409531525743274,-0.2072606438190653,-0.20726064381927675,-1.0072027675214628,0.04038548321614512,-0.20263123804017752,-1.0072027675214532,-0.2857647699383144,-0.18974642172492961,0.02099640771348318,-0.4865176228382316,-0.609705898664461,-1.007202767521348,-0.4787187625130422,-0.5466796416264256,-0.1995286598769042,-1.2846099194660137,-1.200209050097904,-0.17936511631618124,-1.007202767521462,-0.48650620121725335,-0.18919762790107142,-1.4622059278088344],\"y\":[-0.06058177269302958,-0.014597244859764016,-0.014982090868926018,-0.08228795337452174,-0.014837827566871896,-0.014982090868920753,-0.022697347945011586,-0.13495319417238547,-0.13495319417238724,-0.13495319417238544,-0.027362021698046145,-0.1349531941723854,-0.13495319561440766,-0.13495319417599053,-0.1349531956144074,-0.13495319417238705,-0.1349531941723854,-0.13495319417238158,-0.13495319417238513,-0.13495319417238566,-0.060992260128881495,-0.1349531941724077,-0.13495319417238624,-0.13495319417238588,-0.1349531941723885,-0.13495319417239246,-0.13495319417238572,-0.13495319417238683,-0.1349531941723855,-0.1349532028848599,-0.13495319561440747,-0.015234335098595574,-0.015234335098595122,-0.13495319417239982,-0.1349531941723854,-0.015234335098596993,-0.13495319417238494,-0.13495319417238552,-0.13495319489271798,-0.13495319417238563,-0.13495319417238685,-0.1349531941723858,-0.014982090869824823,-0.13495319417238555,-0.1349531945596338,-0.13495319417238685,-0.13495319417238594,-0.015234335100051923,-0.26947111559731113,-0.13495319417238624,-0.13495359191390977,-0.13495319417238555,-0.13495319417238547,-0.13495319417238555,-0.13495319417238547,-0.1349531941723855,-0.13495319417238685,-0.13495319471397457,-0.13495319417238555,-0.1349531941723995,-0.13495319476814052,-0.13495319417238585,-0.13495319417239118,-0.13495319487973137,-0.13495319417238605,-0.13495319417238685,-0.13495319417238544,-0.13495319417238685,-0.13495319417238677,-0.13495319417238685,-0.13495319417238552,-0.1349531955708364,-0.014982090868929477,-0.13495319417278306,-0.13495319417238577,-0.13495319417238552,-0.13495319417238538,-0.1349531941723856,-0.13495319417238563,-0.1349531941723857,-0.13495319417238547,-0.13495319417238563,-0.13495319417238535,-0.13495319417238547,-0.1349531941723854,-0.13495319417238555,-0.134953194369438,-0.134952692624035,-0.13495319417238538,-0.13495319417238566,-0.13495319417238538,-0.1349531941723854,-0.13495319417238644,-0.13495319417238544,-0.13495319417238677,-0.1349531941018508,-0.13495319417241483,-0.13495319417238721,-0.13495319417252966,-0.13495319417238555,-0.1349531941723854,-0.13495319417238608,-0.13495319418487878,-0.1349531941723854,-0.13495319417238552,-0.13495319417238552,-0.1349531941723998,-0.13495319417238685,-0.13495319417238572,-0.13495319417238538,-0.13495319532449834,-0.13495319417238555,-0.13495319417238638,-0.13495319479212342,-0.13495319417238552,-0.1349531941723855,-0.13495319499866526,-0.1349531941723854,-0.13495319417238544,-0.13495319417238555,-0.13495319417238552,-0.13495319417238566,-0.05407571123823118,-0.13495319417238544,-0.1349531941723892,-0.13495319417238555,-0.1349535572069251,-0.13495319417238608,-0.26947026288364434,-0.13495319417237348,-0.13495319417238552,-0.13495319417238685,-0.1349531941723854,-0.13495319417252855,-0.13495319417238555,-0.13495319417238685,-0.1349531941726739,-0.13495319417238588,-0.13495319417252966,-0.1349531941723854,-0.13495319439495207,-0.13495319417238547,-0.1349531941723854,-0.13495319417238552,-0.13495319417238563,-0.1349532374894039,-0.13495319553182084,-0.13495319417238605,-0.13495319417238674,-0.13495319417238544,-0.13495319417238655,-0.13495319417238558,-0.13495319417238555,-0.13495320859260557,-0.1349531941723864,-0.1349530424507532,-0.06058170766946747,-0.13495319417238577,-0.060999484968172014,-0.13495319520002802,-0.13495319471305908,-0.0820196885605403,-0.1336234240294319,-0.06058177269302972,-0.02049181079523641,-0.13362342402943161,-0.01498064823588657,-0.015234335098595394,-0.015234335098624003,-0.1336234240294331,-0.053915740495811326,-0.014886238431102778,-0.13362342402943192,-0.02269734794501326,-0.08228735499597684,-0.027008725183767138,-0.060999484968177,-0.05482730603621698,-0.1336234240294258,-0.09457253247743322,-0.04532134533764151,-0.014679137934650727,-0.17550647339931952,-0.15999527170458613,-0.0813705037014267,-0.13362342402943309,-0.0609987624842361,-0.08201968856053993,-0.205484528325555],\"z\":[-0.0012791449366636874,2.7066710069481547e-05,-1.9324737319103214e-06,-0.001415677363077195,7.714882776776191e-06,-1.9324737370241684e-06,-2.9373590253862893e-06,-1.7879622089968036e-05,-1.7879622090206506e-05,-1.787962208965082e-05,0.00017797178084927925,-1.787962208979478e-05,-1.7879622281129155e-05,-1.7879622089860706e-05,-1.7879622281716485e-05,-1.787962208965542e-05,-1.7879622089285124e-05,-1.7879622089977397e-05,-1.787962208970873e-05,-1.7879622088422434e-05,-0.00018709871039279712,-1.7879622088990885e-05,-1.7879622092647316e-05,-1.7879622089557177e-05,-1.787962208861968e-05,-1.787962208969777e-05,-1.7879622089579048e-05,-1.7879622089830698e-05,-1.7879622089837776e-05,-1.7879623247872385e-05,-1.7879622281502077e-05,-1.9651168542476563e-06,-1.9651168542447946e-06,-1.7879622089823156e-05,-1.787962208984328e-05,-1.9651168542480714e-06,-1.7879622089853954e-05,-1.787962208984402e-05,-1.787962218556427e-05,-1.7879622089832744e-05,-1.787962208983048e-05,-1.7879622089825605e-05,-1.9324737426548953e-06,-1.7879622089841296e-05,-1.787962214129534e-05,-1.7879622089829017e-05,-1.7879622089830904e-05,-1.96511685433743e-06,-3.5759349549531065e-05,-1.7879622089819422e-05,-1.7879674956463695e-05,-1.787962208984123e-05,-1.7879622089838467e-05,-1.7879622089831965e-05,-1.787962208984155e-05,-1.7879622089840503e-05,-1.7879622089828916e-05,-1.7879622161816433e-05,-1.7879622089840615e-05,-1.7879622089840662e-05,-1.7879622169009308e-05,-1.78796220898345e-05,-1.7879622089833483e-05,-1.7879622183854103e-05,-1.787962208982094e-05,-1.7879622089828418e-05,-1.787962208983194e-05,-1.7879622089825548e-05,-1.787962208982571e-05,-1.7879622089829004e-05,-1.787962208983951e-05,-1.7879622275707548e-05,-1.9324737278609465e-06,-1.7879622089878013e-05,-1.7879622089833103e-05,-1.7879622089840615e-05,-1.787962208983287e-05,-1.7879622089840232e-05,-1.787962208983034e-05,-1.7879622089827577e-05,-1.7879622089836278e-05,-1.7879622089826713e-05,-1.787962208983792e-05,-1.7879622089843698e-05,-1.7879622089837335e-05,-1.7879622089841238e-05,-1.7879622116030237e-05,-1.7846136109105593e-05,-1.7879622089832853e-05,-1.7879622089828387e-05,-1.7879622089838247e-05,-1.7879622089833513e-05,-1.7879622089828946e-05,-1.787962208983194e-05,-1.7879622089828394e-05,-1.7879622080440802e-05,-1.7879622089844406e-05,-1.7879622089832084e-05,-1.787962208985378e-05,-1.7879622089841238e-05,-1.787962208983116e-05,-1.787962208982479e-05,-1.7879622091494664e-05,-1.787962208983251e-05,-1.7879622089831487e-05,-1.7879622089834848e-05,-1.7879622089825297e-05,-1.7879622089829004e-05,-1.787962208983314e-05,-1.7879622089838755e-05,-1.7879622242974017e-05,-1.7879622089841238e-05,-1.7879622089840476e-05,-1.7879622172199122e-05,-1.787962208983951e-05,-1.787962208983904e-05,-1.7879622199652416e-05,-1.7879622089835414e-05,-1.787962208984086e-05,-1.7879622089841238e-05,-1.7879622089842434e-05,-1.787962208983147e-05,-0.001564747610200946,-1.7879622089841472e-05,-1.7879622089836542e-05,-1.7879622089841238e-05,-1.7879670343325292e-05,-1.787962208983111e-05,-3.575923797662944e-05,-1.7879622089820256e-05,-1.7879622089838717e-05,-1.7879622089829004e-05,-1.787962208983251e-05,-1.7879622089857484e-05,-1.7879622089841238e-05,-1.7879622089829004e-05,-1.787962208987072e-05,-1.7879622089832056e-05,-1.787962208985378e-05,-1.787962208983213e-05,-1.7879622119392093e-05,-1.787962208984017e-05,-1.787962208983213e-05,-1.7879622089842204e-05,-1.787962208982787e-05,-1.787962784740044e-05,-1.787962227052572e-05,-1.7879622089832165e-05,-1.7879622089825294e-05,-1.787962208984322e-05,-1.7879622089810725e-05,-1.787962208983892e-05,-1.7879622089841238e-05,-1.7879624006525392e-05,-1.7879622089835705e-05,-1.786949236326655e-05,-0.0012791405953526292,-1.7879622089832138e-05,-0.00018758107830202134,-1.7879622226429482e-05,-1.787962216169596e-05,-0.0014110799588776186,-0.0003882351687263184,-0.0012791449366641747,-0.0008594491469902749,-0.00038823516872638184,-1.8360001666396906e-06,-1.965116854267061e-06,-1.9651168543506517e-06,-0.00038823516872640737,-0.0011481772086705793,7.771993707159797e-06,-0.00038823516872628805,-2.9373590221587194e-06,-0.0014156374122098194,-0.0005745710718489988,-0.00018758107830207246,0.0003431247047069844,-0.0003882351687259099,-0.0008921549431172665,-5.874717025356722e-06,1.8326974932321716e-05,-0.0004043723737131703,-0.00040324058495810693,-0.0013676668545972415,-0.0003882351687262836,-0.0001875328415107157,-0.0014110799588537054,-0.00041091009461545],\"type\":\"scatter3d\"},{\"customdata\":[[\"Dagger\"],[\"Dagger\"],[\"Proof-of-Authority\"]],\"hovertemplate\":\"<b>%{hovertext}</b><br><br>class=%{marker.color}<br>PC 1=%{x}<br>PC 2=%{y}<br>PC 3=%{z}<br>Algorithm=%{customdata[0]}<extra></extra>\",\"hovertext\":[\"DAPS Coin\",\"Amber\",\"Poa Network\"],\"legendgroup\":\"1\",\"marker\":{\"color\":[1,1,1],\"coloraxis\":\"coloraxis\",\"symbol\":\"square\"},\"mode\":\"markers\",\"name\":\"1\",\"scene\":\"scene\",\"showlegend\":true,\"x\":[-2.3813231571308897,-2.4056177157711462,-2.4095436404643706],\"y\":[12.982813994349915,13.009812009245882,12.980794234575338],\"z\":[-0.004623444258956433,-0.004723998204450228,-0.004758951488893525],\"type\":\"scatter3d\"},{\"customdata\":[[\"SPL Token\"]],\"hovertemplate\":\"<b>%{hovertext}</b><br><br>class=%{marker.color}<br>PC 1=%{x}<br>PC 2=%{y}<br>PC 3=%{z}<br>Algorithm=%{customdata[0]}<extra></extra>\",\"hovertext\":[\"MAPS\"],\"legendgroup\":\"3\",\"marker\":{\"color\":[3],\"coloraxis\":\"coloraxis\",\"symbol\":\"x\"},\"mode\":\"markers\",\"name\":\"3\",\"scene\":\"scene\",\"showlegend\":true,\"x\":[-2.3221462494023126],\"y\":[-4.5913674003654785],\"z\":[22.233186170980513],\"type\":\"scatter3d\"},{\"customdata\":[[\"Leased POS\"],[\"SPoS\"],[\"ECC 256K1\"],[\"SHA3\"]],\"hovertemplate\":\"<b>%{hovertext}</b><br><br>class=%{marker.color}<br>PC 1=%{x}<br>PC 2=%{y}<br>PC 3=%{z}<br>Algorithm=%{customdata[0]}<extra></extra>\",\"hovertext\":[\"Waves\",\"V Systems\",\"Acute Angle Cloud\",\"Nexus\"],\"legendgroup\":\"4\",\"marker\":{\"color\":[4,4,4,4],\"coloraxis\":\"coloraxis\",\"symbol\":\"cross\"},\"mode\":\"markers\",\"name\":\"4\",\"scene\":\"scene\",\"showlegend\":true,\"x\":[-2.3472729823889873,-2.347272982390449,-2.3472729823891334,-2.347076993869241],\"y\":[-4.636007750789418,-4.636007750796564,-4.636007750788053,-4.635659556053384],\"z\":[-5.569112243970757,-5.569112282997995,-5.569112193820583,-5.352254335136795],\"type\":\"scatter3d\"}],                        {\"template\":{\"data\":{\"bar\":[{\"error_x\":{\"color\":\"#2a3f5f\"},\"error_y\":{\"color\":\"#2a3f5f\"},\"marker\":{\"line\":{\"color\":\"#E5ECF6\",\"width\":0.5},\"pattern\":{\"fillmode\":\"overlay\",\"size\":10,\"solidity\":0.2}},\"type\":\"bar\"}],\"barpolar\":[{\"marker\":{\"line\":{\"color\":\"#E5ECF6\",\"width\":0.5},\"pattern\":{\"fillmode\":\"overlay\",\"size\":10,\"solidity\":0.2}},\"type\":\"barpolar\"}],\"carpet\":[{\"aaxis\":{\"endlinecolor\":\"#2a3f5f\",\"gridcolor\":\"white\",\"linecolor\":\"white\",\"minorgridcolor\":\"white\",\"startlinecolor\":\"#2a3f5f\"},\"baxis\":{\"endlinecolor\":\"#2a3f5f\",\"gridcolor\":\"white\",\"linecolor\":\"white\",\"minorgridcolor\":\"white\",\"startlinecolor\":\"#2a3f5f\"},\"type\":\"carpet\"}],\"choropleth\":[{\"colorbar\":{\"outlinewidth\":0,\"ticks\":\"\"},\"type\":\"choropleth\"}],\"contour\":[{\"colorbar\":{\"outlinewidth\":0,\"ticks\":\"\"},\"colorscale\":[[0.0,\"#0d0887\"],[0.1111111111111111,\"#46039f\"],[0.2222222222222222,\"#7201a8\"],[0.3333333333333333,\"#9c179e\"],[0.4444444444444444,\"#bd3786\"],[0.5555555555555556,\"#d8576b\"],[0.6666666666666666,\"#ed7953\"],[0.7777777777777778,\"#fb9f3a\"],[0.8888888888888888,\"#fdca26\"],[1.0,\"#f0f921\"]],\"type\":\"contour\"}],\"contourcarpet\":[{\"colorbar\":{\"outlinewidth\":0,\"ticks\":\"\"},\"type\":\"contourcarpet\"}],\"heatmap\":[{\"colorbar\":{\"outlinewidth\":0,\"ticks\":\"\"},\"colorscale\":[[0.0,\"#0d0887\"],[0.1111111111111111,\"#46039f\"],[0.2222222222222222,\"#7201a8\"],[0.3333333333333333,\"#9c179e\"],[0.4444444444444444,\"#bd3786\"],[0.5555555555555556,\"#d8576b\"],[0.6666666666666666,\"#ed7953\"],[0.7777777777777778,\"#fb9f3a\"],[0.8888888888888888,\"#fdca26\"],[1.0,\"#f0f921\"]],\"type\":\"heatmap\"}],\"heatmapgl\":[{\"colorbar\":{\"outlinewidth\":0,\"ticks\":\"\"},\"colorscale\":[[0.0,\"#0d0887\"],[0.1111111111111111,\"#46039f\"],[0.2222222222222222,\"#7201a8\"],[0.3333333333333333,\"#9c179e\"],[0.4444444444444444,\"#bd3786\"],[0.5555555555555556,\"#d8576b\"],[0.6666666666666666,\"#ed7953\"],[0.7777777777777778,\"#fb9f3a\"],[0.8888888888888888,\"#fdca26\"],[1.0,\"#f0f921\"]],\"type\":\"heatmapgl\"}],\"histogram\":[{\"marker\":{\"pattern\":{\"fillmode\":\"overlay\",\"size\":10,\"solidity\":0.2}},\"type\":\"histogram\"}],\"histogram2d\":[{\"colorbar\":{\"outlinewidth\":0,\"ticks\":\"\"},\"colorscale\":[[0.0,\"#0d0887\"],[0.1111111111111111,\"#46039f\"],[0.2222222222222222,\"#7201a8\"],[0.3333333333333333,\"#9c179e\"],[0.4444444444444444,\"#bd3786\"],[0.5555555555555556,\"#d8576b\"],[0.6666666666666666,\"#ed7953\"],[0.7777777777777778,\"#fb9f3a\"],[0.8888888888888888,\"#fdca26\"],[1.0,\"#f0f921\"]],\"type\":\"histogram2d\"}],\"histogram2dcontour\":[{\"colorbar\":{\"outlinewidth\":0,\"ticks\":\"\"},\"colorscale\":[[0.0,\"#0d0887\"],[0.1111111111111111,\"#46039f\"],[0.2222222222222222,\"#7201a8\"],[0.3333333333333333,\"#9c179e\"],[0.4444444444444444,\"#bd3786\"],[0.5555555555555556,\"#d8576b\"],[0.6666666666666666,\"#ed7953\"],[0.7777777777777778,\"#fb9f3a\"],[0.8888888888888888,\"#fdca26\"],[1.0,\"#f0f921\"]],\"type\":\"histogram2dcontour\"}],\"mesh3d\":[{\"colorbar\":{\"outlinewidth\":0,\"ticks\":\"\"},\"type\":\"mesh3d\"}],\"parcoords\":[{\"line\":{\"colorbar\":{\"outlinewidth\":0,\"ticks\":\"\"}},\"type\":\"parcoords\"}],\"pie\":[{\"automargin\":true,\"type\":\"pie\"}],\"scatter\":[{\"marker\":{\"colorbar\":{\"outlinewidth\":0,\"ticks\":\"\"}},\"type\":\"scatter\"}],\"scatter3d\":[{\"line\":{\"colorbar\":{\"outlinewidth\":0,\"ticks\":\"\"}},\"marker\":{\"colorbar\":{\"outlinewidth\":0,\"ticks\":\"\"}},\"type\":\"scatter3d\"}],\"scattercarpet\":[{\"marker\":{\"colorbar\":{\"outlinewidth\":0,\"ticks\":\"\"}},\"type\":\"scattercarpet\"}],\"scattergeo\":[{\"marker\":{\"colorbar\":{\"outlinewidth\":0,\"ticks\":\"\"}},\"type\":\"scattergeo\"}],\"scattergl\":[{\"marker\":{\"colorbar\":{\"outlinewidth\":0,\"ticks\":\"\"}},\"type\":\"scattergl\"}],\"scattermapbox\":[{\"marker\":{\"colorbar\":{\"outlinewidth\":0,\"ticks\":\"\"}},\"type\":\"scattermapbox\"}],\"scatterpolar\":[{\"marker\":{\"colorbar\":{\"outlinewidth\":0,\"ticks\":\"\"}},\"type\":\"scatterpolar\"}],\"scatterpolargl\":[{\"marker\":{\"colorbar\":{\"outlinewidth\":0,\"ticks\":\"\"}},\"type\":\"scatterpolargl\"}],\"scatterternary\":[{\"marker\":{\"colorbar\":{\"outlinewidth\":0,\"ticks\":\"\"}},\"type\":\"scatterternary\"}],\"surface\":[{\"colorbar\":{\"outlinewidth\":0,\"ticks\":\"\"},\"colorscale\":[[0.0,\"#0d0887\"],[0.1111111111111111,\"#46039f\"],[0.2222222222222222,\"#7201a8\"],[0.3333333333333333,\"#9c179e\"],[0.4444444444444444,\"#bd3786\"],[0.5555555555555556,\"#d8576b\"],[0.6666666666666666,\"#ed7953\"],[0.7777777777777778,\"#fb9f3a\"],[0.8888888888888888,\"#fdca26\"],[1.0,\"#f0f921\"]],\"type\":\"surface\"}],\"table\":[{\"cells\":{\"fill\":{\"color\":\"#EBF0F8\"},\"line\":{\"color\":\"white\"}},\"header\":{\"fill\":{\"color\":\"#C8D4E3\"},\"line\":{\"color\":\"white\"}},\"type\":\"table\"}]},\"layout\":{\"annotationdefaults\":{\"arrowcolor\":\"#2a3f5f\",\"arrowhead\":0,\"arrowwidth\":1},\"autotypenumbers\":\"strict\",\"coloraxis\":{\"colorbar\":{\"outlinewidth\":0,\"ticks\":\"\"}},\"colorscale\":{\"diverging\":[[0,\"#8e0152\"],[0.1,\"#c51b7d\"],[0.2,\"#de77ae\"],[0.3,\"#f1b6da\"],[0.4,\"#fde0ef\"],[0.5,\"#f7f7f7\"],[0.6,\"#e6f5d0\"],[0.7,\"#b8e186\"],[0.8,\"#7fbc41\"],[0.9,\"#4d9221\"],[1,\"#276419\"]],\"sequential\":[[0.0,\"#0d0887\"],[0.1111111111111111,\"#46039f\"],[0.2222222222222222,\"#7201a8\"],[0.3333333333333333,\"#9c179e\"],[0.4444444444444444,\"#bd3786\"],[0.5555555555555556,\"#d8576b\"],[0.6666666666666666,\"#ed7953\"],[0.7777777777777778,\"#fb9f3a\"],[0.8888888888888888,\"#fdca26\"],[1.0,\"#f0f921\"]],\"sequentialminus\":[[0.0,\"#0d0887\"],[0.1111111111111111,\"#46039f\"],[0.2222222222222222,\"#7201a8\"],[0.3333333333333333,\"#9c179e\"],[0.4444444444444444,\"#bd3786\"],[0.5555555555555556,\"#d8576b\"],[0.6666666666666666,\"#ed7953\"],[0.7777777777777778,\"#fb9f3a\"],[0.8888888888888888,\"#fdca26\"],[1.0,\"#f0f921\"]]},\"colorway\":[\"#636efa\",\"#EF553B\",\"#00cc96\",\"#ab63fa\",\"#FFA15A\",\"#19d3f3\",\"#FF6692\",\"#B6E880\",\"#FF97FF\",\"#FECB52\"],\"font\":{\"color\":\"#2a3f5f\"},\"geo\":{\"bgcolor\":\"white\",\"lakecolor\":\"white\",\"landcolor\":\"#E5ECF6\",\"showlakes\":true,\"showland\":true,\"subunitcolor\":\"white\"},\"hoverlabel\":{\"align\":\"left\"},\"hovermode\":\"closest\",\"mapbox\":{\"style\":\"light\"},\"paper_bgcolor\":\"white\",\"plot_bgcolor\":\"#E5ECF6\",\"polar\":{\"angularaxis\":{\"gridcolor\":\"white\",\"linecolor\":\"white\",\"ticks\":\"\"},\"bgcolor\":\"#E5ECF6\",\"radialaxis\":{\"gridcolor\":\"white\",\"linecolor\":\"white\",\"ticks\":\"\"}},\"scene\":{\"xaxis\":{\"backgroundcolor\":\"#E5ECF6\",\"gridcolor\":\"white\",\"gridwidth\":2,\"linecolor\":\"white\",\"showbackground\":true,\"ticks\":\"\",\"zerolinecolor\":\"white\"},\"yaxis\":{\"backgroundcolor\":\"#E5ECF6\",\"gridcolor\":\"white\",\"gridwidth\":2,\"linecolor\":\"white\",\"showbackground\":true,\"ticks\":\"\",\"zerolinecolor\":\"white\"},\"zaxis\":{\"backgroundcolor\":\"#E5ECF6\",\"gridcolor\":\"white\",\"gridwidth\":2,\"linecolor\":\"white\",\"showbackground\":true,\"ticks\":\"\",\"zerolinecolor\":\"white\"}},\"shapedefaults\":{\"line\":{\"color\":\"#2a3f5f\"}},\"ternary\":{\"aaxis\":{\"gridcolor\":\"white\",\"linecolor\":\"white\",\"ticks\":\"\"},\"baxis\":{\"gridcolor\":\"white\",\"linecolor\":\"white\",\"ticks\":\"\"},\"bgcolor\":\"#E5ECF6\",\"caxis\":{\"gridcolor\":\"white\",\"linecolor\":\"white\",\"ticks\":\"\"}},\"title\":{\"x\":0.05},\"xaxis\":{\"automargin\":true,\"gridcolor\":\"white\",\"linecolor\":\"white\",\"ticks\":\"\",\"title\":{\"standoff\":15},\"zerolinecolor\":\"white\",\"zerolinewidth\":2},\"yaxis\":{\"automargin\":true,\"gridcolor\":\"white\",\"linecolor\":\"white\",\"ticks\":\"\",\"title\":{\"standoff\":15},\"zerolinecolor\":\"white\",\"zerolinewidth\":2}}},\"scene\":{\"domain\":{\"x\":[0.0,1.0],\"y\":[0.0,1.0]},\"xaxis\":{\"title\":{\"text\":\"PC 1\"}},\"yaxis\":{\"title\":{\"text\":\"PC 2\"}},\"zaxis\":{\"title\":{\"text\":\"PC 3\"}}},\"coloraxis\":{\"colorbar\":{\"title\":{\"text\":\"class\"}},\"colorscale\":[[0.0,\"#0d0887\"],[0.1111111111111111,\"#46039f\"],[0.2222222222222222,\"#7201a8\"],[0.3333333333333333,\"#9c179e\"],[0.4444444444444444,\"#bd3786\"],[0.5555555555555556,\"#d8576b\"],[0.6666666666666666,\"#ed7953\"],[0.7777777777777778,\"#fb9f3a\"],[0.8888888888888888,\"#fdca26\"],[1.0,\"#f0f921\"]]},\"legend\":{\"title\":{\"text\":\"class\"},\"tracegroupgap\":0,\"x\":0,\"y\":1},\"margin\":{\"t\":60}},                        {\"responsive\": true}                    ).then(function(){\n",
       "                            \n",
       "var gd = document.getElementById('32d2b336-4dc6-40d3-a01f-c1c36440ec4d');\n",
       "var x = new MutationObserver(function (mutations, observer) {{\n",
       "        var display = window.getComputedStyle(gd).display;\n",
       "        if (!display || display === 'none') {{\n",
       "            console.log([gd, 'removed!']);\n",
       "            Plotly.purge(gd);\n",
       "            observer.disconnect();\n",
       "        }}\n",
       "}});\n",
       "\n",
       "// Listen for the removal of the full notebook cells\n",
       "var notebookContainer = gd.closest('#notebook-container');\n",
       "if (notebookContainer) {{\n",
       "    x.observe(notebookContainer, {childList: true});\n",
       "}}\n",
       "\n",
       "// Listen for the clearing of the current output cell\n",
       "var outputEl = gd.closest('.output');\n",
       "if (outputEl) {{\n",
       "    x.observe(outputEl, {childList: true});\n",
       "}}\n",
       "\n",
       "                        })                };                });            </script>        </div>"
      ]
     },
     "metadata": {},
     "output_type": "display_data"
    }
   ],
   "source": [
    "# Create a 3D-Scatter with the PCA data and the clusters\n",
    "\n",
    "fig = px.scatter_3d(\n",
    "    df,\n",
    "    x=\"PC 1\",\n",
    "    y=\"PC 2\",\n",
    "    z=\"PC 3\",\n",
    "    hover_name='CoinName',\n",
    "    hover_data= ['Algorithm'],\n",
    "    color=\"class\",\n",
    "    symbol=\"class\",\n",
    ")\n",
    "fig.update_layout(legend=dict(x=0, y=1))\n",
    "fig.show()"
   ]
  },
  {
   "cell_type": "markdown",
   "metadata": {},
   "source": [
    "#### Table of Tradable Cryptocurrencies"
   ]
  },
  {
   "cell_type": "code",
   "execution_count": 436,
   "metadata": {},
   "outputs": [],
   "source": [
    "# Table with tradable cryptos\n",
    "#columns = ['CoinName', 'Algorithm', 'ProofType', 'TotalCoinsMined', 'MaxSupply', 'class']\n"
   ]
  },
  {
   "cell_type": "code",
   "execution_count": 437,
   "metadata": {},
   "outputs": [
    {
     "data": {},
     "metadata": {},
     "output_type": "display_data"
    },
    {
     "data": {
      "application/vnd.holoviews_exec.v0+json": "",
      "text/html": [
       "<div id='3404'>\n",
       "\n",
       "\n",
       "\n",
       "\n",
       "\n",
       "  <div class=\"bk-root\" id=\"822aa5e2-6553-4ca1-bf1c-5fcfef1788ab\" data-root-id=\"3404\"></div>\n",
       "</div>\n",
       "<script type=\"application/javascript\">(function(root) {\n",
       "  function embed_document(root) {\n",
       "    var docs_json = {\"6e85e784-a3a5-46af-975c-10bf46760dc4\":{\"defs\":[{\"extends\":null,\"module\":null,\"name\":\"ReactiveHTML1\",\"overrides\":[],\"properties\":[]},{\"extends\":null,\"module\":null,\"name\":\"FlexBox1\",\"overrides\":[],\"properties\":[{\"default\":\"flex-start\",\"kind\":null,\"name\":\"align_content\"},{\"default\":\"flex-start\",\"kind\":null,\"name\":\"align_items\"},{\"default\":\"row\",\"kind\":null,\"name\":\"flex_direction\"},{\"default\":\"wrap\",\"kind\":null,\"name\":\"flex_wrap\"},{\"default\":\"flex-start\",\"kind\":null,\"name\":\"justify_content\"}]},{\"extends\":null,\"module\":null,\"name\":\"TemplateActions1\",\"overrides\":[],\"properties\":[{\"default\":0,\"kind\":null,\"name\":\"open_modal\"},{\"default\":0,\"kind\":null,\"name\":\"close_modal\"}]},{\"extends\":null,\"module\":null,\"name\":\"MaterialTemplateActions1\",\"overrides\":[],\"properties\":[{\"default\":0,\"kind\":null,\"name\":\"open_modal\"},{\"default\":0,\"kind\":null,\"name\":\"close_modal\"}]}],\"roots\":{\"references\":[{\"attributes\":{},\"id\":\"3429\",\"type\":\"StringEditor\"},{\"attributes\":{\"margin\":[5,5,5,5],\"name\":\"HSpacer05886\",\"sizing_mode\":\"stretch_width\"},\"id\":\"3405\",\"type\":\"Spacer\"},{\"attributes\":{\"editor\":{\"id\":\"3419\"},\"field\":\"ProofType\",\"formatter\":{\"id\":\"3418\"},\"title\":\"ProofType\"},\"id\":\"3420\",\"type\":\"TableColumn\"},{\"attributes\":{},\"id\":\"3409\",\"type\":\"StringEditor\"},{\"attributes\":{},\"id\":\"3428\",\"type\":\"StringFormatter\"},{\"attributes\":{},\"id\":\"3408\",\"type\":\"StringFormatter\"},{\"attributes\":{},\"id\":\"3423\",\"type\":\"StringFormatter\"},{\"attributes\":{},\"id\":\"3414\",\"type\":\"StringEditor\"},{\"attributes\":{},\"id\":\"3433\",\"type\":\"NumberFormatter\"},{\"attributes\":{},\"id\":\"3434\",\"type\":\"IntEditor\"},{\"attributes\":{\"editor\":{\"id\":\"3414\"},\"field\":\"Algorithm\",\"formatter\":{\"id\":\"3413\"},\"title\":\"Algorithm\"},\"id\":\"3415\",\"type\":\"TableColumn\"},{\"attributes\":{\"columns\":[{\"id\":\"3410\"},{\"id\":\"3415\"},{\"id\":\"3420\"},{\"id\":\"3425\"},{\"id\":\"3430\"},{\"id\":\"3435\"}],\"height\":300,\"reorderable\":false,\"source\":{\"id\":\"3406\"},\"view\":{\"id\":\"3440\"},\"width\":700},\"id\":\"3438\",\"type\":\"DataTable\"},{\"attributes\":{},\"id\":\"3424\",\"type\":\"StringEditor\"},{\"attributes\":{\"editor\":{\"id\":\"3429\"},\"field\":\"MaxSupply\",\"formatter\":{\"id\":\"3428\"},\"title\":\"MaxSupply\"},\"id\":\"3430\",\"type\":\"TableColumn\"},{\"attributes\":{},\"id\":\"3441\",\"type\":\"UnionRenderers\"},{\"attributes\":{\"margin\":[5,5,5,5],\"name\":\"HSpacer05887\",\"sizing_mode\":\"stretch_width\"},\"id\":\"3445\",\"type\":\"Spacer\"},{\"attributes\":{},\"id\":\"3407\",\"type\":\"Selection\"},{\"attributes\":{\"editor\":{\"id\":\"3424\"},\"field\":\"TotalCoinsMined\",\"formatter\":{\"id\":\"3423\"},\"title\":\"TotalCoinsMined\"},\"id\":\"3425\",\"type\":\"TableColumn\"},{\"attributes\":{\"children\":[{\"id\":\"3405\"},{\"id\":\"3438\"},{\"id\":\"3445\"}],\"margin\":[0,0,0,0],\"name\":\"Row05882\",\"tags\":[\"embedded\"]},\"id\":\"3404\",\"type\":\"Row\"},{\"attributes\":{\"data\":{\"Algorithm\":[\"Scrypt\",\"PoS\",\"X13\",\"Scrypt\",\"Scrypt\",\"RandomX\",\"X11\",\"Equihash\",\"IMesh\",\"Dagger\",\"SHA-256\",\"NEP-5\",\"ProgPowZ\",\"X16RT\",\"C31\",\"X16R\",\"Scrypt\",\"HEX\",\"BEP2 Token\",\"SHA-256\",\"Multiple\",\"POS 3.0\",\"Ethash\",\"NRC20 Token\",\"Quark\",\"Scrypt\",\"SHA-256\",\"SPL Token\",\"Equihash\",\"Ethash\",\"SHA-256\",\"HRC-20 Token\",\"BEP-2\",\"BEP-20 Token\",\"BEP-20 Token\",\"BEP-20 Token\",\"VeChainThor Authority\",\"BEP-20 Token\",\"BEP-20 Token\",\"BEP-20 Token\",\"BEP-20 Token\",\"BEP-20 Token\",\"BEP-20 Token\",\"SHA-256\",\"Scrypt\",\"BEP-20 Token\",\"SHA-256\",\"BEP-20 Token\",\"BEP-20 Token\",\"DPoS\",\"BEP-20 Token\",\"BEP-20 Token\",\"BEP-20 Token\",\"BEP-20 Token\",\"BEP-20 Token\",\"BEP-20 Token\",\"BEP-20 Token\",\"BEP-20 Token\",\"BEP-20 Token\",\"BEP-20 Token\",\"TRC-20\",\"TRC-20\",\"BEP-20 Token\",\"BEP-20 Token\",\"TRC-20\",\"BEP-20 Token\",\"BEP-20 Token\",\"BEP-20 Token\",\"BEP-20 Token\",\"Multiple\",\"BEP-20 Token\",\"BEP-20 Token\",\"Autolykos\",\"GO20\",\"BEP-20 Token\",\"BEP-20 Token\",\"X16R\",\"BEP-20 Token\",\"BEP-20 Token\",\"Equihash\",\"TRC-20\",\"BEP-20 Token\",\"BEP-20 Token\",\"BEP-20 Token\",\"BEP-20 Token\",\"BEP-20 Token\",\"BEP-20 Token\",\"BEP-20 Token\",\"BEP-20 Token\",\"BEP-20 Token\",\"BEP-20 Token\",\"BEP-20 Token\",\"BEP-20 Token\",\"BEP-20 Token\",\"BEP-20 Token\",\"BEP-20 Token\",\"BEP-20 Token\",\"BEP-20 Token\",\"BEP-20 Token\",\"BEP-20 Token\",\"BEP-20 Token\",\"BEP-20 Token\",\"BEP-20 Token\",\"BEP-20 Token\",\"BEP-20 Token\",\"BEP-2 Token\",\"BEP-20 Token\",\"BEP-20 Token\",\"BEP-20 Token\",\"BEP-20 Token\",\"BEP-20 Token\",\"BEP-20 Token\",\"BEP-20 Token\",\"BEP-20 Token\",\"BEP-20 Token\",\"BEP-20 Token\",\"BEP-20 Token\",\"BEP-20 Token\",\"BEP-20 Token\",\"BEP-20 Token\",\"BEP-20 Token\",\"BEP-20 Token\",\"BEP-20 Token\",\"BEP-20 Token\",\"BEP-20 Token\",\"BEP-20 Token\",\"BEP-20 Token\",\"BEP-20 Token\",\"BEP-20 Token\",\"BEP-20 Token\",\"BEP-20 Token\",\"BEP-20 Token\",\"BEP-20 Token\",\"BEP-20 Token\",\"BEP-20 Token\",\"BEP-20 Token\",\"BEP-20 Token\",\"BEP-20 Token\",\"BEP-20 Token\",\"BEP-20 Token\",\"BEP-20 Token\",\"BEP-20 Token\",\"BEP-20 Token\",\"BEP-20 Token\",\"BEP-20 Token\",\"BEP-20 Token\",\"BEP-20 Token\",\"BEP-20 Token\",\"BEP-20 Token\",\"BEP-20 Token\",\"BEP-20 Token\",\"BEP-20 Token\",\"BEP-20 Token\",\"BEP-20 Token\",\"BEP-20 Token\",\"X13\",\"BEP-20 Token\",\"BEP-20 Token\",\"CryptoNight-Lite\",\"Scrypt\",\"Equihash\",\"Equihash\",\"IMesh\",\"Ethash\",\"BEP-20 Token\",\"BEP-20 Token\",\"BEP-20 Token\",\"BEP-20 Token\",\"BEP-20 Token\",\"Eaglesong\",\"BEP-20 Token\",\"BEP-20 Token\",\"BEP-20 Token\",\"BEP-20 Token\",\"BEP-20 Token\",\"Blake2B + SHA3\",\"BEP-20 Token\",\"BEP-20 Token\",\"BEP-20 Token\",\"BEP-20 Token\",\"BEP-20 Token\",\"BEP-20 Token\",\"BEP-20 Token\",\"BEP-20 Token\",\"SHA-256\",\"BEP-20 Token\",\"BEP-20 Token\",\"BEP-20 Token\",\"BEP-20 Token\",\"BEP-20 Token\",\"BEP-20 Token\",\"BEP-20 Token\",\"BEP-20 Token\",\"BEP-20 Token\",\"BEP-20 Token\",\"BEP-20 Token\",\"BEP-20 Token\",\"Scrypt\",\"BEP-20 Token\",\"PoS\",\"Ethash\",\"BEP-20 Token\",\"DPoS\",\"BEP-20 Token\",\"Dagger\",\"Lyra2Z\",\"Equihash\",\"SHA-256\",\"RandomX\",\"BEP-20 Token\",\"VBFT\",\"DPoS\",\"BLAKE256\",\"PoS\",\"X13\",\"Ethash\",\"MTP\",\"X11\",\"Blake2b\",\"DPoS\",\"dBFT2.0\",\"TRC-20\",\"Ethash\",\"SHA-256\",\"Scrypt\",\"BLAKE256\",\"Scrypt\",\"TRC-20\",\"KECCAK\",\"Scrypt\",\"DPoS\",\"PoS\",\"CryptoNight\",\"NEP-5\",\"Equihash\",\"Blake2b\",\"Scrypt\",\"Leased POS\",\"Equihash210,9\",\"DPoS\",\"Scrypt\",\"SHA-256\",\"X11GOST\",\"Scrypt\",\"BEP-2\",\"BMW512 / Echo512\",\"POS 3.0\",\"Scrypt\",\"C31\",\"Scrypt\",\"CryptoNight-Heavy\",\"Scrypt\",\"Scrypt\",\"Scrypt\",\"SHA-256\",\"Blake2b\",\"PoS\",\"Scrypt\",\"Shabal256\",\"Equihash\",\"Multiple\",\"DPoS\",\"Scrypt\",\"Lyra2REv2\",\"Multiple\",\"VeChainThor Authority\",\"SPoS\",\"DPoS\",\"ECC 256K1\",\"Dagger-Hashimoto\",\"SHA-256\",\"PoS\",\"X11\",\"DPoS\",\"BEP-2\",\"Scrypt\",\"KAWPOW\",\"X13\",\"Equihash\",\"SHA-256\",\"Scrypt\",\"SHA-512\",\"TRC-10\",\"Ethash\",\"Proof-of-Authority\",\"Quark\",\"Cryptonight Haven\",\"X13\",\"CryptoNight\",\"Ethash\",\"Ouroboros\",\"SHA3\",\"X13\",\"X11\",\"CryptoNight\",\"Multiple\",\"Scrypt\",\"DPoS\",\"Ethash\",\"EtcHash\",\"NeoScrypt\",\"Groestl\",\"DPoS\",\"Equihash\",\"Loopchain\",\"SHA-512\",\"Equihash\"],\"CoinName\":[\"42 Coin\",\"NuShares\",\"Triangles Coin\",\"CometCoin\",\"OpenChat\",\"Quantum Resistant Ledger\",\"Pura\",\"Bitcoin Private\",\"Aidos Kuneen\",\"DAPS Coin\",\"Foin\",\"Nevula\",\"Zano\",\"VEIL\",\"MimbleWimbleCoin\",\"Ravencoin Classic\",\"Goldmaxcoin\",\"XDNA\",\"Swingby\",\"Wibcoin\",\"Revain\",\"TokenPay\",\"EtherZero\",\"NextDAO\",\"QuarkCoin\",\"United Emirates Coin\",\"Arweave\",\"MAPS\",\"Bithereum\",\"BeforeCoinMarketCap\",\"Smart Bitcoin\",\"WeStarter\",\"BakeryToken\",\"IMPULSE by FDR\",\"Altura\",\"DekBox\",\"VEED\",\"Less Network\",\"KingDoge\",\"SafeHamsters\",\"Yuang Coin\",\"Kiwigo\",\"Votechain\",\"UnitedBitcoin\",\"VeriCoin\",\"Pea Farm\",\"Emercoin\",\"SparkPoint Fuel\",\"Genshiro\",\"ModiHost\",\"RealFevr\",\"MocktailSwap\",\"Effort Economy \",\"QueenDex Coin\",\"Lion Token\",\"Artex\",\"TBCC\",\"xWIN Finance\",\"MContent\",\"Tokyo AU\",\"Zoe Cash\",\"Novax Coin\",\"ShonToken\",\"Investelly token\",\"TRONbetLive\",\"Binance Smart Chain Girl\",\"PureFi\",\"Daddy Doge\",\"Five7\",\"Circuits of Value\",\"Diamond Boyz Coin\",\"Plant vs Undead Token\",\"Ergo\",\"ECOMI\",\"Coin98\",\"Safe Energy\",\"Genix\",\"Trust Wallet Token\",\"Lanceria\",\"Beam\",\"Didcoin\",\"Little Rabbit\",\"Teaswap Art\",\"Kaiken Shiba\",\"My DeFi Pet\",\"BunnyPark\",\"ApeSwap Finance\",\"Pancake Bunny\",\"BTC Standard Hashrate Token\",\"Alpha Finance Lab\",\"Safe Star\",\"Pylon Eco Token\",\"Metahero\",\"Pig Finance\",\"Monsta Infinite\",\"Doggy\",\"Xiasi Inu\",\"Thetan Arena\",\"Nafter\",\"CryptoBlades\",\"CryptoZoon\",\"Binemon\",\"HoDooi.com\",\"Smaugs NFT\",\"Wall Street Games\",\"Honest\",\"Radio Caca\",\"KCCPad\",\"TrustPad\",\"Sishi Finance\",\"Feeder Finance\",\"Battle Pets\",\"Pacoca\",\"Pancake Hunny\",\"Rabbit Finance\",\"NFT Alley\",\"TEN\",\"Dehero Community Token\",\"Wheelers\",\"ShibaCash\",\"Longdrink Finance\",\"Eggplant Finance\",\"EIFI FINANCE\",\"TendieSwap\",\"CosmicSwap\",\"Vention\",\"WOWswap\",\"Betu\",\"Wenlambo\",\"Sheesh it is bussin bussin\",\"Pet Games\",\"CheCoin\",\"GemGuardian\",\"ForeverFOMO\",\"Knight War Spirits\",\"KRYZA Network\",\"Badger Sett Badger\",\"Portify\",\"DogeHouse Capital\",\"Bholdus Token\",\"Sphynx Token\",\"RugZombie\",\"LPI DAO\",\"Rainbow Token\",\"Step Hero\",\"Starpunk\",\"The Real Golden Inu\",\"Jade Currency\",\"Binamars\",\"BUMooN\",\"Loud Market\",\"DefiXBet\",\"Vortex DeFi\",\"RiceFarm\",\"BNB Cash\",\"Stratis\",\"Bogged Finance\",\"Dexit Finance\",\"AEON\",\"Canada eCoin\",\"TENT\",\"Pirate Chain\",\"Internet Node token\",\"Super Zero\",\"Roseon Finance\",\"BabyDoge\",\"Splinterlands\",\"SafePal\",\"CumRocket\",\"Nervos Network\",\"Lucky Lion\",\"OpenOcean\",\"SIL Finance Token V2\",\"Bonus Cake\",\"TrustFi Network Token\",\"Handshake\",\"SoccerHub\",\"CryptoPlanes\",\"gotEM\",\"Pitch Finance Token\",\"Torii Finance\",\"GOMA Finance\",\"GameFi\",\"Shell Token\",\"REDi\",\"Pokmonsters\",\"Kalata Protocol\",\"NFT Art Finance\",\"Baby Floki Billionaire\",\"VelasPad\",\"Battle Hero\",\"Lazio Fan Token\",\"HarmonyPad\",\"YocoinYOCO\",\"JERITEX\",\"Australian Safe Shepherd\",\"TRONPAD\",\"Auroracoin\",\"AUREO\",\"Validity\",\"Ethereum Name Service\",\"Binamon\",\"Tenset\",\"MiniDOGE\",\"Amber\",\"TecraCoin\",\"BitcoinZ\",\"eCash\",\"Monero\",\"YooShi\",\"Ontology\",\"Lisk\",\"HyperCash\",\"Anchor Protocol\",\"ABBC Coin\",\"Expanse\",\"Firo\",\"IOCoin\",\"Siacoin\",\"Shift\",\"NEO\",\"Sun Token\",\"Waltonchain\",\"Bitcoin\",\"BlackCoin\",\"Decred\",\"Einsteinium\",\"Sun Token\",\"SmartCash\",\"SaluS\",\"Oxycoin\",\"Nxt\",\"Beldex\",\"DeepBrain Chain\",\"ZCash\",\"Yeeco\",\"WhiteCoin\",\"Waves\",\"Aion\",\"ARK\",\"Flo\",\"Bitcoin Cash\",\"SibCoin\",\"SafeExchangeCoin\",\"Phoenix Binance\",\"DigitalNote\",\"QTUM\",\"PotCoin\",\"Grin\",\"Gulden\",\"Haven Protocol\",\"Litecoin\",\"MegaCoin\",\"MonaCoin\",\"Namecoin\",\"Nano\",\"Neblio\",\"NovaCoin\",\"Signa\",\"Zelcash\",\"WXT\",\"Worldwide Asset eXchange\",\"ViaCoin\",\"Vertcoin\",\"Verge\",\"VeChain\",\"V Systems\",\"Achain\",\"Acute Angle Cloud\",\"Ubiq\",\"SysCoin\",\"Steem\",\"Stakenet\",\"Rise\",\"Binance Coin\",\"Reddcoin\",\"Ravencoin\",\"Bitcoin Diamond\",\"Bitcoin Gold\",\"Bitcoin SV\",\"Primas\",\"Bitshares\",\"BitTorrent\",\"Metaverse\",\"Poa Network\",\"Private Instant Verified Transaction\",\"BLOC.MONEY\",\"NavCoin\",\"ByteCoin\",\"Callisto Network\",\"Cardano\",\"Nexus\",\"CloakCoin\",\"Dash\",\"Dero\",\"DigiByte\",\"Dogecoin\",\"EOS\",\"Ethereum\",\"Ethereum Classic\",\"FeatherCoin\",\"Groestlcoin\",\"High Performance Blockchain\",\"Horizen\",\"ICON Project\",\"Kcash\",\"Komodo\"],\"MaxSupply\":{\"__ndarray__\":\"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\",\"dtype\":\"float64\",\"order\":\"little\",\"shape\":[307]},\"ProofType\":[\"PoW/PoS\",\"PoS\",\"PoW/PoS\",\"PoW\",\"PoW/PoS\",\"PoW\",\"PoW\",\"PoW\",\"PoW\",\" PoW/PoS/PoA\",\"nan\",\"nan\",\"PoW/PoS\",\"PoW/PoS\",\"PoW\",\"PoW\",\"PoW\",\"PoW/PoS\",\"nan\",\"PoW\",\"nan\",\"PoS\",\"PoW\",\"nan\",\"PoW/PoS\",\"nan\",\"PoW\",\"PoH\",\"PoW\",\"PoW/PoS\",\"PoW\",\"nan\",\"nan\",\"nan\",\"nan\",\"nan\",\"nan\",\"nan\",\"nan\",\"nan\",\"nan\",\"nan\",\"nan\",\"PoW\",\"PoST\",\"nan\",\"PoW/PoS\",\"nan\",\"nan\",\"nan\",\"nan\",\"nan\",\"nan\",\"nan\",\"nan\",\"nan\",\"nan\",\"nan\",\"nan\",\"nan\",\"nan\",\"nan\",\"nan\",\"nan\",\"nan\",\"nan\",\"nan\",\"nan\",\"nan\",\"PoW\",\"nan\",\"nan\",\"PoW\",\"nan\",\"nan\",\"nan\",\"PoW\",\"nan\",\"nan\",\"PoW\",\"nan\",\"nan\",\"nan\",\"nan\",\"nan\",\"nan\",\"nan\",\"nan\",\"nan\",\"nan\",\"nan\",\"nan\",\"nan\",\"nan\",\"nan\",\"nan\",\"nan\",\"nan\",\"nan\",\"nan\",\"nan\",\"nan\",\"nan\",\"nan\",\"nan\",\"nan\",\"nan\",\"nan\",\"nan\",\"nan\",\"nan\",\"nan\",\"nan\",\"nan\",\"nan\",\"nan\",\"nan\",\"nan\",\"nan\",\"nan\",\"nan\",\"nan\",\"nan\",\"nan\",\"nan\",\"nan\",\"nan\",\"nan\",\"nan\",\"nan\",\"nan\",\"nan\",\"nan\",\"nan\",\"nan\",\"nan\",\"nan\",\"nan\",\"nan\",\"nan\",\"nan\",\"nan\",\"nan\",\"nan\",\"nan\",\"nan\",\"nan\",\"nan\",\"nan\",\"nan\",\"nan\",\"nan\",\"nan\",\"nan\",\"nan\",\"PoS\",\"nan\",\"nan\",\"PoW\",\"AuxPoW\",\"PoW\",\"dPoW\",\"DPoS/dBFT\",\"ProgPoW/PoS\",\"nan\",\"nan\",\"nan\",\"PoSA\",\"nan\",\"PoW\",\"nan\",\"nan\",\"nan\",\"nan\",\"nan\",\"PoW\",\"nan\",\"nan\",\"nan\",\"nan\",\"nan\",\"nan\",\"nan\",\"nan\",\"nan\",\"nan\",\"nan\",\"nan\",\"nan\",\"nan\",\"nan\",\"nan\",\"nan\",\"nan\",\"nan\",\"nan\",\"nan\",\"PoW/PoS\",\"nan\",\"PoS\",\"Proof-of-Work\",\"nan\",\"nan\",\"nan\",\"PoA\",\"PoW\",\"PoW\",\"PoW\",\"PoW\",\"nan\",\"PoS\",\"DPoS\",\"PoW/PoS\",\"PoS\",\"nan\",\"PoW\",\"PoW\",\"PoW/PoS\",\"PoW\",\"DPoS\",\"nan\",\"nan\",\"nan\",\"PoW\",\"PoS\",\"PoW/PoS\",\"PoW\",\"nan\",\"PoW\",\"PoW/PoS\",\"DPoS\",\"PoS/LPoS\",\"PoS\",\"nan\",\"PoW\",\"nan\",\"PoW/PoS\",\"LPoS\",\"PoW/PoS\",\"DPoS\",\"PoW\",\"PoW\",\"PoW\",\"PoC\",\"nan\",\"PoW/PoS\",\"PoS\",\"PoW/PoS\",\"PoW\",\"PoW\",\"PoW\",\"PoW\",\"PoW\",\"PoW\",\"PoW\",\"PoW\",\"nan\",\"PoW/PoS\",\"PoC\",\"PoW/PoS\",\"nan\",\"nan\",\"PoW\",\"PoW\",\"PoW\",\"Proof of Authority\",\"SPoS\",\"DPoS\",\"DPOS\",\"PoW\",\"PoW\",\"PoW\",\"TPoS\",\"PoS\",\"BFT\",\"PoW/PoS\",\"nan\",\"PoW/PoS\",\"PoW\",\"PoW\",\"PoW\",\"DPoS\",\"DPoS\",\"nan\",\"PoA\",\"PoW/PoS\",\"PoW\",\"PoW/PoS\",\"PoW\",\"PoW\",\"PoS\",\"PoW/nPoS\",\"PoW/PoS\",\"PoW/PoSe\",\"PoW\",\"PoW\",\"PoW\",\"DPoS\",\"PoW\",\"PoW\",\"PoW\",\"PoW\",\"nan\",\"PoW\",\"PoS\",\"Zero-Knowledge Proof\",\"dPoW/PoW\"],\"TotalCoinsMined\":{\"__ndarray__\":\"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\",\"dtype\":\"float64\",\"order\":\"little\",\"shape\":[307]},\"class\":{\"__ndarray__\":\"AgAAAAAAAAACAAAAAgAAAAIAAAACAAAAAgAAAAIAAAACAAAAAQAAAAIAAAAAAAAAAgAAAAIAAAACAAAAAgAAAAIAAAACAAAAAAAAAAIAAAACAAAAAAAAAAIAAAAAAAAAAgAAAAIAAAACAAAAAwAAAAIAAAACAAAAAgAAAAAAAAAAAAAAAAAAAAAAAAAAAAAAAAAAAAAAAAAAAAAAAAAAAAAAAAAAAAAAAAAAAAIAAAACAAAAAAAAAAIAAAAAAAAAAAAAAAAAAAAAAAAAAAAAAAAAAAAAAAAAAAAAAAAAAAAAAAAAAAAAAAAAAAAAAAAAAAAAAAAAAAAAAAAAAAAAAAAAAAAAAAAAAAAAAAAAAAAAAAAAAgAAAAAAAAAAAAAAAgAAAAAAAAAAAAAAAAAAAAIAAAAAAAAAAAAAAAIAAAAAAAAAAAAAAAAAAAAAAAAAAAAAAAAAAAAAAAAAAAAAAAAAAAAAAAAAAAAAAAAAAAAAAAAAAAAAAAAAAAAAAAAAAAAAAAAAAAAAAAAAAAAAAAAAAAAAAAAAAAAAAAAAAAAAAAAAAAAAAAAAAAAAAAAAAAAAAAAAAAAAAAAAAAAAAAAAAAAAAAAAAAAAAAAAAAAAAAAAAAAAAAAAAAAAAAAAAAAAAAAAAAAAAAAAAAAAAAAAAAAAAAAAAAAAAAAAAAAAAAAAAAAAAAAAAAAAAAAAAAAAAAAAAAAAAAAAAAAAAAAAAAAAAAAAAAAAAAAAAAAAAAAAAAAAAAAAAAAAAAAAAAAAAAAAAAAAAAAAAAAAAAAAAAAAAAAAAAAAAAAAAAAAAAAAAAAAAAAAAAAAAAAAAAAAAAAAAAACAAAAAgAAAAIAAAACAAAAAgAAAAIAAAAAAAAAAAAAAAAAAAAAAAAAAAAAAAIAAAAAAAAAAAAAAAAAAAAAAAAAAAAAAAIAAAAAAAAAAAAAAAAAAAAAAAAAAAAAAAAAAAAAAAAAAAAAAAIAAAAAAAAAAAAAAAAAAAAAAAAAAAAAAAAAAAAAAAAAAAAAAAAAAAAAAAAAAAAAAAAAAAACAAAAAAAAAAAAAAACAAAAAAAAAAAAAAAAAAAAAQAAAAIAAAACAAAAAgAAAAIAAAAAAAAAAAAAAAAAAAACAAAAAAAAAAAAAAACAAAAAgAAAAIAAAACAAAAAAAAAAAAAAAAAAAAAgAAAAIAAAACAAAAAgAAAAIAAAAAAAAAAgAAAAIAAAAAAAAAAAAAAAIAAAAAAAAAAgAAAAIAAAACAAAABAAAAAIAAAAAAAAAAgAAAAIAAAACAAAAAgAAAAAAAAACAAAAAAAAAAIAAAACAAAAAgAAAAIAAAACAAAAAgAAAAIAAAACAAAAAgAAAAAAAAACAAAAAgAAAAIAAAACAAAAAAAAAAIAAAACAAAAAgAAAAAAAAAEAAAAAAAAAAQAAAACAAAAAgAAAAIAAAACAAAAAAAAAAAAAAACAAAAAAAAAAIAAAACAAAAAgAAAAIAAAAAAAAAAAAAAAIAAAABAAAAAgAAAAIAAAACAAAAAgAAAAIAAAAAAAAABAAAAAIAAAACAAAAAgAAAAIAAAACAAAAAAAAAAIAAAACAAAAAgAAAAIAAAAAAAAAAgAAAAAAAAAAAAAAAgAAAA==\",\"dtype\":\"int32\",\"order\":\"little\",\"shape\":[307]}},\"selected\":{\"id\":\"3407\"},\"selection_policy\":{\"id\":\"3441\"}},\"id\":\"3406\",\"type\":\"ColumnDataSource\"},{\"attributes\":{},\"id\":\"3419\",\"type\":\"StringEditor\"},{\"attributes\":{\"editor\":{\"id\":\"3434\"},\"field\":\"class\",\"formatter\":{\"id\":\"3433\"},\"title\":\"class\"},\"id\":\"3435\",\"type\":\"TableColumn\"},{\"attributes\":{\"editor\":{\"id\":\"3409\"},\"field\":\"CoinName\",\"formatter\":{\"id\":\"3408\"},\"title\":\"CoinName\"},\"id\":\"3410\",\"type\":\"TableColumn\"},{\"attributes\":{\"source\":{\"id\":\"3406\"}},\"id\":\"3440\",\"type\":\"CDSView\"},{\"attributes\":{},\"id\":\"3418\",\"type\":\"StringFormatter\"},{\"attributes\":{},\"id\":\"3413\",\"type\":\"StringFormatter\"}],\"root_ids\":[\"3404\"]},\"title\":\"Bokeh Application\",\"version\":\"2.4.1\"}};\n",
       "    var render_items = [{\"docid\":\"6e85e784-a3a5-46af-975c-10bf46760dc4\",\"root_ids\":[\"3404\"],\"roots\":{\"3404\":\"822aa5e2-6553-4ca1-bf1c-5fcfef1788ab\"}}];\n",
       "    root.Bokeh.embed.embed_items_notebook(docs_json, render_items);\n",
       "  }\n",
       "  if (root.Bokeh !== undefined && root.Bokeh.Panel !== undefined) {\n",
       "    embed_document(root);\n",
       "  } else {\n",
       "    var attempts = 0;\n",
       "    var timer = setInterval(function(root) {\n",
       "      if (root.Bokeh !== undefined && root.Bokeh.Panel !== undefined) {\n",
       "        clearInterval(timer);\n",
       "        embed_document(root);\n",
       "      } else if (document.readyState == \"complete\") {\n",
       "        attempts++;\n",
       "        if (attempts > 200) {\n",
       "          clearInterval(timer);\n",
       "          console.log(\"Bokeh: ERROR: Unable to run BokehJS code because BokehJS library is missing\");\n",
       "        }\n",
       "      }\n",
       "    }, 25, root)\n",
       "  }\n",
       "})(window);</script>"
      ],
      "text/plain": [
       ":Table   [CoinName,Algorithm,ProofType,TotalCoinsMined,MaxSupply,class]"
      ]
     },
     "execution_count": 437,
     "metadata": {
      "application/vnd.holoviews_exec.v0+json": {
       "id": "3404"
      }
     },
     "output_type": "execute_result"
    }
   ],
   "source": [
    "# Print the total number of tradable cryptocurrencies\n",
    "df.hvplot.table(columns)"
   ]
  },
  {
   "cell_type": "code",
   "execution_count": 438,
   "metadata": {},
   "outputs": [
    {
     "data": {
      "text/plain": [
       "42       2\n",
       "NSR      0\n",
       "TRI      2\n",
       "CMTC     2\n",
       "CHAT     2\n",
       "        ..\n",
       "HPB      0\n",
       "ZEN      2\n",
       "ICX      0\n",
       "KCASH    0\n",
       "KMD      2\n",
       "Name: class, Length: 307, dtype: int32"
      ]
     },
     "execution_count": 438,
     "metadata": {},
     "output_type": "execute_result"
    }
   ],
   "source": [
    "df['class']\n"
   ]
  },
  {
   "cell_type": "markdown",
   "metadata": {},
   "source": [
    "#### Scatter Plot with Tradable Cryptocurrencies"
   ]
  },
  {
   "cell_type": "code",
   "execution_count": 441,
   "metadata": {},
   "outputs": [
    {
     "data": {
      "text/html": [
       "<div>\n",
       "<style scoped>\n",
       "    .dataframe tbody tr th:only-of-type {\n",
       "        vertical-align: middle;\n",
       "    }\n",
       "\n",
       "    .dataframe tbody tr th {\n",
       "        vertical-align: top;\n",
       "    }\n",
       "\n",
       "    .dataframe thead th {\n",
       "        text-align: right;\n",
       "    }\n",
       "</style>\n",
       "<table border=\"1\" class=\"dataframe\">\n",
       "  <thead>\n",
       "    <tr style=\"text-align: right;\">\n",
       "      <th></th>\n",
       "      <th>MaxSupply</th>\n",
       "      <th>TotalCoinsMined</th>\n",
       "      <th>CoinName</th>\n",
       "      <th>class</th>\n",
       "    </tr>\n",
       "  </thead>\n",
       "  <tbody>\n",
       "    <tr>\n",
       "      <th>42</th>\n",
       "      <td>2.047619e-12</td>\n",
       "      <td>5.243511e-10</td>\n",
       "      <td>42 Coin</td>\n",
       "      <td>2</td>\n",
       "    </tr>\n",
       "    <tr>\n",
       "      <th>NSR</th>\n",
       "      <td>4.761905e-14</td>\n",
       "      <td>5.244173e-10</td>\n",
       "      <td>NuShares</td>\n",
       "      <td>0</td>\n",
       "    </tr>\n",
       "    <tr>\n",
       "      <th>TRI</th>\n",
       "      <td>4.761905e-14</td>\n",
       "      <td>5.243511e-10</td>\n",
       "      <td>Triangles Coin</td>\n",
       "      <td>2</td>\n",
       "    </tr>\n",
       "    <tr>\n",
       "      <th>CMTC</th>\n",
       "      <td>4.761905e-14</td>\n",
       "      <td>5.243511e-10</td>\n",
       "      <td>CometCoin</td>\n",
       "      <td>2</td>\n",
       "    </tr>\n",
       "    <tr>\n",
       "      <th>CHAT</th>\n",
       "      <td>0.000000e+00</td>\n",
       "      <td>5.243618e-10</td>\n",
       "      <td>OpenChat</td>\n",
       "      <td>2</td>\n",
       "    </tr>\n",
       "  </tbody>\n",
       "</table>\n",
       "</div>"
      ],
      "text/plain": [
       "         MaxSupply  TotalCoinsMined        CoinName  class\n",
       "42    2.047619e-12     5.243511e-10         42 Coin      2\n",
       "NSR   4.761905e-14     5.244173e-10        NuShares      0\n",
       "TRI   4.761905e-14     5.243511e-10  Triangles Coin      2\n",
       "CMTC  4.761905e-14     5.243511e-10       CometCoin      2\n",
       "CHAT  0.000000e+00     5.243618e-10        OpenChat      2"
      ]
     },
     "execution_count": 441,
     "metadata": {},
     "output_type": "execute_result"
    }
   ],
   "source": [
    "# Scale data to create the scatter plot\n",
    "\n",
    "scaler=MinMaxScaler()\n",
    "plotting= scaler.fit_transform(df[['MaxSupply','TotalCoinsMined']])\n",
    "plotting= pd.DataFrame(plotting, columns= ['MaxSupply','TotalCoinsMined'], index=df.index )\n",
    "plotting['CoinName']= df['CoinName']\n",
    "plotting['class']= df['class']\n",
    "plotting.head()"
   ]
  },
  {
   "cell_type": "code",
   "execution_count": 442,
   "metadata": {},
   "outputs": [
    {
     "data": {},
     "metadata": {},
     "output_type": "display_data"
    },
    {
     "data": {
      "application/vnd.holoviews_exec.v0+json": "",
      "text/html": [
       "<div id='3459'>\n",
       "\n",
       "\n",
       "\n",
       "\n",
       "\n",
       "  <div class=\"bk-root\" id=\"cfa2b442-de5a-44b7-94ad-c86a3a12111d\" data-root-id=\"3459\"></div>\n",
       "</div>\n",
       "<script type=\"application/javascript\">(function(root) {\n",
       "  function embed_document(root) {\n",
       "    var docs_json = {\"5afc56d1-165c-4518-8272-9263ef639877\":{\"defs\":[{\"extends\":null,\"module\":null,\"name\":\"ReactiveHTML1\",\"overrides\":[],\"properties\":[]},{\"extends\":null,\"module\":null,\"name\":\"FlexBox1\",\"overrides\":[],\"properties\":[{\"default\":\"flex-start\",\"kind\":null,\"name\":\"align_content\"},{\"default\":\"flex-start\",\"kind\":null,\"name\":\"align_items\"},{\"default\":\"row\",\"kind\":null,\"name\":\"flex_direction\"},{\"default\":\"wrap\",\"kind\":null,\"name\":\"flex_wrap\"},{\"default\":\"flex-start\",\"kind\":null,\"name\":\"justify_content\"}]},{\"extends\":null,\"module\":null,\"name\":\"TemplateActions1\",\"overrides\":[],\"properties\":[{\"default\":0,\"kind\":null,\"name\":\"open_modal\"},{\"default\":0,\"kind\":null,\"name\":\"close_modal\"}]},{\"extends\":null,\"module\":null,\"name\":\"MaterialTemplateActions1\",\"overrides\":[],\"properties\":[{\"default\":0,\"kind\":null,\"name\":\"open_modal\"},{\"default\":0,\"kind\":null,\"name\":\"close_modal\"}]}],\"roots\":{\"references\":[{\"attributes\":{\"children\":[{\"id\":\"3460\"},{\"id\":\"3468\"},{\"id\":\"3787\"}],\"margin\":[0,0,0,0],\"name\":\"Row06200\",\"tags\":[\"embedded\"]},\"id\":\"3459\",\"type\":\"Row\"},{\"attributes\":{\"margin\":[5,5,5,5],\"name\":\"HSpacer06204\",\"sizing_mode\":\"stretch_width\"},\"id\":\"3460\",\"type\":\"Spacer\"},{\"attributes\":{\"click_policy\":\"mute\",\"coordinates\":null,\"group\":null,\"items\":[{\"id\":\"3523\"},{\"id\":\"3545\"},{\"id\":\"3569\"},{\"id\":\"3595\"},{\"id\":\"3623\"}],\"location\":[0,0],\"title\":\"class\"},\"id\":\"3522\",\"type\":\"Legend\"},{\"attributes\":{\"angle\":{\"value\":0.0},\"fill_alpha\":{\"value\":1.0},\"fill_color\":{\"value\":\"#fc4f30\"},\"hatch_alpha\":{\"value\":1.0},\"hatch_color\":{\"value\":\"#fc4f30\"},\"hatch_scale\":{\"value\":12.0},\"hatch_weight\":{\"value\":1.0},\"line_alpha\":{\"value\":1.0},\"line_cap\":{\"value\":\"butt\"},\"line_color\":{\"value\":\"#fc4f30\"},\"line_dash\":{\"value\":[]},\"line_dash_offset\":{\"value\":0},\"line_join\":{\"value\":\"bevel\"},\"line_width\":{\"value\":1},\"marker\":{\"value\":\"circle\"},\"size\":{\"value\":5.477225575051661},\"x\":{\"field\":\"TotalCoinsMined\"},\"y\":{\"field\":\"MaxSupply\"}},\"id\":\"3546\",\"type\":\"Scatter\"},{\"attributes\":{\"data\":{\"CoinName\":[\"NuShares\",\"Nevula\",\"Swingby\",\"TokenPay\",\"NextDAO\",\"WeStarter\",\"BakeryToken\",\"IMPULSE by FDR\",\"Altura\",\"DekBox\",\"VEED\",\"Less Network\",\"KingDoge\",\"SafeHamsters\",\"Yuang Coin\",\"Kiwigo\",\"Votechain\",\"Pea Farm\",\"SparkPoint Fuel\",\"Genshiro\",\"ModiHost\",\"RealFevr\",\"MocktailSwap\",\"Effort Economy \",\"QueenDex Coin\",\"Lion Token\",\"Artex\",\"TBCC\",\"xWIN Finance\",\"MContent\",\"Tokyo AU\",\"Zoe Cash\",\"Novax Coin\",\"ShonToken\",\"Investelly token\",\"TRONbetLive\",\"Binance Smart Chain Girl\",\"PureFi\",\"Daddy Doge\",\"Five7\",\"Diamond Boyz Coin\",\"Plant vs Undead Token\",\"ECOMI\",\"Coin98\",\"Safe Energy\",\"Trust Wallet Token\",\"Lanceria\",\"Didcoin\",\"Little Rabbit\",\"Teaswap Art\",\"Kaiken Shiba\",\"My DeFi Pet\",\"BunnyPark\",\"ApeSwap Finance\",\"Pancake Bunny\",\"BTC Standard Hashrate Token\",\"Alpha Finance Lab\",\"Safe Star\",\"Pylon Eco Token\",\"Metahero\",\"Pig Finance\",\"Monsta Infinite\",\"Doggy\",\"Xiasi Inu\",\"Thetan Arena\",\"Nafter\",\"CryptoBlades\",\"CryptoZoon\",\"Binemon\",\"HoDooi.com\",\"Smaugs NFT\",\"Wall Street Games\",\"Honest\",\"Radio Caca\",\"KCCPad\",\"TrustPad\",\"Sishi Finance\",\"Feeder Finance\",\"Battle Pets\",\"Pacoca\",\"Pancake Hunny\",\"Rabbit Finance\",\"NFT Alley\",\"TEN\",\"Dehero Community Token\",\"Wheelers\",\"ShibaCash\",\"Longdrink Finance\",\"Eggplant Finance\",\"EIFI FINANCE\",\"TendieSwap\",\"CosmicSwap\",\"Vention\",\"WOWswap\",\"Betu\",\"Wenlambo\",\"Sheesh it is bussin bussin\",\"Pet Games\",\"CheCoin\",\"GemGuardian\",\"ForeverFOMO\",\"Knight War Spirits\",\"KRYZA Network\",\"Badger Sett Badger\",\"Portify\",\"DogeHouse Capital\",\"Bholdus Token\",\"Sphynx Token\",\"RugZombie\",\"LPI DAO\",\"Rainbow Token\",\"Step Hero\",\"Starpunk\",\"The Real Golden Inu\",\"Jade Currency\",\"Binamars\",\"BUMooN\",\"Loud Market\",\"DefiXBet\",\"Vortex DeFi\",\"RiceFarm\",\"BNB Cash\",\"Stratis\",\"Bogged Finance\",\"Dexit Finance\",\"Roseon Finance\",\"BabyDoge\",\"Splinterlands\",\"SafePal\",\"CumRocket\",\"Lucky Lion\",\"OpenOcean\",\"SIL Finance Token V2\",\"Bonus Cake\",\"TrustFi Network Token\",\"SoccerHub\",\"CryptoPlanes\",\"gotEM\",\"Pitch Finance Token\",\"Torii Finance\",\"GOMA Finance\",\"GameFi\",\"Shell Token\",\"Pokmonsters\",\"Kalata Protocol\",\"NFT Art Finance\",\"Baby Floki Billionaire\",\"VelasPad\",\"Battle Hero\",\"Lazio Fan Token\",\"HarmonyPad\",\"YocoinYOCO\",\"JERITEX\",\"Australian Safe Shepherd\",\"TRONPAD\",\"AUREO\",\"Validity\",\"Binamon\",\"Tenset\",\"MiniDOGE\",\"YooShi\",\"Ontology\",\"Lisk\",\"Anchor Protocol\",\"ABBC Coin\",\"Shift\",\"NEO\",\"Sun Token\",\"Sun Token\",\"Oxycoin\",\"Nxt\",\"DeepBrain Chain\",\"ARK\",\"Phoenix Binance\",\"QTUM\",\"Neblio\",\"Worldwide Asset eXchange\",\"VeChain\",\"Achain\",\"Rise\",\"Binance Coin\",\"Ravencoin\",\"Bitshares\",\"BitTorrent\",\"Cardano\",\"EOS\",\"High Performance Blockchain\",\"ICON Project\",\"Kcash\"],\"MaxSupply\":{\"__ndarray__\":\"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\",\"dtype\":\"float64\",\"order\":\"little\",\"shape\":[189]},\"TotalCoinsMined\":{\"__ndarray__\":\"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\",\"dtype\":\"float64\",\"order\":\"little\",\"shape\":[189]},\"class\":[0,0,0,0,0,0,0,0,0,0,0,0,0,0,0,0,0,0,0,0,0,0,0,0,0,0,0,0,0,0,0,0,0,0,0,0,0,0,0,0,0,0,0,0,0,0,0,0,0,0,0,0,0,0,0,0,0,0,0,0,0,0,0,0,0,0,0,0,0,0,0,0,0,0,0,0,0,0,0,0,0,0,0,0,0,0,0,0,0,0,0,0,0,0,0,0,0,0,0,0,0,0,0,0,0,0,0,0,0,0,0,0,0,0,0,0,0,0,0,0,0,0,0,0,0,0,0,0,0,0,0,0,0,0,0,0,0,0,0,0,0,0,0,0,0,0,0,0,0,0,0,0,0,0,0,0,0,0,0,0,0,0,0,0,0,0,0,0,0,0,0,0,0,0,0,0,0,0,0,0,0,0,0,0,0,0,0,0,0]},\"selected\":{\"id\":\"3505\"},\"selection_policy\":{\"id\":\"3519\"}},\"id\":\"3504\",\"type\":\"ColumnDataSource\"},{\"attributes\":{\"label\":{\"value\":\"3\"},\"renderers\":[{\"id\":\"3577\"}]},\"id\":\"3595\",\"type\":\"LegendItem\"},{\"attributes\":{},\"id\":\"3473\",\"type\":\"LinearScale\"},{\"attributes\":{\"fill_alpha\":{\"value\":0.2},\"fill_color\":{\"value\":\"#8b8b8b\"},\"hatch_alpha\":{\"value\":0.2},\"hatch_color\":{\"value\":\"#8b8b8b\"},\"line_alpha\":{\"value\":0.2},\"line_color\":{\"value\":\"#8b8b8b\"},\"size\":{\"value\":5.477225575051661},\"x\":{\"field\":\"TotalCoinsMined\"},\"y\":{\"field\":\"MaxSupply\"}},\"id\":\"3602\",\"type\":\"Scatter\"},{\"attributes\":{},\"id\":\"3499\",\"type\":\"BasicTickFormatter\"},{\"attributes\":{\"source\":{\"id\":\"3547\"}},\"id\":\"3554\",\"type\":\"CDSView\"},{\"attributes\":{\"angle\":{\"value\":0.0},\"fill_alpha\":{\"value\":1.0},\"fill_color\":{\"value\":\"#8b8b8b\"},\"hatch_alpha\":{\"value\":1.0},\"hatch_color\":{\"value\":\"#8b8b8b\"},\"hatch_scale\":{\"value\":12.0},\"hatch_weight\":{\"value\":1.0},\"line_alpha\":{\"value\":1.0},\"line_cap\":{\"value\":\"butt\"},\"line_color\":{\"value\":\"#8b8b8b\"},\"line_dash\":{\"value\":[]},\"line_dash_offset\":{\"value\":0},\"line_join\":{\"value\":\"bevel\"},\"line_width\":{\"value\":1},\"marker\":{\"value\":\"circle\"},\"size\":{\"value\":5.477225575051661},\"x\":{\"field\":\"TotalCoinsMined\"},\"y\":{\"field\":\"MaxSupply\"}},\"id\":\"3624\",\"type\":\"Scatter\"},{\"attributes\":{\"end\":1.1,\"reset_end\":1.1,\"reset_start\":-0.1,\"start\":-0.1,\"tags\":[[[\"MaxSupply\",\"MaxSupply\",null]]]},\"id\":\"3462\",\"type\":\"Range1d\"},{\"attributes\":{\"fill_alpha\":{\"value\":0.2},\"fill_color\":{\"value\":\"#6d904f\"},\"hatch_alpha\":{\"value\":0.2},\"hatch_color\":{\"value\":\"#6d904f\"},\"line_alpha\":{\"value\":0.2},\"line_color\":{\"value\":\"#6d904f\"},\"size\":{\"value\":5.477225575051661},\"x\":{\"field\":\"TotalCoinsMined\"},\"y\":{\"field\":\"MaxSupply\"}},\"id\":\"3576\",\"type\":\"Scatter\"},{\"attributes\":{\"coordinates\":null,\"data_source\":{\"id\":\"3597\"},\"glyph\":{\"id\":\"3600\"},\"group\":null,\"hover_glyph\":null,\"muted_glyph\":{\"id\":\"3602\"},\"nonselection_glyph\":{\"id\":\"3601\"},\"selection_glyph\":{\"id\":\"3624\"},\"view\":{\"id\":\"3604\"}},\"id\":\"3603\",\"type\":\"GlyphRenderer\"},{\"attributes\":{\"label\":{\"value\":\"0\"},\"renderers\":[{\"id\":\"3510\"}]},\"id\":\"3523\",\"type\":\"LegendItem\"},{\"attributes\":{\"data\":{\"CoinName\":[\"Waves\",\"V Systems\",\"Acute Angle Cloud\",\"Nexus\"],\"MaxSupply\":{\"__ndarray__\":\"AAAAAAAAAAAAAAAAAAAAAAAAAAAAAAAAlhYqMV4ozz4=\",\"dtype\":\"float64\",\"order\":\"little\",\"shape\":[4]},\"TotalCoinsMined\":{\"__ndarray__\":\"x7TsPkAEAj431RTJzwQCPi8M6MlVBAI+GEMSaD8EAj4=\",\"dtype\":\"float64\",\"order\":\"little\",\"shape\":[4]},\"class\":[4,4,4,4]},\"selected\":{\"id\":\"3598\"},\"selection_policy\":{\"id\":\"3620\"}},\"id\":\"3597\",\"type\":\"ColumnDataSource\"},{\"attributes\":{\"angle\":{\"value\":0.0},\"fill_alpha\":{\"value\":1.0},\"fill_color\":{\"value\":\"#30a2da\"},\"hatch_alpha\":{\"value\":1.0},\"hatch_color\":{\"value\":\"#30a2da\"},\"hatch_scale\":{\"value\":12.0},\"hatch_weight\":{\"value\":1.0},\"line_alpha\":{\"value\":1.0},\"line_cap\":{\"value\":\"butt\"},\"line_color\":{\"value\":\"#30a2da\"},\"line_dash\":{\"value\":[]},\"line_dash_offset\":{\"value\":0},\"line_join\":{\"value\":\"bevel\"},\"line_width\":{\"value\":1},\"marker\":{\"value\":\"circle\"},\"size\":{\"value\":5.477225575051661},\"x\":{\"field\":\"TotalCoinsMined\"},\"y\":{\"field\":\"MaxSupply\"}},\"id\":\"3524\",\"type\":\"Scatter\"},{\"attributes\":{\"source\":{\"id\":\"3504\"}},\"id\":\"3511\",\"type\":\"CDSView\"},{\"attributes\":{\"source\":{\"id\":\"3571\"}},\"id\":\"3578\",\"type\":\"CDSView\"},{\"attributes\":{\"coordinates\":null,\"data_source\":{\"id\":\"3504\"},\"glyph\":{\"id\":\"3507\"},\"group\":null,\"hover_glyph\":null,\"muted_glyph\":{\"id\":\"3509\"},\"nonselection_glyph\":{\"id\":\"3508\"},\"selection_glyph\":{\"id\":\"3524\"},\"view\":{\"id\":\"3511\"}},\"id\":\"3510\",\"type\":\"GlyphRenderer\"},{\"attributes\":{\"callback\":null,\"renderers\":[{\"id\":\"3510\"},{\"id\":\"3531\"},{\"id\":\"3553\"},{\"id\":\"3577\"},{\"id\":\"3603\"}],\"tags\":[\"hv_created\"],\"tooltips\":[[\"class\",\"@{class}\"],[\"TotalCoinsMined\",\"@{TotalCoinsMined}\"],[\"MaxSupply\",\"@{MaxSupply}\"],[\"CoinName\",\"@{CoinName}\"]]},\"id\":\"3463\",\"type\":\"HoverTool\"},{\"attributes\":{},\"id\":\"3592\",\"type\":\"UnionRenderers\"},{\"attributes\":{\"data\":{\"CoinName\":[\"MAPS\"],\"MaxSupply\":{\"__ndarray__\":\"mvKohSY1Pz8=\",\"dtype\":\"float64\",\"order\":\"little\",\"shape\":[1]},\"TotalCoinsMined\":{\"__ndarray__\":\"LwzoyVUEAj4=\",\"dtype\":\"float64\",\"order\":\"little\",\"shape\":[1]},\"class\":[3]},\"selected\":{\"id\":\"3572\"},\"selection_policy\":{\"id\":\"3592\"}},\"id\":\"3571\",\"type\":\"ColumnDataSource\"},{\"attributes\":{},\"id\":\"3478\",\"type\":\"BasicTicker\"},{\"attributes\":{\"fill_alpha\":{\"value\":0.1},\"fill_color\":{\"value\":\"#30a2da\"},\"hatch_alpha\":{\"value\":0.1},\"hatch_color\":{\"value\":\"#30a2da\"},\"line_alpha\":{\"value\":0.1},\"line_color\":{\"value\":\"#30a2da\"},\"size\":{\"value\":5.477225575051661},\"x\":{\"field\":\"TotalCoinsMined\"},\"y\":{\"field\":\"MaxSupply\"}},\"id\":\"3508\",\"type\":\"Scatter\"},{\"attributes\":{\"fill_alpha\":{\"value\":0.2},\"fill_color\":{\"value\":\"#30a2da\"},\"hatch_alpha\":{\"value\":0.2},\"hatch_color\":{\"value\":\"#30a2da\"},\"line_alpha\":{\"value\":0.2},\"line_color\":{\"value\":\"#30a2da\"},\"size\":{\"value\":5.477225575051661},\"x\":{\"field\":\"TotalCoinsMined\"},\"y\":{\"field\":\"MaxSupply\"}},\"id\":\"3509\",\"type\":\"Scatter\"},{\"attributes\":{\"fill_color\":{\"value\":\"#e5ae38\"},\"hatch_color\":{\"value\":\"#e5ae38\"},\"line_color\":{\"value\":\"#e5ae38\"},\"size\":{\"value\":5.477225575051661},\"x\":{\"field\":\"TotalCoinsMined\"},\"y\":{\"field\":\"MaxSupply\"}},\"id\":\"3550\",\"type\":\"Scatter\"},{\"attributes\":{\"fill_alpha\":{\"value\":0.1},\"fill_color\":{\"value\":\"#6d904f\"},\"hatch_alpha\":{\"value\":0.1},\"hatch_color\":{\"value\":\"#6d904f\"},\"line_alpha\":{\"value\":0.1},\"line_color\":{\"value\":\"#6d904f\"},\"size\":{\"value\":5.477225575051661},\"x\":{\"field\":\"TotalCoinsMined\"},\"y\":{\"field\":\"MaxSupply\"}},\"id\":\"3575\",\"type\":\"Scatter\"},{\"attributes\":{\"below\":[{\"id\":\"3477\"}],\"center\":[{\"id\":\"3480\"},{\"id\":\"3484\"}],\"height\":300,\"left\":[{\"id\":\"3481\"}],\"margin\":[5,5,5,5],\"min_border_bottom\":10,\"min_border_left\":10,\"min_border_right\":10,\"min_border_top\":10,\"renderers\":[{\"id\":\"3510\"},{\"id\":\"3531\"},{\"id\":\"3553\"},{\"id\":\"3577\"},{\"id\":\"3603\"}],\"right\":[{\"id\":\"3522\"}],\"sizing_mode\":\"fixed\",\"title\":{\"id\":\"3469\"},\"toolbar\":{\"id\":\"3491\"},\"width\":700,\"x_range\":{\"id\":\"3461\"},\"x_scale\":{\"id\":\"3473\"},\"y_range\":{\"id\":\"3462\"},\"y_scale\":{\"id\":\"3475\"}},\"id\":\"3468\",\"subtype\":\"Figure\",\"type\":\"Plot\"},{\"attributes\":{\"coordinates\":null,\"data_source\":{\"id\":\"3571\"},\"glyph\":{\"id\":\"3574\"},\"group\":null,\"hover_glyph\":null,\"muted_glyph\":{\"id\":\"3576\"},\"nonselection_glyph\":{\"id\":\"3575\"},\"selection_glyph\":{\"id\":\"3596\"},\"view\":{\"id\":\"3578\"}},\"id\":\"3577\",\"type\":\"GlyphRenderer\"},{\"attributes\":{\"label\":{\"value\":\"1\"},\"renderers\":[{\"id\":\"3531\"}]},\"id\":\"3545\",\"type\":\"LegendItem\"},{\"attributes\":{\"coordinates\":null,\"group\":null,\"text_color\":\"black\",\"text_font_size\":\"12pt\"},\"id\":\"3469\",\"type\":\"Title\"},{\"attributes\":{},\"id\":\"3548\",\"type\":\"Selection\"},{\"attributes\":{},\"id\":\"3486\",\"type\":\"PanTool\"},{\"attributes\":{\"coordinates\":null,\"data_source\":{\"id\":\"3547\"},\"glyph\":{\"id\":\"3550\"},\"group\":null,\"hover_glyph\":null,\"muted_glyph\":{\"id\":\"3552\"},\"nonselection_glyph\":{\"id\":\"3551\"},\"selection_glyph\":{\"id\":\"3570\"},\"view\":{\"id\":\"3554\"}},\"id\":\"3553\",\"type\":\"GlyphRenderer\"},{\"attributes\":{\"fill_alpha\":{\"value\":0.2},\"fill_color\":{\"value\":\"#e5ae38\"},\"hatch_alpha\":{\"value\":0.2},\"hatch_color\":{\"value\":\"#e5ae38\"},\"line_alpha\":{\"value\":0.2},\"line_color\":{\"value\":\"#e5ae38\"},\"size\":{\"value\":5.477225575051661},\"x\":{\"field\":\"TotalCoinsMined\"},\"y\":{\"field\":\"MaxSupply\"}},\"id\":\"3552\",\"type\":\"Scatter\"},{\"attributes\":{\"axis\":{\"id\":\"3481\"},\"coordinates\":null,\"dimension\":1,\"grid_line_color\":null,\"group\":null,\"ticker\":null},\"id\":\"3484\",\"type\":\"Grid\"},{\"attributes\":{\"axis_label\":\"TotalCoinsMined\",\"coordinates\":null,\"formatter\":{\"id\":\"3499\"},\"group\":null,\"major_label_policy\":{\"id\":\"3500\"},\"ticker\":{\"id\":\"3478\"}},\"id\":\"3477\",\"type\":\"LinearAxis\"},{\"attributes\":{\"fill_alpha\":{\"value\":0.1},\"fill_color\":{\"value\":\"#e5ae38\"},\"hatch_alpha\":{\"value\":0.1},\"hatch_color\":{\"value\":\"#e5ae38\"},\"line_alpha\":{\"value\":0.1},\"line_color\":{\"value\":\"#e5ae38\"},\"size\":{\"value\":5.477225575051661},\"x\":{\"field\":\"TotalCoinsMined\"},\"y\":{\"field\":\"MaxSupply\"}},\"id\":\"3551\",\"type\":\"Scatter\"},{\"attributes\":{},\"id\":\"3475\",\"type\":\"LinearScale\"},{\"attributes\":{},\"id\":\"3566\",\"type\":\"UnionRenderers\"},{\"attributes\":{\"fill_alpha\":{\"value\":0.2},\"fill_color\":{\"value\":\"#fc4f30\"},\"hatch_alpha\":{\"value\":0.2},\"hatch_color\":{\"value\":\"#fc4f30\"},\"line_alpha\":{\"value\":0.2},\"line_color\":{\"value\":\"#fc4f30\"},\"size\":{\"value\":5.477225575051661},\"x\":{\"field\":\"TotalCoinsMined\"},\"y\":{\"field\":\"MaxSupply\"}},\"id\":\"3530\",\"type\":\"Scatter\"},{\"attributes\":{},\"id\":\"3485\",\"type\":\"SaveTool\"},{\"attributes\":{},\"id\":\"3482\",\"type\":\"BasicTicker\"},{\"attributes\":{\"axis\":{\"id\":\"3477\"},\"coordinates\":null,\"grid_line_color\":null,\"group\":null,\"ticker\":null},\"id\":\"3480\",\"type\":\"Grid\"},{\"attributes\":{\"fill_alpha\":{\"value\":0.1},\"fill_color\":{\"value\":\"#8b8b8b\"},\"hatch_alpha\":{\"value\":0.1},\"hatch_color\":{\"value\":\"#8b8b8b\"},\"line_alpha\":{\"value\":0.1},\"line_color\":{\"value\":\"#8b8b8b\"},\"size\":{\"value\":5.477225575051661},\"x\":{\"field\":\"TotalCoinsMined\"},\"y\":{\"field\":\"MaxSupply\"}},\"id\":\"3601\",\"type\":\"Scatter\"},{\"attributes\":{},\"id\":\"3487\",\"type\":\"WheelZoomTool\"},{\"attributes\":{\"label\":{\"value\":\"4\"},\"renderers\":[{\"id\":\"3603\"}]},\"id\":\"3623\",\"type\":\"LegendItem\"},{\"attributes\":{\"axis_label\":\"MaxSupply\",\"coordinates\":null,\"formatter\":{\"id\":\"3502\"},\"group\":null,\"major_label_policy\":{\"id\":\"3503\"},\"ticker\":{\"id\":\"3482\"}},\"id\":\"3481\",\"type\":\"LinearAxis\"},{\"attributes\":{\"label\":{\"value\":\"2\"},\"renderers\":[{\"id\":\"3553\"}]},\"id\":\"3569\",\"type\":\"LegendItem\"},{\"attributes\":{\"margin\":[5,5,5,5],\"name\":\"HSpacer06205\",\"sizing_mode\":\"stretch_width\"},\"id\":\"3787\",\"type\":\"Spacer\"},{\"attributes\":{\"overlay\":{\"id\":\"3490\"}},\"id\":\"3488\",\"type\":\"BoxZoomTool\"},{\"attributes\":{\"source\":{\"id\":\"3525\"}},\"id\":\"3532\",\"type\":\"CDSView\"},{\"attributes\":{},\"id\":\"3489\",\"type\":\"ResetTool\"},{\"attributes\":{\"fill_color\":{\"value\":\"#fc4f30\"},\"hatch_color\":{\"value\":\"#fc4f30\"},\"line_color\":{\"value\":\"#fc4f30\"},\"size\":{\"value\":5.477225575051661},\"x\":{\"field\":\"TotalCoinsMined\"},\"y\":{\"field\":\"MaxSupply\"}},\"id\":\"3528\",\"type\":\"Scatter\"},{\"attributes\":{\"bottom_units\":\"screen\",\"coordinates\":null,\"fill_alpha\":0.5,\"fill_color\":\"lightgrey\",\"group\":null,\"left_units\":\"screen\",\"level\":\"overlay\",\"line_alpha\":1.0,\"line_color\":\"black\",\"line_dash\":[4,4],\"line_width\":2,\"right_units\":\"screen\",\"syncable\":false,\"top_units\":\"screen\"},\"id\":\"3490\",\"type\":\"BoxAnnotation\"},{\"attributes\":{},\"id\":\"3519\",\"type\":\"UnionRenderers\"},{\"attributes\":{\"coordinates\":null,\"data_source\":{\"id\":\"3525\"},\"glyph\":{\"id\":\"3528\"},\"group\":null,\"hover_glyph\":null,\"muted_glyph\":{\"id\":\"3530\"},\"nonselection_glyph\":{\"id\":\"3529\"},\"selection_glyph\":{\"id\":\"3546\"},\"view\":{\"id\":\"3532\"}},\"id\":\"3531\",\"type\":\"GlyphRenderer\"},{\"attributes\":{},\"id\":\"3500\",\"type\":\"AllLabels\"},{\"attributes\":{\"data\":{\"CoinName\":[\"DAPS Coin\",\"Amber\",\"Poa Network\"],\"MaxSupply\":{\"__ndarray__\":\"y8bptIFOaz8AAAAAAAAAAAAAAAAAAAAA\",\"dtype\":\"float64\",\"order\":\"little\",\"shape\":[3]},\"TotalCoinsMined\":{\"__ndarray__\":\"2SSj/B0KAj4kz6GoUwQCPtioUfxBBAI+\",\"dtype\":\"float64\",\"order\":\"little\",\"shape\":[3]},\"class\":[1,1,1]},\"selected\":{\"id\":\"3526\"},\"selection_policy\":{\"id\":\"3542\"}},\"id\":\"3525\",\"type\":\"ColumnDataSource\"},{\"attributes\":{\"fill_alpha\":{\"value\":0.1},\"fill_color\":{\"value\":\"#fc4f30\"},\"hatch_alpha\":{\"value\":0.1},\"hatch_color\":{\"value\":\"#fc4f30\"},\"line_alpha\":{\"value\":0.1},\"line_color\":{\"value\":\"#fc4f30\"},\"size\":{\"value\":5.477225575051661},\"x\":{\"field\":\"TotalCoinsMined\"},\"y\":{\"field\":\"MaxSupply\"}},\"id\":\"3529\",\"type\":\"Scatter\"},{\"attributes\":{\"angle\":{\"value\":0.0},\"fill_alpha\":{\"value\":1.0},\"fill_color\":{\"value\":\"#6d904f\"},\"hatch_alpha\":{\"value\":1.0},\"hatch_color\":{\"value\":\"#6d904f\"},\"hatch_scale\":{\"value\":12.0},\"hatch_weight\":{\"value\":1.0},\"line_alpha\":{\"value\":1.0},\"line_cap\":{\"value\":\"butt\"},\"line_color\":{\"value\":\"#6d904f\"},\"line_dash\":{\"value\":[]},\"line_dash_offset\":{\"value\":0},\"line_join\":{\"value\":\"bevel\"},\"line_width\":{\"value\":1},\"marker\":{\"value\":\"circle\"},\"size\":{\"value\":5.477225575051661},\"x\":{\"field\":\"TotalCoinsMined\"},\"y\":{\"field\":\"MaxSupply\"}},\"id\":\"3596\",\"type\":\"Scatter\"},{\"attributes\":{},\"id\":\"3620\",\"type\":\"UnionRenderers\"},{\"attributes\":{\"data\":{\"CoinName\":[\"42 Coin\",\"Triangles Coin\",\"CometCoin\",\"OpenChat\",\"Quantum Resistant Ledger\",\"Pura\",\"Bitcoin Private\",\"Aidos Kuneen\",\"Foin\",\"Zano\",\"VEIL\",\"MimbleWimbleCoin\",\"Ravencoin Classic\",\"Goldmaxcoin\",\"XDNA\",\"Wibcoin\",\"Revain\",\"EtherZero\",\"QuarkCoin\",\"United Emirates Coin\",\"Arweave\",\"Bithereum\",\"BeforeCoinMarketCap\",\"Smart Bitcoin\",\"UnitedBitcoin\",\"VeriCoin\",\"Emercoin\",\"Circuits of Value\",\"Ergo\",\"Genix\",\"Beam\",\"AEON\",\"Canada eCoin\",\"TENT\",\"Pirate Chain\",\"Internet Node token\",\"Super Zero\",\"Nervos Network\",\"Handshake\",\"REDi\",\"Auroracoin\",\"Ethereum Name Service\",\"TecraCoin\",\"BitcoinZ\",\"eCash\",\"Monero\",\"HyperCash\",\"Expanse\",\"Firo\",\"IOCoin\",\"Siacoin\",\"Waltonchain\",\"Bitcoin\",\"BlackCoin\",\"Decred\",\"Einsteinium\",\"SmartCash\",\"SaluS\",\"Beldex\",\"ZCash\",\"Yeeco\",\"WhiteCoin\",\"Aion\",\"Flo\",\"Bitcoin Cash\",\"SibCoin\",\"SafeExchangeCoin\",\"DigitalNote\",\"PotCoin\",\"Grin\",\"Gulden\",\"Haven Protocol\",\"Litecoin\",\"MegaCoin\",\"MonaCoin\",\"Namecoin\",\"Nano\",\"NovaCoin\",\"Signa\",\"Zelcash\",\"WXT\",\"ViaCoin\",\"Vertcoin\",\"Verge\",\"Ubiq\",\"SysCoin\",\"Steem\",\"Stakenet\",\"Reddcoin\",\"Bitcoin Diamond\",\"Bitcoin Gold\",\"Bitcoin SV\",\"Primas\",\"Metaverse\",\"Private Instant Verified Transaction\",\"BLOC.MONEY\",\"NavCoin\",\"ByteCoin\",\"Callisto Network\",\"CloakCoin\",\"Dash\",\"Dero\",\"DigiByte\",\"Dogecoin\",\"Ethereum\",\"Ethereum Classic\",\"FeatherCoin\",\"Groestlcoin\",\"Horizen\",\"Komodo\"],\"MaxSupply\":{\"__ndarray__\":\"IEpBBNQCgj2zPtjEoM4qPbM+2MSgzio9AAAAAAAAAADxOz2MtfjUPgAAAAAAAAAAC0GfbihGsj6zPtjEoM4qPQv6Vm0O+dM+AAAAAAAAAAD3oqiglfXtPnvdlvfj9K8+9AL10k1iUD8AAAAAAAAAALM+2MSgzio9RdfN06BhqD8AAAAAAAAAAAAAAAAAAAAAAAAAAAAAAAAAAAAAAAAAAK5APwM8Xco+sz7YxKDOKj0AAAAAAAAAAA49Ha73xrA+Dj0drvfGsD4AAAAAAAAAAAAAAAAAAAAAAAAAAAAAAACU5x1Xf4XTPuRRkIq1+OQ+MD2sVo4+6j4AAAAAAAAAADqNvn2bcdU+3su/OeDL0D7+D6prDvnjPvGp5wRS9wg/WOmItls6AD8AAAAAAAAAAKMtJZQldxk/AAAAAAAAAAAAAAAAAAAAAAAAAAAAAAAAAAAAAAAAAAD0AvXSTWJQPwAAAAAAAPA/AAAAAAAAAADFwA+k98bQPgv6Vm0O+dM+/PU9wsYYsT5gC29gfZOxPgAAAAAAAAAAAAAAAAAAAACj+c2t98awPgv6Vm0O+dM+Dj0drvfGsD4AAAAAAAAAAOtZtoUmNS8/AAAAAAAAAAAAAAAAAAAAAA49Ha73xrA+AAAAAAAAAADxqecEUvcIPwAAAAAAAAAAzxAi4OP03z6j+c2t98awPg49Ha73xrA+AAAAAAAAAAAAAAAAAAAAAN7cuYm1+PQ+AAAAAAAAAAAaBRmJtfgUPwAAAAAAAAAAxcAPpPfG0D7dlGmn98bAPgAAAAAAAAAAAAAAAAAAAAC0QJhlD53aPgAAAAAAAAAAAAAAAAAAAADkUZCKtfjkPgAAAAAAAAAAAAAAAAAAAADFwA+k98bQPjzQTvEE1Uk/AAAAAAAAAADVV8kUfisGPwAAAAAAAAAAAAAAAAAAAAAAAAAAAAAAAORRkIq1+OQ+Dj0drvfGsD6j+c2t98awPgAAAAAAAAAAC/pWbQ750z4AAAAAAAAAACPOsHAO+cM+AAAAAAAAAADZ7OTefv2BP9qBsqPySDQ/AAAAAAAAAABi5OII8TKuPgAAAAAAAAAA9AL10k1iUD8AAAAAAAAAAAAAAAAAAAAAWHr31poK5T6yYYyh98bwPvE7PYy1+NQ+Dj0drvfGsD7+D6prDvnjPg==\",\"dtype\":\"float64\",\"order\":\"little\",\"shape\":[110]},\"TotalCoinsMined\":{\"__ndarray__\":\"cG5Kpj0EAj5wgXmnPQQCPoEqr6s9BAI+LwzoyVUEAj70vfR7PwQCPuvQRjJCBAI+uMLjvT0EAj4z6MdAPgQCPljptuI/BAI+86sW9z0EAj4kP9uIQAQCPud2Juk9BAI+KC4wHzsFAj4AeVL7VAQCPjN53Nw9BAI+0/afLYliAj40v9fVQgwCPuKBKCpDBAI+n8D7XUQEAj6l/+EhPgQCPiM8fDU/BAI+gnMnZT4EAj4JYbccDAUCPugwTqY9BAI+9foPKD4EAj6WVa58PgQCPlUSrM8+BAI+eUPmj2gEAj59DPDgPgQCPjssz0tABAI+w7nxUz8EAj66UKUVPgQCPt6Jtg9ABAI+0tCzlT4EAj4Q6Mw+QgQCPtUmJRVQBAI+nyx6tkUEAj6cl53bmgcCPv0YpfFIBAI+9TBzCi8FAj6c62sPQAQCPoGIQBBABAI+RbTeqD0EAj4r3QJORAUCPrABV8V1Agk+2DMIFj4EAj7ITNG8PgQCPqivuXw+BAI+I6cr9j0EAj5qskcePgQCPsckoFv5CAI+Wy1kTD4EAj6p+XsbPgQCPsmBhyA/BAI+heB7+z0EAj7XqWYEQwQCPrQFeIx/BAI+nw+urD0EAj614iBzXwQCPqTxWvE9BAI+9TBzCi8FAj5eixaxVAQCPndY0MRJBAI+/AR6BEEEAj7dYqMbPgQCPrqHHiA+BAI+gyjqfHEEAj5R4B6qAAUCPqbfgSNDBAI+ynRTsz8EAj7ixPKwSgQCPnHa4v89BAI+FD/yVD8EAj5Ov56cPgQCPkVF67I/BAI+dM6GFT4EAj4PuLbdQAQCPpYtfLw9BAI+gai9SnEEAj4pTlJFSAQCPq3LcgovBQI+4MCANT4EAj7C9+4uPwQCPulWeOPLBQI+EoHc4T4EAj7x7zrtTAQCPjo23/5GBAI+a8KNvUAEAj7chVaiJAcCPs1ya4pCBAI+RR+RGz4EAj4nEp0bPgQCPoGIQBBABAI+7jGgnz8EAj5VhgtNPwQCPtmidys+BAI++k64aD8EAj72pjqIohUCPvtrcteIBAI+xEjvyT0EAj7J9sHnPQQCPvPT/hc+BAI+q3YweqoFAj5SMmCizxACPp+c1IlABAI+WuCe1EAEAj5SaGHPQwQCPi3MeZE/BAI+yeAB8T0EAj6YZNbXQAQCPg==\",\"dtype\":\"float64\",\"order\":\"little\",\"shape\":[110]},\"class\":[2,2,2,2,2,2,2,2,2,2,2,2,2,2,2,2,2,2,2,2,2,2,2,2,2,2,2,2,2,2,2,2,2,2,2,2,2,2,2,2,2,2,2,2,2,2,2,2,2,2,2,2,2,2,2,2,2,2,2,2,2,2,2,2,2,2,2,2,2,2,2,2,2,2,2,2,2,2,2,2,2,2,2,2,2,2,2,2,2,2,2,2,2,2,2,2,2,2,2,2,2,2,2,2,2,2,2,2,2,2]},\"selected\":{\"id\":\"3548\"},\"selection_policy\":{\"id\":\"3566\"}},\"id\":\"3547\",\"type\":\"ColumnDataSource\"},{\"attributes\":{},\"id\":\"3542\",\"type\":\"UnionRenderers\"},{\"attributes\":{\"fill_color\":{\"value\":\"#30a2da\"},\"hatch_color\":{\"value\":\"#30a2da\"},\"line_color\":{\"value\":\"#30a2da\"},\"size\":{\"value\":5.477225575051661},\"x\":{\"field\":\"TotalCoinsMined\"},\"y\":{\"field\":\"MaxSupply\"}},\"id\":\"3507\",\"type\":\"Scatter\"},{\"attributes\":{},\"id\":\"3526\",\"type\":\"Selection\"},{\"attributes\":{},\"id\":\"3505\",\"type\":\"Selection\"},{\"attributes\":{},\"id\":\"3598\",\"type\":\"Selection\"},{\"attributes\":{\"end\":1.042857142857143,\"reset_end\":1.042857142857143,\"reset_start\":-0.04285714285714286,\"start\":-0.04285714285714286,\"tags\":[[[\"TotalCoinsMined\",\"TotalCoinsMined\",null]]]},\"id\":\"3461\",\"type\":\"Range1d\"},{\"attributes\":{\"source\":{\"id\":\"3597\"}},\"id\":\"3604\",\"type\":\"CDSView\"},{\"attributes\":{\"angle\":{\"value\":0.0},\"fill_alpha\":{\"value\":1.0},\"fill_color\":{\"value\":\"#e5ae38\"},\"hatch_alpha\":{\"value\":1.0},\"hatch_color\":{\"value\":\"#e5ae38\"},\"hatch_scale\":{\"value\":12.0},\"hatch_weight\":{\"value\":1.0},\"line_alpha\":{\"value\":1.0},\"line_cap\":{\"value\":\"butt\"},\"line_color\":{\"value\":\"#e5ae38\"},\"line_dash\":{\"value\":[]},\"line_dash_offset\":{\"value\":0},\"line_join\":{\"value\":\"bevel\"},\"line_width\":{\"value\":1},\"marker\":{\"value\":\"circle\"},\"size\":{\"value\":5.477225575051661},\"x\":{\"field\":\"TotalCoinsMined\"},\"y\":{\"field\":\"MaxSupply\"}},\"id\":\"3570\",\"type\":\"Scatter\"},{\"attributes\":{},\"id\":\"3503\",\"type\":\"AllLabels\"},{\"attributes\":{\"tools\":[{\"id\":\"3463\"},{\"id\":\"3485\"},{\"id\":\"3486\"},{\"id\":\"3487\"},{\"id\":\"3488\"},{\"id\":\"3489\"}]},\"id\":\"3491\",\"type\":\"Toolbar\"},{\"attributes\":{\"fill_color\":{\"value\":\"#6d904f\"},\"hatch_color\":{\"value\":\"#6d904f\"},\"line_color\":{\"value\":\"#6d904f\"},\"size\":{\"value\":5.477225575051661},\"x\":{\"field\":\"TotalCoinsMined\"},\"y\":{\"field\":\"MaxSupply\"}},\"id\":\"3574\",\"type\":\"Scatter\"},{\"attributes\":{},\"id\":\"3572\",\"type\":\"Selection\"},{\"attributes\":{},\"id\":\"3502\",\"type\":\"BasicTickFormatter\"},{\"attributes\":{\"fill_color\":{\"value\":\"#8b8b8b\"},\"hatch_color\":{\"value\":\"#8b8b8b\"},\"line_color\":{\"value\":\"#8b8b8b\"},\"size\":{\"value\":5.477225575051661},\"x\":{\"field\":\"TotalCoinsMined\"},\"y\":{\"field\":\"MaxSupply\"}},\"id\":\"3600\",\"type\":\"Scatter\"}],\"root_ids\":[\"3459\"]},\"title\":\"Bokeh Application\",\"version\":\"2.4.1\"}};\n",
       "    var render_items = [{\"docid\":\"5afc56d1-165c-4518-8272-9263ef639877\",\"root_ids\":[\"3459\"],\"roots\":{\"3459\":\"cfa2b442-de5a-44b7-94ad-c86a3a12111d\"}}];\n",
       "    root.Bokeh.embed.embed_items_notebook(docs_json, render_items);\n",
       "  }\n",
       "  if (root.Bokeh !== undefined && root.Bokeh.Panel !== undefined) {\n",
       "    embed_document(root);\n",
       "  } else {\n",
       "    var attempts = 0;\n",
       "    var timer = setInterval(function(root) {\n",
       "      if (root.Bokeh !== undefined && root.Bokeh.Panel !== undefined) {\n",
       "        clearInterval(timer);\n",
       "        embed_document(root);\n",
       "      } else if (document.readyState == \"complete\") {\n",
       "        attempts++;\n",
       "        if (attempts > 200) {\n",
       "          clearInterval(timer);\n",
       "          console.log(\"Bokeh: ERROR: Unable to run BokehJS code because BokehJS library is missing\");\n",
       "        }\n",
       "      }\n",
       "    }, 25, root)\n",
       "  }\n",
       "})(window);</script>"
      ],
      "text/plain": [
       ":NdOverlay   [class]\n",
       "   :Scatter   [TotalCoinsMined]   (MaxSupply,CoinName)"
      ]
     },
     "execution_count": 442,
     "metadata": {
      "application/vnd.holoviews_exec.v0+json": {
       "id": "3459"
      }
     },
     "output_type": "execute_result"
    }
   ],
   "source": [
    "# Plot the scatter with x=\"TotalCoinsMined\" and y=\"TotalCoinSupply\"\n",
    "\n",
    "plotting.hvplot.scatter(\n",
    "    x=\"TotalCoinsMined\", \n",
    "    y=\"MaxSupply\", \n",
    "    by='class', \n",
    "    hover_cols=['CoinName']\n",
    ")\n"
   ]
  },
  {
   "cell_type": "code",
   "execution_count": null,
   "metadata": {},
   "outputs": [],
   "source": []
  },
  {
   "cell_type": "code",
   "execution_count": null,
   "metadata": {},
   "outputs": [],
   "source": []
  },
  {
   "cell_type": "code",
   "execution_count": null,
   "metadata": {},
   "outputs": [],
   "source": []
  }
 ],
 "metadata": {
  "file_extension": ".py",
  "kernelspec": {
   "display_name": "Python 3 (ipykernel)",
   "language": "python",
   "name": "python3"
  },
  "language_info": {
   "codemirror_mode": {
    "name": "ipython",
    "version": 3
   },
   "file_extension": ".py",
   "mimetype": "text/x-python",
   "name": "python",
   "nbconvert_exporter": "python",
   "pygments_lexer": "ipython3",
   "version": "3.8.2"
  },
  "mimetype": "text/x-python",
  "name": "python",
  "npconvert_exporter": "python",
  "pygments_lexer": "ipython3",
  "version": 3
 },
 "nbformat": 4,
 "nbformat_minor": 4
}
